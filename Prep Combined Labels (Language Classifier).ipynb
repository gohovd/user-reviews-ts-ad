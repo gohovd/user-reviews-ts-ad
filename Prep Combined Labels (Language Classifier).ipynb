{
 "cells": [
  {
   "cell_type": "markdown",
   "metadata": {},
   "source": [
    "# INIT LANGUAGE CLASSIFIER"
   ]
  },
  {
   "cell_type": "code",
   "execution_count": 43,
   "metadata": {},
   "outputs": [
    {
     "name": "stderr",
     "output_type": "stream",
     "text": [
      "/usr/local/lib/python3.7/site-packages/pandas/core/frame.py:7138: FutureWarning: Sorting because non-concatenation axis is not aligned. A future version\n",
      "of pandas will change to not sort by default.\n",
      "\n",
      "To accept the future behavior, pass 'sort=False'.\n",
      "\n",
      "To retain the current behavior and silence the warning, pass 'sort=True'.\n",
      "\n",
      "  sort=sort,\n"
     ]
    },
    {
     "name": "stdout",
     "output_type": "stream",
     "text": [
      "\n",
      "Number of text snippplets: 63156\n",
      "________________________________\n",
      "Greek                    6681\n",
      "French                   6466\n",
      "German                   6395\n",
      "Italian                  6383\n",
      "Portuguese               6147\n",
      "Spanish                  6016\n",
      "Finnish                  5597\n",
      "Swedish                  4940\n",
      "Danish                   4914\n",
      "Dutch                    4826\n",
      "English                  4791\n",
      "Counting Chars:\n",
      "ι θ º â û e ΐ t φ d ä g ε α ú w y ì i γ κ ô ΰ ϋ δ h ζ a ó ύ ç m τ æ o π r ò z ο λ é ü ø f õ μ έ s ñ ϊ ù ê η c ς å ï p b è k ρ v ά î à ψ ξ ë β ö j u ν ª ω ή ã χ ό ί x í l q n ß υ á ώ σ k\tPercentage of correctly predicted language\n",
      "__________________________________________________\n",
      "1\t97.973%\n",
      "2\t98.005%\n",
      "3\t98.417%\n",
      "4\t98.377%\n",
      "5\t98.607%\n",
      "6\t98.567%\n",
      "7\t98.63%\n",
      "8\t98.615%\n",
      "9\t98.686%\n",
      "10\t98.638%\n",
      "11\t98.654%\n",
      "12\t98.678%\n",
      "13\t98.678%\n",
      "14\t98.67%\n",
      "15\t98.686%\n"
     ]
    }
   ],
   "source": [
    "from pathlib import Path\n",
    "import random\n",
    "from collections import Counter, defaultdict\n",
    "import numpy as np\n",
    "import pandas as pd\n",
    "from sklearn.neighbors import *\n",
    "from matplotlib import pyplot as plt\n",
    "from mpl_toolkits import mplot3d\n",
    "\n",
    "\n",
    "def extract_features(text, features):\n",
    "    '''Extracts all alphabetic characters and add their ratios as feature\n",
    "    \n",
    "    extract_features(text, features) -> np.array\n",
    "    '''\n",
    "    textlen = len(text)\n",
    "    ratios = []\n",
    "    text = text.lower()\n",
    "    for feature in features:\n",
    "        ratios.append(text.count(feature) / textlen)\n",
    "    return np.array(ratios)\n",
    "\n",
    "def predict_lang(text, clf):\n",
    "    '''Predicts the language of a given text and classifier\n",
    "    \n",
    "    predict_lang(text, clf) -> str\n",
    "    '''\n",
    "    extracted_features = extract_features(text, features)\n",
    "    return clf.predict(np.array(np.array([extracted_features])))[0]\n",
    "\n",
    "def train_knn(x, y, k):\n",
    "    '''Returns the trained k nearest neighbors classifier\n",
    "    \n",
    "    train_knn(x, y, k) -> sklearn.neighbors.KNeighborsClassifier\n",
    "    '''\n",
    "    clf = KNeighborsClassifier(k)\n",
    "    clf.fit(x, y)\n",
    "    return clf\n",
    "\n",
    "def test_knn(clf, X, Y):\n",
    "    '''Tests a given classifier with a testset and return result\n",
    "    \n",
    "    text_knn(clf, X, Y) -> float\n",
    "    '''\n",
    "    predictions = clf.predict(X)\n",
    "    ratio_correct = len([i for i in range(len(Y)) if Y[i] == predictions[i]]) / len(Y)\n",
    "    return ratio_correct\n",
    "\n",
    "def read(file):\n",
    "    '''Returns contents of a file'''\n",
    "    with open(file, 'r', errors='ignore') as f:\n",
    "        text = f.read()\n",
    "    return text\n",
    "\n",
    "def load_eu_texts():\n",
    "    '''Read texts snipplets in 10 different languages into pd.Dataframe\n",
    "\n",
    "    load_eu_texts() -> pd.Dataframe\n",
    "    \n",
    "    The text snipplets are taken from the nltk-data corpus.\n",
    "    '''\n",
    "    basepath = Path('/Users/gohost/nltk_data/corpora/europarl_raw/')\n",
    "    df = pd.DataFrame(columns=['text', 'lang', 'len'])\n",
    "    languages = [None]\n",
    "    for lang in basepath.iterdir():\n",
    "        languages.append(lang.as_posix())\n",
    "        t = '\\n'.join([read(p) for p in lang.glob('*')])\n",
    "        d = pd.DataFrame()\n",
    "        d['text'] = ''\n",
    "        d['text'] = pd.Series(t.split('\\n'))\n",
    "        d['lang'] = lang.name.title()\n",
    "        df = df.append(d.copy(), ignore_index=True)\n",
    "    return df\n",
    "\n",
    "def clean_eutextdf(df):\n",
    "    '''Preprocesses the texts by doing a set of cleaning steps\n",
    "    \n",
    "    clean_eutextdf(df) -> cleaned_df\n",
    "    '''\n",
    "    # Cuts of whitespaces a the beginning and and\n",
    "    df['text'] = [i.strip() for i in df['text']]\n",
    "    # Generate a lowercase Version of the text column\n",
    "    df['ltext'] = [i.lower() for i in df['text']]\n",
    "\n",
    "    # Determining the length of each text\n",
    "    df['len'] = [len(i) for i in df['text']]\n",
    "    # Drops all texts that are not at least 200 chars long\n",
    "    df = df.loc[df['len'] > 200]\n",
    "    return df\n",
    "\n",
    "def calc_charratios(df):\n",
    "    '''Calculating ratio of any (alphabetical) char in any text of df for each lyric\n",
    "    \n",
    "    calc_charratios(df) -> list, pd.Dataframe\n",
    "    '''\n",
    "    CHARS = ''.join({c for c in ''.join(df['ltext']) if c.isalpha()})\n",
    "    print('Counting Chars:')\n",
    "    for c in CHARS:\n",
    "        print(c, end=' ')\n",
    "        df[c] = [r.count(c) for r in df['ltext']] / df['len']\n",
    "    return list(CHARS), df\n",
    "\n",
    "def split_dataset(df, ratio=0.5):\n",
    "    '''Split the dataset into a train and a test dataset\n",
    "    \n",
    "    split_dataset(featuredf, ratio) -> pd.Dataframe, pd.Dataframe\n",
    "    '''\n",
    "    df = df.sample(frac=1).reset_index(drop=True)\n",
    "    traindf = df[:][:int(df.shape[0] * ratio)]\n",
    "    testdf = df[:][int(df.shape[0] * ratio):]\n",
    "    return traindf, testdf\n",
    "\n",
    "# Execute the above functions to load the texts\n",
    "df = clean_eutextdf(load_eu_texts())\n",
    " \n",
    "# Print a few stats of the read texts\n",
    "textline = 'Number of text snippplets: ' + str(df.shape[0])\n",
    "print('\\n' + textline + '\\n' + ''.join(['_' for i in range(len(textline))]))\n",
    "c = Counter(df['lang'])\n",
    "for l in c.most_common():\n",
    "    print('%-25s' % l[0] + str(l[1]))\n",
    "df.sample(10)\n",
    "\n",
    "features, df = calc_charratios(df)\n",
    "\n",
    "featuredf = pd.DataFrame()\n",
    "featuredf['lang'] = df['lang']\n",
    "for feature in features:\n",
    "    featuredf[feature] = df[feature]\n",
    "traindf, testdf = split_dataset(featuredf, ratio=0.80)\n",
    " \n",
    "x = np.array([np.array(row[1:]) for index, row in traindf.iterrows()])\n",
    "y = np.array([l for l in traindf['lang']])\n",
    "X = np.array([np.array(row[1:]) for index, row in testdf.iterrows()])\n",
    "Y = np.array([l for l in testdf['lang']])\n",
    "\n",
    "print('''k\\tPercentage of correctly predicted language\n",
    "__________________________________________________''')\n",
    "for i in range(1, 16):\n",
    "    clf = train_knn(x, y, i)\n",
    "    ratio_correct = test_knn(clf, X, Y)\n",
    "    print(str(i) + '\\t' + str(round(ratio_correct * 100, 3)) + '%')"
   ]
  },
  {
   "cell_type": "markdown",
   "metadata": {},
   "source": [
    "# IMPORT LABELED DATA"
   ]
  },
  {
   "cell_type": "code",
   "execution_count": 4,
   "metadata": {},
   "outputs": [],
   "source": [
    "import pandas as pd"
   ]
  },
  {
   "cell_type": "code",
   "execution_count": 6,
   "metadata": {},
   "outputs": [
    {
     "data": {
      "text/html": [
       "<div>\n",
       "<style scoped>\n",
       "    .dataframe tbody tr th:only-of-type {\n",
       "        vertical-align: middle;\n",
       "    }\n",
       "\n",
       "    .dataframe tbody tr th {\n",
       "        vertical-align: top;\n",
       "    }\n",
       "\n",
       "    .dataframe thead th {\n",
       "        text-align: right;\n",
       "    }\n",
       "</style>\n",
       "<table border=\"1\" class=\"dataframe\">\n",
       "  <thead>\n",
       "    <tr style=\"text-align: right;\">\n",
       "      <th></th>\n",
       "      <th>app_name</th>\n",
       "      <th>user_id</th>\n",
       "      <th>user_name</th>\n",
       "      <th>date</th>\n",
       "      <th>country</th>\n",
       "      <th>version</th>\n",
       "      <th>score</th>\n",
       "      <th>topic</th>\n",
       "      <th>review</th>\n",
       "      <th>url</th>\n",
       "      <th>review_id</th>\n",
       "      <th>category_final</th>\n",
       "      <th>sentiment_final</th>\n",
       "      <th>req_final</th>\n",
       "    </tr>\n",
       "  </thead>\n",
       "  <tbody>\n",
       "    <tr>\n",
       "      <th>52505.0</th>\n",
       "      <td>Facebook</td>\n",
       "      <td>246193109</td>\n",
       "      <td>Help is herr</td>\n",
       "      <td>2017-06-21 00:00:00</td>\n",
       "      <td>United States</td>\n",
       "      <td>97</td>\n",
       "      <td>1</td>\n",
       "      <td>Notifications not showing up</td>\n",
       "      <td>The notification badges are showing up on my i...</td>\n",
       "      <td>https://itunes.apple.com/WebObjects/MZStore.wo...</td>\n",
       "      <td>53163.0</td>\n",
       "      <td>requirement</td>\n",
       "      <td>neutral</td>\n",
       "      <td>functional</td>\n",
       "    </tr>\n",
       "  </tbody>\n",
       "</table>\n",
       "</div>"
      ],
      "text/plain": [
       "         app_name    user_id     user_name                 date  \\\n",
       "52505.0  Facebook  246193109  Help is herr  2017-06-21 00:00:00   \n",
       "\n",
       "               country version  score                         topic  \\\n",
       "52505.0  United States      97      1  Notifications not showing up   \n",
       "\n",
       "                                                    review  \\\n",
       "52505.0  The notification badges are showing up on my i...   \n",
       "\n",
       "                                                       url  review_id  \\\n",
       "52505.0  https://itunes.apple.com/WebObjects/MZStore.wo...    53163.0   \n",
       "\n",
       "        category_final sentiment_final   req_final  \n",
       "52505.0    requirement         neutral  functional  "
      ]
     },
     "execution_count": 6,
     "metadata": {},
     "output_type": "execute_result"
    }
   ],
   "source": [
    "# import from requirements engineering\n",
    "l_req_eng = pd.read_excel(\"data/LData.xlsx\", index_col='Unnamed: 0')\n",
    "l_req_eng.head(1)"
   ]
  },
  {
   "cell_type": "code",
   "execution_count": 9,
   "metadata": {},
   "outputs": [
    {
     "name": "stdout",
     "output_type": "stream",
     "text": [
      "<class 'pandas.core.frame.DataFrame'>\n",
      "Float64Index: 3000 entries, 52505.0 to 45413.0\n",
      "Data columns (total 14 columns):\n",
      "app_name           3000 non-null object\n",
      "user_id            3000 non-null object\n",
      "user_name          2993 non-null object\n",
      "date               3000 non-null object\n",
      "country            3000 non-null object\n",
      "version            3000 non-null object\n",
      "score              3000 non-null int64\n",
      "topic              2994 non-null object\n",
      "review             2996 non-null object\n",
      "url                2850 non-null object\n",
      "review_id          2850 non-null float64\n",
      "category_final     3000 non-null object\n",
      "sentiment_final    2796 non-null object\n",
      "req_final          1081 non-null object\n",
      "dtypes: float64(1), int64(1), object(12)\n",
      "memory usage: 351.6+ KB\n"
     ]
    }
   ],
   "source": [
    "l_req_eng.info()"
   ]
  },
  {
   "cell_type": "code",
   "execution_count": 30,
   "metadata": {},
   "outputs": [
    {
     "data": {
      "text/plain": [
       "array(['requirement', 'other', 'bug report', 'noise', 'Requirement',\n",
       "       'Bug Report', 'Other', 'Noise'], dtype=object)"
      ]
     },
     "execution_count": 30,
     "metadata": {},
     "output_type": "execute_result"
    }
   ],
   "source": [
    "l_req_eng.category_final.unique()"
   ]
  },
  {
   "cell_type": "code",
   "execution_count": 28,
   "metadata": {},
   "outputs": [
    {
     "data": {
      "text/html": [
       "<div>\n",
       "<style scoped>\n",
       "    .dataframe tbody tr th:only-of-type {\n",
       "        vertical-align: middle;\n",
       "    }\n",
       "\n",
       "    .dataframe tbody tr th {\n",
       "        vertical-align: top;\n",
       "    }\n",
       "\n",
       "    .dataframe thead th {\n",
       "        text-align: right;\n",
       "    }\n",
       "</style>\n",
       "<table border=\"1\" class=\"dataframe\">\n",
       "  <thead>\n",
       "    <tr style=\"text-align: right;\">\n",
       "      <th></th>\n",
       "      <th>app_name</th>\n",
       "      <th>user_id</th>\n",
       "      <th>user_name</th>\n",
       "      <th>date</th>\n",
       "      <th>country</th>\n",
       "      <th>version</th>\n",
       "      <th>score</th>\n",
       "      <th>topic</th>\n",
       "      <th>review_text</th>\n",
       "      <th>url</th>\n",
       "      <th>...</th>\n",
       "      <th>isBugReport</th>\n",
       "      <th>isUsageScenario</th>\n",
       "      <th>isGeneralPraise</th>\n",
       "      <th>isGeneralComplaint</th>\n",
       "      <th>isNoise</th>\n",
       "      <th>isOther</th>\n",
       "      <th>otherText</th>\n",
       "      <th>isNotSureOfLabels</th>\n",
       "      <th>comment</th>\n",
       "      <th>gender</th>\n",
       "    </tr>\n",
       "    <tr>\n",
       "      <th>id</th>\n",
       "      <th></th>\n",
       "      <th></th>\n",
       "      <th></th>\n",
       "      <th></th>\n",
       "      <th></th>\n",
       "      <th></th>\n",
       "      <th></th>\n",
       "      <th></th>\n",
       "      <th></th>\n",
       "      <th></th>\n",
       "      <th></th>\n",
       "      <th></th>\n",
       "      <th></th>\n",
       "      <th></th>\n",
       "      <th></th>\n",
       "      <th></th>\n",
       "      <th></th>\n",
       "      <th></th>\n",
       "      <th></th>\n",
       "      <th></th>\n",
       "      <th></th>\n",
       "    </tr>\n",
       "  </thead>\n",
       "  <tbody>\n",
       "    <tr>\n",
       "      <th>1</th>\n",
       "      <td>Facebook</td>\n",
       "      <td>168083869</td>\n",
       "      <td>Enamul</td>\n",
       "      <td>2017-06-09 00:00:00</td>\n",
       "      <td>Singapore</td>\n",
       "      <td>96</td>\n",
       "      <td>5</td>\n",
       "      <td>Nice</td>\n",
       "      <td>It's helpful for all communication</td>\n",
       "      <td>https://itunes.apple.com/WebObjects/MZStore.wo...</td>\n",
       "      <td>...</td>\n",
       "      <td>0</td>\n",
       "      <td>0</td>\n",
       "      <td>1</td>\n",
       "      <td>0</td>\n",
       "      <td>0</td>\n",
       "      <td>0</td>\n",
       "      <td>NULL</td>\n",
       "      <td>0</td>\n",
       "      <td>NULL</td>\n",
       "      <td>male</td>\n",
       "    </tr>\n",
       "  </tbody>\n",
       "</table>\n",
       "<p>1 rows × 29 columns</p>\n",
       "</div>"
      ],
      "text/plain": [
       "    app_name    user_id user_name                 date    country version  \\\n",
       "id                                                                          \n",
       "1   Facebook  168083869    Enamul  2017-06-09 00:00:00  Singapore      96   \n",
       "\n",
       "    score topic                         review_text  \\\n",
       "id                                                    \n",
       "1       5  Nice  It's helpful for all communication   \n",
       "\n",
       "                                                  url  ...  isBugReport  \\\n",
       "id                                                     ...                \n",
       "1   https://itunes.apple.com/WebObjects/MZStore.wo...  ...            0   \n",
       "\n",
       "    isUsageScenario  isGeneralPraise isGeneralComplaint  isNoise  isOther  \\\n",
       "id                                                                          \n",
       "1                 0                1                  0        0        0   \n",
       "\n",
       "    otherText  isNotSureOfLabels  comment  gender  \n",
       "id                                                 \n",
       "1        NULL                  0     NULL    male  \n",
       "\n",
       "[1 rows x 29 columns]"
      ]
     },
     "execution_count": 28,
     "metadata": {},
     "output_type": "execute_result"
    }
   ],
   "source": [
    "# import from culture study\n",
    "import sqlite3\n",
    "\n",
    "db_path = \"data/reviews_with_truthset/reviews_with_truthset.db\"\n",
    "\n",
    "conn = sqlite3.connect(db_path)\n",
    "conn.text_factory = lambda b: b.decode(errors = 'ignore')\n",
    "\n",
    "l_culture = pd.read_sql_query(\"SELECT * FROM labeledreviews\", conn, index_col='id')\n",
    "l_culture.head(1)"
   ]
  },
  {
   "cell_type": "code",
   "execution_count": 29,
   "metadata": {},
   "outputs": [
    {
     "data": {
      "text/html": [
       "<div>\n",
       "<style scoped>\n",
       "    .dataframe tbody tr th:only-of-type {\n",
       "        vertical-align: middle;\n",
       "    }\n",
       "\n",
       "    .dataframe tbody tr th {\n",
       "        vertical-align: top;\n",
       "    }\n",
       "\n",
       "    .dataframe thead th {\n",
       "        text-align: right;\n",
       "    }\n",
       "</style>\n",
       "<table border=\"1\" class=\"dataframe\">\n",
       "  <thead>\n",
       "    <tr style=\"text-align: right;\">\n",
       "      <th></th>\n",
       "      <th>country</th>\n",
       "      <th>score</th>\n",
       "      <th>topic</th>\n",
       "      <th>review_text</th>\n",
       "      <th>sentimentScore</th>\n",
       "      <th>NotEnglish</th>\n",
       "      <th>isFeatureShortcoming</th>\n",
       "      <th>isFeatureStrength</th>\n",
       "      <th>isFeatureRequest</th>\n",
       "      <th>isBugReport</th>\n",
       "      <th>isUsageScenario</th>\n",
       "      <th>isGeneralPraise</th>\n",
       "      <th>isGeneralComplaint</th>\n",
       "      <th>isNoise</th>\n",
       "      <th>isOther</th>\n",
       "      <th>gender</th>\n",
       "    </tr>\n",
       "    <tr>\n",
       "      <th>id</th>\n",
       "      <th></th>\n",
       "      <th></th>\n",
       "      <th></th>\n",
       "      <th></th>\n",
       "      <th></th>\n",
       "      <th></th>\n",
       "      <th></th>\n",
       "      <th></th>\n",
       "      <th></th>\n",
       "      <th></th>\n",
       "      <th></th>\n",
       "      <th></th>\n",
       "      <th></th>\n",
       "      <th></th>\n",
       "      <th></th>\n",
       "      <th></th>\n",
       "    </tr>\n",
       "  </thead>\n",
       "  <tbody>\n",
       "    <tr>\n",
       "      <th>1</th>\n",
       "      <td>Singapore</td>\n",
       "      <td>5</td>\n",
       "      <td>Nice</td>\n",
       "      <td>It's helpful for all communication</td>\n",
       "      <td>1</td>\n",
       "      <td>0</td>\n",
       "      <td>0</td>\n",
       "      <td>0</td>\n",
       "      <td>0</td>\n",
       "      <td>0</td>\n",
       "      <td>0</td>\n",
       "      <td>1</td>\n",
       "      <td>0</td>\n",
       "      <td>0</td>\n",
       "      <td>0</td>\n",
       "      <td>male</td>\n",
       "    </tr>\n",
       "  </tbody>\n",
       "</table>\n",
       "</div>"
      ],
      "text/plain": [
       "      country  score topic                         review_text  \\\n",
       "id                                                               \n",
       "1   Singapore      5  Nice  It's helpful for all communication   \n",
       "\n",
       "    sentimentScore  NotEnglish  isFeatureShortcoming  isFeatureStrength  \\\n",
       "id                                                                        \n",
       "1                1           0                     0                  0   \n",
       "\n",
       "    isFeatureRequest  isBugReport  isUsageScenario  isGeneralPraise  \\\n",
       "id                                                                    \n",
       "1                  0            0                0                1   \n",
       "\n",
       "    isGeneralComplaint  isNoise  isOther gender  \n",
       "id                                               \n",
       "1                    0        0        0   male  "
      ]
     },
     "execution_count": 29,
     "metadata": {},
     "output_type": "execute_result"
    }
   ],
   "source": [
    "# remove unnecessary columns\n",
    "l_culture = l_culture.drop(['user_id', 'url', 'review_id', 'version', 'user_name',\n",
    "                            'date', 'annotatingTime', 'otherText', 'isNotSureOfLabels',\n",
    "                           'version', 'isAnnotated', 'annotator_id', 'comment'], axis=1)\n",
    "l_culture.head(1)"
   ]
  },
  {
   "cell_type": "code",
   "execution_count": 10,
   "metadata": {},
   "outputs": [
    {
     "name": "stdout",
     "output_type": "stream",
     "text": [
      "<class 'pandas.core.frame.DataFrame'>\n",
      "Int64Index: 2560 entries, 1 to 419\n",
      "Data columns (total 29 columns):\n",
      "app_name                2560 non-null object\n",
      "user_id                 2560 non-null int64\n",
      "user_name               2560 non-null object\n",
      "date                    2560 non-null object\n",
      "country                 2560 non-null object\n",
      "version                 2560 non-null object\n",
      "score                   2560 non-null int64\n",
      "topic                   2560 non-null object\n",
      "review_text             2560 non-null object\n",
      "url                     2560 non-null object\n",
      "review_id               2560 non-null int64\n",
      "annotator_id            2560 non-null int64\n",
      "isAnnotated             2560 non-null int64\n",
      "annotatingTime          2560 non-null object\n",
      "sentimentScore          2560 non-null int64\n",
      "NotEnglish              2560 non-null int64\n",
      "isFeatureShortcoming    2560 non-null int64\n",
      "isFeatureStrength       2560 non-null int64\n",
      "isFeatureRequest        2560 non-null int64\n",
      "isBugReport             2560 non-null int64\n",
      "isUsageScenario         2560 non-null int64\n",
      "isGeneralPraise         2560 non-null int64\n",
      "isGeneralComplaint      2560 non-null int64\n",
      "isNoise                 2560 non-null int64\n",
      "isOther                 2560 non-null int64\n",
      "otherText               2560 non-null object\n",
      "isNotSureOfLabels       2560 non-null int64\n",
      "comment                 2560 non-null object\n",
      "gender                  2560 non-null object\n",
      "dtypes: int64(17), object(12)\n",
      "memory usage: 600.0+ KB\n"
     ]
    }
   ],
   "source": [
    "l_culture.info()"
   ]
  },
  {
   "cell_type": "markdown",
   "metadata": {},
   "source": [
    "# REMOVING ALL NON-ENGLISH REVIEWS"
   ]
  },
  {
   "cell_type": "markdown",
   "metadata": {},
   "source": [
    "# * FROM THE CULTURE STUDY"
   ]
  },
  {
   "cell_type": "code",
   "execution_count": 60,
   "metadata": {
    "scrolled": true
   },
   "outputs": [
    {
     "name": "stdout",
     "output_type": "stream",
     "text": [
      "[12] Portuguese: My news feed shows only stuff from 4 days ago. I see maybe 1 new post to 20 from 4 days ago. Stop messing up a good app\n",
      "\n",
      "[112] Italian: INSTAGRAM NEEDS TO GO BACK TO CHRONOLOGICAL ORDER!!! IM SICK OF LOOKIN LIKE A STALKER LIKER A POST FROM 5 DAYS AGO!!!\n",
      "\n",
      "[183] German: Since the update it keeps freezing when I'm trying to up load pics and just in general. Please fix �\n",
      "\n",
      "[302] Portuguese: Be a group r folder of pics it's good update there should be another update required is send or forward the same group of pics So no need to select all photos again to send some one else.\n",
      "\n",
      "[314] French: Depuis une quinzaine de jours le Scrabble va mal. Je ne peux pas jouer avec mes amis Facebook, sauf deux. J'ai tout essayé...je suis très déçue car je jouais très très souvent.\n",
      "Pouvez-vous faire quelque chose? Merci!\n",
      "\n",
      "[334] Dutch: Since the update I have not been able to delete images without downloading them. Please enable that again.\n",
      "\n",
      "[388] Spanish: Been great speaking to my dad in New Zealand I can't normally call often cause cause costs so much. Thanks\n",
      "\n",
      "[13] German: I now see an ad ever third picture, this is nuts. I think I would see less advertisement reading a magazine, could we limit them somehow please.\n",
      "\n",
      "[26] Portuguese: From last 2 days i am unable to open certain groups and sometimes individuals chat too plz fix it as soon as possible\n",
      "\n",
      "[49] Dutch: They seem to have a new feature that introduce me to unknown users and the recommended user are unrelated\n",
      "\n",
      "[96] French: Très Plate quand notre petit Waze est rendu au niveau de l'épée et que notre bonhomme sur le profil reste un bouclier et ne change pas , même si l'indicateur dit que nous avons dépassé les\n",
      "points......décevant serait apprécié de résoudre le problème \n",
      "Nathaliespeedy70 ☹️\n",
      "\n",
      "[153] Dutch: The new algorithm sucks. I preferred a more random feed. If I want to see the same 10 people over and over I would use Facebook.\n",
      "\n",
      "[229] Swedish: My app no longer works and I've lost all my contacts.  Irritating as I am abroad and really need this!!!!!\n",
      "\n",
      "[273] French: I love instagram so much. I can see my friendsand even celebrities pictures and post some. Comment on teir picutes and like. #instagramlife\n",
      "\n",
      "[356] Dutch: Ever since being privatised face book has been spamming with ads and deleting content it deems controversial, no more free speech, everything we see being controlled by the media\n",
      "\n",
      "[384] French: Depuis environ deux mois j'ai perdu mes amis à droite, après quelques mises à jours ils ne sont jamais revenus...pouvez-vous m'aidez?\n",
      "\n",
      "[396] Portuguese: Pinterest is such a super-duper spot for great ideas and for posting one's own unique ideas for others.\n",
      "\n",
      "[24] Danish: I really like Pinterest because it helps me find interesting things. Strongly advise everyone to use Pinterest. 5 stars\n",
      "\n",
      "[37] Italian: While send a picture to make original size and quality and bug fix and improvement in video call make the good quality ..\n",
      "\n",
      "[69] Dutch: Ever since the update - my screen keeps freezing - I've logged out of Pinterest and the problem seems to be resolved ï¿½\n",
      "\n",
      "[137] Spanish: Please add passcode for whatsapp. Every time I looking for this update plz plz plz plz plz plz plz add passcode ..\n",
      "\n",
      "[156] German: My husband and I have been hiking, jogging and walking with our Blaze Fitbits. We're having so much fun challenging each other, and tracking our progress. For us, this was the best deal ever!!\n",
      " \n",
      " Judy\n",
      "\n",
      "[174] Italian: I have iPhone 4... I am unable to enjoy the video call option ... Please provide an update for iPhone 4 too\n",
      "\n",
      "[176] Spanish: Please enable video download, so that if u have saved ur vids u can download them again and also make privacy settings to restrict others from downloading ur vids or let select vids downloadable!\n",
      "\n",
      "[325] Dutch: The best thing ever since google and i mean it. Even google maps can't beat this one â˜ï¸ great work Waze team ?ï¿½\n",
      "\n",
      "[19] Italian: Would like to be able to correct traffic conditions i.e. Green for clear traffic when\n",
      " previously orange or red. Also thumbs down option for hazards on roadside so previous hazard can be removed i.e. Roadworks or vehicle on roadside. Otherwise it's a brilliant app.\n",
      "\n",
      "[44] Portuguese: I'm a kid and insta is a more kid based app.Im ethan_may and I post pics of me and my day or amazing photos of our world.\n",
      "\n",
      "[58] French: Fix it NOW. We all need it and everyone's frustrated ugh. FIX IT ASAP PLEASE PEOPLE USE IT FOR BUSINESS INQUIRES TOO\n",
      "\n",
      "[109] Portuguese: Whatever update you've added makes my menu and DMs disappear. Also, I kinda wish my photos showed in order in my newsfeed. I don't see friends posts anymore unless I go to the pages.\n",
      "\n",
      "[136] Spanish: Started using it in the UK April 2017, now back in Australia I've found it superb, always up to date and accurate.... great app! \n",
      " Beats any Satnav I've ever used and google maps!\n",
      "\n",
      "[198] Portuguese: Please bring back favourites tab\n",
      " Please remove camera tab, no use\n",
      " \n",
      " also gather statistics as to how many ppl use New Status ? very few, it is a failed feature\n",
      "\n",
      "[204] French: Les sujets sont tous plus intéressant et diversifiés. Instructif élaboré et bien documenté. Merci beaucoup d'être là.\n",
      "\n",
      "[300] Spanish: Please add language Arabic\n",
      " Too Facebook\n",
      " Please add language arabica\n",
      " Please add language Arabic\n",
      " Too Facebook\n",
      " Please add language arabica\n",
      " Please add language Arabic\n",
      " Too Facebook\n",
      " Please add language arabica\n",
      " Please add language Arabic\n",
      " Too Facebook\n",
      " Please add language arabica\n",
      "\n",
      "[332] German: With recent update 2.17.21 version, the WhatsApp gets crashed suddenly while writing a message. Not understanding it's because of multiple 'return' pressing in iPhone during writing or other.\n",
      " 1. Crashes when multiple 'return' presses (trying to writing in new lines).\n",
      "\n",
      "[404] Italian: Videos on Facebook continue in a loop and don't stop unless you force close it???\n",
      " \n",
      " Running iOS 10.3.1\n",
      "\n",
      "[1] Spanish: Message bubble at top is gone so I don't see when I have messages from people any longer!  Please fix asap!\n",
      "\n",
      "[186] French: Depuis la dernière mise à jour , je n'ai plus d'icône qui me permet de voir quand j'ai reçu des messages sur messenger. Dommage car certains messages sont obsolètes quand j'en prends connaissance. Peut-on espérer que ça se règle bientôt.\n",
      "Merci\n",
      "\n",
      "[277] Portuguese: Não criticas,mas gostaria que um dia melhorassem e dissessem ao invés de vai virar daqui a 100 metros dissessem vai virar a 100 metros na rua (e o nome da rua),também seria bom\n",
      "\n",
      "[279] German: Can't drive or ride within it. have used it in MD, FL, NY, NJ, DE, ME and PR. There have been issues at the beach and overcast days.\n",
      "\n",
      "[294] Italian: To download it on iPad look up how to download instagram on iPad on google and it should pop up and u can buy it\n",
      "\n",
      "[332] French: Incompatibilité avec Messenger, très difficile d'accéder à mon Messenger je l'ouvre et il se referme tout de suite...  vous m'avez saboté un de mes 2 groupes et fait perdre de l'argent en me chargeant pour mon groupe...  Je perds régulièrement des amis sur mon compte facebook/Messenger et je dois refaire une demande d'amitié...  est-ce assez comme cela car je peux CONTINUER...\n",
      "\n",
      "[6] Portuguese: So much of lag in messages section !\n",
      " App does not run smoothly in messages section else rest is great !\n",
      "\n",
      "[22] Italian: A good way of communicating with your friends and family and is also good for arranging things overall an amazing social media\n",
      "\n",
      "[63] Italian: Really good application that can bring all information from all your connected health devices to one place to monitor.\n",
      "\n",
      "[140] Portuguese: Easy to use, great Data base.\n",
      " Facile et pratique, beaucoup d informations et banque de données assez volumineuse.\n",
      "\n",
      "[184] Spanish: Please solve this ASAP.\n",
      " \n",
      " No any option for unblock users.\n",
      " \n",
      " No user found message shown.\n",
      " \n",
      " At least report us guys..\n",
      " \n",
      " It is an serious issue, why you take it normally????\n",
      "\n",
      "[247] Spanish: No puedo enviar chats, la aplicación se congela y desaparece el botón de enviar. Desinstalé y volví a instalar y se sigue colgando la aplicación cada cierto tiempo y los chats no se envían. La única app que no funciona en mi teléfono es WhatsApp\n",
      "\n",
      "[251] Spanish: Desde hace 4 meses he escrito a Instagram para que me resuelvan mi problema con las publicidades , ya que las misma se aprueban y no son visibles a público... y hasta ahora no recibo respuesta no solución a mi problema , siendo empresa necesito utilizar el servicio de publicidad de manera óptima.\n",
      "\n",
      "[301] Dutch: I have a iPod so I don't have a phone number and it keeps asking me for one when I don't have one help\n",
      "\n"
     ]
    },
    {
     "name": "stdout",
     "output_type": "stream",
     "text": [
      "[317] Italian: Great navigation app. I especially love the option to predict my trip time in advance and navigating around traffic. I find it to be about 80% accurate.\n",
      "\n",
      "[373] Italian: App is good.but make a redesign or makeover in UI.pls its a request\n",
      " Please bring applock in ios.can u?\n",
      "\n",
      "[389] French: Je n'apprécie pas du tout le design pour les commentaires et les réglages. J'aimais mieux comment c'était avant, maintenant, c'est moins clair. Je trouve aussi qu'il y a trop souvent de mises à jour, il faut se réadapter à chaque fois. \n",
      " \n",
      " Merci de lire nos commentaires.\n",
      "\n",
      "[419] French: J'utilise quotidiennement une application pour les routes pour m'indiquer principalement les bouchons et les autres chemins que je peux emprunter. Waze Est bien mais avec quelques bugs. Il est tres convivial, ce qui est appr̩ciable mais pas aussi fiable que son principal concurrent (et parent, en plus)\n",
      "\n"
     ]
    }
   ],
   "source": [
    "# the language classifier operates on a character level\n",
    "# doesn't really work as well as advertised, but at least it did identify\n",
    "# a number of French and Spanish/Portuguese reviews I can remove\n",
    "\n",
    "l_culture_copy = l_culture.copy()\n",
    "\n",
    "for index, row in l_culture_copy.iterrows():\n",
    "    review = row['review_text']\n",
    "    \n",
    "    if len(review) < 100 or type(review) != str:\n",
    "        continue\n",
    "        \n",
    "    language = predict_lang(review, clf)\n",
    "        \n",
    "    if language != 'English':\n",
    "        l_culture_copy.drop([index])\n",
    "        print(f\"[{index}] {language}: {review}\\n\")\n"
   ]
  },
  {
   "cell_type": "code",
   "execution_count": 63,
   "metadata": {},
   "outputs": [],
   "source": [
    "# manually curated list from reading the output above\n",
    "foreign_indices = [314, 96, 384, 204, 300, 186, 277, 332, 140, 247, 251, 389, 419]"
   ]
  },
  {
   "cell_type": "code",
   "execution_count": 64,
   "metadata": {},
   "outputs": [],
   "source": [
    "l_culture_copy = l_culture_copy.drop(foreign_indices)"
   ]
  },
  {
   "cell_type": "code",
   "execution_count": 66,
   "metadata": {},
   "outputs": [],
   "source": [
    "# export the new (mostly English) labelled data\n",
    "l_culture_copy.to_csv('english_culture_study_labels.csv', encoding='utf-8')"
   ]
  },
  {
   "cell_type": "code",
   "execution_count": 69,
   "metadata": {},
   "outputs": [],
   "source": [
    "imp = pd.read_csv('english_culture_study_labels.csv', index_col='id')"
   ]
  },
  {
   "cell_type": "code",
   "execution_count": 70,
   "metadata": {},
   "outputs": [
    {
     "data": {
      "text/html": [
       "<div>\n",
       "<style scoped>\n",
       "    .dataframe tbody tr th:only-of-type {\n",
       "        vertical-align: middle;\n",
       "    }\n",
       "\n",
       "    .dataframe tbody tr th {\n",
       "        vertical-align: top;\n",
       "    }\n",
       "\n",
       "    .dataframe thead th {\n",
       "        text-align: right;\n",
       "    }\n",
       "</style>\n",
       "<table border=\"1\" class=\"dataframe\">\n",
       "  <thead>\n",
       "    <tr style=\"text-align: right;\">\n",
       "      <th></th>\n",
       "      <th>country</th>\n",
       "      <th>score</th>\n",
       "      <th>topic</th>\n",
       "      <th>review_text</th>\n",
       "      <th>sentimentScore</th>\n",
       "      <th>NotEnglish</th>\n",
       "      <th>isFeatureShortcoming</th>\n",
       "      <th>isFeatureStrength</th>\n",
       "      <th>isFeatureRequest</th>\n",
       "      <th>isBugReport</th>\n",
       "      <th>isUsageScenario</th>\n",
       "      <th>isGeneralPraise</th>\n",
       "      <th>isGeneralComplaint</th>\n",
       "      <th>isNoise</th>\n",
       "      <th>isOther</th>\n",
       "      <th>gender</th>\n",
       "    </tr>\n",
       "    <tr>\n",
       "      <th>id</th>\n",
       "      <th></th>\n",
       "      <th></th>\n",
       "      <th></th>\n",
       "      <th></th>\n",
       "      <th></th>\n",
       "      <th></th>\n",
       "      <th></th>\n",
       "      <th></th>\n",
       "      <th></th>\n",
       "      <th></th>\n",
       "      <th></th>\n",
       "      <th></th>\n",
       "      <th></th>\n",
       "      <th></th>\n",
       "      <th></th>\n",
       "      <th></th>\n",
       "    </tr>\n",
       "  </thead>\n",
       "  <tbody>\n",
       "    <tr>\n",
       "      <th>1</th>\n",
       "      <td>Singapore</td>\n",
       "      <td>5</td>\n",
       "      <td>Nice</td>\n",
       "      <td>It's helpful for all communication</td>\n",
       "      <td>1</td>\n",
       "      <td>0</td>\n",
       "      <td>0</td>\n",
       "      <td>0</td>\n",
       "      <td>0</td>\n",
       "      <td>0</td>\n",
       "      <td>0</td>\n",
       "      <td>1</td>\n",
       "      <td>0</td>\n",
       "      <td>0</td>\n",
       "      <td>0</td>\n",
       "      <td>male</td>\n",
       "    </tr>\n",
       "    <tr>\n",
       "      <th>2</th>\n",
       "      <td>United States</td>\n",
       "      <td>3</td>\n",
       "      <td>Chronological Order</td>\n",
       "      <td>PLEASE GO BACK TO CHRONOLOGICAL ORDER ON THE T...</td>\n",
       "      <td>0</td>\n",
       "      <td>0</td>\n",
       "      <td>1</td>\n",
       "      <td>0</td>\n",
       "      <td>1</td>\n",
       "      <td>0</td>\n",
       "      <td>0</td>\n",
       "      <td>0</td>\n",
       "      <td>0</td>\n",
       "      <td>0</td>\n",
       "      <td>0</td>\n",
       "      <td>unclear</td>\n",
       "    </tr>\n",
       "    <tr>\n",
       "      <th>3</th>\n",
       "      <td>Australia</td>\n",
       "      <td>5</td>\n",
       "      <td>Great time saver</td>\n",
       "      <td>Highly recommend</td>\n",
       "      <td>2</td>\n",
       "      <td>0</td>\n",
       "      <td>0</td>\n",
       "      <td>0</td>\n",
       "      <td>0</td>\n",
       "      <td>0</td>\n",
       "      <td>0</td>\n",
       "      <td>1</td>\n",
       "      <td>0</td>\n",
       "      <td>0</td>\n",
       "      <td>0</td>\n",
       "      <td>unclear</td>\n",
       "    </tr>\n",
       "    <tr>\n",
       "      <th>4</th>\n",
       "      <td>South Africa</td>\n",
       "      <td>5</td>\n",
       "      <td>Instagram App of the best I've used</td>\n",
       "      <td>Works every time, all the time. Easy to use, p...</td>\n",
       "      <td>2</td>\n",
       "      <td>0</td>\n",
       "      <td>0</td>\n",
       "      <td>1</td>\n",
       "      <td>0</td>\n",
       "      <td>0</td>\n",
       "      <td>0</td>\n",
       "      <td>0</td>\n",
       "      <td>0</td>\n",
       "      <td>0</td>\n",
       "      <td>0</td>\n",
       "      <td>female</td>\n",
       "    </tr>\n",
       "    <tr>\n",
       "      <th>5</th>\n",
       "      <td>Singapore</td>\n",
       "      <td>1</td>\n",
       "      <td>No response for multiple photo upload</td>\n",
       "      <td>After many times I have tried, there still hav...</td>\n",
       "      <td>0</td>\n",
       "      <td>0</td>\n",
       "      <td>0</td>\n",
       "      <td>0</td>\n",
       "      <td>0</td>\n",
       "      <td>1</td>\n",
       "      <td>0</td>\n",
       "      <td>0</td>\n",
       "      <td>0</td>\n",
       "      <td>0</td>\n",
       "      <td>0</td>\n",
       "      <td>unclear</td>\n",
       "    </tr>\n",
       "  </tbody>\n",
       "</table>\n",
       "</div>"
      ],
      "text/plain": [
       "          country  score                                  topic  \\\n",
       "id                                                                \n",
       "1       Singapore      5                                   Nice   \n",
       "2   United States      3                    Chronological Order   \n",
       "3       Australia      5                       Great time saver   \n",
       "4    South Africa      5    Instagram App of the best I've used   \n",
       "5       Singapore      1  No response for multiple photo upload   \n",
       "\n",
       "                                          review_text  sentimentScore  \\\n",
       "id                                                                      \n",
       "1                  It's helpful for all communication               1   \n",
       "2   PLEASE GO BACK TO CHRONOLOGICAL ORDER ON THE T...               0   \n",
       "3                                    Highly recommend               2   \n",
       "4   Works every time, all the time. Easy to use, p...               2   \n",
       "5   After many times I have tried, there still hav...               0   \n",
       "\n",
       "    NotEnglish  isFeatureShortcoming  isFeatureStrength  isFeatureRequest  \\\n",
       "id                                                                          \n",
       "1            0                     0                  0                 0   \n",
       "2            0                     1                  0                 1   \n",
       "3            0                     0                  0                 0   \n",
       "4            0                     0                  1                 0   \n",
       "5            0                     0                  0                 0   \n",
       "\n",
       "    isBugReport  isUsageScenario  isGeneralPraise  isGeneralComplaint  \\\n",
       "id                                                                      \n",
       "1             0                0                1                   0   \n",
       "2             0                0                0                   0   \n",
       "3             0                0                1                   0   \n",
       "4             0                0                0                   0   \n",
       "5             1                0                0                   0   \n",
       "\n",
       "    isNoise  isOther   gender  \n",
       "id                             \n",
       "1         0        0     male  \n",
       "2         0        0  unclear  \n",
       "3         0        0  unclear  \n",
       "4         0        0   female  \n",
       "5         0        0  unclear  "
      ]
     },
     "execution_count": 70,
     "metadata": {},
     "output_type": "execute_result"
    }
   ],
   "source": [
    "imp.head()"
   ]
  },
  {
   "cell_type": "code",
   "execution_count": 71,
   "metadata": {},
   "outputs": [
    {
     "data": {
      "text/plain": [
       "2486"
      ]
     },
     "execution_count": 71,
     "metadata": {},
     "output_type": "execute_result"
    }
   ],
   "source": [
    "len(imp)"
   ]
  },
  {
   "cell_type": "markdown",
   "metadata": {},
   "source": [
    "# * FROM REQUIREMENTS ENGINEERING"
   ]
  },
  {
   "cell_type": "code",
   "execution_count": 98,
   "metadata": {},
   "outputs": [
    {
     "data": {
      "text/html": [
       "<div>\n",
       "<style scoped>\n",
       "    .dataframe tbody tr th:only-of-type {\n",
       "        vertical-align: middle;\n",
       "    }\n",
       "\n",
       "    .dataframe tbody tr th {\n",
       "        vertical-align: top;\n",
       "    }\n",
       "\n",
       "    .dataframe thead th {\n",
       "        text-align: right;\n",
       "    }\n",
       "</style>\n",
       "<table border=\"1\" class=\"dataframe\">\n",
       "  <thead>\n",
       "    <tr style=\"text-align: right;\">\n",
       "      <th></th>\n",
       "      <th>app_name</th>\n",
       "      <th>user_id</th>\n",
       "      <th>user_name</th>\n",
       "      <th>date</th>\n",
       "      <th>country</th>\n",
       "      <th>version</th>\n",
       "      <th>score</th>\n",
       "      <th>topic</th>\n",
       "      <th>review</th>\n",
       "      <th>url</th>\n",
       "      <th>review_id</th>\n",
       "      <th>category_final</th>\n",
       "      <th>sentiment_final</th>\n",
       "      <th>req_final</th>\n",
       "    </tr>\n",
       "  </thead>\n",
       "  <tbody>\n",
       "    <tr>\n",
       "      <th>0</th>\n",
       "      <td>Facebook</td>\n",
       "      <td>246193109</td>\n",
       "      <td>Help is herr</td>\n",
       "      <td>2017-06-21 00:00:00</td>\n",
       "      <td>United States</td>\n",
       "      <td>97</td>\n",
       "      <td>1</td>\n",
       "      <td>Notifications not showing up</td>\n",
       "      <td>The notification badges are showing up on my i...</td>\n",
       "      <td>https://itunes.apple.com/WebObjects/MZStore.wo...</td>\n",
       "      <td>53163.0</td>\n",
       "      <td>requirement</td>\n",
       "      <td>neutral</td>\n",
       "      <td>functional</td>\n",
       "    </tr>\n",
       "    <tr>\n",
       "      <th>1</th>\n",
       "      <td>Facebook</td>\n",
       "      <td>43034279</td>\n",
       "      <td>javamdnss</td>\n",
       "      <td>2017-06-16 00:00:00</td>\n",
       "      <td>United States</td>\n",
       "      <td>97</td>\n",
       "      <td>1</td>\n",
       "      <td>Hate it!</td>\n",
       "      <td>Why do they make changes we don't need? Now th...</td>\n",
       "      <td>https://itunes.apple.com/WebObjects/MZStore.wo...</td>\n",
       "      <td>53905.0</td>\n",
       "      <td>other</td>\n",
       "      <td>very negative</td>\n",
       "      <td>NaN</td>\n",
       "    </tr>\n",
       "    <tr>\n",
       "      <th>2</th>\n",
       "      <td>Facebook</td>\n",
       "      <td>496978255</td>\n",
       "      <td>NaN</td>\n",
       "      <td>2017-05-27 00:00:00</td>\n",
       "      <td>Hong Kong</td>\n",
       "      <td>94</td>\n",
       "      <td>1</td>\n",
       "      <td>Useless function n poor experience</td>\n",
       "      <td>Story is useless n annoying to user. \\nCan't s...</td>\n",
       "      <td>https://itunes.apple.com/WebObjects/MZStore.wo...</td>\n",
       "      <td>47401.0</td>\n",
       "      <td>other</td>\n",
       "      <td>negative</td>\n",
       "      <td>NaN</td>\n",
       "    </tr>\n",
       "    <tr>\n",
       "      <th>3</th>\n",
       "      <td>Facebook</td>\n",
       "      <td>139595037</td>\n",
       "      <td>Gilbertiggy</td>\n",
       "      <td>2017-05-26 00:00:00</td>\n",
       "      <td>United Kingdom</td>\n",
       "      <td>94</td>\n",
       "      <td>1</td>\n",
       "      <td>To many updates!</td>\n",
       "      <td>This app is always having an update for someth...</td>\n",
       "      <td>https://itunes.apple.com/WebObjects/MZStore.wo...</td>\n",
       "      <td>42233.0</td>\n",
       "      <td>requirement</td>\n",
       "      <td>negative</td>\n",
       "      <td>functional</td>\n",
       "    </tr>\n",
       "    <tr>\n",
       "      <th>4</th>\n",
       "      <td>Facebook</td>\n",
       "      <td>180832062</td>\n",
       "      <td>Princess Lou 24</td>\n",
       "      <td>2017-06-01 00:00:00</td>\n",
       "      <td>United Kingdom</td>\n",
       "      <td>94</td>\n",
       "      <td>1</td>\n",
       "      <td>Photo albums</td>\n",
       "      <td>Just spent an hour trying to upload photos and...</td>\n",
       "      <td>https://itunes.apple.com/WebObjects/MZStore.wo...</td>\n",
       "      <td>42066.0</td>\n",
       "      <td>requirement</td>\n",
       "      <td>negative</td>\n",
       "      <td>non-functional</td>\n",
       "    </tr>\n",
       "  </tbody>\n",
       "</table>\n",
       "</div>"
      ],
      "text/plain": [
       "   app_name    user_id        user_name                 date         country  \\\n",
       "0  Facebook  246193109     Help is herr  2017-06-21 00:00:00   United States   \n",
       "1  Facebook   43034279        javamdnss  2017-06-16 00:00:00   United States   \n",
       "2  Facebook  496978255              NaN  2017-05-27 00:00:00       Hong Kong   \n",
       "3  Facebook  139595037      Gilbertiggy  2017-05-26 00:00:00  United Kingdom   \n",
       "4  Facebook  180832062  Princess Lou 24  2017-06-01 00:00:00  United Kingdom   \n",
       "\n",
       "  version  score                               topic  \\\n",
       "0      97      1        Notifications not showing up   \n",
       "1      97      1                            Hate it!   \n",
       "2      94      1  Useless function n poor experience   \n",
       "3      94      1                    To many updates!   \n",
       "4      94      1                        Photo albums   \n",
       "\n",
       "                                              review  \\\n",
       "0  The notification badges are showing up on my i...   \n",
       "1  Why do they make changes we don't need? Now th...   \n",
       "2  Story is useless n annoying to user. \\nCan't s...   \n",
       "3  This app is always having an update for someth...   \n",
       "4  Just spent an hour trying to upload photos and...   \n",
       "\n",
       "                                                 url  review_id  \\\n",
       "0  https://itunes.apple.com/WebObjects/MZStore.wo...    53163.0   \n",
       "1  https://itunes.apple.com/WebObjects/MZStore.wo...    53905.0   \n",
       "2  https://itunes.apple.com/WebObjects/MZStore.wo...    47401.0   \n",
       "3  https://itunes.apple.com/WebObjects/MZStore.wo...    42233.0   \n",
       "4  https://itunes.apple.com/WebObjects/MZStore.wo...    42066.0   \n",
       "\n",
       "  category_final sentiment_final       req_final  \n",
       "0    requirement         neutral      functional  \n",
       "1          other   very negative             NaN  \n",
       "2          other        negative             NaN  \n",
       "3    requirement        negative      functional  \n",
       "4    requirement        negative  non-functional  "
      ]
     },
     "execution_count": 98,
     "metadata": {},
     "output_type": "execute_result"
    }
   ],
   "source": [
    "l_req_copy = l_req_eng.copy()\n",
    "l_req_copy = l_req_copy.reset_index(drop=True)\n",
    "l_req_copy.head()"
   ]
  },
  {
   "cell_type": "code",
   "execution_count": 99,
   "metadata": {},
   "outputs": [
    {
     "data": {
      "text/plain": [
       "3000"
      ]
     },
     "execution_count": 99,
     "metadata": {},
     "output_type": "execute_result"
    }
   ],
   "source": [
    "len(l_req_copy)"
   ]
  },
  {
   "cell_type": "code",
   "execution_count": 101,
   "metadata": {},
   "outputs": [
    {
     "data": {
      "text/plain": [
       "3000"
      ]
     },
     "execution_count": 101,
     "metadata": {},
     "output_type": "execute_result"
    }
   ],
   "source": [
    "for index, row in l_req_copy.iterrows():\n",
    "    review = row['review']\n",
    "    \n",
    "    if type(review) != str or len(review) < 100:\n",
    "        continue\n",
    "        \n",
    "    language = predict_lang(review, clf)\n",
    "        \n",
    "#     if language != 'English':\n",
    "#         l_req_copy.drop([index]) # KEEP COMMENTED OUT! Language classifier not precise enough to auto drop.\n",
    "#         print(f\"[{index}] {language}: {review}\\n\")\n",
    "\n",
    "len(l_req_copy)"
   ]
  },
  {
   "cell_type": "code",
   "execution_count": 102,
   "metadata": {},
   "outputs": [],
   "source": [
    "l_req_foreign = [56, 175, 351, 382, 473, 558, 1023,\n",
    "                 1199, 1550, 1642, 1667, 2050, 2077,\n",
    "                 2167, 2305, 2348, 2388, 2416, 2508,\n",
    "                 2530, 2587, 2674, 2694, 2726, 2734,\n",
    "                 2759, 2764, 2765, 2833\n",
    "                ]"
   ]
  },
  {
   "cell_type": "code",
   "execution_count": 103,
   "metadata": {},
   "outputs": [
    {
     "data": {
      "text/plain": [
       "2971"
      ]
     },
     "execution_count": 103,
     "metadata": {},
     "output_type": "execute_result"
    }
   ],
   "source": [
    "l_req_copy = l_req_copy.drop(l_req_foreign)\n",
    "len(l_req_copy)"
   ]
  },
  {
   "cell_type": "code",
   "execution_count": 84,
   "metadata": {},
   "outputs": [],
   "source": [
    "# export the new (mostly English) labelled data\n",
    "l_culture_copy.to_csv('english_req_eng_labels.csv', encoding='utf-8')"
   ]
  },
  {
   "cell_type": "markdown",
   "metadata": {},
   "source": [
    "# REMOVE NAN ROWS"
   ]
  },
  {
   "cell_type": "code",
   "execution_count": 149,
   "metadata": {},
   "outputs": [
    {
     "name": "stdout",
     "output_type": "stream",
     "text": [
      "2971 2486\n"
     ]
    }
   ],
   "source": [
    "l_req_nan = l_req_copy.copy()\n",
    "l_cul_nan = l_culture_copy.copy()\n",
    "print(len(l_req_nan), len(l_cul_nan))"
   ]
  },
  {
   "cell_type": "code",
   "execution_count": 150,
   "metadata": {},
   "outputs": [],
   "source": [
    "l_req_nan = l_req_nan.dropna(subset=['review'])\n",
    "l_cul_nan = l_cul_nan.dropna(subset=['review_text'])"
   ]
  },
  {
   "cell_type": "code",
   "execution_count": 151,
   "metadata": {},
   "outputs": [
    {
     "name": "stdout",
     "output_type": "stream",
     "text": [
      "2967 2486\n"
     ]
    }
   ],
   "source": [
    "print(len(l_req_nan), len(l_cul_nan))"
   ]
  },
  {
   "cell_type": "markdown",
   "metadata": {},
   "source": [
    "# REMOVE SHORT REVIEWS"
   ]
  },
  {
   "cell_type": "markdown",
   "metadata": {},
   "source": [
    "# RENAME COLUMNS"
   ]
  },
  {
   "cell_type": "code",
   "execution_count": 153,
   "metadata": {},
   "outputs": [
    {
     "data": {
      "text/html": [
       "<div>\n",
       "<style scoped>\n",
       "    .dataframe tbody tr th:only-of-type {\n",
       "        vertical-align: middle;\n",
       "    }\n",
       "\n",
       "    .dataframe tbody tr th {\n",
       "        vertical-align: top;\n",
       "    }\n",
       "\n",
       "    .dataframe thead th {\n",
       "        text-align: right;\n",
       "    }\n",
       "</style>\n",
       "<table border=\"1\" class=\"dataframe\">\n",
       "  <thead>\n",
       "    <tr style=\"text-align: right;\">\n",
       "      <th></th>\n",
       "      <th>app_name</th>\n",
       "      <th>user_id</th>\n",
       "      <th>user_name</th>\n",
       "      <th>date</th>\n",
       "      <th>country</th>\n",
       "      <th>version</th>\n",
       "      <th>score</th>\n",
       "      <th>topic</th>\n",
       "      <th>review</th>\n",
       "      <th>url</th>\n",
       "      <th>review_id</th>\n",
       "      <th>category_final</th>\n",
       "      <th>sentiment_final</th>\n",
       "      <th>req_final</th>\n",
       "    </tr>\n",
       "  </thead>\n",
       "  <tbody>\n",
       "    <tr>\n",
       "      <th>0</th>\n",
       "      <td>Facebook</td>\n",
       "      <td>246193109</td>\n",
       "      <td>Help is herr</td>\n",
       "      <td>2017-06-21 00:00:00</td>\n",
       "      <td>United States</td>\n",
       "      <td>97</td>\n",
       "      <td>1</td>\n",
       "      <td>Notifications not showing up</td>\n",
       "      <td>The notification badges are showing up on my i...</td>\n",
       "      <td>https://itunes.apple.com/WebObjects/MZStore.wo...</td>\n",
       "      <td>53163.0</td>\n",
       "      <td>requirement</td>\n",
       "      <td>neutral</td>\n",
       "      <td>functional</td>\n",
       "    </tr>\n",
       "  </tbody>\n",
       "</table>\n",
       "</div>"
      ],
      "text/plain": [
       "   app_name    user_id     user_name                 date        country  \\\n",
       "0  Facebook  246193109  Help is herr  2017-06-21 00:00:00  United States   \n",
       "\n",
       "  version  score                         topic  \\\n",
       "0      97      1  Notifications not showing up   \n",
       "\n",
       "                                              review  \\\n",
       "0  The notification badges are showing up on my i...   \n",
       "\n",
       "                                                 url  review_id  \\\n",
       "0  https://itunes.apple.com/WebObjects/MZStore.wo...    53163.0   \n",
       "\n",
       "  category_final sentiment_final   req_final  \n",
       "0    requirement         neutral  functional  "
      ]
     },
     "execution_count": 153,
     "metadata": {},
     "output_type": "execute_result"
    }
   ],
   "source": [
    "l_req_nan.head(1)"
   ]
  },
  {
   "cell_type": "code",
   "execution_count": 158,
   "metadata": {},
   "outputs": [],
   "source": [
    "# remove unnecessary columns\n",
    "# rename columns also\n",
    "good_req = l_req_nan.copy()\n",
    "good_req = good_req.drop(['app_name', 'user_name', 'user_id', 'date', 'version', 'review_id', 'url',\n",
    "                         'req_final'], axis=1)\n",
    "good_req = good_req.rename(columns = {\n",
    "    \"category_final\": \"category\",\n",
    "    \"sentiment_final\": \"sentiment\"\n",
    "}, errors=\"raise\")"
   ]
  },
  {
   "cell_type": "code",
   "execution_count": 159,
   "metadata": {},
   "outputs": [
    {
     "data": {
      "text/html": [
       "<div>\n",
       "<style scoped>\n",
       "    .dataframe tbody tr th:only-of-type {\n",
       "        vertical-align: middle;\n",
       "    }\n",
       "\n",
       "    .dataframe tbody tr th {\n",
       "        vertical-align: top;\n",
       "    }\n",
       "\n",
       "    .dataframe thead th {\n",
       "        text-align: right;\n",
       "    }\n",
       "</style>\n",
       "<table border=\"1\" class=\"dataframe\">\n",
       "  <thead>\n",
       "    <tr style=\"text-align: right;\">\n",
       "      <th></th>\n",
       "      <th>country</th>\n",
       "      <th>score</th>\n",
       "      <th>topic</th>\n",
       "      <th>review</th>\n",
       "      <th>category</th>\n",
       "      <th>sentiment</th>\n",
       "    </tr>\n",
       "  </thead>\n",
       "  <tbody>\n",
       "    <tr>\n",
       "      <th>0</th>\n",
       "      <td>United States</td>\n",
       "      <td>1</td>\n",
       "      <td>Notifications not showing up</td>\n",
       "      <td>The notification badges are showing up on my i...</td>\n",
       "      <td>requirement</td>\n",
       "      <td>neutral</td>\n",
       "    </tr>\n",
       "    <tr>\n",
       "      <th>1</th>\n",
       "      <td>United States</td>\n",
       "      <td>1</td>\n",
       "      <td>Hate it!</td>\n",
       "      <td>Why do they make changes we don't need? Now th...</td>\n",
       "      <td>other</td>\n",
       "      <td>very negative</td>\n",
       "    </tr>\n",
       "    <tr>\n",
       "      <th>2</th>\n",
       "      <td>Hong Kong</td>\n",
       "      <td>1</td>\n",
       "      <td>Useless function n poor experience</td>\n",
       "      <td>Story is useless n annoying to user. \\nCan't s...</td>\n",
       "      <td>other</td>\n",
       "      <td>negative</td>\n",
       "    </tr>\n",
       "    <tr>\n",
       "      <th>3</th>\n",
       "      <td>United Kingdom</td>\n",
       "      <td>1</td>\n",
       "      <td>To many updates!</td>\n",
       "      <td>This app is always having an update for someth...</td>\n",
       "      <td>requirement</td>\n",
       "      <td>negative</td>\n",
       "    </tr>\n",
       "    <tr>\n",
       "      <th>4</th>\n",
       "      <td>United Kingdom</td>\n",
       "      <td>1</td>\n",
       "      <td>Photo albums</td>\n",
       "      <td>Just spent an hour trying to upload photos and...</td>\n",
       "      <td>requirement</td>\n",
       "      <td>negative</td>\n",
       "    </tr>\n",
       "  </tbody>\n",
       "</table>\n",
       "</div>"
      ],
      "text/plain": [
       "          country  score                               topic  \\\n",
       "0   United States      1        Notifications not showing up   \n",
       "1   United States      1                            Hate it!   \n",
       "2       Hong Kong      1  Useless function n poor experience   \n",
       "3  United Kingdom      1                    To many updates!   \n",
       "4  United Kingdom      1                        Photo albums   \n",
       "\n",
       "                                              review     category  \\\n",
       "0  The notification badges are showing up on my i...  requirement   \n",
       "1  Why do they make changes we don't need? Now th...        other   \n",
       "2  Story is useless n annoying to user. \\nCan't s...        other   \n",
       "3  This app is always having an update for someth...  requirement   \n",
       "4  Just spent an hour trying to upload photos and...  requirement   \n",
       "\n",
       "       sentiment  \n",
       "0        neutral  \n",
       "1  very negative  \n",
       "2       negative  \n",
       "3       negative  \n",
       "4       negative  "
      ]
     },
     "execution_count": 159,
     "metadata": {},
     "output_type": "execute_result"
    }
   ],
   "source": [
    "good_req.head(5)"
   ]
  },
  {
   "cell_type": "code",
   "execution_count": 142,
   "metadata": {},
   "outputs": [
    {
     "data": {
      "text/plain": [
       "2486"
      ]
     },
     "execution_count": 142,
     "metadata": {},
     "output_type": "execute_result"
    }
   ],
   "source": [
    "len(l_cul_nan)"
   ]
  },
  {
   "cell_type": "code",
   "execution_count": 143,
   "metadata": {},
   "outputs": [
    {
     "name": "stdout",
     "output_type": "stream",
     "text": [
      "Skipping non-English: It nice apps but glti sy koi pic send ho jaa hai or vaps delete krni hai dono side sy to nhi ho rhi hai so..!\n",
      "Skipping non-English: Bien pratique !\n",
      "Skipping non-English: J'adore cette apps\n",
      "Skipping indeterminate category review: I have found the app very useful in helping me track my diet and travel on a (fairly) healthy road\n",
      "Skipping non-English: WoW Instagram ses super ?t même quand ta pas le réseau tu à droit à ta page d'accueil\n",
      "Skipping non-English: Szybki update, czytelna, bardzo pomocna i bardziej aktualna od navi np z Google czy Apple\n",
      "Skipping non-English: La version premium vaut la peine. Je trouve ça génial !\n",
      "Skipping non-English: Superbe pour l'Ã©change d'idÃ©es !\n",
      "Skipping non-English: Il est ou la traduction wtf disparu merci mise a jour de ?\n",
      "Skipping non-English: Merecedor de 4 estrelas, só não ganha 5 por causa das propagandas inúteis.\n",
      "Skipping non-English: Gros irritant, les vidéos devraient se lancer sur demande pas sur affichage.\n",
      "Skipping non-English: J'adore\n",
      "Skipping non-English: Mais j'aimerais bien que tout soit en français car les aliments son toujours en anglais\n",
      "Skipping non-English: Très pratique et assez précis �\n",
      "Skipping non-English: Je ne peux ni ajouter, ni supprimer mes photos :-(\n",
      "Skipping non-English: Fameux\n",
      "Skipping non-English: Très fonctionnelle et très précis \n",
      " Il ne faut pas sans passer\n",
      "Skipping non-English: Il est oncin\n"
     ]
    },
    {
     "data": {
      "text/plain": [
       "2468"
      ]
     },
     "execution_count": 143,
     "metadata": {},
     "output_type": "execute_result"
    }
   ],
   "source": [
    "## First we collapse all the columns in 'l_cul_nan' to be the same as 'l_req_nan'\n",
    "l_cul = {\n",
    "    'id' : [],\n",
    "    'country' : [],\n",
    "    'score' : [],\n",
    "    'topic' : [],\n",
    "    'review' : [],\n",
    "    'category' : [],\n",
    "    'sentiment' : []\n",
    "}\n",
    "\n",
    "for index, row in l_cul_nan.iterrows():\n",
    "    if row['NotEnglish'] == 1:\n",
    "        print(f\"Skipping non-English: {row['review_text']}\")\n",
    "        continue\n",
    "    \n",
    "    required_cols = ['isFeatureShortcoming', 'isFeatureStrength', 'isFeatureRequest',\n",
    "                    'isUsageScenario', 'isNoise', 'isBugReport', 'isGeneralComplaint',\n",
    "                    'isOther', 'isGeneralPraise']\n",
    "    col_counter = 0\n",
    "    for col in required_cols:\n",
    "        if row[col] == 0:\n",
    "            col_counter+=1\n",
    "    if col_counter == 9:\n",
    "        print(f\"Skipping indeterminate category review: {row['review_text']}\")\n",
    "        continue\n",
    "        # otherwise, we knot it had a '1' for at least one column, that's all we need to make a decision\n",
    "    \n",
    "    if row['isNoise'] == 1:\n",
    "        l_cul['category'].append(\"noise\")\n",
    "    elif row['isFeatureStrength'] == 1 or row['isUsageScenario'] == 1 or row['isFeatureRequest']:\n",
    "        l_cul['category'].append(\"requirement\")\n",
    "    elif row['isBugReport'] == 1 or row['isFeatureShortcoming'] == 1:\n",
    "        l_cul['category'].append(\"bug report\")\n",
    "    elif row['isOther'] == 1 or row['isGeneralPraise'] == 1 or row['isGeneralComplaint'] == 1:\n",
    "        l_cul['category'].append(\"other\")\n",
    "    else:\n",
    "        print(f\"Couldn't figure out category for {row}\")\n",
    "        l_cul['category'].append(\"NA\")\n",
    "    \n",
    "    l_cul['id'].append(index)\n",
    "    l_cul['country'].append(row['country'])\n",
    "    l_cul['score'].append(row['score'])\n",
    "    l_cul['topic'].append(row['topic'])\n",
    "    l_cul['review'].append(row['review_text'])\n",
    "    \n",
    "    s = row['sentimentScore']\n",
    "    if s == -1 or s == -2:\n",
    "        l_cul['sentiment'].append('negative')\n",
    "    elif s == 0:\n",
    "        l_cul['sentiment'].append('neutral')\n",
    "    elif s == 1 or s == 2:\n",
    "        l_cul['sentiment'].append('positive')\n",
    "    else:\n",
    "        print(f\"Couldn't figure out sentiment for {row}\")\n",
    "        l_cul['sentiment'].append(\"NA\")\n",
    "\n",
    "good_cul = pd.DataFrame.from_dict(l_cul)\n",
    "good_cul.index = good_cul['id']\n",
    "good_cul = good_cul.drop('id', axis=1)\n",
    "len(good_cul)"
   ]
  },
  {
   "cell_type": "code",
   "execution_count": 144,
   "metadata": {},
   "outputs": [
    {
     "data": {
      "text/html": [
       "<div>\n",
       "<style scoped>\n",
       "    .dataframe tbody tr th:only-of-type {\n",
       "        vertical-align: middle;\n",
       "    }\n",
       "\n",
       "    .dataframe tbody tr th {\n",
       "        vertical-align: top;\n",
       "    }\n",
       "\n",
       "    .dataframe thead th {\n",
       "        text-align: right;\n",
       "    }\n",
       "</style>\n",
       "<table border=\"1\" class=\"dataframe\">\n",
       "  <thead>\n",
       "    <tr style=\"text-align: right;\">\n",
       "      <th></th>\n",
       "      <th>country</th>\n",
       "      <th>score</th>\n",
       "      <th>topic</th>\n",
       "      <th>review</th>\n",
       "      <th>category</th>\n",
       "      <th>sentiment</th>\n",
       "    </tr>\n",
       "    <tr>\n",
       "      <th>id</th>\n",
       "      <th></th>\n",
       "      <th></th>\n",
       "      <th></th>\n",
       "      <th></th>\n",
       "      <th></th>\n",
       "      <th></th>\n",
       "    </tr>\n",
       "  </thead>\n",
       "  <tbody>\n",
       "    <tr>\n",
       "      <th>1</th>\n",
       "      <td>Singapore</td>\n",
       "      <td>5</td>\n",
       "      <td>Nice</td>\n",
       "      <td>It's helpful for all communication</td>\n",
       "      <td>other</td>\n",
       "      <td>positive</td>\n",
       "    </tr>\n",
       "    <tr>\n",
       "      <th>2</th>\n",
       "      <td>United States</td>\n",
       "      <td>3</td>\n",
       "      <td>Chronological Order</td>\n",
       "      <td>PLEASE GO BACK TO CHRONOLOGICAL ORDER ON THE T...</td>\n",
       "      <td>requirement</td>\n",
       "      <td>neutral</td>\n",
       "    </tr>\n",
       "    <tr>\n",
       "      <th>3</th>\n",
       "      <td>Australia</td>\n",
       "      <td>5</td>\n",
       "      <td>Great time saver</td>\n",
       "      <td>Highly recommend</td>\n",
       "      <td>other</td>\n",
       "      <td>positive</td>\n",
       "    </tr>\n",
       "    <tr>\n",
       "      <th>4</th>\n",
       "      <td>South Africa</td>\n",
       "      <td>5</td>\n",
       "      <td>Instagram App of the best I've used</td>\n",
       "      <td>Works every time, all the time. Easy to use, p...</td>\n",
       "      <td>requirement</td>\n",
       "      <td>positive</td>\n",
       "    </tr>\n",
       "    <tr>\n",
       "      <th>5</th>\n",
       "      <td>Singapore</td>\n",
       "      <td>1</td>\n",
       "      <td>No response for multiple photo upload</td>\n",
       "      <td>After many times I have tried, there still hav...</td>\n",
       "      <td>bug report</td>\n",
       "      <td>neutral</td>\n",
       "    </tr>\n",
       "  </tbody>\n",
       "</table>\n",
       "</div>"
      ],
      "text/plain": [
       "          country  score                                  topic  \\\n",
       "id                                                                \n",
       "1       Singapore      5                                   Nice   \n",
       "2   United States      3                    Chronological Order   \n",
       "3       Australia      5                       Great time saver   \n",
       "4    South Africa      5    Instagram App of the best I've used   \n",
       "5       Singapore      1  No response for multiple photo upload   \n",
       "\n",
       "                                               review     category sentiment  \n",
       "id                                                                            \n",
       "1                  It's helpful for all communication        other  positive  \n",
       "2   PLEASE GO BACK TO CHRONOLOGICAL ORDER ON THE T...  requirement   neutral  \n",
       "3                                    Highly recommend        other  positive  \n",
       "4   Works every time, all the time. Easy to use, p...  requirement  positive  \n",
       "5   After many times I have tried, there still hav...   bug report   neutral  "
      ]
     },
     "execution_count": 144,
     "metadata": {},
     "output_type": "execute_result"
    }
   ],
   "source": [
    "good_cul.head(5)"
   ]
  },
  {
   "cell_type": "code",
   "execution_count": 162,
   "metadata": {},
   "outputs": [
    {
     "name": "stdout",
     "output_type": "stream",
     "text": [
      "2967 2468\n"
     ]
    }
   ],
   "source": [
    "print(len(good_req), len(good_cul))"
   ]
  },
  {
   "cell_type": "markdown",
   "metadata": {},
   "source": [
    "# LOWERCASE LABELS (5-class to 3-class, etc.)"
   ]
  },
  {
   "cell_type": "code",
   "execution_count": 163,
   "metadata": {},
   "outputs": [
    {
     "data": {
      "text/plain": [
       "array(['other', 'requirement', 'bug report', 'noise'], dtype=object)"
      ]
     },
     "execution_count": 163,
     "metadata": {},
     "output_type": "execute_result"
    }
   ],
   "source": [
    "good_cul.category.unique()"
   ]
  },
  {
   "cell_type": "code",
   "execution_count": 170,
   "metadata": {},
   "outputs": [
    {
     "data": {
      "text/plain": [
       "array(['positive', 'neutral', 'negative'], dtype=object)"
      ]
     },
     "execution_count": 170,
     "metadata": {},
     "output_type": "execute_result"
    }
   ],
   "source": [
    "good_cul.sentiment.unique()"
   ]
  },
  {
   "cell_type": "code",
   "execution_count": 164,
   "metadata": {},
   "outputs": [
    {
     "data": {
      "text/plain": [
       "array(['requirement', 'other', 'bug report', 'noise', 'Requirement',\n",
       "       'Bug Report', 'Other', 'Noise'], dtype=object)"
      ]
     },
     "execution_count": 164,
     "metadata": {},
     "output_type": "execute_result"
    }
   ],
   "source": [
    "good_req.category.unique()"
   ]
  },
  {
   "cell_type": "code",
   "execution_count": 171,
   "metadata": {},
   "outputs": [
    {
     "data": {
      "text/plain": [
       "array(['neutral', 'very negative', 'negative', 'positive', nan,\n",
       "       'very positive', 'Neutral', 'Negative', 'Positive',\n",
       "       'Very positive', 'Very Positive', 'postive', 'positve',\n",
       "       'Very Negative'], dtype=object)"
      ]
     },
     "execution_count": 171,
     "metadata": {},
     "output_type": "execute_result"
    }
   ],
   "source": [
    "good_req.sentiment.unique()"
   ]
  },
  {
   "cell_type": "code",
   "execution_count": 168,
   "metadata": {},
   "outputs": [],
   "source": [
    "SENTIMENT_CLASSES = 3\n",
    "\n",
    "def collapse_sentiment_labels(labels):\n",
    "    if SENTIMENT_CLASSES == 3:\n",
    "        pos = ['positive', 'positve', 'postive', 'very positive']\n",
    "        neg = ['negative', 'very negative']\n",
    "        neu = ['neutral']\n",
    "        \n",
    "    elif SENTIMENT_CLASSES == 5:\n",
    "        pos = ['positive', 'positve', 'postive']\n",
    "        neg = ['negative']\n",
    "        neu = ['neutral']\n",
    "    \n",
    "    new_labels = []\n",
    "\n",
    "    for label in labels:\n",
    "        label = label.lower()\n",
    "        if label in pos:\n",
    "            label = \"positive\"\n",
    "        elif label in neg:\n",
    "            label = \"negative\"\n",
    "        elif label in neu:\n",
    "            label = \"neutral\"\n",
    "        new_labels.append(label)\n",
    "    return pd.Series(new_labels)\n",
    "\n",
    "def collapse_category_labels(labels):\n",
    "    new_labels = []\n",
    "    req = ['requirement', 'Requirement']\n",
    "    oth = ['Other', 'other']\n",
    "    bug = ['bug report', 'Bug report']\n",
    "    noi = ['noise', 'Noise']\n",
    "    for label in labels:\n",
    "        label = label.lower()\n",
    "        if label in req:\n",
    "            new_labels.append('requirement')\n",
    "        elif label in oth:\n",
    "            new_labels.append('other')\n",
    "        elif label in bug:\n",
    "            new_labels.append('bug report')\n",
    "        elif label in noi:\n",
    "            new_labels.append('noise')\n",
    "    return pd.Series(new_labels)"
   ]
  },
  {
   "cell_type": "code",
   "execution_count": 169,
   "metadata": {},
   "outputs": [
    {
     "data": {
      "text/plain": [
       "array(['requirement', 'other', 'bug report', 'noise'], dtype=object)"
      ]
     },
     "execution_count": 169,
     "metadata": {},
     "output_type": "execute_result"
    }
   ],
   "source": [
    "collapse_category_labels(good_req.category).unique()"
   ]
  },
  {
   "cell_type": "code",
   "execution_count": 174,
   "metadata": {},
   "outputs": [
    {
     "data": {
      "text/plain": [
       "2967"
      ]
     },
     "execution_count": 174,
     "metadata": {},
     "output_type": "execute_result"
    }
   ],
   "source": [
    "len(good_req.sentiment)"
   ]
  },
  {
   "cell_type": "code",
   "execution_count": 191,
   "metadata": {},
   "outputs": [
    {
     "name": "stdout",
     "output_type": "stream",
     "text": [
      "Found 201 NaN labels\n",
      "Found 0 NaN labels\n"
     ]
    }
   ],
   "source": [
    "def check_invalid(labels):\n",
    "    count = 0\n",
    "    for l in labels:\n",
    "        if type(l) != str or l == \"NA\":\n",
    "            count += 1\n",
    "    print(f\"Found {count} NaN labels\")\n",
    "            \n",
    "check_invalid(good_req.sentiment)\n",
    "check_invalid(good_req.category)"
   ]
  },
  {
   "cell_type": "code",
   "execution_count": 192,
   "metadata": {},
   "outputs": [
    {
     "data": {
      "text/plain": [
       "2591"
      ]
     },
     "execution_count": 192,
     "metadata": {},
     "output_type": "execute_result"
    }
   ],
   "source": [
    "good_req = good_req.dropna(subset=['sentiment'])\n",
    "len(good_req.sentiment)"
   ]
  },
  {
   "cell_type": "code",
   "execution_count": 180,
   "metadata": {},
   "outputs": [
    {
     "data": {
      "text/plain": [
       "175"
      ]
     },
     "execution_count": 180,
     "metadata": {},
     "output_type": "execute_result"
    }
   ],
   "source": [
    "2967 - 2792"
   ]
  },
  {
   "cell_type": "code",
   "execution_count": 185,
   "metadata": {},
   "outputs": [
    {
     "ename": "AttributeError",
     "evalue": "'float' object has no attribute 'lower'",
     "output_type": "error",
     "traceback": [
      "\u001b[0;31m---------------------------------------------------------------------------\u001b[0m",
      "\u001b[0;31mAttributeError\u001b[0m                            Traceback (most recent call last)",
      "\u001b[0;32m<ipython-input-185-515231356dce>\u001b[0m in \u001b[0;36m<module>\u001b[0;34m\u001b[0m\n\u001b[0;32m----> 1\u001b[0;31m \u001b[0mgood_req\u001b[0m\u001b[0;34m.\u001b[0m\u001b[0msentiment\u001b[0m \u001b[0;34m=\u001b[0m \u001b[0mcollapse_sentiment_labels\u001b[0m\u001b[0;34m(\u001b[0m\u001b[0mgood_req\u001b[0m\u001b[0;34m.\u001b[0m\u001b[0msentiment\u001b[0m\u001b[0;34m)\u001b[0m\u001b[0;34m\u001b[0m\u001b[0;34m\u001b[0m\u001b[0m\n\u001b[0m",
      "\u001b[0;32m<ipython-input-168-ee2c5a1c4c0c>\u001b[0m in \u001b[0;36mcollapse_sentiment_labels\u001b[0;34m(labels)\u001b[0m\n\u001b[1;32m     15\u001b[0m \u001b[0;34m\u001b[0m\u001b[0m\n\u001b[1;32m     16\u001b[0m     \u001b[0;32mfor\u001b[0m \u001b[0mlabel\u001b[0m \u001b[0;32min\u001b[0m \u001b[0mlabels\u001b[0m\u001b[0;34m:\u001b[0m\u001b[0;34m\u001b[0m\u001b[0;34m\u001b[0m\u001b[0m\n\u001b[0;32m---> 17\u001b[0;31m         \u001b[0mlabel\u001b[0m \u001b[0;34m=\u001b[0m \u001b[0mlabel\u001b[0m\u001b[0;34m.\u001b[0m\u001b[0mlower\u001b[0m\u001b[0;34m(\u001b[0m\u001b[0;34m)\u001b[0m\u001b[0;34m\u001b[0m\u001b[0;34m\u001b[0m\u001b[0m\n\u001b[0m\u001b[1;32m     18\u001b[0m         \u001b[0;32mif\u001b[0m \u001b[0mlabel\u001b[0m \u001b[0;32min\u001b[0m \u001b[0mpos\u001b[0m\u001b[0;34m:\u001b[0m\u001b[0;34m\u001b[0m\u001b[0;34m\u001b[0m\u001b[0m\n\u001b[1;32m     19\u001b[0m             \u001b[0mlabel\u001b[0m \u001b[0;34m=\u001b[0m \u001b[0;34m\"positive\"\u001b[0m\u001b[0;34m\u001b[0m\u001b[0;34m\u001b[0m\u001b[0m\n",
      "\u001b[0;31mAttributeError\u001b[0m: 'float' object has no attribute 'lower'"
     ]
    }
   ],
   "source": [
    "good_req.sentiment = collapse_sentiment_labels(good_req.sentiment)"
   ]
  },
  {
   "cell_type": "code",
   "execution_count": 186,
   "metadata": {},
   "outputs": [
    {
     "data": {
      "text/html": [
       "<div>\n",
       "<style scoped>\n",
       "    .dataframe tbody tr th:only-of-type {\n",
       "        vertical-align: middle;\n",
       "    }\n",
       "\n",
       "    .dataframe tbody tr th {\n",
       "        vertical-align: top;\n",
       "    }\n",
       "\n",
       "    .dataframe thead th {\n",
       "        text-align: right;\n",
       "    }\n",
       "</style>\n",
       "<table border=\"1\" class=\"dataframe\">\n",
       "  <thead>\n",
       "    <tr style=\"text-align: right;\">\n",
       "      <th></th>\n",
       "      <th>country</th>\n",
       "      <th>score</th>\n",
       "      <th>topic</th>\n",
       "      <th>review</th>\n",
       "      <th>category</th>\n",
       "      <th>sentiment</th>\n",
       "    </tr>\n",
       "  </thead>\n",
       "  <tbody>\n",
       "    <tr>\n",
       "      <th>0</th>\n",
       "      <td>United States</td>\n",
       "      <td>1</td>\n",
       "      <td>Notifications not showing up</td>\n",
       "      <td>The notification badges are showing up on my i...</td>\n",
       "      <td>requirement</td>\n",
       "      <td>neutral</td>\n",
       "    </tr>\n",
       "    <tr>\n",
       "      <th>1</th>\n",
       "      <td>United States</td>\n",
       "      <td>1</td>\n",
       "      <td>Hate it!</td>\n",
       "      <td>Why do they make changes we don't need? Now th...</td>\n",
       "      <td>other</td>\n",
       "      <td>negative</td>\n",
       "    </tr>\n",
       "    <tr>\n",
       "      <th>2</th>\n",
       "      <td>Hong Kong</td>\n",
       "      <td>1</td>\n",
       "      <td>Useless function n poor experience</td>\n",
       "      <td>Story is useless n annoying to user. \\nCan't s...</td>\n",
       "      <td>other</td>\n",
       "      <td>negative</td>\n",
       "    </tr>\n",
       "    <tr>\n",
       "      <th>3</th>\n",
       "      <td>United Kingdom</td>\n",
       "      <td>1</td>\n",
       "      <td>To many updates!</td>\n",
       "      <td>This app is always having an update for someth...</td>\n",
       "      <td>requirement</td>\n",
       "      <td>negative</td>\n",
       "    </tr>\n",
       "    <tr>\n",
       "      <th>4</th>\n",
       "      <td>United Kingdom</td>\n",
       "      <td>1</td>\n",
       "      <td>Photo albums</td>\n",
       "      <td>Just spent an hour trying to upload photos and...</td>\n",
       "      <td>requirement</td>\n",
       "      <td>negative</td>\n",
       "    </tr>\n",
       "  </tbody>\n",
       "</table>\n",
       "</div>"
      ],
      "text/plain": [
       "          country  score                               topic  \\\n",
       "0   United States      1        Notifications not showing up   \n",
       "1   United States      1                            Hate it!   \n",
       "2       Hong Kong      1  Useless function n poor experience   \n",
       "3  United Kingdom      1                    To many updates!   \n",
       "4  United Kingdom      1                        Photo albums   \n",
       "\n",
       "                                              review     category sentiment  \n",
       "0  The notification badges are showing up on my i...  requirement   neutral  \n",
       "1  Why do they make changes we don't need? Now th...        other  negative  \n",
       "2  Story is useless n annoying to user. \\nCan't s...        other  negative  \n",
       "3  This app is always having an update for someth...  requirement  negative  \n",
       "4  Just spent an hour trying to upload photos and...  requirement  negative  "
      ]
     },
     "execution_count": 186,
     "metadata": {},
     "output_type": "execute_result"
    }
   ],
   "source": [
    "good_req.head(5)"
   ]
  },
  {
   "cell_type": "code",
   "execution_count": 187,
   "metadata": {},
   "outputs": [
    {
     "data": {
      "text/html": [
       "<div>\n",
       "<style scoped>\n",
       "    .dataframe tbody tr th:only-of-type {\n",
       "        vertical-align: middle;\n",
       "    }\n",
       "\n",
       "    .dataframe tbody tr th {\n",
       "        vertical-align: top;\n",
       "    }\n",
       "\n",
       "    .dataframe thead th {\n",
       "        text-align: right;\n",
       "    }\n",
       "</style>\n",
       "<table border=\"1\" class=\"dataframe\">\n",
       "  <thead>\n",
       "    <tr style=\"text-align: right;\">\n",
       "      <th></th>\n",
       "      <th>country</th>\n",
       "      <th>score</th>\n",
       "      <th>topic</th>\n",
       "      <th>review</th>\n",
       "      <th>category</th>\n",
       "      <th>sentiment</th>\n",
       "    </tr>\n",
       "    <tr>\n",
       "      <th>id</th>\n",
       "      <th></th>\n",
       "      <th></th>\n",
       "      <th></th>\n",
       "      <th></th>\n",
       "      <th></th>\n",
       "      <th></th>\n",
       "    </tr>\n",
       "  </thead>\n",
       "  <tbody>\n",
       "    <tr>\n",
       "      <th>1</th>\n",
       "      <td>Singapore</td>\n",
       "      <td>5</td>\n",
       "      <td>Nice</td>\n",
       "      <td>It's helpful for all communication</td>\n",
       "      <td>other</td>\n",
       "      <td>positive</td>\n",
       "    </tr>\n",
       "    <tr>\n",
       "      <th>2</th>\n",
       "      <td>United States</td>\n",
       "      <td>3</td>\n",
       "      <td>Chronological Order</td>\n",
       "      <td>PLEASE GO BACK TO CHRONOLOGICAL ORDER ON THE T...</td>\n",
       "      <td>requirement</td>\n",
       "      <td>neutral</td>\n",
       "    </tr>\n",
       "    <tr>\n",
       "      <th>3</th>\n",
       "      <td>Australia</td>\n",
       "      <td>5</td>\n",
       "      <td>Great time saver</td>\n",
       "      <td>Highly recommend</td>\n",
       "      <td>other</td>\n",
       "      <td>positive</td>\n",
       "    </tr>\n",
       "    <tr>\n",
       "      <th>4</th>\n",
       "      <td>South Africa</td>\n",
       "      <td>5</td>\n",
       "      <td>Instagram App of the best I've used</td>\n",
       "      <td>Works every time, all the time. Easy to use, p...</td>\n",
       "      <td>requirement</td>\n",
       "      <td>positive</td>\n",
       "    </tr>\n",
       "    <tr>\n",
       "      <th>5</th>\n",
       "      <td>Singapore</td>\n",
       "      <td>1</td>\n",
       "      <td>No response for multiple photo upload</td>\n",
       "      <td>After many times I have tried, there still hav...</td>\n",
       "      <td>bug report</td>\n",
       "      <td>neutral</td>\n",
       "    </tr>\n",
       "  </tbody>\n",
       "</table>\n",
       "</div>"
      ],
      "text/plain": [
       "          country  score                                  topic  \\\n",
       "id                                                                \n",
       "1       Singapore      5                                   Nice   \n",
       "2   United States      3                    Chronological Order   \n",
       "3       Australia      5                       Great time saver   \n",
       "4    South Africa      5    Instagram App of the best I've used   \n",
       "5       Singapore      1  No response for multiple photo upload   \n",
       "\n",
       "                                               review     category sentiment  \n",
       "id                                                                            \n",
       "1                  It's helpful for all communication        other  positive  \n",
       "2   PLEASE GO BACK TO CHRONOLOGICAL ORDER ON THE T...  requirement   neutral  \n",
       "3                                    Highly recommend        other  positive  \n",
       "4   Works every time, all the time. Easy to use, p...  requirement  positive  \n",
       "5   After many times I have tried, there still hav...   bug report   neutral  "
      ]
     },
     "execution_count": 187,
     "metadata": {},
     "output_type": "execute_result"
    }
   ],
   "source": [
    "good_cul.head(5)"
   ]
  },
  {
   "cell_type": "markdown",
   "metadata": {},
   "source": [
    "# MAKE IDENTICAL DATAFRAME STRUCTURE"
   ]
  },
  {
   "cell_type": "code",
   "execution_count": 194,
   "metadata": {},
   "outputs": [
    {
     "name": "stdout",
     "output_type": "stream",
     "text": [
      "<class 'pandas.core.frame.DataFrame'>\n",
      "Int64Index: 2591 entries, 0 to 2791\n",
      "Data columns (total 6 columns):\n",
      "country      2591 non-null object\n",
      "score        2591 non-null int64\n",
      "topic        2591 non-null object\n",
      "review       2591 non-null object\n",
      "category     2591 non-null object\n",
      "sentiment    2591 non-null object\n",
      "dtypes: int64(1), object(5)\n",
      "memory usage: 141.7+ KB\n"
     ]
    }
   ],
   "source": [
    "good_req.info()"
   ]
  },
  {
   "cell_type": "code",
   "execution_count": 189,
   "metadata": {},
   "outputs": [
    {
     "name": "stdout",
     "output_type": "stream",
     "text": [
      "<class 'pandas.core.frame.DataFrame'>\n",
      "Int64Index: 2468 entries, 1 to 5\n",
      "Data columns (total 6 columns):\n",
      "country      2468 non-null object\n",
      "score        2468 non-null int64\n",
      "topic        2468 non-null object\n",
      "review       2468 non-null object\n",
      "category     2468 non-null object\n",
      "sentiment    2468 non-null object\n",
      "dtypes: int64(1), object(5)\n",
      "memory usage: 135.0+ KB\n"
     ]
    }
   ],
   "source": [
    "good_cul.info()"
   ]
  },
  {
   "cell_type": "code",
   "execution_count": 195,
   "metadata": {},
   "outputs": [
    {
     "data": {
      "text/plain": [
       "5059"
      ]
     },
     "execution_count": 195,
     "metadata": {},
     "output_type": "execute_result"
    }
   ],
   "source": [
    "frames = [good_cul, good_req]\n",
    "result = pd.concat(frames)\n",
    "len(result)"
   ]
  },
  {
   "cell_type": "code",
   "execution_count": 196,
   "metadata": {},
   "outputs": [
    {
     "data": {
      "text/html": [
       "<div>\n",
       "<style scoped>\n",
       "    .dataframe tbody tr th:only-of-type {\n",
       "        vertical-align: middle;\n",
       "    }\n",
       "\n",
       "    .dataframe tbody tr th {\n",
       "        vertical-align: top;\n",
       "    }\n",
       "\n",
       "    .dataframe thead th {\n",
       "        text-align: right;\n",
       "    }\n",
       "</style>\n",
       "<table border=\"1\" class=\"dataframe\">\n",
       "  <thead>\n",
       "    <tr style=\"text-align: right;\">\n",
       "      <th></th>\n",
       "      <th>country</th>\n",
       "      <th>score</th>\n",
       "      <th>topic</th>\n",
       "      <th>review</th>\n",
       "      <th>category</th>\n",
       "      <th>sentiment</th>\n",
       "    </tr>\n",
       "  </thead>\n",
       "  <tbody>\n",
       "    <tr>\n",
       "      <th>1</th>\n",
       "      <td>Singapore</td>\n",
       "      <td>5</td>\n",
       "      <td>Nice</td>\n",
       "      <td>It's helpful for all communication</td>\n",
       "      <td>other</td>\n",
       "      <td>positive</td>\n",
       "    </tr>\n",
       "    <tr>\n",
       "      <th>2</th>\n",
       "      <td>United States</td>\n",
       "      <td>3</td>\n",
       "      <td>Chronological Order</td>\n",
       "      <td>PLEASE GO BACK TO CHRONOLOGICAL ORDER ON THE T...</td>\n",
       "      <td>requirement</td>\n",
       "      <td>neutral</td>\n",
       "    </tr>\n",
       "    <tr>\n",
       "      <th>3</th>\n",
       "      <td>Australia</td>\n",
       "      <td>5</td>\n",
       "      <td>Great time saver</td>\n",
       "      <td>Highly recommend</td>\n",
       "      <td>other</td>\n",
       "      <td>positive</td>\n",
       "    </tr>\n",
       "    <tr>\n",
       "      <th>4</th>\n",
       "      <td>South Africa</td>\n",
       "      <td>5</td>\n",
       "      <td>Instagram App of the best I've used</td>\n",
       "      <td>Works every time, all the time. Easy to use, p...</td>\n",
       "      <td>requirement</td>\n",
       "      <td>positive</td>\n",
       "    </tr>\n",
       "    <tr>\n",
       "      <th>5</th>\n",
       "      <td>Singapore</td>\n",
       "      <td>1</td>\n",
       "      <td>No response for multiple photo upload</td>\n",
       "      <td>After many times I have tried, there still hav...</td>\n",
       "      <td>bug report</td>\n",
       "      <td>neutral</td>\n",
       "    </tr>\n",
       "    <tr>\n",
       "      <th>6</th>\n",
       "      <td>United Kingdom</td>\n",
       "      <td>5</td>\n",
       "      <td>Fantastic - beats all other sat navs I have used</td>\n",
       "      <td>Great, I use it daily and find it great for pl...</td>\n",
       "      <td>other</td>\n",
       "      <td>positive</td>\n",
       "    </tr>\n",
       "    <tr>\n",
       "      <th>7</th>\n",
       "      <td>Australia</td>\n",
       "      <td>4</td>\n",
       "      <td>#feedalgorithmsucks</td>\n",
       "      <td>Love the filters, hate the non-chronological f...</td>\n",
       "      <td>requirement</td>\n",
       "      <td>neutral</td>\n",
       "    </tr>\n",
       "    <tr>\n",
       "      <th>8</th>\n",
       "      <td>Canada</td>\n",
       "      <td>1</td>\n",
       "      <td>It's not working</td>\n",
       "      <td>Every time I open the app it says couldn't ref...</td>\n",
       "      <td>bug report</td>\n",
       "      <td>neutral</td>\n",
       "    </tr>\n",
       "    <tr>\n",
       "      <th>9</th>\n",
       "      <td>United Kingdom</td>\n",
       "      <td>1</td>\n",
       "      <td>WTF!!!!</td>\n",
       "      <td>You can't even call this an app, it's the bigg...</td>\n",
       "      <td>bug report</td>\n",
       "      <td>negative</td>\n",
       "    </tr>\n",
       "    <tr>\n",
       "      <th>10</th>\n",
       "      <td>United Kingdom</td>\n",
       "      <td>1</td>\n",
       "      <td>Newsfeed</td>\n",
       "      <td>Showing posts from weeks ago and can't get it ...</td>\n",
       "      <td>bug report</td>\n",
       "      <td>neutral</td>\n",
       "    </tr>\n",
       "  </tbody>\n",
       "</table>\n",
       "</div>"
      ],
      "text/plain": [
       "           country  score                                             topic  \\\n",
       "1        Singapore      5                                              Nice   \n",
       "2    United States      3                               Chronological Order   \n",
       "3        Australia      5                                  Great time saver   \n",
       "4     South Africa      5               Instagram App of the best I've used   \n",
       "5        Singapore      1             No response for multiple photo upload   \n",
       "6   United Kingdom      5  Fantastic - beats all other sat navs I have used   \n",
       "7        Australia      4                               #feedalgorithmsucks   \n",
       "8           Canada      1                                  It's not working   \n",
       "9   United Kingdom      1                                           WTF!!!!   \n",
       "10  United Kingdom      1                                          Newsfeed   \n",
       "\n",
       "                                               review     category sentiment  \n",
       "1                  It's helpful for all communication        other  positive  \n",
       "2   PLEASE GO BACK TO CHRONOLOGICAL ORDER ON THE T...  requirement   neutral  \n",
       "3                                    Highly recommend        other  positive  \n",
       "4   Works every time, all the time. Easy to use, p...  requirement  positive  \n",
       "5   After many times I have tried, there still hav...   bug report   neutral  \n",
       "6   Great, I use it daily and find it great for pl...        other  positive  \n",
       "7   Love the filters, hate the non-chronological f...  requirement   neutral  \n",
       "8   Every time I open the app it says couldn't ref...   bug report   neutral  \n",
       "9   You can't even call this an app, it's the bigg...   bug report  negative  \n",
       "10  Showing posts from weeks ago and can't get it ...   bug report   neutral  "
      ]
     },
     "execution_count": 196,
     "metadata": {},
     "output_type": "execute_result"
    }
   ],
   "source": [
    "result.head(10)"
   ]
  },
  {
   "cell_type": "code",
   "execution_count": 197,
   "metadata": {},
   "outputs": [],
   "source": [
    "result.to_csv('labels_combined.csv', encoding='utf-8')"
   ]
  },
  {
   "cell_type": "code",
   "execution_count": null,
   "metadata": {},
   "outputs": [],
   "source": []
  }
 ],
 "metadata": {
  "kernelspec": {
   "display_name": "Python 3",
   "language": "python",
   "name": "python3"
  },
  "language_info": {
   "codemirror_mode": {
    "name": "ipython",
    "version": 3
   },
   "file_extension": ".py",
   "mimetype": "text/x-python",
   "name": "python",
   "nbconvert_exporter": "python",
   "pygments_lexer": "ipython3",
   "version": "3.7.5"
  }
 },
 "nbformat": 4,
 "nbformat_minor": 2
}
