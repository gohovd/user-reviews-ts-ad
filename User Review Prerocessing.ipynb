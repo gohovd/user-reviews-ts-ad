{
 "cells": [
  {
   "cell_type": "code",
   "execution_count": 1,
   "metadata": {},
   "outputs": [],
   "source": [
    "import matplotlib.pyplot as plt\n",
    "import matplotlib as mpl\n",
    "import numpy as np\n",
    "import pandas as pd\n",
    "import re\n",
    "import statistics as s\n",
    "from calendar import monthrange"
   ]
  },
  {
   "cell_type": "markdown",
   "metadata": {},
   "source": [
    "# PREPROCESSING\n",
    "* Remove columns where values are predominantly NaN\n",
    "* Remove rows where reviews are not of type str\n",
    "* Remove rows where reviews are less than 4 words\n",
    "* Remove non ASCII reviews\n",
    "* Change representation of 'replyDate' column from date of reply to a boolean (was replied to)"
   ]
  },
  {
   "cell_type": "markdown",
   "metadata": {},
   "source": [
    "# DATA\n",
    "\n",
    "We've selected 4 applications for google.play.com:\n",
    "* Viber\n",
    "* Soundcloud\n",
    "* Reddit\n",
    "* Snapchat"
   ]
  },
  {
   "cell_type": "markdown",
   "metadata": {},
   "source": [
    "### ID's\n",
    "Each application on google.play.com has its own unique identifier, we store this in a dictionary:"
   ]
  },
  {
   "cell_type": "code",
   "execution_count": 2,
   "metadata": {},
   "outputs": [],
   "source": [
    "app_attrs = {\n",
    "    'viber': {\n",
    "        'id': 'com.viber.voip'\n",
    "    }\n",
    "#     'soundcloud': {\n",
    "#         'id': 'com.soundcloud.android'\n",
    "#     },\n",
    "#     'reddit': {\n",
    "#         'id': 'com.reddit.frontpage'\n",
    "#     },\n",
    "#     'snapchat': {\n",
    "#         'id': 'com.snapchat.android'\n",
    "#     }\n",
    "}"
   ]
  },
  {
   "cell_type": "markdown",
   "metadata": {},
   "source": [
    "### STRUCTURE"
   ]
  },
  {
   "cell_type": "code",
   "execution_count": 3,
   "metadata": {},
   "outputs": [],
   "source": [
    "dfs = {} # put all imported data into a \"master\" dataframe"
   ]
  },
  {
   "cell_type": "markdown",
   "metadata": {},
   "source": [
    "### IMPORT"
   ]
  },
  {
   "cell_type": "code",
   "execution_count": 4,
   "metadata": {},
   "outputs": [
    {
     "name": "stdout",
     "output_type": "stream",
     "text": [
      "Importing com.viber.voip\n"
     ]
    },
    {
     "name": "stderr",
     "output_type": "stream",
     "text": [
      "/usr/local/lib/python3.7/site-packages/IPython/core/interactiveshell.py:3058: DtypeWarning: Columns (7) have mixed types. Specify dtype option on import or set low_memory=False.\n",
      "  interactivity=interactivity, compiler=compiler, result=result)\n"
     ]
    },
    {
     "data": {
      "text/html": [
       "<div>\n",
       "<style scoped>\n",
       "    .dataframe tbody tr th:only-of-type {\n",
       "        vertical-align: middle;\n",
       "    }\n",
       "\n",
       "    .dataframe tbody tr th {\n",
       "        vertical-align: top;\n",
       "    }\n",
       "\n",
       "    .dataframe thead th {\n",
       "        text-align: right;\n",
       "    }\n",
       "</style>\n",
       "<table border=\"1\" class=\"dataframe\">\n",
       "  <thead>\n",
       "    <tr style=\"text-align: right;\">\n",
       "      <th></th>\n",
       "      <th>username</th>\n",
       "      <th>rating</th>\n",
       "      <th>title</th>\n",
       "      <th>version</th>\n",
       "      <th>review</th>\n",
       "      <th>likes</th>\n",
       "      <th>replyDate</th>\n",
       "      <th>replyText</th>\n",
       "    </tr>\n",
       "    <tr>\n",
       "      <th>timestamp</th>\n",
       "      <th></th>\n",
       "      <th></th>\n",
       "      <th></th>\n",
       "      <th></th>\n",
       "      <th></th>\n",
       "      <th></th>\n",
       "      <th></th>\n",
       "      <th></th>\n",
       "    </tr>\n",
       "  </thead>\n",
       "  <tbody>\n",
       "    <tr>\n",
       "      <th>2020-05-22 09:40:49.735000+00:00</th>\n",
       "      <td>Ayman Diab</td>\n",
       "      <td>3</td>\n",
       "      <td>NaN</td>\n",
       "      <td>NaN</td>\n",
       "      <td>good but there is way better.</td>\n",
       "      <td>0</td>\n",
       "      <td>NaN</td>\n",
       "      <td>NaN</td>\n",
       "    </tr>\n",
       "    <tr>\n",
       "      <th>2020-05-22 09:11:35.185000+00:00</th>\n",
       "      <td>Mar Peralta</td>\n",
       "      <td>5</td>\n",
       "      <td>NaN</td>\n",
       "      <td>NaN</td>\n",
       "      <td>Wonderful</td>\n",
       "      <td>0</td>\n",
       "      <td>NaN</td>\n",
       "      <td>NaN</td>\n",
       "    </tr>\n",
       "    <tr>\n",
       "      <th>2020-05-22 09:03:35.591000+00:00</th>\n",
       "      <td>Khum Kumari Grg</td>\n",
       "      <td>5</td>\n",
       "      <td>NaN</td>\n",
       "      <td>NaN</td>\n",
       "      <td>I can contact my relatives</td>\n",
       "      <td>0</td>\n",
       "      <td>NaN</td>\n",
       "      <td>NaN</td>\n",
       "    </tr>\n",
       "    <tr>\n",
       "      <th>2020-05-22 08:58:10.984000+00:00</th>\n",
       "      <td>Ana Peichl</td>\n",
       "      <td>1</td>\n",
       "      <td>NaN</td>\n",
       "      <td>NaN</td>\n",
       "      <td>An update sent all my contacts message that I ...</td>\n",
       "      <td>0</td>\n",
       "      <td>NaN</td>\n",
       "      <td>NaN</td>\n",
       "    </tr>\n",
       "    <tr>\n",
       "      <th>2020-05-22 08:48:01.516000+00:00</th>\n",
       "      <td>Aye Chan Myat</td>\n",
       "      <td>5</td>\n",
       "      <td>NaN</td>\n",
       "      <td>NaN</td>\n",
       "      <td>application is very useful</td>\n",
       "      <td>0</td>\n",
       "      <td>NaN</td>\n",
       "      <td>NaN</td>\n",
       "    </tr>\n",
       "  </tbody>\n",
       "</table>\n",
       "</div>"
      ],
      "text/plain": [
       "                                         username  rating  title  version  \\\n",
       "timestamp                                                                   \n",
       "2020-05-22 09:40:49.735000+00:00       Ayman Diab       3    NaN      NaN   \n",
       "2020-05-22 09:11:35.185000+00:00      Mar Peralta       5    NaN      NaN   \n",
       "2020-05-22 09:03:35.591000+00:00  Khum Kumari Grg       5    NaN      NaN   \n",
       "2020-05-22 08:58:10.984000+00:00       Ana Peichl       1    NaN      NaN   \n",
       "2020-05-22 08:48:01.516000+00:00    Aye Chan Myat       5    NaN      NaN   \n",
       "\n",
       "                                                                             review  \\\n",
       "timestamp                                                                             \n",
       "2020-05-22 09:40:49.735000+00:00                      good but there is way better.   \n",
       "2020-05-22 09:11:35.185000+00:00                                          Wonderful   \n",
       "2020-05-22 09:03:35.591000+00:00                         I can contact my relatives   \n",
       "2020-05-22 08:58:10.984000+00:00  An update sent all my contacts message that I ...   \n",
       "2020-05-22 08:48:01.516000+00:00                         application is very useful   \n",
       "\n",
       "                                  likes replyDate  replyText  \n",
       "timestamp                                                     \n",
       "2020-05-22 09:40:49.735000+00:00      0       NaN        NaN  \n",
       "2020-05-22 09:11:35.185000+00:00      0       NaN        NaN  \n",
       "2020-05-22 09:03:35.591000+00:00      0       NaN        NaN  \n",
       "2020-05-22 08:58:10.984000+00:00      0       NaN        NaN  \n",
       "2020-05-22 08:48:01.516000+00:00      0       NaN        NaN  "
      ]
     },
     "execution_count": 4,
     "metadata": {},
     "output_type": "execute_result"
    }
   ],
   "source": [
    "year = '2019' # take user reviews from the year 2019 only\n",
    "\n",
    "for k, v in app_attrs.items():\n",
    "    print(f\"Importing {app_attrs[k]['id']}\")\n",
    "    dfs[k] = pd.read_csv(\"data/gplay_reviews_er/\" + app_attrs[k]['id'] + \".csv\",\n",
    "                        index_col=\"timestamp\",\n",
    "                        parse_dates=True)\n",
    "dfs['viber'].head()"
   ]
  },
  {
   "cell_type": "code",
   "execution_count": 5,
   "metadata": {},
   "outputs": [
    {
     "name": "stdout",
     "output_type": "stream",
     "text": [
      "<class 'pandas.core.frame.DataFrame'>\n",
      "DatetimeIndex: 918107 entries, 2020-05-22 09:40:49.735000+00:00 to 2011-07-20 07:05:25.238000+00:00\n",
      "Data columns (total 8 columns):\n",
      "username     918106 non-null object\n",
      "rating       918107 non-null int64\n",
      "title        0 non-null float64\n",
      "version      0 non-null float64\n",
      "review       902353 non-null object\n",
      "likes        918107 non-null int64\n",
      "replyDate    8460 non-null object\n",
      "replyText    0 non-null float64\n",
      "dtypes: float64(3), int64(2), object(3)\n",
      "memory usage: 63.0+ MB\n"
     ]
    }
   ],
   "source": [
    "dfs['viber'].info()"
   ]
  },
  {
   "cell_type": "markdown",
   "metadata": {},
   "source": [
    "The total amount of reviews for this particular dataset (Viber) totals 920K, but we only look at 2019, hence the \"low\" number of reviews.\n",
    "\n",
    "From the info() command we see that we have some NaN values, these rows must be removed.\n",
    "\n",
    "- 10 reviews are NaN (remove NaN rows)\n",
    "- All replyText, title, and version are NaN (drop columns)"
   ]
  },
  {
   "cell_type": "code",
   "execution_count": 6,
   "metadata": {},
   "outputs": [],
   "source": [
    "# remove columns that are NaN\n",
    "def drop_nan_columns(df):\n",
    "    nan_columns = []\n",
    "    for column in df:\n",
    "        if df[str(column)].isnull().sum(axis=0) == len(df):\n",
    "            nan_columns.append(column)\n",
    "    return df.drop(nan_columns, axis=1)    "
   ]
  },
  {
   "cell_type": "code",
   "execution_count": 7,
   "metadata": {},
   "outputs": [
    {
     "data": {
      "text/html": [
       "<div>\n",
       "<style scoped>\n",
       "    .dataframe tbody tr th:only-of-type {\n",
       "        vertical-align: middle;\n",
       "    }\n",
       "\n",
       "    .dataframe tbody tr th {\n",
       "        vertical-align: top;\n",
       "    }\n",
       "\n",
       "    .dataframe thead th {\n",
       "        text-align: right;\n",
       "    }\n",
       "</style>\n",
       "<table border=\"1\" class=\"dataframe\">\n",
       "  <thead>\n",
       "    <tr style=\"text-align: right;\">\n",
       "      <th></th>\n",
       "      <th>username</th>\n",
       "      <th>rating</th>\n",
       "      <th>review</th>\n",
       "      <th>likes</th>\n",
       "      <th>replyDate</th>\n",
       "    </tr>\n",
       "    <tr>\n",
       "      <th>timestamp</th>\n",
       "      <th></th>\n",
       "      <th></th>\n",
       "      <th></th>\n",
       "      <th></th>\n",
       "      <th></th>\n",
       "    </tr>\n",
       "  </thead>\n",
       "  <tbody>\n",
       "    <tr>\n",
       "      <th>2020-05-22 09:40:49.735000+00:00</th>\n",
       "      <td>Ayman Diab</td>\n",
       "      <td>3</td>\n",
       "      <td>good but there is way better.</td>\n",
       "      <td>0</td>\n",
       "      <td>NaN</td>\n",
       "    </tr>\n",
       "    <tr>\n",
       "      <th>2020-05-22 09:11:35.185000+00:00</th>\n",
       "      <td>Mar Peralta</td>\n",
       "      <td>5</td>\n",
       "      <td>Wonderful</td>\n",
       "      <td>0</td>\n",
       "      <td>NaN</td>\n",
       "    </tr>\n",
       "    <tr>\n",
       "      <th>2020-05-22 09:03:35.591000+00:00</th>\n",
       "      <td>Khum Kumari Grg</td>\n",
       "      <td>5</td>\n",
       "      <td>I can contact my relatives</td>\n",
       "      <td>0</td>\n",
       "      <td>NaN</td>\n",
       "    </tr>\n",
       "    <tr>\n",
       "      <th>2020-05-22 08:58:10.984000+00:00</th>\n",
       "      <td>Ana Peichl</td>\n",
       "      <td>1</td>\n",
       "      <td>An update sent all my contacts message that I ...</td>\n",
       "      <td>0</td>\n",
       "      <td>NaN</td>\n",
       "    </tr>\n",
       "    <tr>\n",
       "      <th>2020-05-22 08:48:01.516000+00:00</th>\n",
       "      <td>Aye Chan Myat</td>\n",
       "      <td>5</td>\n",
       "      <td>application is very useful</td>\n",
       "      <td>0</td>\n",
       "      <td>NaN</td>\n",
       "    </tr>\n",
       "  </tbody>\n",
       "</table>\n",
       "</div>"
      ],
      "text/plain": [
       "                                         username  rating  \\\n",
       "timestamp                                                   \n",
       "2020-05-22 09:40:49.735000+00:00       Ayman Diab       3   \n",
       "2020-05-22 09:11:35.185000+00:00      Mar Peralta       5   \n",
       "2020-05-22 09:03:35.591000+00:00  Khum Kumari Grg       5   \n",
       "2020-05-22 08:58:10.984000+00:00       Ana Peichl       1   \n",
       "2020-05-22 08:48:01.516000+00:00    Aye Chan Myat       5   \n",
       "\n",
       "                                                                             review  \\\n",
       "timestamp                                                                             \n",
       "2020-05-22 09:40:49.735000+00:00                      good but there is way better.   \n",
       "2020-05-22 09:11:35.185000+00:00                                          Wonderful   \n",
       "2020-05-22 09:03:35.591000+00:00                         I can contact my relatives   \n",
       "2020-05-22 08:58:10.984000+00:00  An update sent all my contacts message that I ...   \n",
       "2020-05-22 08:48:01.516000+00:00                         application is very useful   \n",
       "\n",
       "                                  likes replyDate  \n",
       "timestamp                                          \n",
       "2020-05-22 09:40:49.735000+00:00      0       NaN  \n",
       "2020-05-22 09:11:35.185000+00:00      0       NaN  \n",
       "2020-05-22 09:03:35.591000+00:00      0       NaN  \n",
       "2020-05-22 08:58:10.984000+00:00      0       NaN  \n",
       "2020-05-22 08:48:01.516000+00:00      0       NaN  "
      ]
     },
     "execution_count": 7,
     "metadata": {},
     "output_type": "execute_result"
    }
   ],
   "source": [
    "dfs['viber'] = drop_nan_columns(dfs['viber'])\n",
    "dfs['viber'].head()"
   ]
  },
  {
   "cell_type": "code",
   "execution_count": 8,
   "metadata": {},
   "outputs": [],
   "source": [
    "# remove rows with NaN reviews\n",
    "def drop_nan_string_rows(df, col):\n",
    "    for index, row in df.iterrows():\n",
    "        if type(row[col]) != str or row[col] == \"\" or len(row[col]) < 1:\n",
    "            df = df.drop([index])\n",
    "    return df"
   ]
  },
  {
   "cell_type": "code",
   "execution_count": null,
   "metadata": {},
   "outputs": [],
   "source": [
    "dfs['viber'] = drop_nan_string_rows(dfs['viber'], 'review')\n",
    "dfs['viber'].info()"
   ]
  },
  {
   "cell_type": "code",
   "execution_count": null,
   "metadata": {},
   "outputs": [],
   "source": [
    "def drop_short_reviews(df, col, min_words):\n",
    "    for index, row in df.iterrows():\n",
    "        words_in_review = row[col].split(\" \")\n",
    "        if len(words_in_review) < min_words:\n",
    "            df = df.drop([index])\n",
    "    return df"
   ]
  },
  {
   "cell_type": "code",
   "execution_count": null,
   "metadata": {},
   "outputs": [],
   "source": [
    "dfs['viber'] = drop_short_reviews(dfs['viber'], 'review', 4)\n",
    "dfs['viber'].info()"
   ]
  },
  {
   "cell_type": "code",
   "execution_count": null,
   "metadata": {},
   "outputs": [],
   "source": [
    "dfs['viber'].head(20)"
   ]
  },
  {
   "cell_type": "code",
   "execution_count": null,
   "metadata": {},
   "outputs": [],
   "source": [
    "# if NaN set to 0, else 1\n",
    "def replydate_to_bool(df):\n",
    "    for index, row in df.iterrows():\n",
    "        if type(row['replyDate'] == float) and str(row['replyDate']) == \"nan\":\n",
    "            df[index]['replyDate'] = 0\n",
    "        else:\n",
    "            df[index]['replyDate'] = 1\n",
    "    return df"
   ]
  },
  {
   "cell_type": "code",
   "execution_count": null,
   "metadata": {},
   "outputs": [],
   "source": [
    "len(dfs['viber'].loc['2019-02-01'])"
   ]
  },
  {
   "cell_type": "code",
   "execution_count": null,
   "metadata": {},
   "outputs": [],
   "source": [
    "len(dfs['viber'].loc['2019-02-01'])"
   ]
  },
  {
   "cell_type": "code",
   "execution_count": null,
   "metadata": {},
   "outputs": [],
   "source": [
    "def pie_chart(sizes, labels, title):\n",
    "    fig, ax = plt.subplots()\n",
    "    plt.style.use('fast')\n",
    "    fig=plt.figure(figsize=(14, 10), dpi=80, facecolor='w', edgecolor='w')\n",
    "    ax.pie(sizes,\n",
    "          labels=labels,\n",
    "          autopct='%1.1f%%',\n",
    "          shadow=True,\n",
    "          startangle=90)\n",
    "\n",
    "    ax.axis('equal')\n",
    "    ax.set(aspect=\"equal\", title=title)\n",
    "    plt.show()"
   ]
  },
  {
   "cell_type": "code",
   "execution_count": null,
   "metadata": {},
   "outputs": [],
   "source": [
    "sizes = [\n",
    "    len(dfs['viber'].loc['2020']),\n",
    "    len(dfs['viber'].loc['2019']),\n",
    "    len(dfs['viber'].loc['2018']),\n",
    "    len(dfs['viber'].loc['2017'])\n",
    "]\n",
    "\n",
    "labels = [2020, 2019, 2018, 2017]\n",
    "\n",
    "pie_chart(sizes, labels, 'review count distribution - viber')"
   ]
  },
  {
   "cell_type": "code",
   "execution_count": null,
   "metadata": {},
   "outputs": [],
   "source": []
  }
 ],
 "metadata": {
  "kernelspec": {
   "display_name": "Python 3",
   "language": "python",
   "name": "python3"
  },
  "language_info": {
   "codemirror_mode": {
    "name": "ipython",
    "version": 3
   },
   "file_extension": ".py",
   "mimetype": "text/x-python",
   "name": "python",
   "nbconvert_exporter": "python",
   "pygments_lexer": "ipython3",
   "version": "3.7.5"
  }
 },
 "nbformat": 4,
 "nbformat_minor": 2
}
