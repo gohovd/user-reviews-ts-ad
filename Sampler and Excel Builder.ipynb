{
 "cells": [
  {
   "cell_type": "code",
   "execution_count": 1,
   "metadata": {},
   "outputs": [],
   "source": [
    "import os\n",
    "import time\n",
    "import pandas as pd\n",
    "import numpy as np\n",
    "import random\n",
    "\n",
    "import matplotlib.pyplot as plt\n",
    "import statistics as s\n",
    "\n",
    "def piec(s, l):\n",
    "    fig1, ax1 = plt.subplots()\n",
    "    ax1.pie(s, labels=l, autopct='%1.1f%%', startangle=90)\n",
    "    ax1.axis('equal')\n",
    "    plt.figure(figsize=(20,10)) \n",
    "    plt.show()"
   ]
  },
  {
   "cell_type": "markdown",
   "metadata": {},
   "source": [
    "# apps\n",
    "\n",
    "We have chosen 4 popular apps from Google Play:"
   ]
  },
  {
   "cell_type": "code",
   "execution_count": 2,
   "metadata": {},
   "outputs": [],
   "source": [
    "apps = {\n",
    "    'reddit' : {\n",
    "        'id' : 'com.reddit.frontpage',\n",
    "        'color' : 'darkred',\n",
    "        'linestyle' : 'solid',\n",
    "        'marker': 'tri_down'\n",
    "    },\n",
    "#     'snapchat': { # only has reviews from ~ August\n",
    "#         'id' : 'com.snapchat.android',\n",
    "#         'color': 'yellow',\n",
    "#         'linestyle': 'dotted',\n",
    "#         'linewidth': '1',\n",
    "#         'marker': 'circle'\n",
    "#     },\n",
    "    'soundcloud': {\n",
    "        'id' : 'com.soundcloud.android',\n",
    "        'color': 'orange',\n",
    "        'linestyle': 'solid',\n",
    "        'linewidth': '1',\n",
    "        'marker': 'circle'\n",
    "    },\n",
    "    'twitter': {\n",
    "        'id' : 'com.twitter.android',\n",
    "        'color': 'orange',\n",
    "        'linestyle': 'solid',\n",
    "        'linewidth': '1',\n",
    "        'marker': 'circle'\n",
    "    }\n",
    "#     'whatsapp': { # only has reviews from ~ December\n",
    "#         'id' : 'com.whatsapp',\n",
    "#         'color': 'gray',\n",
    "#         'linestyle': 'dotted',\n",
    "#         'linewidth': '1',\n",
    "#         'marker': 'circle'\n",
    "#     }\n",
    "}"
   ]
  },
  {
   "cell_type": "markdown",
   "metadata": {},
   "source": [
    "# import\n",
    "\n",
    "### [1] raw, cleaned, classified\n",
    "For each app, we import preprocessed (cleaned) datasets, as well as _exportable_ datasets.\n",
    "The cleaned datasets are datasets that:\n",
    "- were collected by scraping Google Play\n",
    "- have had null values removed\n",
    "- have had replyDates converted to boolean (1 or 0 indicating whether a review was replied to)\n",
    "- have had short/meaningless reviews removed\n",
    "- have had their review content classified into columns: sentiment, category\n",
    "- have the following structure:\n",
    "\n",
    "<table style=\"text-align:left;float:left;border:1px solid green;\">\n",
    "    <tr>\n",
    "        <th>Timestamp</th>\n",
    "        <th>Username</th>\n",
    "        <th>Rating</th>\n",
    "        <th>Review</th>\n",
    "        <th>Sentiment</th>\n",
    "        <th>Category</th>\n",
    "        <th>Words</th>\n",
    "        <th>Chars</th>\n",
    "        <th>Likes</th>\n",
    "        <th>ReplyDate</th>\n",
    "        <th>Year</th>\n",
    "        <th>Month</th>\n",
    "        <th>Weekday Name</th>\n",
    "    </tr>\n",
    "    <tr>\n",
    "        <td>08-08-2019 16:20</td>\n",
    "        <td>George</td>\n",
    "        <td>5</td>\n",
    "        <td>Great app for reasons A, B, and C</td>\n",
    "        <td>1</td>\n",
    "        <td>Other</td>\n",
    "        <td>Words</td>\n",
    "        <td>27</td>\n",
    "        <td>0</td>\n",
    "        <td>0</td>\n",
    "        <td>2019</td>\n",
    "        <td>August</td>\n",
    "        <td>Wednesday</td>\n",
    "    </tr>\n",
    "</table>\n",
    "<br><br><br>\n",
    "\n",
    "### [2] exportable, daily sum totals\n",
    "The exportable datasets have the following structure:\n",
    "\n",
    "<table style=\"float:left;border:1px solid red;\">\n",
    "    <tr>\n",
    "        <th>Time</th>\n",
    "        <th>ReviewCount</th>\n",
    "        <th>Rating</th>\n",
    "        <th>Words</th>\n",
    "        <th>Chars</th>\n",
    "        <th>Replies</th>\n",
    "        <th>Negative</th>\n",
    "        <th>Neutral</th>\n",
    "        <th>Positive</th>\n",
    "        <th>ImprovementRequest</th>\n",
    "        <th>BugReport</th>\n",
    "        <th>Other</th>\n",
    "    </tr>\n",
    "    <tr>\n",
    "        <td>31-01-2020 16:20</td>\n",
    "        <td>540</td>\n",
    "        <td>2394</td>\n",
    "        <td>13200</td>\n",
    "        <td>32193</td>\n",
    "        <td>44</td>\n",
    "        <td>1</td>\n",
    "        <td>19</td>\n",
    "        <td>45</td>\n",
    "        <td>411</td>\n",
    "        <td>30</td>\n",
    "        <td>30</td>\n",
    "    </tr>\n",
    "</table>\n",
    "<br><br><br><br>\n",
    "The following step ('select 40 datapoints'), we do based on these exportable datasets, whose columns consist of the <strong>daily</strong> sum totals of reviews, bug reports, etc. Daily averages can easily be calculated from these values where needed.\n",
    "\n",
    "However, to perform the subsequent step after the selection ('sampling'), we need to go back to the datasets as they were before being \"collapsed\" into daily sum totals. We have to:\n",
    "- retrieve all reviews pertaining to the each bucket (tsadf, peaks, valleys, random)\n",
    "- from those reviews, make a balanced sampling of 100 reviews"
   ]
  },
  {
   "cell_type": "code",
   "execution_count": 3,
   "metadata": {},
   "outputs": [
    {
     "name": "stdout",
     "output_type": "stream",
     "text": [
      "dict_keys(['reddit', 'soundcloud', 'twitter']) \n",
      " dict_keys(['reddit', 'soundcloud', 'twitter'])\n"
     ]
    }
   ],
   "source": [
    "rcc = {} # raw, cleaned, classified dataset\n",
    "edf = {} # exportable daily sum totals\n",
    "\n",
    "for x in apps:\n",
    "    rcc[x] = pd.read_csv('data/gplay_clean/' + x + '_raw_clean.csv',\n",
    "                         index_col=\"Timestamp\",\n",
    "                         parse_dates=True).loc['2019']\n",
    "    edf[x] = pd.read_csv('data/exported/' + x + '_clean_2019.csv')\n",
    "    \n",
    "print(rcc.keys(),'\\n',edf.keys())"
   ]
  },
  {
   "cell_type": "code",
   "execution_count": 4,
   "metadata": {},
   "outputs": [
    {
     "data": {
      "text/html": [
       "<div>\n",
       "<style scoped>\n",
       "    .dataframe tbody tr th:only-of-type {\n",
       "        vertical-align: middle;\n",
       "    }\n",
       "\n",
       "    .dataframe tbody tr th {\n",
       "        vertical-align: top;\n",
       "    }\n",
       "\n",
       "    .dataframe thead th {\n",
       "        text-align: right;\n",
       "    }\n",
       "</style>\n",
       "<table border=\"1\" class=\"dataframe\">\n",
       "  <thead>\n",
       "    <tr style=\"text-align: right;\">\n",
       "      <th></th>\n",
       "      <th>Username</th>\n",
       "      <th>Rating</th>\n",
       "      <th>Review</th>\n",
       "      <th>Words</th>\n",
       "      <th>Chars</th>\n",
       "      <th>Likes</th>\n",
       "      <th>ReplyDate</th>\n",
       "      <th>Year</th>\n",
       "      <th>Month</th>\n",
       "      <th>Weekday Name</th>\n",
       "    </tr>\n",
       "    <tr>\n",
       "      <th>Timestamp</th>\n",
       "      <th></th>\n",
       "      <th></th>\n",
       "      <th></th>\n",
       "      <th></th>\n",
       "      <th></th>\n",
       "      <th></th>\n",
       "      <th></th>\n",
       "      <th></th>\n",
       "      <th></th>\n",
       "      <th></th>\n",
       "    </tr>\n",
       "  </thead>\n",
       "  <tbody>\n",
       "    <tr>\n",
       "      <th>2019-12-31 23:36:53.970000+00:00</th>\n",
       "      <td>Robert Bolton</td>\n",
       "      <td>5</td>\n",
       "      <td>Watch hours of your life vanish with glee</td>\n",
       "      <td>8</td>\n",
       "      <td>41</td>\n",
       "      <td>0</td>\n",
       "      <td>0</td>\n",
       "      <td>2019</td>\n",
       "      <td>12</td>\n",
       "      <td>Tuesday</td>\n",
       "    </tr>\n",
       "    <tr>\n",
       "      <th>2019-12-31 23:31:41.285000+00:00</th>\n",
       "      <td>Sandra Thomas</td>\n",
       "      <td>5</td>\n",
       "      <td>Reddit is news and humanity! It's a conglomera...</td>\n",
       "      <td>12</td>\n",
       "      <td>79</td>\n",
       "      <td>0</td>\n",
       "      <td>0</td>\n",
       "      <td>2019</td>\n",
       "      <td>12</td>\n",
       "      <td>Tuesday</td>\n",
       "    </tr>\n",
       "    <tr>\n",
       "      <th>2019-12-31 23:13:55.547000+00:00</th>\n",
       "      <td>Garry Wells</td>\n",
       "      <td>5</td>\n",
       "      <td>My daily go to for news the concerns me.</td>\n",
       "      <td>9</td>\n",
       "      <td>40</td>\n",
       "      <td>0</td>\n",
       "      <td>0</td>\n",
       "      <td>2019</td>\n",
       "      <td>12</td>\n",
       "      <td>Tuesday</td>\n",
       "    </tr>\n",
       "    <tr>\n",
       "      <th>2019-12-31 23:05:32.200000+00:00</th>\n",
       "      <td>Andre Botha</td>\n",
       "      <td>4</td>\n",
       "      <td>Love the diversity of topics. Redditors have a...</td>\n",
       "      <td>12</td>\n",
       "      <td>70</td>\n",
       "      <td>0</td>\n",
       "      <td>0</td>\n",
       "      <td>2019</td>\n",
       "      <td>12</td>\n",
       "      <td>Tuesday</td>\n",
       "    </tr>\n",
       "    <tr>\n",
       "      <th>2019-12-31 22:16:40.141000+00:00</th>\n",
       "      <td>KWACKING DUCK</td>\n",
       "      <td>5</td>\n",
       "      <td>The best memeS EVERRRRRRR. I FREAKINGG LOOOVVV...</td>\n",
       "      <td>8</td>\n",
       "      <td>53</td>\n",
       "      <td>0</td>\n",
       "      <td>0</td>\n",
       "      <td>2019</td>\n",
       "      <td>12</td>\n",
       "      <td>Tuesday</td>\n",
       "    </tr>\n",
       "  </tbody>\n",
       "</table>\n",
       "</div>"
      ],
      "text/plain": [
       "                                       Username  Rating  \\\n",
       "Timestamp                                                 \n",
       "2019-12-31 23:36:53.970000+00:00  Robert Bolton       5   \n",
       "2019-12-31 23:31:41.285000+00:00  Sandra Thomas       5   \n",
       "2019-12-31 23:13:55.547000+00:00    Garry Wells       5   \n",
       "2019-12-31 23:05:32.200000+00:00    Andre Botha       4   \n",
       "2019-12-31 22:16:40.141000+00:00  KWACKING DUCK       5   \n",
       "\n",
       "                                                                             Review  \\\n",
       "Timestamp                                                                             \n",
       "2019-12-31 23:36:53.970000+00:00          Watch hours of your life vanish with glee   \n",
       "2019-12-31 23:31:41.285000+00:00  Reddit is news and humanity! It's a conglomera...   \n",
       "2019-12-31 23:13:55.547000+00:00           My daily go to for news the concerns me.   \n",
       "2019-12-31 23:05:32.200000+00:00  Love the diversity of topics. Redditors have a...   \n",
       "2019-12-31 22:16:40.141000+00:00  The best memeS EVERRRRRRR. I FREAKINGG LOOOVVV...   \n",
       "\n",
       "                                  Words  Chars  Likes  ReplyDate  Year  Month  \\\n",
       "Timestamp                                                                       \n",
       "2019-12-31 23:36:53.970000+00:00      8     41      0          0  2019     12   \n",
       "2019-12-31 23:31:41.285000+00:00     12     79      0          0  2019     12   \n",
       "2019-12-31 23:13:55.547000+00:00      9     40      0          0  2019     12   \n",
       "2019-12-31 23:05:32.200000+00:00     12     70      0          0  2019     12   \n",
       "2019-12-31 22:16:40.141000+00:00      8     53      0          0  2019     12   \n",
       "\n",
       "                                 Weekday Name  \n",
       "Timestamp                                      \n",
       "2019-12-31 23:36:53.970000+00:00      Tuesday  \n",
       "2019-12-31 23:31:41.285000+00:00      Tuesday  \n",
       "2019-12-31 23:13:55.547000+00:00      Tuesday  \n",
       "2019-12-31 23:05:32.200000+00:00      Tuesday  \n",
       "2019-12-31 22:16:40.141000+00:00      Tuesday  "
      ]
     },
     "execution_count": 4,
     "metadata": {},
     "output_type": "execute_result"
    }
   ],
   "source": [
    "rcc['reddit'].head()"
   ]
  },
  {
   "cell_type": "code",
   "execution_count": 5,
   "metadata": {},
   "outputs": [
    {
     "data": {
      "text/html": [
       "<div>\n",
       "<style scoped>\n",
       "    .dataframe tbody tr th:only-of-type {\n",
       "        vertical-align: middle;\n",
       "    }\n",
       "\n",
       "    .dataframe tbody tr th {\n",
       "        vertical-align: top;\n",
       "    }\n",
       "\n",
       "    .dataframe thead th {\n",
       "        text-align: right;\n",
       "    }\n",
       "</style>\n",
       "<table border=\"1\" class=\"dataframe\">\n",
       "  <thead>\n",
       "    <tr style=\"text-align: right;\">\n",
       "      <th></th>\n",
       "      <th>Time</th>\n",
       "      <th>ReviewCount</th>\n",
       "      <th>Words</th>\n",
       "      <th>Chars</th>\n",
       "      <th>Likes</th>\n",
       "      <th>Rating</th>\n",
       "      <th>Avg_Words</th>\n",
       "      <th>Avg_Chars</th>\n",
       "      <th>Avg_Likes</th>\n",
       "      <th>Avg_Rating</th>\n",
       "    </tr>\n",
       "  </thead>\n",
       "  <tbody>\n",
       "    <tr>\n",
       "      <th>0</th>\n",
       "      <td>01.01.2019 00:00</td>\n",
       "      <td>50</td>\n",
       "      <td>898</td>\n",
       "      <td>4751</td>\n",
       "      <td>186</td>\n",
       "      <td>191</td>\n",
       "      <td>17.96</td>\n",
       "      <td>95.02</td>\n",
       "      <td>3.72</td>\n",
       "      <td>3.82</td>\n",
       "    </tr>\n",
       "    <tr>\n",
       "      <th>1</th>\n",
       "      <td>02.01.2019 00:00</td>\n",
       "      <td>68</td>\n",
       "      <td>1016</td>\n",
       "      <td>5323</td>\n",
       "      <td>16</td>\n",
       "      <td>256</td>\n",
       "      <td>14.94</td>\n",
       "      <td>78.28</td>\n",
       "      <td>0.24</td>\n",
       "      <td>3.76</td>\n",
       "    </tr>\n",
       "    <tr>\n",
       "      <th>2</th>\n",
       "      <td>03.01.2019 00:00</td>\n",
       "      <td>47</td>\n",
       "      <td>657</td>\n",
       "      <td>3336</td>\n",
       "      <td>0</td>\n",
       "      <td>169</td>\n",
       "      <td>13.98</td>\n",
       "      <td>70.98</td>\n",
       "      <td>0.00</td>\n",
       "      <td>3.60</td>\n",
       "    </tr>\n",
       "    <tr>\n",
       "      <th>3</th>\n",
       "      <td>04.01.2019 00:00</td>\n",
       "      <td>55</td>\n",
       "      <td>1001</td>\n",
       "      <td>5349</td>\n",
       "      <td>26</td>\n",
       "      <td>187</td>\n",
       "      <td>18.20</td>\n",
       "      <td>97.25</td>\n",
       "      <td>0.47</td>\n",
       "      <td>3.40</td>\n",
       "    </tr>\n",
       "    <tr>\n",
       "      <th>4</th>\n",
       "      <td>05.01.2019 00:00</td>\n",
       "      <td>56</td>\n",
       "      <td>1087</td>\n",
       "      <td>5989</td>\n",
       "      <td>49</td>\n",
       "      <td>219</td>\n",
       "      <td>19.41</td>\n",
       "      <td>106.95</td>\n",
       "      <td>0.88</td>\n",
       "      <td>3.91</td>\n",
       "    </tr>\n",
       "  </tbody>\n",
       "</table>\n",
       "</div>"
      ],
      "text/plain": [
       "               Time  ReviewCount  Words  Chars  Likes  Rating  Avg_Words  \\\n",
       "0  01.01.2019 00:00           50    898   4751    186     191      17.96   \n",
       "1  02.01.2019 00:00           68   1016   5323     16     256      14.94   \n",
       "2  03.01.2019 00:00           47    657   3336      0     169      13.98   \n",
       "3  04.01.2019 00:00           55   1001   5349     26     187      18.20   \n",
       "4  05.01.2019 00:00           56   1087   5989     49     219      19.41   \n",
       "\n",
       "   Avg_Chars  Avg_Likes  Avg_Rating  \n",
       "0      95.02       3.72        3.82  \n",
       "1      78.28       0.24        3.76  \n",
       "2      70.98       0.00        3.60  \n",
       "3      97.25       0.47        3.40  \n",
       "4     106.95       0.88        3.91  "
      ]
     },
     "execution_count": 5,
     "metadata": {},
     "output_type": "execute_result"
    }
   ],
   "source": [
    "edf['reddit'].head()"
   ]
  },
  {
   "cell_type": "code",
   "execution_count": 6,
   "metadata": {},
   "outputs": [
    {
     "data": {
      "text/plain": [
       "<Figure size 1440x1296 with 0 Axes>"
      ]
     },
     "execution_count": 6,
     "metadata": {},
     "output_type": "execute_result"
    },
    {
     "data": {
      "image/png": "[encoded data removed]",
      "text/plain": [
       "<Figure size 432x288 with 1 Axes>"
      ]
     },
     "metadata": {
      "needs_background": "light"
     },
     "output_type": "display_data"
    },
    {
     "data": {
      "text/plain": [
       "<Figure size 1440x1296 with 0 Axes>"
      ]
     },
     "metadata": {},
     "output_type": "display_data"
    }
   ],
   "source": [
    "sizes = []\n",
    "titles = []\n",
    "y_pos = np.arange(len(sizes))\n",
    "\n",
    "for app in rcc.keys():\n",
    "    titles.append(app)\n",
    "    sizes.append(len(rcc[app]))\n",
    "\n",
    "plt.bar(np.arange(len(sizes)), sizes)\n",
    "plt.xticks(np.arange(len(sizes)), titles)\n",
    "plt.figure(figsize=(20, 18))"
   ]
  },
  {
   "cell_type": "code",
   "execution_count": 7,
   "metadata": {},
   "outputs": [
    {
     "data": {
      "text/plain": [
       "<Figure size 1440x1296 with 0 Axes>"
      ]
     },
     "execution_count": 7,
     "metadata": {},
     "output_type": "execute_result"
    },
    {
     "data": {
      "image/png": "[encoded data removed]",
      "text/plain": [
       "<Figure size 432x288 with 1 Axes>"
      ]
     },
     "metadata": {
      "needs_background": "light"
     },
     "output_type": "display_data"
    },
    {
     "data": {
      "text/plain": [
       "<Figure size 1440x1296 with 0 Axes>"
      ]
     },
     "metadata": {},
     "output_type": "display_data"
    }
   ],
   "source": [
    "sizes = []\n",
    "titles = []\n",
    "y_pos = np.arange(len(sizes))\n",
    "\n",
    "for app in edf.keys():\n",
    "    titles.append(app)\n",
    "    sizes.append(len(edf[app]))\n",
    "\n",
    "plt.bar(np.arange(len(sizes)), sizes)\n",
    "plt.xticks(np.arange(len(sizes)), titles)\n",
    "plt.figure(figsize=(20, 18))"
   ]
  },
  {
   "cell_type": "code",
   "execution_count": 8,
   "metadata": {},
   "outputs": [
    {
     "name": "stdout",
     "output_type": "stream",
     "text": [
      "52562 52562\n"
     ]
    }
   ],
   "source": [
    "# demonstrate that the daily sum totals are based on the raw\n",
    "print(sum(edf['reddit']['ReviewCount']),\n",
    "len(rcc['reddit']))"
   ]
  },
  {
   "cell_type": "code",
   "execution_count": 9,
   "metadata": {},
   "outputs": [
    {
     "data": {
      "image/png": "[encoded data removed]",
      "text/plain": [
       "<Figure size 432x288 with 1 Axes>"
      ]
     },
     "metadata": {},
     "output_type": "display_data"
    },
    {
     "data": {
      "text/plain": [
       "<Figure size 1440x720 with 0 Axes>"
      ]
     },
     "metadata": {},
     "output_type": "display_data"
    }
   ],
   "source": [
    "# distribution of reviews from raw/cleaned/classes\n",
    "piec([len(rcc['reddit']), len(rcc['twitter']), len(rcc['soundcloud'])],\n",
    "    rcc.keys())"
   ]
  },
  {
   "cell_type": "code",
   "execution_count": 10,
   "metadata": {},
   "outputs": [
    {
     "data": {
      "image/png": "[encoded data removed]",
      "text/plain": [
       "<Figure size 432x288 with 1 Axes>"
      ]
     },
     "metadata": {},
     "output_type": "display_data"
    },
    {
     "data": {
      "text/plain": [
       "<Figure size 1440x720 with 0 Axes>"
      ]
     },
     "metadata": {},
     "output_type": "display_data"
    }
   ],
   "source": [
    "# distribution of reviews in exportable dataframes\n",
    "piec([len(edf['reddit']), len(edf['twitter']), len(edf['soundcloud'])],\n",
    "    edf.keys())"
   ]
  },
  {
   "cell_type": "markdown",
   "metadata": {},
   "source": [
    "# select 40 (days) datapoints"
   ]
  },
  {
   "cell_type": "code",
   "execution_count": 11,
   "metadata": {},
   "outputs": [],
   "source": [
    "def append_index2(selected, app, indices_to_select):\n",
    "    \"\"\"\n",
    "    This method takes an arbitrary amount of (int) indices\n",
    "    and appends the first 10 unique values to an array.\n",
    "    \"\"\"\n",
    "    print('Start appending 10 unique values to the following array:')\n",
    "    print(selected)\n",
    "    \n",
    "    selected_counter = 0\n",
    "    duplicates = []\n",
    "    \n",
    "    # iterate over the provided indices\n",
    "    for idx in indices_to_select:\n",
    "        if selected_counter >= 10: # 10 values have been appended\n",
    "            print(\"Reached 10 values, breaking..\")\n",
    "            break\n",
    "        elif idx in selected: # duplicate value\n",
    "            duplicates.append(idx)\n",
    "            continue\n",
    "        else: # unique value found\n",
    "            selected.append(idx)\n",
    "            selected_counter += 1\n",
    "    \n",
    "    if selected_counter < 10:\n",
    "        print(\"Was not able to append 10 values due to duplicate values. These values are already selected:\")\n",
    "        print(duplicates)\n",
    "    else:\n",
    "        print(f\"Successfully added 10 unique values for {app}\")\n",
    "        print(selected)\n",
    "        # print the dates next to the indices\n",
    "        sdates = []\n",
    "        for idx in selected:\n",
    "            sdates.append(get_date_via_idx(idx).split(\" \")[0])\n",
    "        print(sdates)\n",
    "        \n",
    "def get_date_via_idx(date):\n",
    "    return edf['reddit'].iloc[date].Time"
   ]
  },
  {
   "cell_type": "markdown",
   "metadata": {},
   "source": [
    "### 10 datapoints from time-series anomaly detection framework\n",
    "\n",
    "In order to get the ten datapoints from the anomaly detection framework for each app, we simply load the exportable (anomaly detection framework compliant) datasets into the system, and have it output the indices of datapoints it thinks is anomalous.\n",
    "\n",
    "This process is done manually, and the results are logged in the table below:\n",
    "\n",
    "<table style=\"float: left;\">\n",
    "    <thead>\n",
    "        <tr>\n",
    "            <th>App</th>\n",
    "            <th style=\"text-align: left;\">Anomaly Indices</th>\n",
    "        </tr>\n",
    "    </thead>\n",
    "    <tbody>\n",
    "        <tr>\n",
    "            <td>Reddit</td>\n",
    "            <td id=\"reddit_indices\">[58, 59, 88, 89, 103, 104, 114, 115, 127, 128, 144, 158, 171, 213, 204, 252]</td>\n",
    "        </tr>\n",
    "    </tbody>\n",
    "</table>"
   ]
  },
  {
   "cell_type": "code",
   "execution_count": 12,
   "metadata": {},
   "outputs": [
    {
     "name": "stdout",
     "output_type": "stream",
     "text": [
      "Start appending 10 unique values to the following array:\n",
      "[]\n",
      "Successfully added 10 unique values for reddit\n",
      "[59, 88, 104, 115, 127, 144, 158, 171, 252, 324]\n",
      "['01.03.2019', '30.03.2019', '15.04.2019', '26.04.2019', '08.05.2019', '25.05.2019', '08.06.2019', '21.06.2019', '10.09.2019', '21.11.2019']\n"
     ]
    }
   ],
   "source": [
    "selected_indices = {} # holds the selected indices of all apps\n",
    "selected_indices['reddit'] = []\n",
    "# reddit_tsadf_ind = [59, 88, 89, 103, 128, 144, 171, 213, 204, 252] # 3 words min\n",
    "reddit_tsadf_idx = [59, 88, 104, 115, 127, 144, 158, 171, 252, 324] # 5 words min\n",
    "append_index2(selected_indices['reddit'], 'reddit', reddit_tsadf_idx)"
   ]
  },
  {
   "cell_type": "markdown",
   "metadata": {},
   "source": [
    "### 10 datapoints from visual _peaks_\n",
    "\n",
    "To get these ten datapoints, we plot the data for the whole year, and simply choose ten visible peaks."
   ]
  },
  {
   "cell_type": "code",
   "execution_count": 13,
   "metadata": {},
   "outputs": [
    {
     "data": {
      "text/plain": [
       "144.0054794520548"
      ]
     },
     "execution_count": 13,
     "metadata": {},
     "output_type": "execute_result"
    }
   ],
   "source": [
    "s.mean(edf['reddit']['ReviewCount'])"
   ]
  },
  {
   "cell_type": "code",
   "execution_count": 14,
   "metadata": {},
   "outputs": [
    {
     "data": {
      "text/plain": [
       "52562"
      ]
     },
     "execution_count": 14,
     "metadata": {},
     "output_type": "execute_result"
    }
   ],
   "source": [
    "len(rcc['reddit'])"
   ]
  },
  {
   "cell_type": "code",
   "execution_count": 15,
   "metadata": {},
   "outputs": [
    {
     "data": {
      "image/png": "[encoded data removed]",
      "text/plain": [
       "<Figure size 1152x288 with 1 Axes>"
      ]
     },
     "metadata": {
      "needs_background": "light"
     },
     "output_type": "display_data"
    }
   ],
   "source": [
    "fig, ax = plt.subplots(figsize=(16, 4))\n",
    "ax.plot(edf['reddit']['ReviewCount'])\n",
    "ax.set(xlabel='Day', ylabel='Review Count', title='Review Count - Whatsapp - 2019')\n",
    "plt.hlines(y=s.mean(edf['reddit']['ReviewCount']), xmin=0, xmax=len(edf['reddit']), colors='r', linestyles='--', lw=2)\n",
    "plt.show()"
   ]
  },
  {
   "cell_type": "code",
   "execution_count": 16,
   "metadata": {},
   "outputs": [
    {
     "name": "stdout",
     "output_type": "stream",
     "text": [
      "Variance: 5536.7746951678455 Standard deviation: 74.4095067526176\n"
     ]
    }
   ],
   "source": [
    "print(f\"Variance: {s.variance(edf['reddit'].ReviewCount)}\",\n",
    "f\"Standard deviation: {s.stdev(edf['reddit'].ReviewCount)}\")"
   ]
  },
  {
   "cell_type": "code",
   "execution_count": 17,
   "metadata": {},
   "outputs": [
    {
     "data": {
      "text/plain": [
       "array([235, 236, 236, 237, 243, 245, 245, 245, 247, 252, 252, 252, 254,\n",
       "       256, 257, 260, 262, 266, 267, 269, 273, 274, 274, 280, 280, 281,\n",
       "       284, 286, 288, 289, 294, 296, 299, 300, 302, 306, 307, 308, 309,\n",
       "       335, 344, 345, 355, 358, 386, 387, 401, 407, 408, 430])"
      ]
     },
     "execution_count": 17,
     "metadata": {},
     "output_type": "execute_result"
    }
   ],
   "source": [
    "above_mean = edf['reddit'][edf['reddit']['ReviewCount'] > s.mean(edf['reddit']['ReviewCount'])]['ReviewCount']\n",
    "largest = np.array(above_mean)\n",
    "\n",
    "peaks = largest[np.argsort(largest)[-50:]]\n",
    "peaks"
   ]
  },
  {
   "cell_type": "code",
   "execution_count": 19,
   "metadata": {},
   "outputs": [],
   "source": [
    "# find the indices via the largest values\n",
    "highest_indices = []\n",
    "for high_idx in peaks:\n",
    "    index = edf['reddit'][edf['reddit'].ReviewCount == high_idx].index[0]\n",
    "    highest_indices.append(index)"
   ]
  },
  {
   "cell_type": "code",
   "execution_count": 20,
   "metadata": {},
   "outputs": [
    {
     "name": "stdout",
     "output_type": "stream",
     "text": [
      "Start appending 10 unique values to the following array:\n",
      "[59, 88, 104, 115, 127, 144, 158, 171, 252, 324]\n",
      "Reached 10 values, breaking..\n",
      "Successfully added 10 unique values for reddit\n",
      "[59, 88, 104, 115, 127, 144, 158, 171, 252, 324, 130, 214, 73, 240, 44, 204, 185, 266, 205, 227]\n",
      "['01.03.2019', '30.03.2019', '15.04.2019', '26.04.2019', '08.05.2019', '25.05.2019', '08.06.2019', '21.06.2019', '10.09.2019', '21.11.2019', '11.05.2019', '03.08.2019', '15.03.2019', '29.08.2019', '14.02.2019', '24.07.2019', '05.07.2019', '24.09.2019', '25.07.2019', '16.08.2019']\n"
     ]
    }
   ],
   "source": [
    "append_index2(selected_indices['reddit'], 'reddit', highest_indices)"
   ]
  },
  {
   "cell_type": "markdown",
   "metadata": {},
   "source": [
    "### 10 datapoints from visual _valleys_"
   ]
  },
  {
   "cell_type": "code",
   "execution_count": 21,
   "metadata": {},
   "outputs": [
    {
     "data": {
      "text/plain": [
       "array([ 45, 221,   2,   3,   4,   5,   6,   7,   8,   9,  10,  11,  12,\n",
       "        13,  14,  73,  64,   1, 166,  19,  20,  21,  22,  23, 177,  25,\n",
       "        26,  27, 226, 225, 178, 223, 222,   0, 179, 219,  54, 217, 202,\n",
       "       214, 203,  72, 213, 204,  44, 165, 185, 220,  74, 215])"
      ]
     },
     "execution_count": 21,
     "metadata": {},
     "output_type": "execute_result"
    }
   ],
   "source": [
    "# all datapoints below the mean\n",
    "below_mean = edf['reddit'][edf['reddit']['ReviewCount'] < s.mean(edf['reddit']['ReviewCount'])]['ReviewCount']\n",
    "smallest = np.array(below_mean)\n",
    "# valleys\n",
    "k = 50\n",
    "valleys = np.argpartition(smallest, k)[:k]\n",
    "valleys"
   ]
  },
  {
   "cell_type": "code",
   "execution_count": 23,
   "metadata": {},
   "outputs": [
    {
     "name": "stdout",
     "output_type": "stream",
     "text": [
      "Start appending 10 unique values to the following array:\n",
      "[59, 88, 104, 115, 127, 144, 158, 171, 252, 324, 130, 214, 73, 240, 44, 204, 185, 266, 205, 227]\n",
      "Reached 10 values, breaking..\n",
      "Successfully added 10 unique values for reddit\n",
      "[59, 88, 104, 115, 127, 144, 158, 171, 252, 324, 130, 214, 73, 240, 44, 204, 185, 266, 205, 227, 45, 221, 2, 3, 4, 5, 6, 7, 8, 9]\n",
      "['01.03.2019', '30.03.2019', '15.04.2019', '26.04.2019', '08.05.2019', '25.05.2019', '08.06.2019', '21.06.2019', '10.09.2019', '21.11.2019', '11.05.2019', '03.08.2019', '15.03.2019', '29.08.2019', '14.02.2019', '24.07.2019', '05.07.2019', '24.09.2019', '25.07.2019', '16.08.2019', '15.02.2019', '10.08.2019', '03.01.2019', '04.01.2019', '05.01.2019', '06.01.2019', '07.01.2019', '08.01.2019', '09.01.2019', '10.01.2019']\n"
     ]
    }
   ],
   "source": [
    "append_index2(selected_indices['reddit'], 'reddit', valleys)"
   ]
  },
  {
   "cell_type": "markdown",
   "metadata": {},
   "source": [
    "### 10 random datapoints\n",
    "\n",
    "Here we do a random sample (with varying seed), and make sure to only select indices that have not been selected by previous steps.\n",
    "\n",
    "np.random.random_sample(10)"
   ]
  },
  {
   "cell_type": "code",
   "execution_count": 24,
   "metadata": {},
   "outputs": [
    {
     "name": "stdout",
     "output_type": "stream",
     "text": [
      "Start appending 10 unique values to the following array:\n",
      "[59, 88, 104, 115, 127, 144, 158, 171, 252, 324, 130, 214, 73, 240, 44, 204, 185, 266, 205, 227, 45, 221, 2, 3, 4, 5, 6, 7, 8, 9]\n",
      "Reached 10 values, breaking..\n",
      "Successfully added 10 unique values for reddit\n",
      "[59, 88, 104, 115, 127, 144, 158, 171, 252, 324, 130, 214, 73, 240, 44, 204, 185, 266, 205, 227, 45, 221, 2, 3, 4, 5, 6, 7, 8, 9, 39, 272, 217, 174, 157, 228, 133, 122, 321, 72]\n",
      "['01.03.2019', '30.03.2019', '15.04.2019', '26.04.2019', '08.05.2019', '25.05.2019', '08.06.2019', '21.06.2019', '10.09.2019', '21.11.2019', '11.05.2019', '03.08.2019', '15.03.2019', '29.08.2019', '14.02.2019', '24.07.2019', '05.07.2019', '24.09.2019', '25.07.2019', '16.08.2019', '15.02.2019', '10.08.2019', '03.01.2019', '04.01.2019', '05.01.2019', '06.01.2019', '07.01.2019', '08.01.2019', '09.01.2019', '10.01.2019', '09.02.2019', '30.09.2019', '06.08.2019', '24.06.2019', '07.06.2019', '17.08.2019', '14.05.2019', '03.05.2019', '18.11.2019', '14.03.2019']\n"
     ]
    }
   ],
   "source": [
    "random_sel = random.sample(list(edf['reddit'].index), 30)\n",
    "append_index2(selected_indices['reddit'], 'reddit', random_sel)"
   ]
  },
  {
   "cell_type": "code",
   "execution_count": 25,
   "metadata": {},
   "outputs": [
    {
     "data": {
      "text/plain": [
       "40"
      ]
     },
     "execution_count": 25,
     "metadata": {},
     "output_type": "execute_result"
    }
   ],
   "source": [
    "len(selected_indices['reddit'])"
   ]
  },
  {
   "cell_type": "markdown",
   "metadata": {},
   "source": [
    "# from INDICES to DATES"
   ]
  },
  {
   "cell_type": "code",
   "execution_count": 26,
   "metadata": {},
   "outputs": [
    {
     "name": "stderr",
     "output_type": "stream",
     "text": [
      "/usr/local/lib/python3.7/site-packages/ipykernel_launcher.py:7: FutureWarning: `item` has been deprecated and will be removed in a future version\n",
      "  import sys\n"
     ]
    }
   ],
   "source": [
    "import re\n",
    "dates = []\n",
    "\n",
    "for i in selected_indices['reddit']:\n",
    "    date = edf['reddit'][edf['reddit'].index == i].Time\n",
    "    \n",
    "    cl = re.sub(\" 00:00\", \"\", date.item()) # remove trailing 00:00\n",
    "    sp = cl.split(\".\")\n",
    "    cl = sp[1] + \"-\" + sp[0] + \"-\" + sp[2] # change order to MONTH / DAY / YEAR\n",
    "    dates.append(cl)"
   ]
  },
  {
   "cell_type": "markdown",
   "metadata": {},
   "source": [
    "# selecting 100 reviews per datapoint from the (above) four buckets\n",
    "\n",
    "At this point, we have selected 10 unique datapoints (days, dates) from the following four buckets:\n",
    "- tsadf\n",
    "- peaks\n",
    "- valleys\n",
    "- random\n",
    "\n",
    "We've made sure the selected data points are unique.\n",
    "\n",
    "The next step is to iterate through all (in total) 40 datapoints, and from each date, select (at least) 100 reviews. In the end, we should be left with a maximum of 4000 reviews from each app.\n",
    "\n",
    "(Remark 1) Each app has several tens of thousands of reviews, however we cannot always be sure that each selected datapoint (date) has 100 reviews. For datasets with less than 100K reviews, this may often be the case.\n",
    "\n",
    "We iterate through each date, and then perform a stratified sample of 100 reviews based on the rating (1-5), so that the selected 100 reviews are representative of all the reviews that were written on that date.\n",
    "\n",
    "(Remark 2) To perform the stratified sample, we make use of ScikitLearn 'SplitTrainTest' method, which accepts a percentage that indicates how large the _test_ set should be. As we want _exactly_ 100 reviews, we have to calculate how much 100 reviews is in percent, with respect to the reviews in the given datapoint.\n",
    "\n",
    "Finding the percentage 100 is of AMOUNT_OF_REVIEWS = (100 / REVIEW_COUNT) * 100 \n",
    "\n",
    "Considering Remark 1, we do this wherever possible. If it is not possible, we simply take the reviews that are there."
   ]
  },
  {
   "cell_type": "code",
   "execution_count": 27,
   "metadata": {},
   "outputs": [
    {
     "data": {
      "text/plain": [
       "<matplotlib.axes._subplots.AxesSubplot at 0x11280bb90>"
      ]
     },
     "execution_count": 27,
     "metadata": {},
     "output_type": "execute_result"
    },
    {
     "data": {
      "image/png": "[encoded data removed]",
      "text/plain": [
       "<Figure size 432x288 with 1 Axes>"
      ]
     },
     "metadata": {
      "needs_background": "light"
     },
     "output_type": "display_data"
    }
   ],
   "source": [
    "# distribution of rating across ENTIRE dataset\n",
    "rcc['reddit']['Rating'].hist()"
   ]
  },
  {
   "cell_type": "code",
   "execution_count": 28,
   "metadata": {},
   "outputs": [
    {
     "data": {
      "text/plain": [
       "5    0.606940\n",
       "4    0.146608\n",
       "1    0.142479\n",
       "3    0.055668\n",
       "2    0.048305\n",
       "Name: Rating, dtype: float64"
      ]
     },
     "execution_count": 28,
     "metadata": {},
     "output_type": "execute_result"
    }
   ],
   "source": [
    "rcc['reddit']['Rating'].value_counts() / len(rcc['reddit'])"
   ]
  },
  {
   "cell_type": "code",
   "execution_count": 29,
   "metadata": {},
   "outputs": [
    {
     "data": {
      "text/plain": [
       "<matplotlib.axes._subplots.AxesSubplot at 0x103221b90>"
      ]
     },
     "execution_count": 29,
     "metadata": {},
     "output_type": "execute_result"
    },
    {
     "data": {
      "image/png": "[encoded data removed]",
      "text/plain": [
       "<Figure size 432x288 with 1 Axes>"
      ]
     },
     "metadata": {
      "needs_background": "light"
     },
     "output_type": "display_data"
    }
   ],
   "source": [
    "# distribution of rating on a given date\n",
    "rcc['reddit']['Rating'].loc[dates[-1]].hist()"
   ]
  },
  {
   "cell_type": "code",
   "execution_count": 30,
   "metadata": {},
   "outputs": [
    {
     "data": {
      "text/plain": [
       "5    0.675978\n",
       "4    0.203911\n",
       "3    0.050279\n",
       "1    0.050279\n",
       "2    0.019553\n",
       "Name: Rating, dtype: float64"
      ]
     },
     "execution_count": 30,
     "metadata": {},
     "output_type": "execute_result"
    }
   ],
   "source": [
    "# rating ratio on a given date\n",
    "rcc['reddit']['Rating'].loc[dates[1]].value_counts() / len(rcc['reddit'].loc[dates[1]])"
   ]
  },
  {
   "cell_type": "markdown",
   "metadata": {},
   "source": [
    "# final touches\n",
    "\n",
    "The dataframe 'rcc' (cleaned reviews) is the one we pipe into an Excel sheet.\n",
    "\n",
    "However, we only need a few columns, also, ReplyDate is a boolean field."
   ]
  },
  {
   "cell_type": "code",
   "execution_count": 31,
   "metadata": {},
   "outputs": [
    {
     "data": {
      "text/html": [
       "<div>\n",
       "<style scoped>\n",
       "    .dataframe tbody tr th:only-of-type {\n",
       "        vertical-align: middle;\n",
       "    }\n",
       "\n",
       "    .dataframe tbody tr th {\n",
       "        vertical-align: top;\n",
       "    }\n",
       "\n",
       "    .dataframe thead th {\n",
       "        text-align: right;\n",
       "    }\n",
       "</style>\n",
       "<table border=\"1\" class=\"dataframe\">\n",
       "  <thead>\n",
       "    <tr style=\"text-align: right;\">\n",
       "      <th></th>\n",
       "      <th>Username</th>\n",
       "      <th>Rating</th>\n",
       "      <th>Review</th>\n",
       "      <th>Words</th>\n",
       "      <th>Chars</th>\n",
       "      <th>Likes</th>\n",
       "      <th>ReplyDate</th>\n",
       "      <th>Year</th>\n",
       "      <th>Month</th>\n",
       "      <th>Weekday Name</th>\n",
       "    </tr>\n",
       "    <tr>\n",
       "      <th>Timestamp</th>\n",
       "      <th></th>\n",
       "      <th></th>\n",
       "      <th></th>\n",
       "      <th></th>\n",
       "      <th></th>\n",
       "      <th></th>\n",
       "      <th></th>\n",
       "      <th></th>\n",
       "      <th></th>\n",
       "      <th></th>\n",
       "    </tr>\n",
       "  </thead>\n",
       "  <tbody>\n",
       "    <tr>\n",
       "      <th>2019-12-31 23:36:53.970000+00:00</th>\n",
       "      <td>Robert Bolton</td>\n",
       "      <td>5</td>\n",
       "      <td>Watch hours of your life vanish with glee</td>\n",
       "      <td>8</td>\n",
       "      <td>41</td>\n",
       "      <td>0</td>\n",
       "      <td>0</td>\n",
       "      <td>2019</td>\n",
       "      <td>12</td>\n",
       "      <td>Tuesday</td>\n",
       "    </tr>\n",
       "  </tbody>\n",
       "</table>\n",
       "</div>"
      ],
      "text/plain": [
       "                                       Username  Rating  \\\n",
       "Timestamp                                                 \n",
       "2019-12-31 23:36:53.970000+00:00  Robert Bolton       5   \n",
       "\n",
       "                                                                     Review  \\\n",
       "Timestamp                                                                     \n",
       "2019-12-31 23:36:53.970000+00:00  Watch hours of your life vanish with glee   \n",
       "\n",
       "                                  Words  Chars  Likes  ReplyDate  Year  Month  \\\n",
       "Timestamp                                                                       \n",
       "2019-12-31 23:36:53.970000+00:00      8     41      0          0  2019     12   \n",
       "\n",
       "                                 Weekday Name  \n",
       "Timestamp                                      \n",
       "2019-12-31 23:36:53.970000+00:00      Tuesday  "
      ]
     },
     "execution_count": 31,
     "metadata": {},
     "output_type": "execute_result"
    }
   ],
   "source": [
    "rcc['reddit'].head(1)"
   ]
  },
  {
   "cell_type": "code",
   "execution_count": 32,
   "metadata": {},
   "outputs": [
    {
     "data": {
      "text/html": [
       "<div>\n",
       "<style scoped>\n",
       "    .dataframe tbody tr th:only-of-type {\n",
       "        vertical-align: middle;\n",
       "    }\n",
       "\n",
       "    .dataframe tbody tr th {\n",
       "        vertical-align: top;\n",
       "    }\n",
       "\n",
       "    .dataframe thead th {\n",
       "        text-align: right;\n",
       "    }\n",
       "</style>\n",
       "<table border=\"1\" class=\"dataframe\">\n",
       "  <thead>\n",
       "    <tr style=\"text-align: right;\">\n",
       "      <th></th>\n",
       "      <th>Rating</th>\n",
       "      <th>Review</th>\n",
       "      <th>Likes</th>\n",
       "      <th>ReplyDate</th>\n",
       "    </tr>\n",
       "    <tr>\n",
       "      <th>Timestamp</th>\n",
       "      <th></th>\n",
       "      <th></th>\n",
       "      <th></th>\n",
       "      <th></th>\n",
       "    </tr>\n",
       "  </thead>\n",
       "  <tbody>\n",
       "    <tr>\n",
       "      <th>2019-12-31 23:36:53.970000+00:00</th>\n",
       "      <td>5</td>\n",
       "      <td>Watch hours of your life vanish with glee</td>\n",
       "      <td>0</td>\n",
       "      <td>0</td>\n",
       "    </tr>\n",
       "  </tbody>\n",
       "</table>\n",
       "</div>"
      ],
      "text/plain": [
       "                                  Rating  \\\n",
       "Timestamp                                  \n",
       "2019-12-31 23:36:53.970000+00:00       5   \n",
       "\n",
       "                                                                     Review  \\\n",
       "Timestamp                                                                     \n",
       "2019-12-31 23:36:53.970000+00:00  Watch hours of your life vanish with glee   \n",
       "\n",
       "                                  Likes  ReplyDate  \n",
       "Timestamp                                           \n",
       "2019-12-31 23:36:53.970000+00:00      0          0  "
      ]
     },
     "execution_count": 32,
     "metadata": {},
     "output_type": "execute_result"
    }
   ],
   "source": [
    "rcc2 = rcc.copy()\n",
    "\n",
    "rcc2['reddit'] = rcc2['reddit'].drop(['Username', 'Words', 'Chars', 'Year', 'Month', 'Weekday Name'], axis=1)\n",
    "rcc2['reddit'].head(1)"
   ]
  },
  {
   "cell_type": "code",
   "execution_count": 33,
   "metadata": {},
   "outputs": [
    {
     "data": {
      "text/html": [
       "<div>\n",
       "<style scoped>\n",
       "    .dataframe tbody tr th:only-of-type {\n",
       "        vertical-align: middle;\n",
       "    }\n",
       "\n",
       "    .dataframe tbody tr th {\n",
       "        vertical-align: top;\n",
       "    }\n",
       "\n",
       "    .dataframe thead th {\n",
       "        text-align: right;\n",
       "    }\n",
       "</style>\n",
       "<table border=\"1\" class=\"dataframe\">\n",
       "  <thead>\n",
       "    <tr style=\"text-align: right;\">\n",
       "      <th></th>\n",
       "      <th>Rating</th>\n",
       "      <th>Review</th>\n",
       "      <th>Likes</th>\n",
       "      <th>Reply?</th>\n",
       "    </tr>\n",
       "    <tr>\n",
       "      <th>Timestamp</th>\n",
       "      <th></th>\n",
       "      <th></th>\n",
       "      <th></th>\n",
       "      <th></th>\n",
       "    </tr>\n",
       "  </thead>\n",
       "  <tbody>\n",
       "    <tr>\n",
       "      <th>2019-12-31 23:36:53.970000+00:00</th>\n",
       "      <td>5</td>\n",
       "      <td>Watch hours of your life vanish with glee</td>\n",
       "      <td>0</td>\n",
       "      <td>0</td>\n",
       "    </tr>\n",
       "  </tbody>\n",
       "</table>\n",
       "</div>"
      ],
      "text/plain": [
       "                                  Rating  \\\n",
       "Timestamp                                  \n",
       "2019-12-31 23:36:53.970000+00:00       5   \n",
       "\n",
       "                                                                     Review  \\\n",
       "Timestamp                                                                     \n",
       "2019-12-31 23:36:53.970000+00:00  Watch hours of your life vanish with glee   \n",
       "\n",
       "                                  Likes  Reply?  \n",
       "Timestamp                                        \n",
       "2019-12-31 23:36:53.970000+00:00      0       0  "
      ]
     },
     "execution_count": 33,
     "metadata": {},
     "output_type": "execute_result"
    }
   ],
   "source": [
    "rcc2['reddit'] = rcc2['reddit'].rename(columns = {\n",
    "    \"ReplyDate\": \"Reply?\"\n",
    "}, errors=\"raise\")\n",
    "rcc2['reddit'].head(1)"
   ]
  },
  {
   "cell_type": "code",
   "execution_count": 34,
   "metadata": {},
   "outputs": [
    {
     "data": {
      "text/html": [
       "<div>\n",
       "<style scoped>\n",
       "    .dataframe tbody tr th:only-of-type {\n",
       "        vertical-align: middle;\n",
       "    }\n",
       "\n",
       "    .dataframe tbody tr th {\n",
       "        vertical-align: top;\n",
       "    }\n",
       "\n",
       "    .dataframe thead th {\n",
       "        text-align: right;\n",
       "    }\n",
       "</style>\n",
       "<table border=\"1\" class=\"dataframe\">\n",
       "  <thead>\n",
       "    <tr style=\"text-align: right;\">\n",
       "      <th></th>\n",
       "      <th>Rating</th>\n",
       "      <th>Review</th>\n",
       "      <th>Likes</th>\n",
       "      <th>Reply?</th>\n",
       "    </tr>\n",
       "  </thead>\n",
       "  <tbody>\n",
       "  </tbody>\n",
       "</table>\n",
       "</div>"
      ],
      "text/plain": [
       "Empty DataFrame\n",
       "Columns: [Rating, Review, Likes, Reply?]\n",
       "Index: []"
      ]
     },
     "execution_count": 34,
     "metadata": {},
     "output_type": "execute_result"
    }
   ],
   "source": [
    "# make new dataframe to hold our samples from each date\n",
    "selected_reviews = pd.DataFrame(columns=rcc2['reddit'].columns)\n",
    "selected_reviews.head()"
   ]
  },
  {
   "cell_type": "code",
   "execution_count": 35,
   "metadata": {},
   "outputs": [
    {
     "name": "stdout",
     "output_type": "stream",
     "text": [
      "(2019-03-01) 100 reviews in % of 307: 32.57%\n"
     ]
    },
    {
     "data": {
      "text/html": [
       "<div>\n",
       "<style scoped>\n",
       "    .dataframe tbody tr th:only-of-type {\n",
       "        vertical-align: middle;\n",
       "    }\n",
       "\n",
       "    .dataframe tbody tr th {\n",
       "        vertical-align: top;\n",
       "    }\n",
       "\n",
       "    .dataframe thead th {\n",
       "        text-align: right;\n",
       "    }\n",
       "</style>\n",
       "<table border=\"1\" class=\"dataframe\">\n",
       "  <thead>\n",
       "    <tr style=\"text-align: right;\">\n",
       "      <th></th>\n",
       "      <th>Rating</th>\n",
       "      <th>Review</th>\n",
       "      <th>Likes</th>\n",
       "      <th>Reply?</th>\n",
       "    </tr>\n",
       "    <tr>\n",
       "      <th>Timestamp</th>\n",
       "      <th></th>\n",
       "      <th></th>\n",
       "      <th></th>\n",
       "      <th></th>\n",
       "    </tr>\n",
       "  </thead>\n",
       "  <tbody>\n",
       "    <tr>\n",
       "      <th>2019-03-01 23:42:58.740000+00:00</th>\n",
       "      <td>4</td>\n",
       "      <td>I enjoy reddit and all the different categorie...</td>\n",
       "      <td>0</td>\n",
       "      <td>0</td>\n",
       "    </tr>\n",
       "    <tr>\n",
       "      <th>2019-03-01 17:38:04.986000+00:00</th>\n",
       "      <td>4</td>\n",
       "      <td>I like the content, but the app has issues. No...</td>\n",
       "      <td>2</td>\n",
       "      <td>0</td>\n",
       "    </tr>\n",
       "    <tr>\n",
       "      <th>2019-03-01 02:40:37.388000+00:00</th>\n",
       "      <td>4</td>\n",
       "      <td>Decent app, only complain is probably the comm...</td>\n",
       "      <td>0</td>\n",
       "      <td>0</td>\n",
       "    </tr>\n",
       "    <tr>\n",
       "      <th>2019-03-01 09:55:01.700000+00:00</th>\n",
       "      <td>5</td>\n",
       "      <td>very informative on many different aspects...</td>\n",
       "      <td>1</td>\n",
       "      <td>0</td>\n",
       "    </tr>\n",
       "    <tr>\n",
       "      <th>2019-03-01 22:44:14.587000+00:00</th>\n",
       "      <td>5</td>\n",
       "      <td>very fun to use, many different communities to...</td>\n",
       "      <td>0</td>\n",
       "      <td>0</td>\n",
       "    </tr>\n",
       "    <tr>\n",
       "      <th>...</th>\n",
       "      <td>...</td>\n",
       "      <td>...</td>\n",
       "      <td>...</td>\n",
       "      <td>...</td>\n",
       "    </tr>\n",
       "    <tr>\n",
       "      <th>2019-03-01 11:44:15.976000+00:00</th>\n",
       "      <td>5</td>\n",
       "      <td>Works fairly well as an application.</td>\n",
       "      <td>0</td>\n",
       "      <td>0</td>\n",
       "    </tr>\n",
       "    <tr>\n",
       "      <th>2019-03-01 09:48:22.518000+00:00</th>\n",
       "      <td>4</td>\n",
       "      <td>can be a lot better and practical but still i ...</td>\n",
       "      <td>0</td>\n",
       "      <td>0</td>\n",
       "    </tr>\n",
       "    <tr>\n",
       "      <th>2019-03-01 19:37:18.616000+00:00</th>\n",
       "      <td>5</td>\n",
       "      <td>i got 4th level cancer in one week and have 3 ...</td>\n",
       "      <td>0</td>\n",
       "      <td>0</td>\n",
       "    </tr>\n",
       "    <tr>\n",
       "      <th>2019-03-01 12:13:15.988000+00:00</th>\n",
       "      <td>1</td>\n",
       "      <td>cannot disable notifications without making an...</td>\n",
       "      <td>2</td>\n",
       "      <td>0</td>\n",
       "    </tr>\n",
       "    <tr>\n",
       "      <th>2019-03-01 05:11:24.514000+00:00</th>\n",
       "      <td>5</td>\n",
       "      <td>this is a great way to get info on games updat...</td>\n",
       "      <td>1</td>\n",
       "      <td>0</td>\n",
       "    </tr>\n",
       "  </tbody>\n",
       "</table>\n",
       "<p>100 rows × 4 columns</p>\n",
       "</div>"
      ],
      "text/plain": [
       "                                  Rating  \\\n",
       "Timestamp                                  \n",
       "2019-03-01 23:42:58.740000+00:00       4   \n",
       "2019-03-01 17:38:04.986000+00:00       4   \n",
       "2019-03-01 02:40:37.388000+00:00       4   \n",
       "2019-03-01 09:55:01.700000+00:00       5   \n",
       "2019-03-01 22:44:14.587000+00:00       5   \n",
       "...                                  ...   \n",
       "2019-03-01 11:44:15.976000+00:00       5   \n",
       "2019-03-01 09:48:22.518000+00:00       4   \n",
       "2019-03-01 19:37:18.616000+00:00       5   \n",
       "2019-03-01 12:13:15.988000+00:00       1   \n",
       "2019-03-01 05:11:24.514000+00:00       5   \n",
       "\n",
       "                                                                             Review  \\\n",
       "Timestamp                                                                             \n",
       "2019-03-01 23:42:58.740000+00:00  I enjoy reddit and all the different categorie...   \n",
       "2019-03-01 17:38:04.986000+00:00  I like the content, but the app has issues. No...   \n",
       "2019-03-01 02:40:37.388000+00:00  Decent app, only complain is probably the comm...   \n",
       "2019-03-01 09:55:01.700000+00:00      very informative on many different aspects...   \n",
       "2019-03-01 22:44:14.587000+00:00  very fun to use, many different communities to...   \n",
       "...                                                                             ...   \n",
       "2019-03-01 11:44:15.976000+00:00               Works fairly well as an application.   \n",
       "2019-03-01 09:48:22.518000+00:00  can be a lot better and practical but still i ...   \n",
       "2019-03-01 19:37:18.616000+00:00  i got 4th level cancer in one week and have 3 ...   \n",
       "2019-03-01 12:13:15.988000+00:00  cannot disable notifications without making an...   \n",
       "2019-03-01 05:11:24.514000+00:00  this is a great way to get info on games updat...   \n",
       "\n",
       "                                  Likes  Reply?  \n",
       "Timestamp                                        \n",
       "2019-03-01 23:42:58.740000+00:00      0       0  \n",
       "2019-03-01 17:38:04.986000+00:00      2       0  \n",
       "2019-03-01 02:40:37.388000+00:00      0       0  \n",
       "2019-03-01 09:55:01.700000+00:00      1       0  \n",
       "2019-03-01 22:44:14.587000+00:00      0       0  \n",
       "...                                 ...     ...  \n",
       "2019-03-01 11:44:15.976000+00:00      0       0  \n",
       "2019-03-01 09:48:22.518000+00:00      0       0  \n",
       "2019-03-01 19:37:18.616000+00:00      0       0  \n",
       "2019-03-01 12:13:15.988000+00:00      2       0  \n",
       "2019-03-01 05:11:24.514000+00:00      1       0  \n",
       "\n",
       "[100 rows x 4 columns]"
      ]
     },
     "execution_count": 35,
     "metadata": {},
     "output_type": "execute_result"
    }
   ],
   "source": [
    "from sklearn.model_selection import StratifiedShuffleSplit\n",
    "\n",
    "def get_strat_sample(app, date):\n",
    "    reviews_on_date = rcc2[app].loc[date]\n",
    "    ratings_on_date = reviews_on_date['Rating']\n",
    "\n",
    "    pct_100 = (100 / len(reviews_on_date))\n",
    "    \n",
    "    print(f\"({date}) 100 reviews in % of {len(reviews_on_date)}: {round((pct_100 * 100), 2)}%\")\n",
    "    \n",
    "    split = StratifiedShuffleSplit(n_splits=1, test_size=pct_100, random_state=23)\n",
    "    for train_index, test_index in split.split(reviews_on_date, ratings_on_date):\n",
    "        strat_train_set = reviews_on_date.iloc[train_index]\n",
    "        strat_test_set = reviews_on_date.iloc[test_index]\n",
    "\n",
    "    return strat_test_set\n",
    "        \n",
    "test = get_strat_sample('reddit', '2019-03-01')\n",
    "test"
   ]
  },
  {
   "cell_type": "code",
   "execution_count": 36,
   "metadata": {},
   "outputs": [
    {
     "data": {
      "text/plain": [
       "5    0.72\n",
       "4    0.18\n",
       "1    0.05\n",
       "3    0.03\n",
       "2    0.02\n",
       "Name: Rating, dtype: float64"
      ]
     },
     "execution_count": 36,
     "metadata": {},
     "output_type": "execute_result"
    }
   ],
   "source": [
    "test['Rating'].value_counts() / len(test)"
   ]
  },
  {
   "cell_type": "code",
   "execution_count": 37,
   "metadata": {},
   "outputs": [
    {
     "data": {
      "text/plain": [
       "5    0.723127\n",
       "4    0.175896\n",
       "1    0.048860\n",
       "3    0.035831\n",
       "2    0.016287\n",
       "Name: Rating, dtype: float64"
      ]
     },
     "execution_count": 37,
     "metadata": {},
     "output_type": "execute_result"
    }
   ],
   "source": [
    "rcc['reddit']['Rating'].loc['2019-03-01'].value_counts() / len(rcc['reddit'].loc['2019-03-01'])"
   ]
  },
  {
   "cell_type": "markdown",
   "metadata": {},
   "source": [
    "It is demonstrated in the two above cells that the ratio of the rating in the (stratified, \"test set\") sample is close to identical with that found in the whole collection of reviews on the date from which reviews were sampled."
   ]
  },
  {
   "cell_type": "code",
   "execution_count": 38,
   "metadata": {},
   "outputs": [
    {
     "name": "stdout",
     "output_type": "stream",
     "text": [
      "For date: 03-01-2019 found GT 100 reviews (307). Performing strat sample\n",
      "(03-01-2019) 100 reviews in % of 307: 32.57%\n",
      "For date: 03-30-2019 found GT 100 reviews (358). Performing strat sample\n",
      "(03-30-2019) 100 reviews in % of 358: 27.93%\n",
      "For date: 04-15-2019 found GT 100 reviews (401). Performing strat sample\n",
      "(04-15-2019) 100 reviews in % of 401: 24.94%\n",
      "For date: 04-26-2019 found GT 100 reviews (355). Performing strat sample\n",
      "(04-26-2019) 100 reviews in % of 355: 28.17%\n",
      "For date: 05-08-2019 found GT 100 reviews (430). Performing strat sample\n",
      "(05-08-2019) 100 reviews in % of 430: 23.26%\n",
      "For date: 05-25-2019 found GT 100 reviews (386). Performing strat sample\n",
      "(05-25-2019) 100 reviews in % of 386: 25.91%\n",
      "For date: 06-08-2019 found GT 100 reviews (344). Performing strat sample\n",
      "(06-08-2019) 100 reviews in % of 344: 29.07%\n",
      "For date: 06-21-2019 found GT 100 reviews (308). Performing strat sample\n",
      "(06-21-2019) 100 reviews in % of 308: 32.47%\n",
      "For date: 09-10-2019 found GT 100 reviews (302). Performing strat sample\n",
      "(09-10-2019) 100 reviews in % of 302: 33.11%\n",
      "For date: 11-21-2019 found GT 100 reviews (309). Performing strat sample\n",
      "(11-21-2019) 100 reviews in % of 309: 32.36%\n",
      "For date: 05-11-2019 found GT 100 reviews (235). Performing strat sample\n",
      "(05-11-2019) 100 reviews in % of 235: 42.55%\n",
      "For date: 08-03-2019 found GT 100 reviews (236). Performing strat sample\n",
      "(08-03-2019) 100 reviews in % of 236: 42.37%\n",
      "For date: 03-15-2019 found GT 100 reviews (237). Performing strat sample\n",
      "(03-15-2019) 100 reviews in % of 237: 42.19%\n",
      "For date: 08-29-2019 found GT 100 reviews (243). Performing strat sample\n",
      "(08-29-2019) 100 reviews in % of 243: 41.15%\n",
      "For date: 02-14-2019 found GT 100 reviews (245). Performing strat sample\n",
      "(02-14-2019) 100 reviews in % of 245: 40.82%\n",
      "For date: 07-24-2019 found GT 100 reviews (247). Performing strat sample\n",
      "(07-24-2019) 100 reviews in % of 247: 40.49%\n",
      "For date: 07-05-2019 found GT 100 reviews (252). Performing strat sample\n",
      "(07-05-2019) 100 reviews in % of 252: 39.68%\n",
      "For date: 09-24-2019 found GT 100 reviews (254). Performing strat sample\n",
      "(09-24-2019) 100 reviews in % of 254: 39.37%\n",
      "For date: 07-25-2019 found GT 100 reviews (256). Performing strat sample\n",
      "(07-25-2019) 100 reviews in % of 256: 39.06%\n",
      "For date: 08-16-2019 found GT 100 reviews (257). Performing strat sample\n",
      "(08-16-2019) 100 reviews in % of 257: 38.91%\n",
      "For date: 02-15-2019 found GT 100 reviews (224). Performing strat sample\n",
      "(02-15-2019) 100 reviews in % of 224: 44.64%\n",
      "For date: 08-10-2019 found GT 100 reviews (123). Performing strat sample\n",
      "(08-10-2019) 100 reviews in % of 123: 81.3%\n",
      "For date: 01-03-2019 found LT 100 reviews (47). Selecting all\n",
      "For date: 01-04-2019 found LT 100 reviews (55). Selecting all\n",
      "For date: 01-05-2019 found LT 100 reviews (56). Selecting all\n",
      "For date: 01-06-2019 found LT 100 reviews (45). Selecting all\n",
      "For date: 01-07-2019 found LT 100 reviews (53). Selecting all\n",
      "For date: 01-08-2019 found LT 100 reviews (61). Selecting all\n",
      "For date: 01-09-2019 found LT 100 reviews (62). Selecting all\n",
      "For date: 01-10-2019 found LT 100 reviews (64). Selecting all\n",
      "For date: 02-09-2019 found LT 100 reviews (88). Selecting all\n",
      "For date: 09-30-2019 found LT 100 reviews (88). Selecting all\n",
      "For date: 08-06-2019 found GT 100 reviews (155). Performing strat sample\n",
      "(08-06-2019) 100 reviews in % of 155: 64.52%\n",
      "For date: 06-24-2019 found GT 100 reviews (203). Performing strat sample\n",
      "(06-24-2019) 100 reviews in % of 203: 49.26%\n",
      "For date: 06-07-2019 found GT 100 reviews (195). Performing strat sample\n",
      "(06-07-2019) 100 reviews in % of 195: 51.28%\n",
      "For date: 08-17-2019 found GT 100 reviews (197). Performing strat sample\n",
      "(08-17-2019) 100 reviews in % of 197: 50.76%\n",
      "For date: 05-14-2019 found GT 100 reviews (152). Performing strat sample\n",
      "(05-14-2019) 100 reviews in % of 152: 65.79%\n",
      "For date: 05-03-2019 found GT 100 reviews (133). Performing strat sample\n",
      "(05-03-2019) 100 reviews in % of 133: 75.19%\n",
      "For date: 11-18-2019 found LT 100 reviews (94). Selecting all\n",
      "For date: 03-14-2019 found GT 100 reviews (286). Performing strat sample\n",
      "(03-14-2019) 100 reviews in % of 286: 34.97%\n",
      "11/40 days did not have 100 reviews\n",
      "3614 reviews selected from 40 unique dates\n"
     ]
    }
   ],
   "source": [
    "lt_100_counter = 0\n",
    "for date in dates:\n",
    "    data = rcc2['reddit'].loc[date]\n",
    "    if len(data) < 110: # technically there only has to be 100 reviews present, but it turns out\n",
    "                        # the SplitStratified (scikit.learn) needs a little wiggleroom (~10 reviews)\n",
    "        print(f'For date: {date} found LT 100 reviews ({len(data)}). Selecting all')\n",
    "        lt_100_counter += 1\n",
    "        sample = data\n",
    "    else:\n",
    "        print(f'For date: {date} found GT 100 reviews ({len(data)}). Performing strat sample')\n",
    "        sample = get_strat_sample('reddit', date)\n",
    "        \n",
    "    for idx, row in sample.iterrows():\n",
    "        selected_reviews.loc[idx] = row\n",
    "        \n",
    "if lt_100_counter != 0:\n",
    "    print(f\"{lt_100_counter}/40 days did not have 100 reviews\")\n",
    "else:\n",
    "    print(\"All days had at least 100 reviews\")\n",
    "print(f\"{len(selected_reviews)} reviews selected from {len(dates)} unique dates\")"
   ]
  },
  {
   "cell_type": "code",
   "execution_count": 41,
   "metadata": {
    "scrolled": false
   },
   "outputs": [
    {
     "name": "stdout",
     "output_type": "stream",
     "text": [
      "<class 'pandas.core.frame.DataFrame'>\n",
      "DatetimeIndex: 3614 entries, 2019-03-01 23:42:58.740000+00:00 to 2019-03-14 04:12:45.192000+00:00\n",
      "Data columns (total 4 columns):\n",
      "Rating    3614 non-null object\n",
      "Review    3614 non-null object\n",
      "Likes     3614 non-null object\n",
      "Reply?    3614 non-null object\n",
      "dtypes: object(4)\n",
      "memory usage: 141.2+ KB\n"
     ]
    }
   ],
   "source": [
    "selected_reviews.info()"
   ]
  },
  {
   "cell_type": "code",
   "execution_count": 42,
   "metadata": {
    "scrolled": true
   },
   "outputs": [
    {
     "data": {
      "text/plain": [
       "2019-02-14 18:20:46.850000+00:00    How do you get on incognito... err asking for ...\n",
       "Name: Review, dtype: object"
      ]
     },
     "execution_count": 42,
     "metadata": {},
     "output_type": "execute_result"
    }
   ],
   "source": [
    "selected_reviews['Review'][selected_reviews['Reply?'] == 1]"
   ]
  },
  {
   "cell_type": "markdown",
   "metadata": {},
   "source": [
    "# build xlsx"
   ]
  },
  {
   "cell_type": "code",
   "execution_count": 43,
   "metadata": {},
   "outputs": [
    {
     "name": "stdout",
     "output_type": "stream",
     "text": [
      "MM-DD-YYYY: 03-01-2019, YYYY-DD-MM: 2019-03-01\n",
      "MM-DD-YYYY: 03-30-2019, YYYY-DD-MM: 2019-03-30\n",
      "MM-DD-YYYY: 04-15-2019, YYYY-DD-MM: 2019-04-15\n",
      "MM-DD-YYYY: 04-26-2019, YYYY-DD-MM: 2019-04-26\n",
      "MM-DD-YYYY: 05-08-2019, YYYY-DD-MM: 2019-05-08\n",
      "MM-DD-YYYY: 05-25-2019, YYYY-DD-MM: 2019-05-25\n",
      "MM-DD-YYYY: 06-08-2019, YYYY-DD-MM: 2019-06-08\n",
      "MM-DD-YYYY: 06-21-2019, YYYY-DD-MM: 2019-06-21\n",
      "MM-DD-YYYY: 09-10-2019, YYYY-DD-MM: 2019-09-10\n",
      "MM-DD-YYYY: 11-21-2019, YYYY-DD-MM: 2019-11-21\n",
      "MM-DD-YYYY: 05-11-2019, YYYY-DD-MM: 2019-05-11\n",
      "MM-DD-YYYY: 08-03-2019, YYYY-DD-MM: 2019-08-03\n",
      "MM-DD-YYYY: 03-15-2019, YYYY-DD-MM: 2019-03-15\n",
      "MM-DD-YYYY: 08-29-2019, YYYY-DD-MM: 2019-08-29\n",
      "MM-DD-YYYY: 02-14-2019, YYYY-DD-MM: 2019-02-14\n",
      "MM-DD-YYYY: 07-24-2019, YYYY-DD-MM: 2019-07-24\n",
      "MM-DD-YYYY: 07-05-2019, YYYY-DD-MM: 2019-07-05\n",
      "MM-DD-YYYY: 09-24-2019, YYYY-DD-MM: 2019-09-24\n",
      "MM-DD-YYYY: 07-25-2019, YYYY-DD-MM: 2019-07-25\n",
      "MM-DD-YYYY: 08-16-2019, YYYY-DD-MM: 2019-08-16\n",
      "MM-DD-YYYY: 02-15-2019, YYYY-DD-MM: 2019-02-15\n",
      "MM-DD-YYYY: 08-10-2019, YYYY-DD-MM: 2019-08-10\n",
      "MM-DD-YYYY: 01-03-2019, YYYY-DD-MM: 2019-01-03\n",
      "MM-DD-YYYY: 01-04-2019, YYYY-DD-MM: 2019-01-04\n",
      "MM-DD-YYYY: 01-05-2019, YYYY-DD-MM: 2019-01-05\n",
      "MM-DD-YYYY: 01-06-2019, YYYY-DD-MM: 2019-01-06\n",
      "MM-DD-YYYY: 01-07-2019, YYYY-DD-MM: 2019-01-07\n",
      "MM-DD-YYYY: 01-08-2019, YYYY-DD-MM: 2019-01-08\n",
      "MM-DD-YYYY: 01-09-2019, YYYY-DD-MM: 2019-01-09\n",
      "MM-DD-YYYY: 01-10-2019, YYYY-DD-MM: 2019-01-10\n",
      "MM-DD-YYYY: 02-09-2019, YYYY-DD-MM: 2019-02-09\n",
      "MM-DD-YYYY: 09-30-2019, YYYY-DD-MM: 2019-09-30\n",
      "MM-DD-YYYY: 08-06-2019, YYYY-DD-MM: 2019-08-06\n",
      "MM-DD-YYYY: 06-24-2019, YYYY-DD-MM: 2019-06-24\n",
      "MM-DD-YYYY: 06-07-2019, YYYY-DD-MM: 2019-06-07\n",
      "MM-DD-YYYY: 08-17-2019, YYYY-DD-MM: 2019-08-17\n",
      "MM-DD-YYYY: 05-14-2019, YYYY-DD-MM: 2019-05-14\n",
      "MM-DD-YYYY: 05-03-2019, YYYY-DD-MM: 2019-05-03\n",
      "MM-DD-YYYY: 11-18-2019, YYYY-DD-MM: 2019-11-18\n",
      "MM-DD-YYYY: 03-14-2019, YYYY-DD-MM: 2019-03-14\n"
     ]
    }
   ],
   "source": [
    "m_d_y_dates = dates\n",
    "y_m_d_dates = []\n",
    "for date in m_d_y_dates:\n",
    "    arr = date.split(\"-\")\n",
    "    m = arr[0]\n",
    "    d = arr[1]\n",
    "    y = arr[2]\n",
    "    ymd = y + '-' + m + '-' + d\n",
    "    y_m_d_dates.append(ymd)\n",
    "    print(f\"MM-DD-YYYY: {date}, YYYY-DD-MM: {ymd}\")\n",
    "    \n",
    "def get_ymd_date(date):\n",
    "    arr = date.split(\"-\")\n",
    "    m = arr[0]\n",
    "    d = arr[1]\n",
    "    y = arr[2]\n",
    "    ymd = y + '-' + m + '-' + d\n",
    "    return ymd"
   ]
  },
  {
   "cell_type": "code",
   "execution_count": 48,
   "metadata": {},
   "outputs": [
    {
     "name": "stdout",
     "output_type": "stream",
     "text": [
      "2019-03-01\n",
      "2019-03-30\n",
      "2019-04-15\n",
      "2019-04-26\n",
      "2019-05-08\n",
      "2019-05-25\n",
      "2019-06-08\n",
      "2019-06-21\n",
      "2019-09-10\n",
      "2019-11-21\n",
      "2019-05-11\n",
      "2019-08-03\n",
      "2019-03-15\n",
      "2019-08-29\n",
      "2019-02-14\n",
      "2019-07-24\n",
      "2019-07-05\n",
      "2019-09-24\n",
      "2019-07-25\n",
      "2019-08-16\n",
      "2019-02-15\n",
      "2019-08-10\n",
      "2019-01-03\n",
      "2019-01-04\n",
      "2019-01-05\n",
      "2019-01-06\n",
      "2019-01-07\n",
      "2019-01-08\n",
      "2019-01-09\n",
      "2019-01-10\n",
      "2019-02-09\n",
      "2019-09-30\n",
      "2019-08-06\n",
      "2019-06-24\n",
      "2019-06-07\n",
      "2019-08-17\n",
      "2019-05-14\n",
      "2019-05-03\n",
      "2019-11-18\n",
      "2019-03-14\n"
     ]
    }
   ],
   "source": [
    "for d in y_m_d_dates:\n",
    "    print(d)"
   ]
  },
  {
   "cell_type": "code",
   "execution_count": 44,
   "metadata": {},
   "outputs": [],
   "source": [
    "writer = pd.ExcelWriter('data/excel/reddit.xlsx', engine='xlsxwriter')"
   ]
  },
  {
   "cell_type": "code",
   "execution_count": 45,
   "metadata": {},
   "outputs": [],
   "source": [
    "selected = selected_reviews.copy()\n",
    "selected.index = selected.index.tz_localize(None)\n",
    "\n",
    "c = 1\n",
    "for date in dates:\n",
    "    selected.loc[date].to_excel(writer, sheet_name=get_ymd_date(date))\n",
    "    c += 1\n",
    "    \n",
    "writer.save()"
   ]
  }
 ],
 "metadata": {
  "kernelspec": {
   "display_name": "Python 3",
   "language": "python",
   "name": "python3"
  },
  "language_info": {
   "codemirror_mode": {
    "name": "ipython",
    "version": 3
   },
   "file_extension": ".py",
   "mimetype": "text/x-python",
   "name": "python",
   "nbconvert_exporter": "python",
   "pygments_lexer": "ipython3",
   "version": "3.7.5"
  }
 },
 "nbformat": 4,
 "nbformat_minor": 2
}
