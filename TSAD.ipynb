{
 "cells": [
  {
   "cell_type": "markdown",
   "metadata": {},
   "source": [
    "<h1 style=\"text-align:center;\">Miscellaneous</h1>"
   ]
  },
  {
   "cell_type": "code",
   "execution_count": 1,
   "metadata": {},
   "outputs": [
    {
     "data": {
      "text/html": [
       "<style>\n",
       "    .note {\n",
       "        background-color: hsl(60, 100%, 80%);\n",
       "        border: 1px solid transparent;\n",
       "        border-radius: 5px;\n",
       "        padding: 5px;\n",
       "    }\n",
       "</style>\n"
      ],
      "text/plain": [
       "<IPython.core.display.HTML object>"
      ]
     },
     "metadata": {},
     "output_type": "display_data"
    }
   ],
   "source": [
    "%%HTML\n",
    "<style>\n",
    "    .note {\n",
    "        background-color: hsl(60, 100%, 80%);\n",
    "        border: 1px solid transparent;\n",
    "        border-radius: 5px;\n",
    "        padding: 5px;\n",
    "    }\n",
    "</style>"
   ]
  },
  {
   "cell_type": "markdown",
   "metadata": {},
   "source": [
    "<h2>Applications and Attributes</h2>"
   ]
  },
  {
   "cell_type": "code",
   "execution_count": 2,
   "metadata": {},
   "outputs": [
    {
     "name": "stdout",
     "output_type": "stream",
     "text": [
      "['com.reddit.frontpage', 'com.spotify.music', 'com.snapchat.android', 'com.soundcloud.android', 'com.viber.voip', 'com.tumblr', 'com.tencent.mm', 'com.whatsapp', 'com.ftw_and_co.happn', 'com.twitter.android', 'com.zhiliaoapp.musically', 'com.instagram.android']\n"
     ]
    }
   ],
   "source": [
    "attributes = {\n",
    "    'reddit' : {\n",
    "        'id' : 'com.reddit.frontpage',\n",
    "        'color' : 'darkred',\n",
    "        'linestyle' : 'solid',\n",
    "        'marker': 'tri_down'\n",
    "    },\n",
    "    'spotify': {\n",
    "        'id' : 'com.spotify.music',\n",
    "        'color': 'green',\n",
    "        'linestyle': 'dotted',\n",
    "        'linewidth': '1',\n",
    "        'marker': 'circle'\n",
    "    },\n",
    "    'snapchat': {\n",
    "        'id' : 'com.snapchat.android',\n",
    "        'color': 'yellow',\n",
    "        'linestyle': 'dotted',\n",
    "        'linewidth': '1',\n",
    "        'marker': 'circle'\n",
    "    },\n",
    "    'soundcloud': {\n",
    "        'id' : 'com.soundcloud.android',\n",
    "        'color': 'orange',\n",
    "        'linestyle': 'solid',\n",
    "        'linewidth': '1',\n",
    "        'marker': 'circle'\n",
    "    },\n",
    "    'viber': {\n",
    "        'id' : 'com.viber.voip',\n",
    "        'color': 'purple',\n",
    "        'linestyle': 'dotted',\n",
    "        'linewidth': '1',\n",
    "        'marker': 'circle'\n",
    "    },\n",
    "    'tumblr': {\n",
    "        'id' : 'com.tumblr',\n",
    "        'color': 'teal',\n",
    "        'linestyle': 'solid',\n",
    "        'linewidth': '1',\n",
    "        'marker': 'circle'\n",
    "    },\n",
    "    'tencent': {\n",
    "        'id' : 'com.tencent.mm',\n",
    "        'color': 'lime',\n",
    "        'linestyle': 'dotted',\n",
    "        'linewidth': '1',\n",
    "        'marker': 'circle'\n",
    "    },\n",
    "    'whatsapp': {\n",
    "        'id' : 'com.whatsapp',\n",
    "        'color': 'gray',\n",
    "        'linestyle': 'dotted',\n",
    "        'linewidth': '1',\n",
    "        'marker': 'circle'\n",
    "    },\n",
    "    'happn': {\n",
    "        'id' : 'com.ftw_and_co.happn',\n",
    "        'color': 'red',\n",
    "        'linestyle': 'solid',\n",
    "        'linewidth': '1',\n",
    "        'marker': 'circle'\n",
    "    },\n",
    "    'twitter': {\n",
    "        'id' : 'com.twitter.android',\n",
    "        'color': 'turquoise',\n",
    "        'linestyle': 'solid',\n",
    "        'linewidth': '2',\n",
    "        'marker': 'circle'\n",
    "    },\n",
    "    'tiktok': {\n",
    "        'id' : 'com.zhiliaoapp.musically',\n",
    "        'color': 'lightred',\n",
    "        'linestyle': 'dotted',\n",
    "        'linewidth': '1',\n",
    "        'marker': 'circle'\n",
    "    },\n",
    "    'instagram': {\n",
    "        'id' : 'com.instagram.android',\n",
    "        'color': 'purple',\n",
    "        'linestyle': 'solid',\n",
    "        'linewidth': '2',\n",
    "        'marker': 'circle'\n",
    "    }\n",
    "}\n",
    "\n",
    "apps = list(attributes.keys())\n",
    "app_ids = []\n",
    "for app in apps:\n",
    "    app_ids.append(attributes[app]['id'])\n",
    "print(app_ids)"
   ]
  },
  {
   "cell_type": "code",
   "execution_count": 3,
   "metadata": {},
   "outputs": [],
   "source": [
    "import matplotlib.pyplot as plt\n",
    "import matplotlib as mpl\n",
    "import numpy as np\n",
    "import pandas as pd\n",
    "import re\n",
    "import statistics as s\n",
    "from calendar import monthrange"
   ]
  },
  {
   "cell_type": "markdown",
   "metadata": {},
   "source": [
    "<h1 style=\"text-align:center;\">Introduction</h1>\n",
    "\n",
    "Our goal is to detect anomalies in timeseries data, namely user reviews.\n",
    "\n",
    "## Anomaly Detection\n",
    "\n",
    "<a href=\"https://bitbucket.org/rakibulmdalam/time-series-anomaly-detection-framework/src/master/\">Timeseries Anomaly Detection Framework</a>\n",
    "\n",
    "\n",
    "## Data\n",
    "<h3 style=\"color:green;\">Google Play Store</h3>\n",
    "\n",
    "User review data comes with the following dimensions:\n",
    "- Username (string)\n",
    "- Timestamp (Datetime)\n",
    "- Rating (integer)\n",
    "- Likes (integer)\n",
    "- Review (text)\n",
    "- Replied to (boolean)\n",
    "\n",
    "### Granularity\n",
    "\n",
    "In popular apps reviews can be spaced in time by as little as a few seconds. In less popular apps they can be spaced by more.\n",
    "\n",
    "Given that each review is timestamped, we can collect averages for any time unit:\n",
    "- Hour\n",
    "- Day\n",
    "- Month\n",
    "- Year\n",
    "\n",
    "### Enriching the data\n",
    "\n",
    "We append columns based on existing columns:\n",
    "\n",
    "<ul>\n",
    "    <li>Number of characters in review (integer)</li>\n",
    "    <li>Number of words in review (integer)</li>\n",
    "    <li>Average:</li>\n",
    "    <ul>\n",
    "        <li>Words</li>\n",
    "        <li>Chars</li>\n",
    "        <li>Rating</li>\n",
    "        <li>Likes</li>\n",
    "        <li>Reviews</li>\n",
    "    </ul>\n",
    "</ul>\n",
    "\n",
    "Preliminary cleaning of data:\n",
    "- Remove reviews with less than three words\n",
    "\n",
    "Via a classification algorithm we give the reviews a category:\n",
    "- Improvement request\n",
    "- Bug report\n",
    "- Other\n",
    "\n",
    "Similarly, via a classification algorithm we deduce the review sentiment:\n",
    "- Good\n",
    "- Bad\n",
    "\n",
    "Finally, we re-structure the data to fit the anomaly detection framework:\n",
    "\n",
    "<table style=\"float:left;border:1px solid gray;\">\n",
    "    <tr>\n",
    "        <th>Time</th>\n",
    "        <th>ReviewCount</th>\n",
    "        <th>Rating</th>\n",
    "        <th>Words</th>\n",
    "        <th>Chars</th>\n",
    "        <th>Good</th>\n",
    "        <th>Bad</th>\n",
    "        <th>ImprovementRequest</th>\n",
    "        <th>BugReport</th>\n",
    "        <th>Other</th>\n",
    "    </tr>\n",
    "    <tr>\n",
    "        <td>31-01-2020 16:20</td>\n",
    "        <td>540</td>\n",
    "        <td>2394</td>\n",
    "        <td>13200</td>\n",
    "        <td>32193</td>\n",
    "        <td>120</td>\n",
    "        <td>180</td>\n",
    "        <td>19</td>\n",
    "        <td>45</td>\n",
    "        <td>411</td>\n",
    "    </tr>\n",
    "</table>\n",
    "\n",
    "<br>\n",
    "<br>\n",
    "<br>\n",
    "<br>\n",
    "<br>\n",
    "<span class=\"note\"><strong>NB:</strong> The framework requires each entry to be equally spaced in time!</span>\n",
    "<br>\n",
    "<br>\n",
    "<span class=\"note\"><strong>NB:</strong> The framework requires first column to be named 'Time' and to have format <strong>%d.%m.%Y %H:%M</strong></span>\n",
    "\n",
    "<h2 style=\"color:skyblue\">Sources</h2>\n",
    "\n",
    "- Amazon App Store http://jmcauley.ucsd.edu/data/amazon/\n",
    "- Google Play Store https://github.com/facundoolano/google-play-scraper\n",
    "\n",
    "<h2 style=\"color:purple\">Apps</h2>\n",
    "\n",
    "- Reddit\n",
    "- Spotify\n",
    "- Tumblr\n",
    "- Tencent\n",
    "- Soundcloud\n",
    "- Snapchat\n",
    "- Viber\n",
    "- Twitter\n",
    "- Instagram\n",
    "- Happn\n",
    "- TikTok\n",
    "- WhatsApp"
   ]
  },
  {
   "cell_type": "markdown",
   "metadata": {},
   "source": [
    "<h1 style=\"color:olive;text-align:center;\">Function Definitions</h1>"
   ]
  },
  {
   "cell_type": "code",
   "execution_count": 4,
   "metadata": {},
   "outputs": [],
   "source": [
    "def pie_chart(sizes, labels, title):\n",
    "    fig, ax = plt.subplots()\n",
    "    plt.style.use('fast')\n",
    "    fig=plt.figure(figsize=(14, 10), dpi= 80, facecolor='w', edgecolor='w')\n",
    "    ax.pie(sizes,\n",
    "          labels=labels,\n",
    "          autopct='%1.1f%%',\n",
    "          shadow=True,\n",
    "          startangle=90)\n",
    "\n",
    "    ax.axis('equal')\n",
    "    ax.set(aspect=\"equal\", title=title)\n",
    "    plt.show()\n",
    "    \n",
    "def multi_lineplot2(props, df, title):\n",
    "    fig = plt.figure(figsize=(14, 4), dpi= 80, facecolor='w', edgecolor='k')\n",
    "    plt.style.use('fast')\n",
    "    \n",
    "    for key, value in props.items():\n",
    "        plt.plot(df.index,\n",
    "                df[key],\n",
    "                label=key,\n",
    "                color='%s' % props[key]['color'],\n",
    "                linestyle='%s' % props[key]['linestyle'],\n",
    "                linewidth=1)\n",
    "    plt.title(title)\n",
    "    plt.legend(loc='lower right')\n",
    "    \n",
    "def multi_lineplot(dictionary_appname_properties, dataframe, title):\n",
    "    fig=plt.figure(figsize=(14, 4), dpi= 80, facecolor='w', edgecolor='k')\n",
    "    plt.style.use('classic')\n",
    "    for app, prop in dictionary_appname_properties.items():\n",
    "        plt.plot(dataframe.index,\n",
    "                dataframe[app],\n",
    "                label=app,\n",
    "                color='%s' % applications[app]['color'],\n",
    "                linestyle='%s' % applications[app]['linestyle'],\n",
    "                linewidth=1)\n",
    "    plt.title(title)\n",
    "    plt.legend(loc='lower right')\n",
    "    \n",
    "def lineplot(xaxis, yaxis, title):\n",
    "    fig = plt.figure(figsize=(10, 5), dpi = 80, facecolor = 'w', edgecolor = 'k')\n",
    "    plt.style.use('fast')\n",
    "    plt.xticks(np.arange(min(yaxis), max(yaxis)+1, 1))\n",
    "    plt.plot(xaxis,\n",
    "            yaxis,\n",
    "            linewidth=1)\n",
    "    plt.title(title)\n",
    "\n",
    "def drop_short_reviews(mode, minimum, dataframe):\n",
    "    indices_to_drop = []\n",
    "    for index, row in dataframe.iterrows():\n",
    "        review = row['Review']\n",
    "        if isinstance(review, str):\n",
    "            if mode == \"word\":\n",
    "                words = re.split(\" |-\", review)\n",
    "                if len(words) < minimum:\n",
    "                    indices_to_drop.append(index)\n",
    "            else:\n",
    "                if len(review) < minimum:\n",
    "                    indices_to_drop.append(index)\n",
    "    return indices_to_drop"
   ]
  },
  {
   "cell_type": "markdown",
   "metadata": {},
   "source": [
    "<h1 style=\"text-align:center;\">Data Pre-processing</h1>\n",
    "\n",
    "## Structure\n",
    "We want two __master__ dataframes:\n",
    "1. __sum_df__: Holds all dimension sums per app (daily, hourly, ..)\n",
    "\n",
    "2. __avg_df__: Holds all averages of dimensions per app (daily, hourly, ..)\n",
    "\n",
    "The __key__ is the name of the app, and the __value__ is the app's dataframe.\n",
    "\n",
    "## Timeframe\n",
    "All analysis is performed on reviews found in the year __2019__."
   ]
  },
  {
   "cell_type": "code",
   "execution_count": 5,
   "metadata": {},
   "outputs": [],
   "source": [
    "dfs = {} # starting dataframes from .csv import\n",
    "\n",
    "mdfs = {} # DICT ('app_name') > DICT (month #) > DATAFRAME ('col') > LIST (values)\n",
    "          # mdfs['spotify'][6]['ReviewCount']\n",
    "          # mdfs['spotify'][6].loc['2019-01-01':'2019-01-10']"
   ]
  },
  {
   "cell_type": "code",
   "execution_count": 6,
   "metadata": {},
   "outputs": [
    {
     "name": "stdout",
     "output_type": "stream",
     "text": [
      "com.reddit.frontpage\n",
      "com.spotify.music\n",
      "com.snapchat.android\n",
      "com.soundcloud.android\n",
      "com.viber.voip\n",
      "com.tumblr\n",
      "com.tencent.mm\n",
      "com.whatsapp\n",
      "com.ftw_and_co.happn\n",
      "com.twitter.android\n",
      "com.zhiliaoapp.musically\n",
      "com.instagram.android\n"
     ]
    }
   ],
   "source": [
    "for k, v in attributes.items():\n",
    "    print(attributes[k]['id'])"
   ]
  },
  {
   "cell_type": "markdown",
   "metadata": {},
   "source": [
    "<h1 style='font-size: 5em;'>Import</h1>"
   ]
  },
  {
   "cell_type": "code",
   "execution_count": 7,
   "metadata": {},
   "outputs": [
    {
     "name": "stdout",
     "output_type": "stream",
     "text": [
      "Importing com.reddit.frontpage, putting it in a master dataframe 'dfs' with key reddit\n",
      "Importing com.spotify.music, putting it in a master dataframe 'dfs' with key spotify\n",
      "Importing com.snapchat.android, putting it in a master dataframe 'dfs' with key snapchat\n",
      "Importing com.soundcloud.android, putting it in a master dataframe 'dfs' with key soundcloud\n"
     ]
    },
    {
     "name": "stderr",
     "output_type": "stream",
     "text": [
      "/usr/local/lib/python3.7/site-packages/IPython/core/interactiveshell.py:3058: DtypeWarning: Columns (5) have mixed types. Specify dtype option on import or set low_memory=False.\n",
      "  interactivity=interactivity, compiler=compiler, result=result)\n"
     ]
    },
    {
     "name": "stdout",
     "output_type": "stream",
     "text": [
      "Importing com.viber.voip, putting it in a master dataframe 'dfs' with key viber\n",
      "Importing com.tumblr, putting it in a master dataframe 'dfs' with key tumblr\n",
      "Importing com.tencent.mm, putting it in a master dataframe 'dfs' with key tencent\n",
      "Importing com.whatsapp, putting it in a master dataframe 'dfs' with key whatsapp\n",
      "Importing com.ftw_and_co.happn, putting it in a master dataframe 'dfs' with key happn\n",
      "Importing com.twitter.android, putting it in a master dataframe 'dfs' with key twitter\n",
      "Importing com.zhiliaoapp.musically, putting it in a master dataframe 'dfs' with key tiktok\n",
      "Importing com.instagram.android, putting it in a master dataframe 'dfs' with key instagram\n"
     ]
    },
    {
     "data": {
      "text/html": [
       "<div>\n",
       "<style scoped>\n",
       "    .dataframe tbody tr th:only-of-type {\n",
       "        vertical-align: middle;\n",
       "    }\n",
       "\n",
       "    .dataframe tbody tr th {\n",
       "        vertical-align: top;\n",
       "    }\n",
       "\n",
       "    .dataframe thead th {\n",
       "        text-align: right;\n",
       "    }\n",
       "</style>\n",
       "<table border=\"1\" class=\"dataframe\">\n",
       "  <thead>\n",
       "    <tr style=\"text-align: right;\">\n",
       "      <th></th>\n",
       "      <th>Username</th>\n",
       "      <th>Rating</th>\n",
       "      <th>Review</th>\n",
       "      <th>Likes</th>\n",
       "      <th>ReplyDate</th>\n",
       "    </tr>\n",
       "    <tr>\n",
       "      <th>Timestamp</th>\n",
       "      <th></th>\n",
       "      <th></th>\n",
       "      <th></th>\n",
       "      <th></th>\n",
       "      <th></th>\n",
       "    </tr>\n",
       "  </thead>\n",
       "  <tbody>\n",
       "    <tr>\n",
       "      <th>2019-12-31 23:36:53.970000+00:00</th>\n",
       "      <td>Robert Bolton</td>\n",
       "      <td>5</td>\n",
       "      <td>Watch hours of your life vanish with glee</td>\n",
       "      <td>0</td>\n",
       "      <td>NaN</td>\n",
       "    </tr>\n",
       "    <tr>\n",
       "      <th>2019-12-31 23:31:41.285000+00:00</th>\n",
       "      <td>Sandra Thomas</td>\n",
       "      <td>5</td>\n",
       "      <td>Reddit is news and humanity! It's a conglomera...</td>\n",
       "      <td>0</td>\n",
       "      <td>NaN</td>\n",
       "    </tr>\n",
       "    <tr>\n",
       "      <th>2019-12-31 23:22:35.779000+00:00</th>\n",
       "      <td>Mamali Ph</td>\n",
       "      <td>5</td>\n",
       "      <td>Awesome</td>\n",
       "      <td>0</td>\n",
       "      <td>NaN</td>\n",
       "    </tr>\n",
       "  </tbody>\n",
       "</table>\n",
       "</div>"
      ],
      "text/plain": [
       "                                       Username  Rating  \\\n",
       "Timestamp                                                 \n",
       "2019-12-31 23:36:53.970000+00:00  Robert Bolton       5   \n",
       "2019-12-31 23:31:41.285000+00:00  Sandra Thomas       5   \n",
       "2019-12-31 23:22:35.779000+00:00      Mamali Ph       5   \n",
       "\n",
       "                                                                             Review  \\\n",
       "Timestamp                                                                             \n",
       "2019-12-31 23:36:53.970000+00:00          Watch hours of your life vanish with glee   \n",
       "2019-12-31 23:31:41.285000+00:00  Reddit is news and humanity! It's a conglomera...   \n",
       "2019-12-31 23:22:35.779000+00:00                                            Awesome   \n",
       "\n",
       "                                  Likes ReplyDate  \n",
       "Timestamp                                          \n",
       "2019-12-31 23:36:53.970000+00:00      0       NaN  \n",
       "2019-12-31 23:31:41.285000+00:00      0       NaN  \n",
       "2019-12-31 23:22:35.779000+00:00      0       NaN  "
      ]
     },
     "execution_count": 7,
     "metadata": {},
     "output_type": "execute_result"
    }
   ],
   "source": [
    "year = '2019'\n",
    "\n",
    "for k, v in attributes.items():\n",
    "    print(f\"Importing {attributes[k]['id']}, putting it in a master dataframe 'dfs' with key {k}\")\n",
    "    dfs[k] = pd.read_csv(\"data/gplay_reviews/\" + attributes[k]['id'] + \".csv\",\n",
    "                          index_col=\"Timestamp\",\n",
    "                          parse_dates=True).loc[year]\n",
    "\n",
    "dfs[\"reddit\"].head(3)"
   ]
  },
  {
   "cell_type": "markdown",
   "metadata": {},
   "source": [
    "# Quick Data Overview"
   ]
  },
  {
   "cell_type": "code",
   "execution_count": 8,
   "metadata": {},
   "outputs": [],
   "source": [
    "for app, df in dfs.items():\n",
    "    df.head(2)"
   ]
  },
  {
   "cell_type": "code",
   "execution_count": 9,
   "metadata": {
    "scrolled": false
   },
   "outputs": [
    {
     "data": {
      "text/plain": [
       "4.38956906161571"
      ]
     },
     "execution_count": 9,
     "metadata": {},
     "output_type": "execute_result"
    }
   ],
   "source": [
    "# average of rating in date range\n",
    "s.mean(dfs['reddit'].loc['2019-01-01':'2019-12-30']['Rating'])"
   ]
  },
  {
   "cell_type": "code",
   "execution_count": 10,
   "metadata": {},
   "outputs": [
    {
     "data": {
      "text/plain": [
       "pandas.core.indexes.datetimes.DatetimeIndex"
      ]
     },
     "execution_count": 10,
     "metadata": {},
     "output_type": "execute_result"
    }
   ],
   "source": [
    "type(dfs['reddit'].index)"
   ]
  },
  {
   "cell_type": "code",
   "execution_count": 11,
   "metadata": {},
   "outputs": [
    {
     "data": {
      "text/html": [
       "<div>\n",
       "<style scoped>\n",
       "    .dataframe tbody tr th:only-of-type {\n",
       "        vertical-align: middle;\n",
       "    }\n",
       "\n",
       "    .dataframe tbody tr th {\n",
       "        vertical-align: top;\n",
       "    }\n",
       "\n",
       "    .dataframe thead th {\n",
       "        text-align: right;\n",
       "    }\n",
       "</style>\n",
       "<table border=\"1\" class=\"dataframe\">\n",
       "  <thead>\n",
       "    <tr style=\"text-align: right;\">\n",
       "      <th></th>\n",
       "      <th>Username</th>\n",
       "      <th>Rating</th>\n",
       "      <th>Review</th>\n",
       "      <th>Likes</th>\n",
       "      <th>ReplyDate</th>\n",
       "    </tr>\n",
       "    <tr>\n",
       "      <th>Timestamp</th>\n",
       "      <th></th>\n",
       "      <th></th>\n",
       "      <th></th>\n",
       "      <th></th>\n",
       "      <th></th>\n",
       "    </tr>\n",
       "  </thead>\n",
       "  <tbody>\n",
       "    <tr>\n",
       "      <th>2019-12-31 23:36:53.970000+00:00</th>\n",
       "      <td>Robert Bolton</td>\n",
       "      <td>5</td>\n",
       "      <td>Watch hours of your life vanish with glee</td>\n",
       "      <td>0</td>\n",
       "      <td>NaN</td>\n",
       "    </tr>\n",
       "    <tr>\n",
       "      <th>2019-12-31 23:31:41.285000+00:00</th>\n",
       "      <td>Sandra Thomas</td>\n",
       "      <td>5</td>\n",
       "      <td>Reddit is news and humanity! It's a conglomera...</td>\n",
       "      <td>0</td>\n",
       "      <td>NaN</td>\n",
       "    </tr>\n",
       "    <tr>\n",
       "      <th>2019-12-31 23:22:35.779000+00:00</th>\n",
       "      <td>Mamali Ph</td>\n",
       "      <td>5</td>\n",
       "      <td>Awesome</td>\n",
       "      <td>0</td>\n",
       "      <td>NaN</td>\n",
       "    </tr>\n",
       "  </tbody>\n",
       "</table>\n",
       "</div>"
      ],
      "text/plain": [
       "                                       Username  Rating  \\\n",
       "Timestamp                                                 \n",
       "2019-12-31 23:36:53.970000+00:00  Robert Bolton       5   \n",
       "2019-12-31 23:31:41.285000+00:00  Sandra Thomas       5   \n",
       "2019-12-31 23:22:35.779000+00:00      Mamali Ph       5   \n",
       "\n",
       "                                                                             Review  \\\n",
       "Timestamp                                                                             \n",
       "2019-12-31 23:36:53.970000+00:00          Watch hours of your life vanish with glee   \n",
       "2019-12-31 23:31:41.285000+00:00  Reddit is news and humanity! It's a conglomera...   \n",
       "2019-12-31 23:22:35.779000+00:00                                            Awesome   \n",
       "\n",
       "                                  Likes ReplyDate  \n",
       "Timestamp                                          \n",
       "2019-12-31 23:36:53.970000+00:00      0       NaN  \n",
       "2019-12-31 23:31:41.285000+00:00      0       NaN  \n",
       "2019-12-31 23:22:35.779000+00:00      0       NaN  "
      ]
     },
     "execution_count": 11,
     "metadata": {},
     "output_type": "execute_result"
    }
   ],
   "source": [
    "dfs['reddit'].head(3)"
   ]
  },
  {
   "cell_type": "code",
   "execution_count": 12,
   "metadata": {},
   "outputs": [
    {
     "data": {
      "text/plain": [
       "Timestamp('2019-01-01 00:03:23.200000+0000', tz='UTC')"
      ]
     },
     "execution_count": 12,
     "metadata": {},
     "output_type": "execute_result"
    }
   ],
   "source": [
    "# the earliest date of a review for 'reddit' data set\n",
    "min(dfs['reddit'].index)"
   ]
  },
  {
   "cell_type": "code",
   "execution_count": 13,
   "metadata": {},
   "outputs": [
    {
     "data": {
      "text/plain": [
       "Timestamp('2019-12-31 23:36:53.970000+0000', tz='UTC')"
      ]
     },
     "execution_count": 13,
     "metadata": {},
     "output_type": "execute_result"
    }
   ],
   "source": [
    "# the latest date of a review for 'reddit'\n",
    "max(dfs[\"reddit\"].index)"
   ]
  },
  {
   "cell_type": "code",
   "execution_count": 14,
   "metadata": {},
   "outputs": [
    {
     "data": {
      "text/html": [
       "<div>\n",
       "<style scoped>\n",
       "    .dataframe tbody tr th:only-of-type {\n",
       "        vertical-align: middle;\n",
       "    }\n",
       "\n",
       "    .dataframe tbody tr th {\n",
       "        vertical-align: top;\n",
       "    }\n",
       "\n",
       "    .dataframe thead th {\n",
       "        text-align: right;\n",
       "    }\n",
       "</style>\n",
       "<table border=\"1\" class=\"dataframe\">\n",
       "  <thead>\n",
       "    <tr style=\"text-align: right;\">\n",
       "      <th></th>\n",
       "      <th>Username</th>\n",
       "      <th>Rating</th>\n",
       "      <th>Review</th>\n",
       "      <th>Likes</th>\n",
       "      <th>ReplyDate</th>\n",
       "    </tr>\n",
       "    <tr>\n",
       "      <th>Timestamp</th>\n",
       "      <th></th>\n",
       "      <th></th>\n",
       "      <th></th>\n",
       "      <th></th>\n",
       "      <th></th>\n",
       "    </tr>\n",
       "  </thead>\n",
       "  <tbody>\n",
       "    <tr>\n",
       "      <th>2019-02-03 11:54:33.539000+00:00</th>\n",
       "      <td>Kelly Spicer</td>\n",
       "      <td>5</td>\n",
       "      <td>i love reddit!! such positive, fun pages and a...</td>\n",
       "      <td>0</td>\n",
       "      <td>NaN</td>\n",
       "    </tr>\n",
       "    <tr>\n",
       "      <th>2019-02-03 11:46:25.994000+00:00</th>\n",
       "      <td>R Roscoe</td>\n",
       "      <td>5</td>\n",
       "      <td>great work day break</td>\n",
       "      <td>0</td>\n",
       "      <td>NaN</td>\n",
       "    </tr>\n",
       "    <tr>\n",
       "      <th>2019-02-03 11:38:19.261000+00:00</th>\n",
       "      <td>A Google user</td>\n",
       "      <td>5</td>\n",
       "      <td>I love reddit 10/10 (or 5/5 in this case) that...</td>\n",
       "      <td>0</td>\n",
       "      <td>NaN</td>\n",
       "    </tr>\n",
       "    <tr>\n",
       "      <th>2019-02-03 11:28:53.644000+00:00</th>\n",
       "      <td>Seth Trey</td>\n",
       "      <td>5</td>\n",
       "      <td>Really the best sort-of-social network.</td>\n",
       "      <td>0</td>\n",
       "      <td>NaN</td>\n",
       "    </tr>\n",
       "    <tr>\n",
       "      <th>2019-02-03 11:19:23.890000+00:00</th>\n",
       "      <td>Barry Johnson</td>\n",
       "      <td>5</td>\n",
       "      <td>Works well</td>\n",
       "      <td>0</td>\n",
       "      <td>NaN</td>\n",
       "    </tr>\n",
       "    <tr>\n",
       "      <th>...</th>\n",
       "      <td>...</td>\n",
       "      <td>...</td>\n",
       "      <td>...</td>\n",
       "      <td>...</td>\n",
       "      <td>...</td>\n",
       "    </tr>\n",
       "    <tr>\n",
       "      <th>2019-02-02 12:17:48.357000+00:00</th>\n",
       "      <td>Suhaib Shah</td>\n",
       "      <td>4</td>\n",
       "      <td>Great App, almost everything works perfectly f...</td>\n",
       "      <td>9</td>\n",
       "      <td>NaN</td>\n",
       "    </tr>\n",
       "    <tr>\n",
       "      <th>2019-02-02 12:09:48.817000+00:00</th>\n",
       "      <td>Monimonika18</td>\n",
       "      <td>4</td>\n",
       "      <td>So needs a Find function so we could search th...</td>\n",
       "      <td>0</td>\n",
       "      <td>NaN</td>\n",
       "    </tr>\n",
       "    <tr>\n",
       "      <th>2019-02-02 12:06:14.346000+00:00</th>\n",
       "      <td>Mani Deep</td>\n",
       "      <td>5</td>\n",
       "      <td>Original Content of memes</td>\n",
       "      <td>0</td>\n",
       "      <td>NaN</td>\n",
       "    </tr>\n",
       "    <tr>\n",
       "      <th>2019-02-02 12:04:14.110000+00:00</th>\n",
       "      <td>Angel Pena</td>\n",
       "      <td>5</td>\n",
       "      <td>just great</td>\n",
       "      <td>0</td>\n",
       "      <td>NaN</td>\n",
       "    </tr>\n",
       "    <tr>\n",
       "      <th>2019-02-02 12:02:28.456000+00:00</th>\n",
       "      <td>A Google user</td>\n",
       "      <td>5</td>\n",
       "      <td>the greatest</td>\n",
       "      <td>0</td>\n",
       "      <td>NaN</td>\n",
       "    </tr>\n",
       "  </tbody>\n",
       "</table>\n",
       "<p>554 rows × 5 columns</p>\n",
       "</div>"
      ],
      "text/plain": [
       "                                       Username  Rating  \\\n",
       "Timestamp                                                 \n",
       "2019-02-03 11:54:33.539000+00:00   Kelly Spicer       5   \n",
       "2019-02-03 11:46:25.994000+00:00       R Roscoe       5   \n",
       "2019-02-03 11:38:19.261000+00:00  A Google user       5   \n",
       "2019-02-03 11:28:53.644000+00:00      Seth Trey       5   \n",
       "2019-02-03 11:19:23.890000+00:00  Barry Johnson       5   \n",
       "...                                         ...     ...   \n",
       "2019-02-02 12:17:48.357000+00:00    Suhaib Shah       4   \n",
       "2019-02-02 12:09:48.817000+00:00   Monimonika18       4   \n",
       "2019-02-02 12:06:14.346000+00:00      Mani Deep       5   \n",
       "2019-02-02 12:04:14.110000+00:00     Angel Pena       5   \n",
       "2019-02-02 12:02:28.456000+00:00  A Google user       5   \n",
       "\n",
       "                                                                             Review  \\\n",
       "Timestamp                                                                             \n",
       "2019-02-03 11:54:33.539000+00:00  i love reddit!! such positive, fun pages and a...   \n",
       "2019-02-03 11:46:25.994000+00:00                               great work day break   \n",
       "2019-02-03 11:38:19.261000+00:00  I love reddit 10/10 (or 5/5 in this case) that...   \n",
       "2019-02-03 11:28:53.644000+00:00            Really the best sort-of-social network.   \n",
       "2019-02-03 11:19:23.890000+00:00                                         Works well   \n",
       "...                                                                             ...   \n",
       "2019-02-02 12:17:48.357000+00:00  Great App, almost everything works perfectly f...   \n",
       "2019-02-02 12:09:48.817000+00:00  So needs a Find function so we could search th...   \n",
       "2019-02-02 12:06:14.346000+00:00                          Original Content of memes   \n",
       "2019-02-02 12:04:14.110000+00:00                                         just great   \n",
       "2019-02-02 12:02:28.456000+00:00                                       the greatest   \n",
       "\n",
       "                                  Likes ReplyDate  \n",
       "Timestamp                                          \n",
       "2019-02-03 11:54:33.539000+00:00      0       NaN  \n",
       "2019-02-03 11:46:25.994000+00:00      0       NaN  \n",
       "2019-02-03 11:38:19.261000+00:00      0       NaN  \n",
       "2019-02-03 11:28:53.644000+00:00      0       NaN  \n",
       "2019-02-03 11:19:23.890000+00:00      0       NaN  \n",
       "...                                 ...       ...  \n",
       "2019-02-02 12:17:48.357000+00:00      9       NaN  \n",
       "2019-02-02 12:09:48.817000+00:00      0       NaN  \n",
       "2019-02-02 12:06:14.346000+00:00      0       NaN  \n",
       "2019-02-02 12:04:14.110000+00:00      0       NaN  \n",
       "2019-02-02 12:02:28.456000+00:00      0       NaN  \n",
       "\n",
       "[554 rows x 5 columns]"
      ]
     },
     "execution_count": 14,
     "metadata": {},
     "output_type": "execute_result"
    }
   ],
   "source": [
    "# take 24 hours from 12am to 12am\n",
    "dfs['reddit'].loc['2019-02-02 12:00:00':'2019-02-03 12:00:00']"
   ]
  },
  {
   "cell_type": "code",
   "execution_count": 15,
   "metadata": {},
   "outputs": [
    {
     "data": {
      "text/plain": [
       "'Works well'"
      ]
     },
     "execution_count": 15,
     "metadata": {},
     "output_type": "execute_result"
    }
   ],
   "source": [
    "review = dfs['reddit'].loc['2019-02-03 11:19:23']['Review'][0]\n",
    "review"
   ]
  },
  {
   "cell_type": "code",
   "execution_count": 16,
   "metadata": {},
   "outputs": [
    {
     "data": {
      "text/plain": [
       "10"
      ]
     },
     "execution_count": 16,
     "metadata": {},
     "output_type": "execute_result"
    }
   ],
   "source": [
    "len(review) # Characters"
   ]
  },
  {
   "cell_type": "code",
   "execution_count": 17,
   "metadata": {},
   "outputs": [
    {
     "data": {
      "text/plain": [
       "2"
      ]
     },
     "execution_count": 17,
     "metadata": {},
     "output_type": "execute_result"
    }
   ],
   "source": [
    "word_arr = re.split(\" |-\", review)\n",
    "len(word_arr) # Words"
   ]
  },
  {
   "cell_type": "code",
   "execution_count": 18,
   "metadata": {},
   "outputs": [
    {
     "data": {
      "text/plain": [
       "True"
      ]
     },
     "execution_count": 18,
     "metadata": {},
     "output_type": "execute_result"
    }
   ],
   "source": [
    "type(word_arr[0]) == str"
   ]
  },
  {
   "cell_type": "code",
   "execution_count": 19,
   "metadata": {},
   "outputs": [
    {
     "data": {
      "text/plain": [
       "105105"
      ]
     },
     "execution_count": 19,
     "metadata": {},
     "output_type": "execute_result"
    }
   ],
   "source": [
    "len(dfs['reddit'])"
   ]
  },
  {
   "cell_type": "markdown",
   "metadata": {},
   "source": [
    "# Removing Short Reviews"
   ]
  },
  {
   "cell_type": "code",
   "execution_count": 20,
   "metadata": {},
   "outputs": [
    {
     "data": {
      "image/png": "[encoded data removed]",
      "text/plain": [
       "<Figure size 432x288 with 1 Axes>"
      ]
     },
     "metadata": {},
     "output_type": "display_data"
    },
    {
     "data": {
      "text/plain": [
       "<Figure size 1120x800 with 0 Axes>"
      ]
     },
     "metadata": {},
     "output_type": "display_data"
    },
    {
     "data": {
      "text/plain": [
       "2932280"
      ]
     },
     "execution_count": 20,
     "metadata": {},
     "output_type": "execute_result"
    }
   ],
   "source": [
    "sizes = []\n",
    "for app, dataframe in dfs.items():\n",
    "    sizes.append(len(dfs[app]))\n",
    "    \n",
    "pie_chart(sizes, apps, \"Review distribution - 2019\")\n",
    "sum(sizes)"
   ]
  },
  {
   "cell_type": "code",
   "execution_count": 21,
   "metadata": {},
   "outputs": [
    {
     "name": "stdout",
     "output_type": "stream",
     "text": [
      "105105\n"
     ]
    }
   ],
   "source": [
    "# original length\n",
    "print(len(dfs[\"reddit\"]))"
   ]
  },
  {
   "cell_type": "code",
   "execution_count": 22,
   "metadata": {},
   "outputs": [],
   "source": [
    "# slow\n",
    "# for app, dataframe in dfs.items():\n",
    "#     indices_to_remove = drop_short_reviews(\"word\", 3, dataframe)\n",
    "#     dfs[app] = dfs[app].drop(indices_to_remove) "
   ]
  },
  {
   "cell_type": "code",
   "execution_count": 23,
   "metadata": {},
   "outputs": [
    {
     "name": "stdout",
     "output_type": "stream",
     "text": [
      "105105\n"
     ]
    }
   ],
   "source": [
    "# length after clean\n",
    "print(len(dfs[\"reddit\"]))"
   ]
  },
  {
   "cell_type": "code",
   "execution_count": 24,
   "metadata": {},
   "outputs": [
    {
     "data": {
      "image/png": "[encoded data removed]",
      "text/plain": [
       "<Figure size 432x288 with 1 Axes>"
      ]
     },
     "metadata": {},
     "output_type": "display_data"
    },
    {
     "data": {
      "text/plain": [
       "<Figure size 1120x800 with 0 Axes>"
      ]
     },
     "metadata": {},
     "output_type": "display_data"
    },
    {
     "data": {
      "text/plain": [
       "2932280"
      ]
     },
     "execution_count": 24,
     "metadata": {},
     "output_type": "execute_result"
    }
   ],
   "source": [
    "sizes = []\n",
    "for app in apps:\n",
    "    sizes.append(len(dfs[app]))\n",
    "    \n",
    "pie_chart(sizes, apps, \"Review distribution after removing short reviews - 2019\")\n",
    "sum(sizes)"
   ]
  },
  {
   "cell_type": "code",
   "execution_count": 25,
   "metadata": {},
   "outputs": [
    {
     "data": {
      "text/html": [
       "<div>\n",
       "<style scoped>\n",
       "    .dataframe tbody tr th:only-of-type {\n",
       "        vertical-align: middle;\n",
       "    }\n",
       "\n",
       "    .dataframe tbody tr th {\n",
       "        vertical-align: top;\n",
       "    }\n",
       "\n",
       "    .dataframe thead th {\n",
       "        text-align: right;\n",
       "    }\n",
       "</style>\n",
       "<table border=\"1\" class=\"dataframe\">\n",
       "  <thead>\n",
       "    <tr style=\"text-align: right;\">\n",
       "      <th></th>\n",
       "      <th>Username</th>\n",
       "      <th>Rating</th>\n",
       "      <th>Review</th>\n",
       "      <th>Likes</th>\n",
       "      <th>ReplyDate</th>\n",
       "    </tr>\n",
       "    <tr>\n",
       "      <th>Timestamp</th>\n",
       "      <th></th>\n",
       "      <th></th>\n",
       "      <th></th>\n",
       "      <th></th>\n",
       "      <th></th>\n",
       "    </tr>\n",
       "  </thead>\n",
       "  <tbody>\n",
       "    <tr>\n",
       "      <th>2019-12-31 23:36:53.970000+00:00</th>\n",
       "      <td>Robert Bolton</td>\n",
       "      <td>5</td>\n",
       "      <td>Watch hours of your life vanish with glee</td>\n",
       "      <td>0</td>\n",
       "      <td>NaN</td>\n",
       "    </tr>\n",
       "  </tbody>\n",
       "</table>\n",
       "</div>"
      ],
      "text/plain": [
       "                                       Username  Rating  \\\n",
       "Timestamp                                                 \n",
       "2019-12-31 23:36:53.970000+00:00  Robert Bolton       5   \n",
       "\n",
       "                                                                     Review  \\\n",
       "Timestamp                                                                     \n",
       "2019-12-31 23:36:53.970000+00:00  Watch hours of your life vanish with glee   \n",
       "\n",
       "                                  Likes ReplyDate  \n",
       "Timestamp                                          \n",
       "2019-12-31 23:36:53.970000+00:00      0       NaN  "
      ]
     },
     "execution_count": 25,
     "metadata": {},
     "output_type": "execute_result"
    }
   ],
   "source": [
    "dfs[\"reddit\"].head(1)"
   ]
  },
  {
   "cell_type": "markdown",
   "metadata": {},
   "source": [
    "# Adding time related columns"
   ]
  },
  {
   "cell_type": "code",
   "execution_count": 26,
   "metadata": {},
   "outputs": [
    {
     "data": {
      "text/html": [
       "<div>\n",
       "<style scoped>\n",
       "    .dataframe tbody tr th:only-of-type {\n",
       "        vertical-align: middle;\n",
       "    }\n",
       "\n",
       "    .dataframe tbody tr th {\n",
       "        vertical-align: top;\n",
       "    }\n",
       "\n",
       "    .dataframe thead th {\n",
       "        text-align: right;\n",
       "    }\n",
       "</style>\n",
       "<table border=\"1\" class=\"dataframe\">\n",
       "  <thead>\n",
       "    <tr style=\"text-align: right;\">\n",
       "      <th></th>\n",
       "      <th>Username</th>\n",
       "      <th>Rating</th>\n",
       "      <th>Review</th>\n",
       "      <th>Likes</th>\n",
       "      <th>ReplyDate</th>\n",
       "      <th>Year</th>\n",
       "      <th>Month</th>\n",
       "      <th>Weekday Name</th>\n",
       "    </tr>\n",
       "    <tr>\n",
       "      <th>Timestamp</th>\n",
       "      <th></th>\n",
       "      <th></th>\n",
       "      <th></th>\n",
       "      <th></th>\n",
       "      <th></th>\n",
       "      <th></th>\n",
       "      <th></th>\n",
       "      <th></th>\n",
       "    </tr>\n",
       "  </thead>\n",
       "  <tbody>\n",
       "    <tr>\n",
       "      <th>2019-12-31 23:36:53.970000+00:00</th>\n",
       "      <td>Robert Bolton</td>\n",
       "      <td>5</td>\n",
       "      <td>Watch hours of your life vanish with glee</td>\n",
       "      <td>0</td>\n",
       "      <td>NaN</td>\n",
       "      <td>2019</td>\n",
       "      <td>12</td>\n",
       "      <td>Tuesday</td>\n",
       "    </tr>\n",
       "  </tbody>\n",
       "</table>\n",
       "</div>"
      ],
      "text/plain": [
       "                                       Username  Rating  \\\n",
       "Timestamp                                                 \n",
       "2019-12-31 23:36:53.970000+00:00  Robert Bolton       5   \n",
       "\n",
       "                                                                     Review  \\\n",
       "Timestamp                                                                     \n",
       "2019-12-31 23:36:53.970000+00:00  Watch hours of your life vanish with glee   \n",
       "\n",
       "                                  Likes ReplyDate  Year  Month Weekday Name  \n",
       "Timestamp                                                                    \n",
       "2019-12-31 23:36:53.970000+00:00      0       NaN  2019     12      Tuesday  "
      ]
     },
     "execution_count": 26,
     "metadata": {},
     "output_type": "execute_result"
    }
   ],
   "source": [
    "for app, df in dfs.items():\n",
    "    df['Year'] = df.index.year\n",
    "    df['Month'] = df.index.month\n",
    "    df['Weekday Name'] = df.index.weekday_name\n",
    "    \n",
    "dfs['reddit'].head(1)"
   ]
  },
  {
   "cell_type": "markdown",
   "metadata": {},
   "source": [
    "# Adding columns for review length"
   ]
  },
  {
   "cell_type": "code",
   "execution_count": 27,
   "metadata": {},
   "outputs": [],
   "source": [
    "for app, dataframe in dfs.items():\n",
    "    review_wordcount = []\n",
    "    review_charcount = []\n",
    "    for review in dataframe['Review'].astype('str'):\n",
    "        review_wordcount.append(len(re.split(\" |-\", review)))\n",
    "        review_charcount.append(len(review))\n",
    "    dfs[app].insert(3, 'Words', review_wordcount)\n",
    "    dfs[app].insert(4, 'Chars', review_charcount)"
   ]
  },
  {
   "cell_type": "code",
   "execution_count": 28,
   "metadata": {},
   "outputs": [
    {
     "data": {
      "text/html": [
       "<div>\n",
       "<style scoped>\n",
       "    .dataframe tbody tr th:only-of-type {\n",
       "        vertical-align: middle;\n",
       "    }\n",
       "\n",
       "    .dataframe tbody tr th {\n",
       "        vertical-align: top;\n",
       "    }\n",
       "\n",
       "    .dataframe thead th {\n",
       "        text-align: right;\n",
       "    }\n",
       "</style>\n",
       "<table border=\"1\" class=\"dataframe\">\n",
       "  <thead>\n",
       "    <tr style=\"text-align: right;\">\n",
       "      <th></th>\n",
       "      <th>Username</th>\n",
       "      <th>Rating</th>\n",
       "      <th>Review</th>\n",
       "      <th>Words</th>\n",
       "      <th>Chars</th>\n",
       "      <th>Likes</th>\n",
       "      <th>ReplyDate</th>\n",
       "      <th>Year</th>\n",
       "      <th>Month</th>\n",
       "      <th>Weekday Name</th>\n",
       "    </tr>\n",
       "    <tr>\n",
       "      <th>Timestamp</th>\n",
       "      <th></th>\n",
       "      <th></th>\n",
       "      <th></th>\n",
       "      <th></th>\n",
       "      <th></th>\n",
       "      <th></th>\n",
       "      <th></th>\n",
       "      <th></th>\n",
       "      <th></th>\n",
       "      <th></th>\n",
       "    </tr>\n",
       "  </thead>\n",
       "  <tbody>\n",
       "    <tr>\n",
       "      <th>2019-12-31 23:36:53.970000+00:00</th>\n",
       "      <td>Robert Bolton</td>\n",
       "      <td>5</td>\n",
       "      <td>Watch hours of your life vanish with glee</td>\n",
       "      <td>8</td>\n",
       "      <td>41</td>\n",
       "      <td>0</td>\n",
       "      <td>NaN</td>\n",
       "      <td>2019</td>\n",
       "      <td>12</td>\n",
       "      <td>Tuesday</td>\n",
       "    </tr>\n",
       "    <tr>\n",
       "      <th>2019-12-31 23:31:41.285000+00:00</th>\n",
       "      <td>Sandra Thomas</td>\n",
       "      <td>5</td>\n",
       "      <td>Reddit is news and humanity! It's a conglomera...</td>\n",
       "      <td>12</td>\n",
       "      <td>79</td>\n",
       "      <td>0</td>\n",
       "      <td>NaN</td>\n",
       "      <td>2019</td>\n",
       "      <td>12</td>\n",
       "      <td>Tuesday</td>\n",
       "    </tr>\n",
       "    <tr>\n",
       "      <th>2019-12-31 23:22:35.779000+00:00</th>\n",
       "      <td>Mamali Ph</td>\n",
       "      <td>5</td>\n",
       "      <td>Awesome</td>\n",
       "      <td>1</td>\n",
       "      <td>7</td>\n",
       "      <td>0</td>\n",
       "      <td>NaN</td>\n",
       "      <td>2019</td>\n",
       "      <td>12</td>\n",
       "      <td>Tuesday</td>\n",
       "    </tr>\n",
       "    <tr>\n",
       "      <th>2019-12-31 23:13:55.547000+00:00</th>\n",
       "      <td>Garry Wells</td>\n",
       "      <td>5</td>\n",
       "      <td>My daily go to for news the concerns me.</td>\n",
       "      <td>9</td>\n",
       "      <td>40</td>\n",
       "      <td>0</td>\n",
       "      <td>NaN</td>\n",
       "      <td>2019</td>\n",
       "      <td>12</td>\n",
       "      <td>Tuesday</td>\n",
       "    </tr>\n",
       "    <tr>\n",
       "      <th>2019-12-31 23:12:55.560000+00:00</th>\n",
       "      <td>Susan Pierce</td>\n",
       "      <td>5</td>\n",
       "      <td>Love it</td>\n",
       "      <td>2</td>\n",
       "      <td>7</td>\n",
       "      <td>0</td>\n",
       "      <td>NaN</td>\n",
       "      <td>2019</td>\n",
       "      <td>12</td>\n",
       "      <td>Tuesday</td>\n",
       "    </tr>\n",
       "    <tr>\n",
       "      <th>2019-12-31 23:05:32.200000+00:00</th>\n",
       "      <td>Andre Botha</td>\n",
       "      <td>4</td>\n",
       "      <td>Love the diversity of topics. Redditors have a...</td>\n",
       "      <td>12</td>\n",
       "      <td>70</td>\n",
       "      <td>0</td>\n",
       "      <td>NaN</td>\n",
       "      <td>2019</td>\n",
       "      <td>12</td>\n",
       "      <td>Tuesday</td>\n",
       "    </tr>\n",
       "    <tr>\n",
       "      <th>2019-12-31 22:36:29.991000+00:00</th>\n",
       "      <td>Enzo T. F.</td>\n",
       "      <td>5</td>\n",
       "      <td>Gooooood meeeemz</td>\n",
       "      <td>2</td>\n",
       "      <td>16</td>\n",
       "      <td>0</td>\n",
       "      <td>NaN</td>\n",
       "      <td>2019</td>\n",
       "      <td>12</td>\n",
       "      <td>Tuesday</td>\n",
       "    </tr>\n",
       "    <tr>\n",
       "      <th>2019-12-31 22:16:40.141000+00:00</th>\n",
       "      <td>KWACKING DUCK</td>\n",
       "      <td>5</td>\n",
       "      <td>The best memeS EVERRRRRRR. I FREAKINGG LOOOVVV...</td>\n",
       "      <td>8</td>\n",
       "      <td>53</td>\n",
       "      <td>0</td>\n",
       "      <td>NaN</td>\n",
       "      <td>2019</td>\n",
       "      <td>12</td>\n",
       "      <td>Tuesday</td>\n",
       "    </tr>\n",
       "    <tr>\n",
       "      <th>2019-12-31 22:15:54.187000+00:00</th>\n",
       "      <td>B. Ol</td>\n",
       "      <td>5</td>\n",
       "      <td>Good app, but the discussion and the people be...</td>\n",
       "      <td>14</td>\n",
       "      <td>73</td>\n",
       "      <td>1</td>\n",
       "      <td>NaN</td>\n",
       "      <td>2019</td>\n",
       "      <td>12</td>\n",
       "      <td>Tuesday</td>\n",
       "    </tr>\n",
       "    <tr>\n",
       "      <th>2019-12-31 21:31:26.580000+00:00</th>\n",
       "      <td>McDonalds is Healthy</td>\n",
       "      <td>5</td>\n",
       "      <td>Awesome app.</td>\n",
       "      <td>2</td>\n",
       "      <td>12</td>\n",
       "      <td>0</td>\n",
       "      <td>NaN</td>\n",
       "      <td>2019</td>\n",
       "      <td>12</td>\n",
       "      <td>Tuesday</td>\n",
       "    </tr>\n",
       "  </tbody>\n",
       "</table>\n",
       "</div>"
      ],
      "text/plain": [
       "                                              Username  Rating  \\\n",
       "Timestamp                                                        \n",
       "2019-12-31 23:36:53.970000+00:00         Robert Bolton       5   \n",
       "2019-12-31 23:31:41.285000+00:00         Sandra Thomas       5   \n",
       "2019-12-31 23:22:35.779000+00:00             Mamali Ph       5   \n",
       "2019-12-31 23:13:55.547000+00:00           Garry Wells       5   \n",
       "2019-12-31 23:12:55.560000+00:00          Susan Pierce       5   \n",
       "2019-12-31 23:05:32.200000+00:00           Andre Botha       4   \n",
       "2019-12-31 22:36:29.991000+00:00            Enzo T. F.       5   \n",
       "2019-12-31 22:16:40.141000+00:00         KWACKING DUCK       5   \n",
       "2019-12-31 22:15:54.187000+00:00                 B. Ol       5   \n",
       "2019-12-31 21:31:26.580000+00:00  McDonalds is Healthy       5   \n",
       "\n",
       "                                                                             Review  \\\n",
       "Timestamp                                                                             \n",
       "2019-12-31 23:36:53.970000+00:00          Watch hours of your life vanish with glee   \n",
       "2019-12-31 23:31:41.285000+00:00  Reddit is news and humanity! It's a conglomera...   \n",
       "2019-12-31 23:22:35.779000+00:00                                            Awesome   \n",
       "2019-12-31 23:13:55.547000+00:00           My daily go to for news the concerns me.   \n",
       "2019-12-31 23:12:55.560000+00:00                                            Love it   \n",
       "2019-12-31 23:05:32.200000+00:00  Love the diversity of topics. Redditors have a...   \n",
       "2019-12-31 22:36:29.991000+00:00                                   Gooooood meeeemz   \n",
       "2019-12-31 22:16:40.141000+00:00  The best memeS EVERRRRRRR. I FREAKINGG LOOOVVV...   \n",
       "2019-12-31 22:15:54.187000+00:00  Good app, but the discussion and the people be...   \n",
       "2019-12-31 21:31:26.580000+00:00                                       Awesome app.   \n",
       "\n",
       "                                  Words  Chars  Likes ReplyDate  Year  Month  \\\n",
       "Timestamp                                                                      \n",
       "2019-12-31 23:36:53.970000+00:00      8     41      0       NaN  2019     12   \n",
       "2019-12-31 23:31:41.285000+00:00     12     79      0       NaN  2019     12   \n",
       "2019-12-31 23:22:35.779000+00:00      1      7      0       NaN  2019     12   \n",
       "2019-12-31 23:13:55.547000+00:00      9     40      0       NaN  2019     12   \n",
       "2019-12-31 23:12:55.560000+00:00      2      7      0       NaN  2019     12   \n",
       "2019-12-31 23:05:32.200000+00:00     12     70      0       NaN  2019     12   \n",
       "2019-12-31 22:36:29.991000+00:00      2     16      0       NaN  2019     12   \n",
       "2019-12-31 22:16:40.141000+00:00      8     53      0       NaN  2019     12   \n",
       "2019-12-31 22:15:54.187000+00:00     14     73      1       NaN  2019     12   \n",
       "2019-12-31 21:31:26.580000+00:00      2     12      0       NaN  2019     12   \n",
       "\n",
       "                                 Weekday Name  \n",
       "Timestamp                                      \n",
       "2019-12-31 23:36:53.970000+00:00      Tuesday  \n",
       "2019-12-31 23:31:41.285000+00:00      Tuesday  \n",
       "2019-12-31 23:22:35.779000+00:00      Tuesday  \n",
       "2019-12-31 23:13:55.547000+00:00      Tuesday  \n",
       "2019-12-31 23:12:55.560000+00:00      Tuesday  \n",
       "2019-12-31 23:05:32.200000+00:00      Tuesday  \n",
       "2019-12-31 22:36:29.991000+00:00      Tuesday  \n",
       "2019-12-31 22:16:40.141000+00:00      Tuesday  \n",
       "2019-12-31 22:15:54.187000+00:00      Tuesday  \n",
       "2019-12-31 21:31:26.580000+00:00      Tuesday  "
      ]
     },
     "execution_count": 28,
     "metadata": {},
     "output_type": "execute_result"
    }
   ],
   "source": [
    "dfs[\"reddit\"].head(10)"
   ]
  },
  {
   "cell_type": "code",
   "execution_count": 29,
   "metadata": {},
   "outputs": [
    {
     "data": {
      "text/plain": [
       "Timestamp('2019-01-01 00:03:23.200000+0000', tz='UTC')"
      ]
     },
     "execution_count": 29,
     "metadata": {},
     "output_type": "execute_result"
    }
   ],
   "source": [
    "min(dfs['reddit'].index)"
   ]
  },
  {
   "cell_type": "code",
   "execution_count": 30,
   "metadata": {},
   "outputs": [
    {
     "data": {
      "text/plain": [
       "Timestamp('2019-12-31 23:36:53.970000+0000', tz='UTC')"
      ]
     },
     "execution_count": 30,
     "metadata": {},
     "output_type": "execute_result"
    }
   ],
   "source": [
    "max(dfs['reddit'].index)"
   ]
  },
  {
   "cell_type": "markdown",
   "metadata": {},
   "source": [
    "# Make monthly dictionary for each app (appname_monthly)\n",
    "- Key: Month number (1, 12)\n",
    "- Value: Dictionary with daily totals"
   ]
  },
  {
   "cell_type": "code",
   "execution_count": 31,
   "metadata": {},
   "outputs": [],
   "source": [
    "# Returns the daily totals of all dimensions (words, chars, likes, ..) for one month as\n",
    "# a dictionary with key = name_of_column, and value = list_of_daily_values_that_month\n",
    "#\n",
    "# Use:     get_monthly(year, month, \"app_name\")\n",
    "# Example: get_monthly(2019, 1, \"reddit\")\n",
    "# Return:  dictionary (key/value column_name/list_of_values)\n",
    "#\n",
    "def get_monthly(year, month, app):\n",
    "    mrange = range(monthrange(year, month)[1])\n",
    "    year_month = str(year) + \"-\" + str(month)\n",
    "    mdf = dfs[app].loc[year_month]\n",
    "\n",
    "    print(f\"{app} -\\t {year} -\\t {month} -\\t {mrange}\")\n",
    "    \n",
    "    data = {\n",
    "        \"Day\": [],\n",
    "        \"ReviewCount\": [],\n",
    "        \"Words\": [],\n",
    "        \"Chars\": [],\n",
    "        \"Likes\": [],\n",
    "        \"Rating\": [],\n",
    "        \"Avg_Words\": [],\n",
    "        \"Avg_Chars\" : [],\n",
    "        \"Avg_Likes\": [],\n",
    "        \"Avg_Rating\": []\n",
    "    }\n",
    "    \n",
    "    for n in mrange:\n",
    "        day = n + 1\n",
    "        date = year_month + \"-\" + str(day)\n",
    "        data[\"Day\"].append(date);\n",
    "        data[\"ReviewCount\"].append(len(dfs[app].loc[date]))\n",
    "        data[\"Words\"].append(sum(dfs[app].loc[date][\"Words\"]))\n",
    "        data[\"Chars\"].append(sum(dfs[app].loc[date][\"Chars\"]))\n",
    "        data[\"Likes\"].append(sum(dfs[app].loc[date][\"Likes\"]))\n",
    "        data[\"Rating\"].append(sum(dfs[app].loc[date][\"Rating\"]))\n",
    "        \n",
    "        if (len(dfs[app].loc[date][\"Words\"]) > 0):\n",
    "            data[\"Avg_Words\"].append(round(s.mean(dfs[app].loc[date][\"Words\"])))\n",
    "        else:\n",
    "            data[\"Avg_Words\"].append(0)\n",
    "            \n",
    "        if (len(dfs[app].loc[date][\"Chars\"]) > 0):\n",
    "            data[\"Avg_Chars\"].append(round(s.mean(dfs[app].loc[date][\"Chars\"])))\n",
    "        else:\n",
    "            data[\"Avg_Chars\"].append(0)\n",
    "            \n",
    "        if (len(dfs[app].loc[date][\"Likes\"]) > 0):\n",
    "            data[\"Avg_Likes\"].append(round(s.mean(dfs[app].loc[date][\"Likes\"])))\n",
    "        else:\n",
    "            data[\"Avg_Likes\"].append(0)\n",
    "            \n",
    "        if (len(dfs[app].loc[date][\"Rating\"]) > 0):\n",
    "            data[\"Avg_Rating\"].append(round(s.mean(dfs[app].loc[date][\"Rating\"])))\n",
    "        else:\n",
    "            data[\"Avg_Rating\"].append(0)\n",
    "    return data"
   ]
  },
  {
   "cell_type": "code",
   "execution_count": 32,
   "metadata": {},
   "outputs": [
    {
     "name": "stdout",
     "output_type": "stream",
     "text": [
      "reddit\n",
      "450\n",
      "450\n",
      "450\n",
      "450\n",
      "spotify\n",
      "1155\n",
      "1155\n",
      "1155\n",
      "1155\n",
      "snapchat\n",
      "887\n",
      "887\n",
      "887\n",
      "887\n",
      "soundcloud\n",
      "177\n",
      "177\n",
      "177\n",
      "177\n",
      "viber\n",
      "128\n",
      "128\n",
      "128\n",
      "128\n",
      "tumblr\n",
      "73\n",
      "73\n",
      "73\n",
      "73\n",
      "tencent\n",
      "101\n",
      "101\n",
      "101\n",
      "101\n",
      "whatsapp\n",
      "0\n",
      "0\n",
      "0\n",
      "0\n",
      "happn\n",
      "75\n",
      "75\n",
      "75\n",
      "75\n",
      "twitter\n",
      "517\n",
      "517\n",
      "517\n",
      "517\n",
      "tiktok\n",
      "3732\n",
      "3732\n",
      "3732\n",
      "3732\n",
      "instagram\n",
      "0\n",
      "0\n",
      "0\n",
      "0\n"
     ]
    }
   ],
   "source": [
    "for app, dataframe in dfs.items():\n",
    "    print(app)\n",
    "    print(len(dfs[app].loc['2019-10-10']['Words']))\n",
    "    print(len(dfs[app].loc['2019-10-10']['Chars']))\n",
    "    print(len(dfs[app].loc['2019-10-10']['Likes']))\n",
    "    print(len(dfs[app].loc['2019-10-10']['Rating']))"
   ]
  },
  {
   "cell_type": "code",
   "execution_count": 33,
   "metadata": {
    "scrolled": false
   },
   "outputs": [
    {
     "name": "stdout",
     "output_type": "stream",
     "text": [
      "reddit -\t 2019 -\t 1 -\t range(0, 31)\n",
      "reddit -\t 2019 -\t 2 -\t range(0, 28)\n",
      "reddit -\t 2019 -\t 3 -\t range(0, 31)\n",
      "reddit -\t 2019 -\t 4 -\t range(0, 30)\n",
      "reddit -\t 2019 -\t 5 -\t range(0, 31)\n",
      "reddit -\t 2019 -\t 6 -\t range(0, 30)\n",
      "reddit -\t 2019 -\t 7 -\t range(0, 31)\n",
      "reddit -\t 2019 -\t 8 -\t range(0, 31)\n",
      "reddit -\t 2019 -\t 9 -\t range(0, 30)\n",
      "reddit -\t 2019 -\t 10 -\t range(0, 31)\n",
      "reddit -\t 2019 -\t 11 -\t range(0, 30)\n",
      "reddit -\t 2019 -\t 12 -\t range(0, 31)\n",
      "spotify -\t 2019 -\t 1 -\t range(0, 31)\n",
      "spotify -\t 2019 -\t 2 -\t range(0, 28)\n",
      "spotify -\t 2019 -\t 3 -\t range(0, 31)\n",
      "spotify -\t 2019 -\t 4 -\t range(0, 30)\n",
      "spotify -\t 2019 -\t 5 -\t range(0, 31)\n",
      "spotify -\t 2019 -\t 6 -\t range(0, 30)\n",
      "spotify -\t 2019 -\t 7 -\t range(0, 31)\n",
      "spotify -\t 2019 -\t 8 -\t range(0, 31)\n",
      "spotify -\t 2019 -\t 9 -\t range(0, 30)\n",
      "spotify -\t 2019 -\t 10 -\t range(0, 31)\n",
      "spotify -\t 2019 -\t 11 -\t range(0, 30)\n",
      "spotify -\t 2019 -\t 12 -\t range(0, 31)\n",
      "snapchat -\t 2019 -\t 1 -\t range(0, 31)\n",
      "snapchat -\t 2019 -\t 2 -\t range(0, 28)\n",
      "snapchat -\t 2019 -\t 3 -\t range(0, 31)\n",
      "snapchat -\t 2019 -\t 4 -\t range(0, 30)\n",
      "snapchat -\t 2019 -\t 5 -\t range(0, 31)\n",
      "snapchat -\t 2019 -\t 6 -\t range(0, 30)\n",
      "snapchat -\t 2019 -\t 7 -\t range(0, 31)\n",
      "snapchat -\t 2019 -\t 8 -\t range(0, 31)\n",
      "snapchat -\t 2019 -\t 9 -\t range(0, 30)\n",
      "snapchat -\t 2019 -\t 10 -\t range(0, 31)\n",
      "snapchat -\t 2019 -\t 11 -\t range(0, 30)\n",
      "snapchat -\t 2019 -\t 12 -\t range(0, 31)\n",
      "soundcloud -\t 2019 -\t 1 -\t range(0, 31)\n",
      "soundcloud -\t 2019 -\t 2 -\t range(0, 28)\n",
      "soundcloud -\t 2019 -\t 3 -\t range(0, 31)\n",
      "soundcloud -\t 2019 -\t 4 -\t range(0, 30)\n",
      "soundcloud -\t 2019 -\t 5 -\t range(0, 31)\n",
      "soundcloud -\t 2019 -\t 6 -\t range(0, 30)\n",
      "soundcloud -\t 2019 -\t 7 -\t range(0, 31)\n",
      "soundcloud -\t 2019 -\t 8 -\t range(0, 31)\n",
      "soundcloud -\t 2019 -\t 9 -\t range(0, 30)\n",
      "soundcloud -\t 2019 -\t 10 -\t range(0, 31)\n",
      "soundcloud -\t 2019 -\t 11 -\t range(0, 30)\n",
      "soundcloud -\t 2019 -\t 12 -\t range(0, 31)\n",
      "viber -\t 2019 -\t 1 -\t range(0, 31)\n",
      "viber -\t 2019 -\t 2 -\t range(0, 28)\n",
      "viber -\t 2019 -\t 3 -\t range(0, 31)\n",
      "viber -\t 2019 -\t 4 -\t range(0, 30)\n",
      "viber -\t 2019 -\t 5 -\t range(0, 31)\n",
      "viber -\t 2019 -\t 6 -\t range(0, 30)\n",
      "viber -\t 2019 -\t 7 -\t range(0, 31)\n",
      "viber -\t 2019 -\t 8 -\t range(0, 31)\n",
      "viber -\t 2019 -\t 9 -\t range(0, 30)\n",
      "viber -\t 2019 -\t 10 -\t range(0, 31)\n",
      "viber -\t 2019 -\t 11 -\t range(0, 30)\n",
      "viber -\t 2019 -\t 12 -\t range(0, 31)\n",
      "tumblr -\t 2019 -\t 1 -\t range(0, 31)\n",
      "tumblr -\t 2019 -\t 2 -\t range(0, 28)\n",
      "tumblr -\t 2019 -\t 3 -\t range(0, 31)\n",
      "tumblr -\t 2019 -\t 4 -\t range(0, 30)\n",
      "tumblr -\t 2019 -\t 5 -\t range(0, 31)\n",
      "tumblr -\t 2019 -\t 6 -\t range(0, 30)\n",
      "tumblr -\t 2019 -\t 7 -\t range(0, 31)\n",
      "tumblr -\t 2019 -\t 8 -\t range(0, 31)\n",
      "tumblr -\t 2019 -\t 9 -\t range(0, 30)\n",
      "tumblr -\t 2019 -\t 10 -\t range(0, 31)\n",
      "tumblr -\t 2019 -\t 11 -\t range(0, 30)\n",
      "tumblr -\t 2019 -\t 12 -\t range(0, 31)\n",
      "tencent -\t 2019 -\t 1 -\t range(0, 31)\n",
      "tencent -\t 2019 -\t 2 -\t range(0, 28)\n",
      "tencent -\t 2019 -\t 3 -\t range(0, 31)\n",
      "tencent -\t 2019 -\t 4 -\t range(0, 30)\n",
      "tencent -\t 2019 -\t 5 -\t range(0, 31)\n",
      "tencent -\t 2019 -\t 6 -\t range(0, 30)\n",
      "tencent -\t 2019 -\t 7 -\t range(0, 31)\n",
      "tencent -\t 2019 -\t 8 -\t range(0, 31)\n",
      "tencent -\t 2019 -\t 9 -\t range(0, 30)\n",
      "tencent -\t 2019 -\t 10 -\t range(0, 31)\n",
      "tencent -\t 2019 -\t 11 -\t range(0, 30)\n",
      "tencent -\t 2019 -\t 12 -\t range(0, 31)\n",
      "whatsapp -\t 2019 -\t 1 -\t range(0, 31)\n",
      "whatsapp -\t 2019 -\t 2 -\t range(0, 28)\n",
      "whatsapp -\t 2019 -\t 3 -\t range(0, 31)\n",
      "whatsapp -\t 2019 -\t 4 -\t range(0, 30)\n",
      "whatsapp -\t 2019 -\t 5 -\t range(0, 31)\n",
      "whatsapp -\t 2019 -\t 6 -\t range(0, 30)\n",
      "whatsapp -\t 2019 -\t 7 -\t range(0, 31)\n",
      "whatsapp -\t 2019 -\t 8 -\t range(0, 31)\n",
      "whatsapp -\t 2019 -\t 9 -\t range(0, 30)\n",
      "whatsapp -\t 2019 -\t 10 -\t range(0, 31)\n",
      "whatsapp -\t 2019 -\t 11 -\t range(0, 30)\n",
      "whatsapp -\t 2019 -\t 12 -\t range(0, 31)\n",
      "happn -\t 2019 -\t 1 -\t range(0, 31)\n",
      "happn -\t 2019 -\t 2 -\t range(0, 28)\n",
      "happn -\t 2019 -\t 3 -\t range(0, 31)\n",
      "happn -\t 2019 -\t 4 -\t range(0, 30)\n",
      "happn -\t 2019 -\t 5 -\t range(0, 31)\n",
      "happn -\t 2019 -\t 6 -\t range(0, 30)\n",
      "happn -\t 2019 -\t 7 -\t range(0, 31)\n",
      "happn -\t 2019 -\t 8 -\t range(0, 31)\n",
      "happn -\t 2019 -\t 9 -\t range(0, 30)\n",
      "happn -\t 2019 -\t 10 -\t range(0, 31)\n",
      "happn -\t 2019 -\t 11 -\t range(0, 30)\n",
      "happn -\t 2019 -\t 12 -\t range(0, 31)\n",
      "twitter -\t 2019 -\t 1 -\t range(0, 31)\n",
      "twitter -\t 2019 -\t 2 -\t range(0, 28)\n",
      "twitter -\t 2019 -\t 3 -\t range(0, 31)\n",
      "twitter -\t 2019 -\t 4 -\t range(0, 30)\n",
      "twitter -\t 2019 -\t 5 -\t range(0, 31)\n",
      "twitter -\t 2019 -\t 6 -\t range(0, 30)\n",
      "twitter -\t 2019 -\t 7 -\t range(0, 31)\n",
      "twitter -\t 2019 -\t 8 -\t range(0, 31)\n",
      "twitter -\t 2019 -\t 9 -\t range(0, 30)\n",
      "twitter -\t 2019 -\t 10 -\t range(0, 31)\n",
      "twitter -\t 2019 -\t 11 -\t range(0, 30)\n",
      "twitter -\t 2019 -\t 12 -\t range(0, 31)\n",
      "tiktok -\t 2019 -\t 1 -\t range(0, 31)\n",
      "tiktok -\t 2019 -\t 2 -\t range(0, 28)\n",
      "tiktok -\t 2019 -\t 3 -\t range(0, 31)\n",
      "tiktok -\t 2019 -\t 4 -\t range(0, 30)\n",
      "tiktok -\t 2019 -\t 5 -\t range(0, 31)\n",
      "tiktok -\t 2019 -\t 6 -\t range(0, 30)\n",
      "tiktok -\t 2019 -\t 7 -\t range(0, 31)\n",
      "tiktok -\t 2019 -\t 8 -\t range(0, 31)\n",
      "tiktok -\t 2019 -\t 9 -\t range(0, 30)\n",
      "tiktok -\t 2019 -\t 10 -\t range(0, 31)\n",
      "tiktok -\t 2019 -\t 11 -\t range(0, 30)\n",
      "tiktok -\t 2019 -\t 12 -\t range(0, 31)\n",
      "instagram -\t 2019 -\t 1 -\t range(0, 31)\n",
      "instagram -\t 2019 -\t 2 -\t range(0, 28)\n",
      "instagram -\t 2019 -\t 3 -\t range(0, 31)\n",
      "instagram -\t 2019 -\t 4 -\t range(0, 30)\n",
      "instagram -\t 2019 -\t 5 -\t range(0, 31)\n",
      "instagram -\t 2019 -\t 6 -\t range(0, 30)\n",
      "instagram -\t 2019 -\t 7 -\t range(0, 31)\n",
      "instagram -\t 2019 -\t 8 -\t range(0, 31)\n",
      "instagram -\t 2019 -\t 9 -\t range(0, 30)\n",
      "instagram -\t 2019 -\t 10 -\t range(0, 31)\n",
      "instagram -\t 2019 -\t 11 -\t range(0, 30)\n",
      "instagram -\t 2019 -\t 12 -\t range(0, 31)\n"
     ]
    }
   ],
   "source": [
    "for app, dataframe in dfs.items():\n",
    "    appname = str(app)\n",
    "    exec(appname + \"_monthly = {}\")\n",
    "    for i in range(1,13):\n",
    "        exec(appname + \"_monthly[i] = get_monthly(2019, i, appname)\")"
   ]
  },
  {
   "cell_type": "code",
   "execution_count": 34,
   "metadata": {},
   "outputs": [
    {
     "name": "stdout",
     "output_type": "stream",
     "text": [
      "reddit\n",
      "spotify\n",
      "snapchat\n",
      "soundcloud\n",
      "viber\n",
      "tumblr\n",
      "tencent\n",
      "whatsapp\n",
      "happn\n",
      "twitter\n",
      "tiktok\n",
      "instagram\n"
     ]
    }
   ],
   "source": [
    "for app in apps:\n",
    "    print(app.lower())"
   ]
  },
  {
   "cell_type": "code",
   "execution_count": 35,
   "metadata": {},
   "outputs": [],
   "source": [
    "for app in apps:\n",
    "    appname = app.lower()\n",
    "    exec(appname + \"_m = {}\")\n",
    "    \n",
    "    for i in range(1,13):\n",
    "        exec(\"dict_m = \" + appname + \"_monthly[\" + str(i) + \"]\")\n",
    "        df = pd.DataFrame.from_dict(dict_m)\n",
    "        df.index = pd.to_datetime(df['Day'])\n",
    "        df = df.drop('Day', axis=1)\n",
    "        exec(appname + \"_m[i] = df\")"
   ]
  },
  {
   "cell_type": "markdown",
   "metadata": {},
   "source": [
    "# Add new monthly dataframes to master dataframe (mdfs)\n",
    "\n",
    "Conveniently retrieve the daily totals per dimension, per app, with:\n",
    "- mdfs['app_name'][month_no]\n",
    "\n",
    "Use .loc to get a range of days of the month:\n",
    "- mdfs['app_name'][month_no].loc['2019-01-01':'2019-01-05']\n",
    "\n",
    "Example below"
   ]
  },
  {
   "cell_type": "code",
   "execution_count": 36,
   "metadata": {},
   "outputs": [],
   "source": [
    "# replace dfs with the new _m dfs\n",
    "for app, dataframe in dfs.items():\n",
    "    exec(\"mdfs[app] = \" + app + \"_m\")"
   ]
  },
  {
   "cell_type": "code",
   "execution_count": 37,
   "metadata": {},
   "outputs": [
    {
     "data": {
      "text/html": [
       "<div>\n",
       "<style scoped>\n",
       "    .dataframe tbody tr th:only-of-type {\n",
       "        vertical-align: middle;\n",
       "    }\n",
       "\n",
       "    .dataframe tbody tr th {\n",
       "        vertical-align: top;\n",
       "    }\n",
       "\n",
       "    .dataframe thead th {\n",
       "        text-align: right;\n",
       "    }\n",
       "</style>\n",
       "<table border=\"1\" class=\"dataframe\">\n",
       "  <thead>\n",
       "    <tr style=\"text-align: right;\">\n",
       "      <th></th>\n",
       "      <th>ReviewCount</th>\n",
       "      <th>Words</th>\n",
       "      <th>Chars</th>\n",
       "      <th>Likes</th>\n",
       "      <th>Rating</th>\n",
       "      <th>Avg_Words</th>\n",
       "      <th>Avg_Chars</th>\n",
       "      <th>Avg_Likes</th>\n",
       "      <th>Avg_Rating</th>\n",
       "    </tr>\n",
       "    <tr>\n",
       "      <th>Day</th>\n",
       "      <th></th>\n",
       "      <th></th>\n",
       "      <th></th>\n",
       "      <th></th>\n",
       "      <th></th>\n",
       "      <th></th>\n",
       "      <th></th>\n",
       "      <th></th>\n",
       "      <th></th>\n",
       "    </tr>\n",
       "  </thead>\n",
       "  <tbody>\n",
       "    <tr>\n",
       "      <th>2019-01-03</th>\n",
       "      <td>91</td>\n",
       "      <td>765</td>\n",
       "      <td>3856</td>\n",
       "      <td>2</td>\n",
       "      <td>375</td>\n",
       "      <td>8</td>\n",
       "      <td>42</td>\n",
       "      <td>0</td>\n",
       "      <td>4</td>\n",
       "    </tr>\n",
       "    <tr>\n",
       "      <th>2019-01-04</th>\n",
       "      <td>88</td>\n",
       "      <td>1070</td>\n",
       "      <td>5712</td>\n",
       "      <td>27</td>\n",
       "      <td>340</td>\n",
       "      <td>12</td>\n",
       "      <td>65</td>\n",
       "      <td>0</td>\n",
       "      <td>4</td>\n",
       "    </tr>\n",
       "    <tr>\n",
       "      <th>2019-01-05</th>\n",
       "      <td>112</td>\n",
       "      <td>1212</td>\n",
       "      <td>6634</td>\n",
       "      <td>53</td>\n",
       "      <td>483</td>\n",
       "      <td>11</td>\n",
       "      <td>59</td>\n",
       "      <td>0</td>\n",
       "      <td>4</td>\n",
       "    </tr>\n",
       "    <tr>\n",
       "      <th>2019-01-06</th>\n",
       "      <td>99</td>\n",
       "      <td>866</td>\n",
       "      <td>4659</td>\n",
       "      <td>6</td>\n",
       "      <td>430</td>\n",
       "      <td>9</td>\n",
       "      <td>47</td>\n",
       "      <td>0</td>\n",
       "      <td>4</td>\n",
       "    </tr>\n",
       "    <tr>\n",
       "      <th>2019-01-07</th>\n",
       "      <td>97</td>\n",
       "      <td>941</td>\n",
       "      <td>5103</td>\n",
       "      <td>6</td>\n",
       "      <td>413</td>\n",
       "      <td>10</td>\n",
       "      <td>53</td>\n",
       "      <td>0</td>\n",
       "      <td>4</td>\n",
       "    </tr>\n",
       "    <tr>\n",
       "      <th>2019-01-08</th>\n",
       "      <td>115</td>\n",
       "      <td>1328</td>\n",
       "      <td>7196</td>\n",
       "      <td>20</td>\n",
       "      <td>488</td>\n",
       "      <td>12</td>\n",
       "      <td>63</td>\n",
       "      <td>0</td>\n",
       "      <td>4</td>\n",
       "    </tr>\n",
       "    <tr>\n",
       "      <th>2019-01-09</th>\n",
       "      <td>115</td>\n",
       "      <td>1279</td>\n",
       "      <td>6706</td>\n",
       "      <td>173</td>\n",
       "      <td>488</td>\n",
       "      <td>11</td>\n",
       "      <td>58</td>\n",
       "      <td>2</td>\n",
       "      <td>4</td>\n",
       "    </tr>\n",
       "    <tr>\n",
       "      <th>2019-01-10</th>\n",
       "      <td>101</td>\n",
       "      <td>1020</td>\n",
       "      <td>5515</td>\n",
       "      <td>14</td>\n",
       "      <td>412</td>\n",
       "      <td>10</td>\n",
       "      <td>55</td>\n",
       "      <td>0</td>\n",
       "      <td>4</td>\n",
       "    </tr>\n",
       "    <tr>\n",
       "      <th>2019-01-11</th>\n",
       "      <td>83</td>\n",
       "      <td>925</td>\n",
       "      <td>4887</td>\n",
       "      <td>1</td>\n",
       "      <td>355</td>\n",
       "      <td>11</td>\n",
       "      <td>59</td>\n",
       "      <td>0</td>\n",
       "      <td>4</td>\n",
       "    </tr>\n",
       "    <tr>\n",
       "      <th>2019-01-12</th>\n",
       "      <td>93</td>\n",
       "      <td>901</td>\n",
       "      <td>4638</td>\n",
       "      <td>3</td>\n",
       "      <td>382</td>\n",
       "      <td>10</td>\n",
       "      <td>50</td>\n",
       "      <td>0</td>\n",
       "      <td>4</td>\n",
       "    </tr>\n",
       "  </tbody>\n",
       "</table>\n",
       "</div>"
      ],
      "text/plain": [
       "            ReviewCount  Words  Chars  Likes  Rating  Avg_Words  Avg_Chars  \\\n",
       "Day                                                                          \n",
       "2019-01-03           91    765   3856      2     375          8         42   \n",
       "2019-01-04           88   1070   5712     27     340         12         65   \n",
       "2019-01-05          112   1212   6634     53     483         11         59   \n",
       "2019-01-06           99    866   4659      6     430          9         47   \n",
       "2019-01-07           97    941   5103      6     413         10         53   \n",
       "2019-01-08          115   1328   7196     20     488         12         63   \n",
       "2019-01-09          115   1279   6706    173     488         11         58   \n",
       "2019-01-10          101   1020   5515     14     412         10         55   \n",
       "2019-01-11           83    925   4887      1     355         11         59   \n",
       "2019-01-12           93    901   4638      3     382         10         50   \n",
       "\n",
       "            Avg_Likes  Avg_Rating  \n",
       "Day                                \n",
       "2019-01-03          0           4  \n",
       "2019-01-04          0           4  \n",
       "2019-01-05          0           4  \n",
       "2019-01-06          0           4  \n",
       "2019-01-07          0           4  \n",
       "2019-01-08          0           4  \n",
       "2019-01-09          2           4  \n",
       "2019-01-10          0           4  \n",
       "2019-01-11          0           4  \n",
       "2019-01-12          0           4  "
      ]
     },
     "execution_count": 37,
     "metadata": {},
     "output_type": "execute_result"
    }
   ],
   "source": [
    "type(mdfs['reddit'][1].index)\n",
    "mdfs['reddit'][1].loc['2019-01-03':'2019-01-12']"
   ]
  },
  {
   "cell_type": "code",
   "execution_count": 38,
   "metadata": {
    "scrolled": false
   },
   "outputs": [
    {
     "data": {
      "text/plain": [
       "0"
      ]
     },
     "execution_count": 38,
     "metadata": {},
     "output_type": "execute_result"
    }
   ],
   "source": [
    "# how many days were there more than 700 reviews?\n",
    "res = {count for count in mdfs['reddit'][1]['ReviewCount'].tolist() if count > 700}\n",
    "len(res)"
   ]
  },
  {
   "cell_type": "code",
   "execution_count": 39,
   "metadata": {},
   "outputs": [
    {
     "data": {
      "text/html": [
       "<div>\n",
       "<style scoped>\n",
       "    .dataframe tbody tr th:only-of-type {\n",
       "        vertical-align: middle;\n",
       "    }\n",
       "\n",
       "    .dataframe tbody tr th {\n",
       "        vertical-align: top;\n",
       "    }\n",
       "\n",
       "    .dataframe thead th {\n",
       "        text-align: right;\n",
       "    }\n",
       "</style>\n",
       "<table border=\"1\" class=\"dataframe\">\n",
       "  <thead>\n",
       "    <tr style=\"text-align: right;\">\n",
       "      <th></th>\n",
       "      <th>ReviewCount</th>\n",
       "      <th>Words</th>\n",
       "      <th>Chars</th>\n",
       "      <th>Likes</th>\n",
       "      <th>Rating</th>\n",
       "      <th>Avg_Words</th>\n",
       "      <th>Avg_Chars</th>\n",
       "      <th>Avg_Likes</th>\n",
       "      <th>Avg_Rating</th>\n",
       "    </tr>\n",
       "    <tr>\n",
       "      <th>Day</th>\n",
       "      <th></th>\n",
       "      <th></th>\n",
       "      <th></th>\n",
       "      <th></th>\n",
       "      <th></th>\n",
       "      <th></th>\n",
       "      <th></th>\n",
       "      <th></th>\n",
       "      <th></th>\n",
       "    </tr>\n",
       "  </thead>\n",
       "  <tbody>\n",
       "    <tr>\n",
       "      <th>2019-01-01</th>\n",
       "      <td>87</td>\n",
       "      <td>974</td>\n",
       "      <td>5165</td>\n",
       "      <td>190</td>\n",
       "      <td>364</td>\n",
       "      <td>11</td>\n",
       "      <td>59</td>\n",
       "      <td>2</td>\n",
       "      <td>4</td>\n",
       "    </tr>\n",
       "    <tr>\n",
       "      <th>2019-01-02</th>\n",
       "      <td>114</td>\n",
       "      <td>1115</td>\n",
       "      <td>5854</td>\n",
       "      <td>16</td>\n",
       "      <td>483</td>\n",
       "      <td>10</td>\n",
       "      <td>51</td>\n",
       "      <td>0</td>\n",
       "      <td>4</td>\n",
       "    </tr>\n",
       "    <tr>\n",
       "      <th>2019-01-03</th>\n",
       "      <td>91</td>\n",
       "      <td>765</td>\n",
       "      <td>3856</td>\n",
       "      <td>2</td>\n",
       "      <td>375</td>\n",
       "      <td>8</td>\n",
       "      <td>42</td>\n",
       "      <td>0</td>\n",
       "      <td>4</td>\n",
       "    </tr>\n",
       "    <tr>\n",
       "      <th>2019-01-04</th>\n",
       "      <td>88</td>\n",
       "      <td>1070</td>\n",
       "      <td>5712</td>\n",
       "      <td>27</td>\n",
       "      <td>340</td>\n",
       "      <td>12</td>\n",
       "      <td>65</td>\n",
       "      <td>0</td>\n",
       "      <td>4</td>\n",
       "    </tr>\n",
       "    <tr>\n",
       "      <th>2019-01-05</th>\n",
       "      <td>112</td>\n",
       "      <td>1212</td>\n",
       "      <td>6634</td>\n",
       "      <td>53</td>\n",
       "      <td>483</td>\n",
       "      <td>11</td>\n",
       "      <td>59</td>\n",
       "      <td>0</td>\n",
       "      <td>4</td>\n",
       "    </tr>\n",
       "  </tbody>\n",
       "</table>\n",
       "</div>"
      ],
      "text/plain": [
       "            ReviewCount  Words  Chars  Likes  Rating  Avg_Words  Avg_Chars  \\\n",
       "Day                                                                          \n",
       "2019-01-01           87    974   5165    190     364         11         59   \n",
       "2019-01-02          114   1115   5854     16     483         10         51   \n",
       "2019-01-03           91    765   3856      2     375          8         42   \n",
       "2019-01-04           88   1070   5712     27     340         12         65   \n",
       "2019-01-05          112   1212   6634     53     483         11         59   \n",
       "\n",
       "            Avg_Likes  Avg_Rating  \n",
       "Day                                \n",
       "2019-01-01          2           4  \n",
       "2019-01-02          0           4  \n",
       "2019-01-03          0           4  \n",
       "2019-01-04          0           4  \n",
       "2019-01-05          0           4  "
      ]
     },
     "execution_count": 39,
     "metadata": {},
     "output_type": "execute_result"
    }
   ],
   "source": [
    "mdfs['reddit'][1].head(5)"
   ]
  },
  {
   "cell_type": "markdown",
   "metadata": {},
   "source": [
    "<h1 style=\"font-size:4em;text-align: center;color:teal;padding-top:50px;padding-bottom:50px;\">Plotting Totals</h1>"
   ]
  },
  {
   "cell_type": "code",
   "execution_count": 40,
   "metadata": {},
   "outputs": [
    {
     "data": {
      "image/png": "[encoded data removed]",
      "text/plain": [
       "<Figure size 720x360 with 1 Axes>"
      ]
     },
     "metadata": {
      "needs_background": "light"
     },
     "output_type": "display_data"
    }
   ],
   "source": [
    "x = np.arange(1, monthrange(2019, 8)[1]+1)\n",
    "y = spotify_m[8]['Words']\n",
    "\n",
    "fig, ax = plt.subplots(figsize=(10,5))\n",
    "ax.plot(x, y)\n",
    "ax.set(xlabel='time (d)',\n",
    "       ylabel='word count',\n",
    "       title='Daily Wordcount - Spotify - August')\n",
    "ax.grid()\n",
    "\n",
    "plt.show()"
   ]
  },
  {
   "cell_type": "code",
   "execution_count": 41,
   "metadata": {},
   "outputs": [
    {
     "name": "stderr",
     "output_type": "stream",
     "text": [
      "/usr/local/lib/python3.7/site-packages/pandas/plotting/_matplotlib/converter.py:103: FutureWarning: Using an implicitly registered datetime converter for a matplotlib plotting method. The converter was registered by pandas on import. Future versions of pandas will require you to explicitly register matplotlib converters.\n",
      "\n",
      "To register the converters:\n",
      "\t>>> from pandas.plotting import register_matplotlib_converters\n",
      "\t>>> register_matplotlib_converters()\n",
      "  warnings.warn(msg, FutureWarning)\n"
     ]
    },
    {
     "data": {
      "image/png": "[encoded data removed]",
      "text/plain": [
       "<Figure size 1296x288 with 1 Axes>"
      ]
     },
     "metadata": {
      "needs_background": "light"
     },
     "output_type": "display_data"
    }
   ],
   "source": [
    "fig, ax = plt.subplots(figsize=(18,4))\n",
    "for i in range(1,13):\n",
    "    ax.plot(mdfs['spotify'][i][\"Words\"])\n",
    "ax.set(xlabel='time (d)', ylabel='word count', title='Daily Wordcount - Spotify - 2019')\n",
    "\n",
    "plt.show()"
   ]
  },
  {
   "cell_type": "code",
   "execution_count": 42,
   "metadata": {
    "scrolled": false
   },
   "outputs": [
    {
     "data": {
      "image/png": "[encoded data removed]",
      "text/plain": [
       "<Figure size 1296x288 with 1 Axes>"
      ]
     },
     "metadata": {
      "needs_background": "light"
     },
     "output_type": "display_data"
    }
   ],
   "source": [
    "fig, ax = plt.subplots(figsize=(18,4))\n",
    "for i in range(1,13):\n",
    "    ax.plot(spotify_m[i][\"ReviewCount\"])\n",
    "ax.set(xlabel='time (d)', ylabel='review count', title='Daily ReviewCount - Spotify - 2019')\n",
    "plt.show()"
   ]
  },
  {
   "cell_type": "code",
   "execution_count": 43,
   "metadata": {},
   "outputs": [],
   "source": [
    "def grid_5_plot(app, year, month, ylist, color):\n",
    "    if type(month) == int:\n",
    "        month_dict = {\n",
    "            1: \"January\",\n",
    "            2: \"February\",\n",
    "            3: \"March\",\n",
    "            4: \"April\",\n",
    "            5: \"May\",\n",
    "            6: \"June\",\n",
    "            7: \"July\",\n",
    "            8: \"August\",\n",
    "            9: \"September\",\n",
    "            10: \"October\",\n",
    "            11: \"November\",\n",
    "            12: \"December\"\n",
    "        }\n",
    "    if color == None:\n",
    "        color = \"blue\"\n",
    "        \n",
    "    x = np.arange(1, monthrange(2019, month)[1]+1)\n",
    "    mpl.style.use(\"default\")\n",
    "    fig = plt.figure(figsize=(12,6), constrained_layout=True)\n",
    "    fig.suptitle(app.title() + \" - \" + month_dict[month] + \" \" + str(year),\n",
    "                 fontsize=18,\n",
    "                position=(0.5,1.1))\n",
    "    gs = fig.add_gridspec(3, 2)\n",
    "    \n",
    "    y = ylist['ReviewCount']\n",
    "    ax22 = fig.add_subplot(gs[0, :])\n",
    "    ax22.plot(x, y, 'o', ls='-', ms=4, markevery=None, color=color)\n",
    "    ylabel=('Review count')\n",
    "    \n",
    "    y = ylist['Words']\n",
    "    ax00 = fig.add_subplot(gs[2, 0])\n",
    "    ax00.plot(x, y, color=color)\n",
    "    ax00.set(title='Wordcount')\n",
    "\n",
    "    y = ylist['Chars']\n",
    "    ax10 = fig.add_subplot(gs[2, 1])\n",
    "    ax10.plot(x, y, color=color)\n",
    "    ax10.set(title='Character Count')\n",
    "\n",
    "    y = ylist['Rating']\n",
    "    ax01 = fig.add_subplot(gs[1,0])\n",
    "    ax01.plot(x, y, color=color)\n",
    "    ax01.set_xticks([])\n",
    "    ax01.set(title='Rating')\n",
    "\n",
    "    y = ylist['Likes']\n",
    "    ax11 = fig.add_subplot(gs[1,1])\n",
    "    ax11.plot(x, y, color=color)\n",
    "    ax11.scatter(x, y, color=color)\n",
    "    ax11.set_xticks([])\n",
    "    ax11.set(title='Likes')\n",
    "    \n",
    "def get_year_reviewcount(app):\n",
    "    fig, ax = plt.subplots(figsize=(18,4))\n",
    "    for i in range(1,13):\n",
    "        ax.plot(mdfs[app][i][\"ReviewCount\"])\n",
    "    ax.set(xlabel='time (d)',\n",
    "           ylabel='review count',\n",
    "           title='Daily ReviewCount - ' + app.title() + ' - 2019')\n",
    "    plt.show()"
   ]
  },
  {
   "cell_type": "code",
   "execution_count": 44,
   "metadata": {},
   "outputs": [
    {
     "data": {
      "image/png": "[encoded data removed]",
      "text/plain": [
       "<Figure size 1296x288 with 1 Axes>"
      ]
     },
     "metadata": {
      "needs_background": "light"
     },
     "output_type": "display_data"
    }
   ],
   "source": [
    "fig, ax = plt.subplots(figsize=(18,4))\n",
    "for i in range(1,13):\n",
    "    ax.plot(mdfs['viber'][i][\"ReviewCount\"], color=\"purple\")\n",
    "    ax.plot(mdfs['soundcloud'][i][\"ReviewCount\"], color=\"orange\")\n",
    "ax.set(xlabel='time (d)', ylabel='word count')\n",
    "\n",
    "plt.show()"
   ]
  },
  {
   "cell_type": "code",
   "execution_count": 45,
   "metadata": {
    "scrolled": false
   },
   "outputs": [],
   "source": [
    "# PLOTS A LOT, SLOW, NB\n",
    "# for app, df in mdfs.items():\n",
    "#     get_year_reviewcount(app)\n",
    "#     for i in range(1,13):\n",
    "#         grid_5_plot(app, 2019, i, mdfs[app][i], color=attributes[app.title()]['color'])"
   ]
  },
  {
   "cell_type": "markdown",
   "metadata": {},
   "source": [
    "<h1 style=\"text-align:center;font-size:4em;\">Prepare Data for TSADF</h1>"
   ]
  },
  {
   "cell_type": "markdown",
   "metadata": {},
   "source": [
    "<h2>Make all rows equally spaced in time</h2>"
   ]
  },
  {
   "cell_type": "code",
   "execution_count": 46,
   "metadata": {
    "scrolled": true
   },
   "outputs": [
    {
     "data": {
      "text/html": [
       "<div>\n",
       "<style scoped>\n",
       "    .dataframe tbody tr th:only-of-type {\n",
       "        vertical-align: middle;\n",
       "    }\n",
       "\n",
       "    .dataframe tbody tr th {\n",
       "        vertical-align: top;\n",
       "    }\n",
       "\n",
       "    .dataframe thead th {\n",
       "        text-align: right;\n",
       "    }\n",
       "</style>\n",
       "<table border=\"1\" class=\"dataframe\">\n",
       "  <thead>\n",
       "    <tr style=\"text-align: right;\">\n",
       "      <th></th>\n",
       "      <th>ReviewCount</th>\n",
       "      <th>Words</th>\n",
       "      <th>Chars</th>\n",
       "      <th>Likes</th>\n",
       "      <th>Rating</th>\n",
       "      <th>Avg_Words</th>\n",
       "      <th>Avg_Chars</th>\n",
       "      <th>Avg_Likes</th>\n",
       "      <th>Avg_Rating</th>\n",
       "    </tr>\n",
       "    <tr>\n",
       "      <th>Day</th>\n",
       "      <th></th>\n",
       "      <th></th>\n",
       "      <th></th>\n",
       "      <th></th>\n",
       "      <th></th>\n",
       "      <th></th>\n",
       "      <th></th>\n",
       "      <th></th>\n",
       "      <th></th>\n",
       "    </tr>\n",
       "  </thead>\n",
       "  <tbody>\n",
       "    <tr>\n",
       "      <th>2019-03-01</th>\n",
       "      <td>103</td>\n",
       "      <td>629</td>\n",
       "      <td>3251</td>\n",
       "      <td>171</td>\n",
       "      <td>419</td>\n",
       "      <td>6</td>\n",
       "      <td>32</td>\n",
       "      <td>2</td>\n",
       "      <td>4</td>\n",
       "    </tr>\n",
       "    <tr>\n",
       "      <th>2019-03-02</th>\n",
       "      <td>93</td>\n",
       "      <td>530</td>\n",
       "      <td>2706</td>\n",
       "      <td>10</td>\n",
       "      <td>402</td>\n",
       "      <td>6</td>\n",
       "      <td>29</td>\n",
       "      <td>0</td>\n",
       "      <td>4</td>\n",
       "    </tr>\n",
       "    <tr>\n",
       "      <th>2019-03-03</th>\n",
       "      <td>112</td>\n",
       "      <td>675</td>\n",
       "      <td>3606</td>\n",
       "      <td>125</td>\n",
       "      <td>471</td>\n",
       "      <td>6</td>\n",
       "      <td>32</td>\n",
       "      <td>1</td>\n",
       "      <td>4</td>\n",
       "    </tr>\n",
       "    <tr>\n",
       "      <th>2019-03-04</th>\n",
       "      <td>162</td>\n",
       "      <td>1253</td>\n",
       "      <td>6683</td>\n",
       "      <td>783</td>\n",
       "      <td>698</td>\n",
       "      <td>8</td>\n",
       "      <td>41</td>\n",
       "      <td>5</td>\n",
       "      <td>4</td>\n",
       "    </tr>\n",
       "    <tr>\n",
       "      <th>2019-03-05</th>\n",
       "      <td>219</td>\n",
       "      <td>1980</td>\n",
       "      <td>10801</td>\n",
       "      <td>1347</td>\n",
       "      <td>941</td>\n",
       "      <td>9</td>\n",
       "      <td>49</td>\n",
       "      <td>6</td>\n",
       "      <td>4</td>\n",
       "    </tr>\n",
       "    <tr>\n",
       "      <th>2019-03-06</th>\n",
       "      <td>203</td>\n",
       "      <td>1881</td>\n",
       "      <td>10102</td>\n",
       "      <td>592</td>\n",
       "      <td>884</td>\n",
       "      <td>9</td>\n",
       "      <td>50</td>\n",
       "      <td>3</td>\n",
       "      <td>4</td>\n",
       "    </tr>\n",
       "    <tr>\n",
       "      <th>2019-03-07</th>\n",
       "      <td>160</td>\n",
       "      <td>1429</td>\n",
       "      <td>7708</td>\n",
       "      <td>385</td>\n",
       "      <td>636</td>\n",
       "      <td>9</td>\n",
       "      <td>48</td>\n",
       "      <td>2</td>\n",
       "      <td>4</td>\n",
       "    </tr>\n",
       "    <tr>\n",
       "      <th>2019-03-08</th>\n",
       "      <td>172</td>\n",
       "      <td>1136</td>\n",
       "      <td>6010</td>\n",
       "      <td>827</td>\n",
       "      <td>749</td>\n",
       "      <td>7</td>\n",
       "      <td>35</td>\n",
       "      <td>5</td>\n",
       "      <td>4</td>\n",
       "    </tr>\n",
       "    <tr>\n",
       "      <th>2019-03-09</th>\n",
       "      <td>140</td>\n",
       "      <td>991</td>\n",
       "      <td>5236</td>\n",
       "      <td>754</td>\n",
       "      <td>592</td>\n",
       "      <td>7</td>\n",
       "      <td>37</td>\n",
       "      <td>5</td>\n",
       "      <td>4</td>\n",
       "    </tr>\n",
       "    <tr>\n",
       "      <th>2019-03-10</th>\n",
       "      <td>140</td>\n",
       "      <td>853</td>\n",
       "      <td>4353</td>\n",
       "      <td>485</td>\n",
       "      <td>591</td>\n",
       "      <td>6</td>\n",
       "      <td>31</td>\n",
       "      <td>3</td>\n",
       "      <td>4</td>\n",
       "    </tr>\n",
       "  </tbody>\n",
       "</table>\n",
       "</div>"
      ],
      "text/plain": [
       "            ReviewCount  Words  Chars  Likes  Rating  Avg_Words  Avg_Chars  \\\n",
       "Day                                                                          \n",
       "2019-03-01          103    629   3251    171     419          6         32   \n",
       "2019-03-02           93    530   2706     10     402          6         29   \n",
       "2019-03-03          112    675   3606    125     471          6         32   \n",
       "2019-03-04          162   1253   6683    783     698          8         41   \n",
       "2019-03-05          219   1980  10801   1347     941          9         49   \n",
       "2019-03-06          203   1881  10102    592     884          9         50   \n",
       "2019-03-07          160   1429   7708    385     636          9         48   \n",
       "2019-03-08          172   1136   6010    827     749          7         35   \n",
       "2019-03-09          140    991   5236    754     592          7         37   \n",
       "2019-03-10          140    853   4353    485     591          6         31   \n",
       "\n",
       "            Avg_Likes  Avg_Rating  \n",
       "Day                                \n",
       "2019-03-01          2           4  \n",
       "2019-03-02          0           4  \n",
       "2019-03-03          1           4  \n",
       "2019-03-04          5           4  \n",
       "2019-03-05          6           4  \n",
       "2019-03-06          3           4  \n",
       "2019-03-07          2           4  \n",
       "2019-03-08          5           4  \n",
       "2019-03-09          5           4  \n",
       "2019-03-10          3           4  "
      ]
     },
     "execution_count": 46,
     "metadata": {},
     "output_type": "execute_result"
    }
   ],
   "source": [
    "mdfs['viber'][3].head(10)"
   ]
  },
  {
   "cell_type": "markdown",
   "metadata": {},
   "source": [
    "# Or just set time to 00:00"
   ]
  },
  {
   "cell_type": "markdown",
   "metadata": {},
   "source": [
    "<h2>Change DatetimeIndex to the correct format</h2>\n",
    "\n",
    "- %d.%m.%Y %H:%M"
   ]
  },
  {
   "cell_type": "code",
   "execution_count": 47,
   "metadata": {},
   "outputs": [
    {
     "data": {
      "text/plain": [
       "[65, 85, 94]"
      ]
     },
     "execution_count": 47,
     "metadata": {},
     "output_type": "execute_result"
    }
   ],
   "source": [
    "list(mdfs['tencent'][1]['ReviewCount'].head(3))"
   ]
  },
  {
   "cell_type": "code",
   "execution_count": 48,
   "metadata": {},
   "outputs": [
    {
     "data": {
      "text/html": [
       "<div>\n",
       "<style scoped>\n",
       "    .dataframe tbody tr th:only-of-type {\n",
       "        vertical-align: middle;\n",
       "    }\n",
       "\n",
       "    .dataframe tbody tr th {\n",
       "        vertical-align: top;\n",
       "    }\n",
       "\n",
       "    .dataframe thead th {\n",
       "        text-align: right;\n",
       "    }\n",
       "</style>\n",
       "<table border=\"1\" class=\"dataframe\">\n",
       "  <thead>\n",
       "    <tr style=\"text-align: right;\">\n",
       "      <th></th>\n",
       "      <th>ReviewCount</th>\n",
       "      <th>Words</th>\n",
       "      <th>Chars</th>\n",
       "      <th>Likes</th>\n",
       "      <th>Rating</th>\n",
       "      <th>Avg_Words</th>\n",
       "      <th>Avg_Chars</th>\n",
       "      <th>Avg_Likes</th>\n",
       "      <th>Avg_Rating</th>\n",
       "    </tr>\n",
       "    <tr>\n",
       "      <th>Day</th>\n",
       "      <th></th>\n",
       "      <th></th>\n",
       "      <th></th>\n",
       "      <th></th>\n",
       "      <th></th>\n",
       "      <th></th>\n",
       "      <th></th>\n",
       "      <th></th>\n",
       "      <th></th>\n",
       "    </tr>\n",
       "  </thead>\n",
       "  <tbody>\n",
       "    <tr>\n",
       "      <th>2019-01-01</th>\n",
       "      <td>65</td>\n",
       "      <td>552</td>\n",
       "      <td>3026</td>\n",
       "      <td>7</td>\n",
       "      <td>217</td>\n",
       "      <td>8</td>\n",
       "      <td>47</td>\n",
       "      <td>0</td>\n",
       "      <td>3</td>\n",
       "    </tr>\n",
       "    <tr>\n",
       "      <th>2019-01-02</th>\n",
       "      <td>85</td>\n",
       "      <td>1279</td>\n",
       "      <td>6744</td>\n",
       "      <td>30</td>\n",
       "      <td>244</td>\n",
       "      <td>15</td>\n",
       "      <td>79</td>\n",
       "      <td>0</td>\n",
       "      <td>3</td>\n",
       "    </tr>\n",
       "    <tr>\n",
       "      <th>2019-01-03</th>\n",
       "      <td>94</td>\n",
       "      <td>992</td>\n",
       "      <td>5297</td>\n",
       "      <td>22</td>\n",
       "      <td>291</td>\n",
       "      <td>11</td>\n",
       "      <td>56</td>\n",
       "      <td>0</td>\n",
       "      <td>3</td>\n",
       "    </tr>\n",
       "  </tbody>\n",
       "</table>\n",
       "</div>"
      ],
      "text/plain": [
       "            ReviewCount  Words  Chars  Likes  Rating  Avg_Words  Avg_Chars  \\\n",
       "Day                                                                          \n",
       "2019-01-01           65    552   3026      7     217          8         47   \n",
       "2019-01-02           85   1279   6744     30     244         15         79   \n",
       "2019-01-03           94    992   5297     22     291         11         56   \n",
       "\n",
       "            Avg_Likes  Avg_Rating  \n",
       "Day                                \n",
       "2019-01-01          0           3  \n",
       "2019-01-02          0           3  \n",
       "2019-01-03          0           3  "
      ]
     },
     "execution_count": 48,
     "metadata": {},
     "output_type": "execute_result"
    }
   ],
   "source": [
    "mdfs['tencent'][1].head(3)"
   ]
  },
  {
   "cell_type": "code",
   "execution_count": 49,
   "metadata": {},
   "outputs": [
    {
     "data": {
      "text/plain": [
       "DatetimeIndex(['2019-01-01', '2019-01-02', '2019-01-03', '2019-01-04',\n",
       "               '2019-01-05', '2019-01-06', '2019-01-07', '2019-01-08',\n",
       "               '2019-01-09', '2019-01-10', '2019-01-11', '2019-01-12',\n",
       "               '2019-01-13', '2019-01-14', '2019-01-15', '2019-01-16',\n",
       "               '2019-01-17', '2019-01-18', '2019-01-19', '2019-01-20',\n",
       "               '2019-01-21', '2019-01-22', '2019-01-23', '2019-01-24',\n",
       "               '2019-01-25', '2019-01-26', '2019-01-27', '2019-01-28',\n",
       "               '2019-01-29', '2019-01-30', '2019-01-31'],\n",
       "              dtype='datetime64[ns]', name='Day', freq=None)"
      ]
     },
     "execution_count": 49,
     "metadata": {},
     "output_type": "execute_result"
    }
   ],
   "source": [
    "mdfs['tencent'][1].index"
   ]
  },
  {
   "cell_type": "code",
   "execution_count": 50,
   "metadata": {},
   "outputs": [
    {
     "name": "stdout",
     "output_type": "stream",
     "text": [
      "<class 'dict'> <class 'pandas.core.frame.DataFrame'> <class 'pandas.core.series.Series'>\n"
     ]
    }
   ],
   "source": [
    "# takes a list of 'Timestamp' indices\n",
    "# returns a list of 'String' datetime with 00:00 hrs:mins\n",
    "def appendZeroTime(indices):\n",
    "    new_index = [];\n",
    "    for index in indices:\n",
    "        index = str(index)\n",
    "        date = index.split(\" \")[0]\n",
    "        hours = index.split(\" \")[1].split(\":\")[0]\n",
    "        minutes = index.split(\" \")[1].split(\":\")[1]\n",
    "        index = date + \" 00:00\"\n",
    "        new_index.append(index)\n",
    "    return new_index\n",
    "    \n",
    "print(type(mdfs['tencent']),\n",
    "        type(mdfs['tencent'][1]),\n",
    "        type(mdfs['tencent'][1].ReviewCount))"
   ]
  },
  {
   "cell_type": "code",
   "execution_count": 51,
   "metadata": {},
   "outputs": [],
   "source": [
    "from datetime import datetime, timedelta\n",
    "\n",
    "def lp(df, col, title):\n",
    "    df.index = pd.to_datetime(df.index)\n",
    "    x = np.arange(df.index[0], df.index[-1], timedelta(days=1)).astype(datetime)\n",
    "    y = df[col].loc[df.index[0]:df.index[-2]]\n",
    "    \n",
    "    fig, ax = plt.subplots(figsize=(10,5))\n",
    "    ax.plot(x, y)\n",
    "    ax.set(xlabel='date',\n",
    "          ylabel=col.lower(),\n",
    "          title=title)\n",
    "    ax.grid()\n",
    "    plt.show()\n",
    "    \n",
    "def lp2(df, col, title, vlines):\n",
    "    df.index = pd.to_datetime(df.index)\n",
    "    x = np.arange(df.index[0], df.index[-1], timedelta(days=1)).astype(datetime)\n",
    "    y = df[col].loc[df.index[0]:df.index[-2]]\n",
    "    \n",
    "    fig, ax = plt.subplots(figsize=(10,5))\n",
    "    ax.plot(x, y)\n",
    "    ax.set(xlabel='date',\n",
    "          ylabel=col.lower(),\n",
    "          title=title)\n",
    "    ax.grid()\n",
    "    \n",
    "    for vline in vlines:\n",
    "        ax.axvline(vline, linewidth=2, color='r')\n",
    "    \n",
    "    plt.show()"
   ]
  },
  {
   "cell_type": "code",
   "execution_count": 52,
   "metadata": {},
   "outputs": [
    {
     "data": {
      "text/html": [
       "<div>\n",
       "<style scoped>\n",
       "    .dataframe tbody tr th:only-of-type {\n",
       "        vertical-align: middle;\n",
       "    }\n",
       "\n",
       "    .dataframe tbody tr th {\n",
       "        vertical-align: top;\n",
       "    }\n",
       "\n",
       "    .dataframe thead th {\n",
       "        text-align: right;\n",
       "    }\n",
       "</style>\n",
       "<table border=\"1\" class=\"dataframe\">\n",
       "  <thead>\n",
       "    <tr style=\"text-align: right;\">\n",
       "      <th></th>\n",
       "      <th>ReviewCount</th>\n",
       "      <th>Words</th>\n",
       "      <th>Chars</th>\n",
       "      <th>Likes</th>\n",
       "      <th>Rating</th>\n",
       "      <th>Avg_Words</th>\n",
       "      <th>Avg_Chars</th>\n",
       "      <th>Avg_Likes</th>\n",
       "      <th>Avg_Rating</th>\n",
       "    </tr>\n",
       "    <tr>\n",
       "      <th>Time</th>\n",
       "      <th></th>\n",
       "      <th></th>\n",
       "      <th></th>\n",
       "      <th></th>\n",
       "      <th></th>\n",
       "      <th></th>\n",
       "      <th></th>\n",
       "      <th></th>\n",
       "      <th></th>\n",
       "    </tr>\n",
       "  </thead>\n",
       "  <tbody>\n",
       "    <tr>\n",
       "      <th>01.01.2019 00:00</th>\n",
       "      <td>65</td>\n",
       "      <td>552</td>\n",
       "      <td>3026</td>\n",
       "      <td>7</td>\n",
       "      <td>217</td>\n",
       "      <td>8</td>\n",
       "      <td>47</td>\n",
       "      <td>0</td>\n",
       "      <td>3</td>\n",
       "    </tr>\n",
       "    <tr>\n",
       "      <th>02.01.2019 00:00</th>\n",
       "      <td>85</td>\n",
       "      <td>1279</td>\n",
       "      <td>6744</td>\n",
       "      <td>30</td>\n",
       "      <td>244</td>\n",
       "      <td>15</td>\n",
       "      <td>79</td>\n",
       "      <td>0</td>\n",
       "      <td>3</td>\n",
       "    </tr>\n",
       "    <tr>\n",
       "      <th>03.01.2019 00:00</th>\n",
       "      <td>94</td>\n",
       "      <td>992</td>\n",
       "      <td>5297</td>\n",
       "      <td>22</td>\n",
       "      <td>291</td>\n",
       "      <td>11</td>\n",
       "      <td>56</td>\n",
       "      <td>0</td>\n",
       "      <td>3</td>\n",
       "    </tr>\n",
       "  </tbody>\n",
       "</table>\n",
       "</div>"
      ],
      "text/plain": [
       "                  ReviewCount  Words  Chars  Likes  Rating  Avg_Words  \\\n",
       "Time                                                                    \n",
       "01.01.2019 00:00           65    552   3026      7     217          8   \n",
       "02.01.2019 00:00           85   1279   6744     30     244         15   \n",
       "03.01.2019 00:00           94    992   5297     22     291         11   \n",
       "\n",
       "                  Avg_Chars  Avg_Likes  Avg_Rating  \n",
       "Time                                                \n",
       "01.01.2019 00:00         47          0           3  \n",
       "02.01.2019 00:00         79          0           3  \n",
       "03.01.2019 00:00         56          0           3  "
      ]
     },
     "execution_count": 52,
     "metadata": {},
     "output_type": "execute_result"
    }
   ],
   "source": [
    "# combine the 12 monthly dataframes for each app\n",
    "# collapse into 1 dataframe with 365 daily totals\n",
    "def getExportableDf(app):\n",
    "    c = {\n",
    "        'index' : [],\n",
    "        'ReviewCount': [],\n",
    "        'Words': [],\n",
    "        'Chars': [],\n",
    "        'Likes': [],\n",
    "        'Rating': [],\n",
    "        'Avg_Words': [],\n",
    "        'Avg_Chars': [],\n",
    "        'Avg_Likes': [],\n",
    "        'Avg_Rating': []\n",
    "    }\n",
    "    for i in range(1,13):\n",
    "        new_index = appendZeroTime(mdfs[app][i].index)\n",
    "        c['index'] += new_index\n",
    "        \n",
    "        for col in mdfs[app][i].columns:\n",
    "            c[col] += list(mdfs[app][i][col])\n",
    "            \n",
    "    exportable = pd.DataFrame.from_dict(c)\n",
    "    exportable = exportable.set_index('index')\n",
    "    exportable.index = pd.to_datetime(exportable.index,\n",
    "                                     format=\"%Y-%m-%d %H:%S\")\n",
    "    exportable.index = exportable.index.strftime('%d.%m.%Y %H:%S')\n",
    "    exportable.index.name = 'Time'\n",
    "    \n",
    "    return exportable\n",
    "    \n",
    "e = getExportableDf('tencent')\n",
    "e.head(3)\n",
    "\n"
   ]
  },
  {
   "cell_type": "code",
   "execution_count": 53,
   "metadata": {},
   "outputs": [
    {
     "data": {
      "text/plain": [
       "365"
      ]
     },
     "execution_count": 53,
     "metadata": {},
     "output_type": "execute_result"
    }
   ],
   "source": [
    "len(getExportableDf('spotify'))"
   ]
  },
  {
   "cell_type": "code",
   "execution_count": 54,
   "metadata": {},
   "outputs": [
    {
     "data": {
      "text/plain": [
       "pandas.core.indexes.base.Index"
      ]
     },
     "execution_count": 54,
     "metadata": {},
     "output_type": "execute_result"
    }
   ],
   "source": [
    "e = getExportableDf('spotify')\n",
    "type(e.index)"
   ]
  },
  {
   "cell_type": "markdown",
   "metadata": {},
   "source": [
    "# Export"
   ]
  },
  {
   "cell_type": "code",
   "execution_count": 55,
   "metadata": {},
   "outputs": [],
   "source": [
    "e.to_csv('spotify_2019.csv', columns = e.columns)"
   ]
  },
  {
   "cell_type": "code",
   "execution_count": 56,
   "metadata": {},
   "outputs": [],
   "source": [
    "def printMinAndMax(df):\n",
    "    print(f\"REVIEW \\t Ma: {max(df['ReviewCount'])}\\t Mi: {min(df['ReviewCount'])}\")\n",
    "    print(f\"WORDS \\t Ma: {max(df['Words'])}\\t Mi: {min(df['Words'])}\")\n",
    "    print(f\"CHARS \\t Ma: {max(df['Chars'])}\\t Mi: {min(df['Chars'])}\")\n",
    "    print(f\"LIKES \\t Ma: {max(df['Likes'])}\\t Mi: {min(df['Likes'])}\")\n",
    "    print(f\"RATING \\t Ma: {max(df['Rating'])}\\t Mi: {min(df['Rating'])}\")"
   ]
  },
  {
   "cell_type": "code",
   "execution_count": 57,
   "metadata": {},
   "outputs": [],
   "source": [
    "def printHighsLows(app_name):\n",
    "    df = mdfs[app_name]\n",
    "    print(\"\\nHighest and lowest daily review count per month for \" + app_name + \"\\n\")\n",
    "    print(\"MONTH\\t\\t\\t\", \"HIGH\\t\\t\\t\\t\\t\", \"LOW\")\n",
    "    for i in range(1,13):\n",
    "        vmax = max(df[i].ReviewCount)\n",
    "        vmin = min(df[i].ReviewCount)\n",
    "        date_max = df[i].index[df[i]['ReviewCount'] == vmax]\n",
    "        date_min = df[i].index[df[i]['ReviewCount'] == vmin]\n",
    "        date_max_d = date_max.strftime(\"%d\")[0]\n",
    "        date_min_d = date_min.strftime(\"%d\")[0]\n",
    "        day_name_max = dfs[app_name].loc[date_max[0].strftime(\"%Y-%m-%d\")]['Weekday Name'].values[0]\n",
    "        day_name_min = dfs[app_name].loc[date_min[0].strftime(\"%Y-%m-%d\")]['Weekday Name'].values[0]\n",
    "        print(str(i) + \"\\t\\t\\t\",\n",
    "              day_name_max + \", \" + str(date_max_d), \"\\t\" + str(vmax), \"\\t\\t\\t\",\n",
    "              day_name_min + \", \" + str(date_min_d), \"\\t\" + str(vmin))"
   ]
  },
  {
   "cell_type": "markdown",
   "metadata": {},
   "source": [
    "# Crosscheck Anomalies Detected with TSADF\n",
    "\n",
    "Below, we look into anomalies detected with the framework.\n",
    "\n",
    "1. Analyze dataset with framework (365 rows, daily totals)\n",
    "2. Make note of what dates the framework finds anomalies\n",
    "3. Retrieve the same dates from the dataframe\n",
    "4. Check max() and min(); see that the framework identifies EV's\n",
    "\n",
    "The following experiment is done using user reviews for Spotify from the Google Play Store, for the year 2019."
   ]
  },
  {
   "cell_type": "markdown",
   "metadata": {},
   "source": [
    "# Nutshell\n",
    "\n",
    "Below is a linechart of the review count measured throughout 2019 for Spotify."
   ]
  },
  {
   "cell_type": "code",
   "execution_count": 58,
   "metadata": {},
   "outputs": [
    {
     "data": {
      "image/png": "[encoded data removed]",
      "text/plain": [
       "<Figure size 1296x288 with 1 Axes>"
      ]
     },
     "metadata": {
      "needs_background": "light"
     },
     "output_type": "display_data"
    }
   ],
   "source": [
    "get_year_reviewcount('spotify')"
   ]
  },
  {
   "cell_type": "markdown",
   "metadata": {},
   "source": [
    "Each month has its own color, and we can see some distinct highs and lows in the above linechart.\n",
    "\n",
    "## What is an anomaly\n",
    "Even though some of the measured values are _clearly_ higher than other measurements - they're not necessarily anomalies. It could be that these values are part of a natural (__seasonal__) pattern.\n",
    "\n",
    "Likely, many software development companies have regular __version release cycles__ of e.g., 2 weeks. So the peaks and valleys seen in the chart are natural.\n",
    "\n",
    "## What is seasonality\n",
    "To find out, we have to crosscheck our findings -- both through visualization and use of the time series anomaly detection framework -- with _events_ occurring with the company developing the software whose data we are analyzing.\n",
    "\n",
    "Below, we make note of the extreme values (EVs) recorded each month, pertaining to the spotify user review data. We then look into spotify logs to see if something happened prior to those dates (e.g., new version release).\n",
    "\n",
    "### Max and min values for review count per month"
   ]
  },
  {
   "cell_type": "code",
   "execution_count": 59,
   "metadata": {},
   "outputs": [
    {
     "name": "stdout",
     "output_type": "stream",
     "text": [
      "\n",
      "Highest and lowest daily review count per month for spotify\n",
      "\n",
      "MONTH\t\t\t HIGH\t\t\t\t\t LOW\n",
      "1\t\t\t Friday, 11 \t1261 \t\t\t Tuesday, 29 \t658\n",
      "2\t\t\t Wednesday, 27 \t2524 \t\t\t Monday, 04 \t764\n",
      "3\t\t\t Wednesday, 13 \t2983 \t\t\t Wednesday, 06 \t1543\n",
      "4\t\t\t Monday, 08 \t1795 \t\t\t Monday, 29 \t1101\n",
      "5\t\t\t Friday, 31 \t1618 \t\t\t Thursday, 09 \t1094\n",
      "6\t\t\t Wednesday, 19 \t2102 \t\t\t Sunday, 09 \t1239\n",
      "7\t\t\t Monday, 01 \t1692 \t\t\t Wednesday, 24 \t1281\n",
      "8\t\t\t Tuesday, 13 \t3180 \t\t\t Thursday, 08 \t1219\n",
      "9\t\t\t Saturday, 21 \t1444 \t\t\t Monday, 16 \t1113\n",
      "10\t\t\t Saturday, 12 \t1383 \t\t\t Thursday, 31 \t1118\n",
      "11\t\t\t Saturday, 02 \t1371 \t\t\t Monday, 25 \t1107\n",
      "12\t\t\t Thursday, 05 \t1658 \t\t\t Sunday, 01 \t1103\n"
     ]
    }
   ],
   "source": [
    "printHighsLows('spotify')"
   ]
  },
  {
   "cell_type": "markdown",
   "metadata": {},
   "source": [
    "## Changelog\n",
    "\n",
    "Below is a list of dates where a new version was released, taken from __apk4fun.com__\n",
    "\n",
    "* SoundCloud: https://www.apk4fun.com/history/1563/2/\n",
    "* Snapchat: https://www.apk4fun.com/history/1299/2/\n",
    "* Spotify: https://www.apk4fun.com/history/9887/2/"
   ]
  },
  {
   "cell_type": "markdown",
   "metadata": {},
   "source": [
    "<h1 style='font-size:5em;color:#333;'>APK Release History per App </h1>\n",
    "\n",
    "In this section we consider data collected from a source of APK version history logs. We want to see if software releases can be directly correlated to peaks in user review counts.\n",
    "\n",
    "Further, we collect the change list for some of the releases to see if we can deduce whether it's a new feature or bug/hot fixes.\n",
    "\n",
    "<h2>Sources</h2>\n",
    "\n",
    "* apk4fun.com\n",
    "\n",
    "<h2>Plot Legend</h2>\n",
    "\n",
    "<ul>\n",
    "    <li style='color: blue;'>Blue line => Reviews posted</li>\n",
    "    <li style='color: red;'>Red line => APK version release</li>\n",
    "</ul>\n",
    "\n",
    "<h2>Limitations</h2>\n",
    "\n",
    "- Not all apps present a changelog with information.\n",
    "- Below we consider only those who do."
   ]
  },
  {
   "cell_type": "code",
   "execution_count": 160,
   "metadata": {},
   "outputs": [],
   "source": [
    "def print_changes(app, loc, split_symbol):\n",
    "    changes_string = str(apk_dfs[app].loc[loc].Changes)\n",
    "    changes_list = changes_string.split(split_symbol)[1:-1]\n",
    "    for change in changes_list:\n",
    "        print(change + \"\\n\")"
   ]
  },
  {
   "cell_type": "code",
   "execution_count": 83,
   "metadata": {
    "scrolled": true
   },
   "outputs": [
    {
     "data": {
      "text/html": [
       "<div>\n",
       "<style scoped>\n",
       "    .dataframe tbody tr th:only-of-type {\n",
       "        vertical-align: middle;\n",
       "    }\n",
       "\n",
       "    .dataframe tbody tr th {\n",
       "        vertical-align: top;\n",
       "    }\n",
       "\n",
       "    .dataframe thead th {\n",
       "        text-align: right;\n",
       "    }\n",
       "</style>\n",
       "<table border=\"1\" class=\"dataframe\">\n",
       "  <thead>\n",
       "    <tr style=\"text-align: right;\">\n",
       "      <th></th>\n",
       "      <th>Version</th>\n",
       "      <th>Changes</th>\n",
       "    </tr>\n",
       "    <tr>\n",
       "      <th>Date</th>\n",
       "      <th></th>\n",
       "      <th></th>\n",
       "    </tr>\n",
       "  </thead>\n",
       "  <tbody>\n",
       "    <tr>\n",
       "      <th>2020-03-17</th>\n",
       "      <td>2020.9.1</td>\n",
       "      <td>• Minor fixes and improvements,_______________...</td>\n",
       "    </tr>\n",
       "    <tr>\n",
       "      <th>2020-03-11</th>\n",
       "      <td>2020.8.2</td>\n",
       "      <td>• Bug Fix: Resolved a networking issue,• New: ...</td>\n",
       "    </tr>\n",
       "    <tr>\n",
       "      <th>2020-03-03</th>\n",
       "      <td>2020.7.0</td>\n",
       "      <td>• New Notification Settings! Now you can contr...</td>\n",
       "    </tr>\n",
       "  </tbody>\n",
       "</table>\n",
       "</div>"
      ],
      "text/plain": [
       "             Version                                            Changes\n",
       "Date                                                                   \n",
       "2020-03-17  2020.9.1  • Minor fixes and improvements,_______________...\n",
       "2020-03-11  2020.8.2  • Bug Fix: Resolved a networking issue,• New: ...\n",
       "2020-03-03  2020.7.0  • New Notification Settings! Now you can contr..."
      ]
     },
     "execution_count": 83,
     "metadata": {},
     "output_type": "execute_result"
    }
   ],
   "source": [
    "apk_dfs = {}\n",
    "apps = ['reddit',\n",
    "       'soundcloud',\n",
    "       'spotify',\n",
    "       'tumblr',\n",
    "       'viber',\n",
    "       'snapchat']\n",
    "\n",
    "for app in apps:\n",
    "    apk_dfs[app] = pd.read_csv(\"data/apk4fun_history/\" + app + \"-apk.csv\",\n",
    "                          index_col=\"Date\",\n",
    "                          parse_dates=True)\n",
    "\n",
    "apk_dfs['reddit'].loc['2020-03']"
   ]
  },
  {
   "cell_type": "code",
   "execution_count": 84,
   "metadata": {},
   "outputs": [
    {
     "data": {
      "text/html": [
       "<div>\n",
       "<style scoped>\n",
       "    .dataframe tbody tr th:only-of-type {\n",
       "        vertical-align: middle;\n",
       "    }\n",
       "\n",
       "    .dataframe tbody tr th {\n",
       "        vertical-align: top;\n",
       "    }\n",
       "\n",
       "    .dataframe thead th {\n",
       "        text-align: right;\n",
       "    }\n",
       "</style>\n",
       "<table border=\"1\" class=\"dataframe\">\n",
       "  <thead>\n",
       "    <tr style=\"text-align: right;\">\n",
       "      <th></th>\n",
       "      <th>Version</th>\n",
       "      <th>Changes</th>\n",
       "    </tr>\n",
       "    <tr>\n",
       "      <th>Date</th>\n",
       "      <th></th>\n",
       "      <th></th>\n",
       "    </tr>\n",
       "  </thead>\n",
       "  <tbody>\n",
       "    <tr>\n",
       "      <th>2019-05-29</th>\n",
       "      <td>10.58.0.0</td>\n",
       "      <td>Tap the arrow on the Camera screen to try Time...</td>\n",
       "    </tr>\n",
       "    <tr>\n",
       "      <th>2019-05-17</th>\n",
       "      <td>10.57.0.0</td>\n",
       "      <td>Introducing Snap Games!,Snap Games are mobile ...</td>\n",
       "    </tr>\n",
       "    <tr>\n",
       "      <th>2019-05-13</th>\n",
       "      <td>10.56.7.0</td>\n",
       "      <td>Bug fixes and improvements! 👻</td>\n",
       "    </tr>\n",
       "  </tbody>\n",
       "</table>\n",
       "</div>"
      ],
      "text/plain": [
       "              Version                                            Changes\n",
       "Date                                                                    \n",
       "2019-05-29  10.58.0.0  Tap the arrow on the Camera screen to try Time...\n",
       "2019-05-17  10.57.0.0  Introducing Snap Games!,Snap Games are mobile ...\n",
       "2019-05-13  10.56.7.0                      Bug fixes and improvements! 👻"
      ]
     },
     "execution_count": 84,
     "metadata": {},
     "output_type": "execute_result"
    }
   ],
   "source": [
    "apk_dfs['snapchat'].loc['2019-05']"
   ]
  },
  {
   "cell_type": "markdown",
   "metadata": {},
   "source": [
    "# Reddit"
   ]
  },
  {
   "cell_type": "code",
   "execution_count": 85,
   "metadata": {
    "scrolled": false
   },
   "outputs": [
    {
     "data": {
      "image/png": "[encoded data removed]",
      "text/plain": [
       "<Figure size 720x360 with 1 Axes>"
      ]
     },
     "metadata": {
      "needs_background": "light"
     },
     "output_type": "display_data"
    }
   ],
   "source": [
    "app = 'reddit'\n",
    "i = 12\n",
    "lp2(mdfs[app][i],\n",
    "   'ReviewCount',\n",
    "   app + ' review count/release date',\n",
    "   apk_dfs[app].loc['2019-' + str(i)].index)"
   ]
  },
  {
   "cell_type": "code",
   "execution_count": 86,
   "metadata": {},
   "outputs": [
    {
     "data": {
      "text/html": [
       "<div>\n",
       "<style scoped>\n",
       "    .dataframe tbody tr th:only-of-type {\n",
       "        vertical-align: middle;\n",
       "    }\n",
       "\n",
       "    .dataframe tbody tr th {\n",
       "        vertical-align: top;\n",
       "    }\n",
       "\n",
       "    .dataframe thead th {\n",
       "        text-align: right;\n",
       "    }\n",
       "</style>\n",
       "<table border=\"1\" class=\"dataframe\">\n",
       "  <thead>\n",
       "    <tr style=\"text-align: right;\">\n",
       "      <th></th>\n",
       "      <th>Version</th>\n",
       "      <th>Changes</th>\n",
       "    </tr>\n",
       "    <tr>\n",
       "      <th>Date</th>\n",
       "      <th></th>\n",
       "      <th></th>\n",
       "    </tr>\n",
       "  </thead>\n",
       "  <tbody>\n",
       "    <tr>\n",
       "      <th>2019-12-02</th>\n",
       "      <td>3.41.0</td>\n",
       "      <td>• Spoiler and NSFW tags can now be set when cr...</td>\n",
       "    </tr>\n",
       "  </tbody>\n",
       "</table>\n",
       "</div>"
      ],
      "text/plain": [
       "           Version                                            Changes\n",
       "Date                                                                 \n",
       "2019-12-02  3.41.0  • Spoiler and NSFW tags can now be set when cr..."
      ]
     },
     "execution_count": 86,
     "metadata": {},
     "output_type": "execute_result"
    }
   ],
   "source": [
    "apk_dfs['reddit'].loc['2019-12']"
   ]
  },
  {
   "cell_type": "code",
   "execution_count": 87,
   "metadata": {},
   "outputs": [],
   "source": [
    "pd.set_option('display.max_colwidth', -1)"
   ]
  },
  {
   "cell_type": "code",
   "execution_count": 140,
   "metadata": {},
   "outputs": [
    {
     "data": {
      "text/html": [
       "<div>\n",
       "<style scoped>\n",
       "    .dataframe tbody tr th:only-of-type {\n",
       "        vertical-align: middle;\n",
       "    }\n",
       "\n",
       "    .dataframe tbody tr th {\n",
       "        vertical-align: top;\n",
       "    }\n",
       "\n",
       "    .dataframe thead th {\n",
       "        text-align: right;\n",
       "    }\n",
       "</style>\n",
       "<table border=\"1\" class=\"dataframe\">\n",
       "  <thead>\n",
       "    <tr style=\"text-align: right;\">\n",
       "      <th></th>\n",
       "      <th>Version</th>\n",
       "      <th>Changes</th>\n",
       "    </tr>\n",
       "    <tr>\n",
       "      <th>Date</th>\n",
       "      <th></th>\n",
       "      <th></th>\n",
       "    </tr>\n",
       "  </thead>\n",
       "  <tbody>\n",
       "    <tr>\n",
       "      <th>2019-12-02</th>\n",
       "      <td>3.41.0</td>\n",
       "      <td>• Spoiler and NSFW tags can now be set when creating or editing a post. This is available under the ‘More’ button, just above the keyboard,• Added support for email and password updating on a new ‘Account settings’ page under ‘Settings’,• Saved images are now tagged with the community they originated from,• Fixed a bug that caused the ‘Join’ button to show ‘Join’ even if you had already joined a community,• Fixed a bug that caused the onboarding flow to be shown despite tapping ‘Skip’</td>\n",
       "    </tr>\n",
       "  </tbody>\n",
       "</table>\n",
       "</div>"
      ],
      "text/plain": [
       "           Version  \\\n",
       "Date                 \n",
       "2019-12-02  3.41.0   \n",
       "\n",
       "                                                                                                                                                                                                                                                                                                                                                                                                                                                                                                              Changes  \n",
       "Date                                                                                                                                                                                                                                                                                                                                                                                                                                                                                                                   \n",
       "2019-12-02  • Spoiler and NSFW tags can now be set when creating or editing a post. This is available under the ‘More’ button, just above the keyboard,• Added support for email and password updating on a new ‘Account settings’ page under ‘Settings’,• Saved images are now tagged with the community they originated from,• Fixed a bug that caused the ‘Join’ button to show ‘Join’ even if you had already joined a community,• Fixed a bug that caused the onboarding flow to be shown despite tapping ‘Skip’  "
      ]
     },
     "execution_count": 140,
     "metadata": {},
     "output_type": "execute_result"
    }
   ],
   "source": [
    "apk_dfs['reddit'].loc['2019-12']"
   ]
  },
  {
   "cell_type": "code",
   "execution_count": 134,
   "metadata": {},
   "outputs": [
    {
     "data": {
      "image/png": "[encoded data removed]",
      "text/plain": [
       "<Figure size 720x360 with 1 Axes>"
      ]
     },
     "metadata": {
      "needs_background": "light"
     },
     "output_type": "display_data"
    }
   ],
   "source": [
    "app = 'reddit'\n",
    "i = 11\n",
    "lp2(mdfs[app][i],\n",
    "   'ReviewCount',\n",
    "   app + ' review count/release date',\n",
    "   apk_dfs[app].loc['2019-' + str(i)].index)"
   ]
  },
  {
   "cell_type": "code",
   "execution_count": 135,
   "metadata": {},
   "outputs": [
    {
     "data": {
      "image/png": "[encoded data removed]",
      "text/plain": [
       "<Figure size 720x360 with 1 Axes>"
      ]
     },
     "metadata": {
      "needs_background": "light"
     },
     "output_type": "display_data"
    }
   ],
   "source": [
    "app = 'reddit'\n",
    "i = 10\n",
    "lp2(mdfs[app][i],\n",
    "   'ReviewCount',\n",
    "   app + ' review count/release date',\n",
    "   apk_dfs[app].loc['2019-' + str(i)].index)"
   ]
  },
  {
   "cell_type": "code",
   "execution_count": 139,
   "metadata": {},
   "outputs": [
    {
     "data": {
      "text/html": [
       "<div>\n",
       "<style scoped>\n",
       "    .dataframe tbody tr th:only-of-type {\n",
       "        vertical-align: middle;\n",
       "    }\n",
       "\n",
       "    .dataframe tbody tr th {\n",
       "        vertical-align: top;\n",
       "    }\n",
       "\n",
       "    .dataframe thead th {\n",
       "        text-align: right;\n",
       "    }\n",
       "</style>\n",
       "<table border=\"1\" class=\"dataframe\">\n",
       "  <thead>\n",
       "    <tr style=\"text-align: right;\">\n",
       "      <th></th>\n",
       "      <th>Version</th>\n",
       "      <th>Changes</th>\n",
       "    </tr>\n",
       "    <tr>\n",
       "      <th>Date</th>\n",
       "      <th></th>\n",
       "      <th></th>\n",
       "    </tr>\n",
       "  </thead>\n",
       "  <tbody>\n",
       "    <tr>\n",
       "      <th>2019-10-20</th>\n",
       "      <td>3.38.0</td>\n",
       "      <td>• Logged out users can now subscribe to up to 20 communities and have them transferred to their account when they sign up,• Added GIFs in comments support for r/FortNiteBR,• Fixed a bug that caused the view (Card/Classic) control not to work on search results,• Fixed an issue that stopped RPAN from loading for some users,• Fixed a crash that could occur on Popular tab,• Fixed a bug that caused the app to freeze when opening Live threads,• Fixed a crash that could occur when starting the app</td>\n",
       "    </tr>\n",
       "    <tr>\n",
       "      <th>2019-10-03</th>\n",
       "      <td>3.37.0</td>\n",
       "      <td>• Fixed a problem when replying to an inbox message displays an infinite loading state,• Fixed an issue where broadcaster on RPAN would sometimes stop receiving chat messages,• Minor bug fixes and performance improvements</td>\n",
       "    </tr>\n",
       "    <tr>\n",
       "      <th>2019-10-02</th>\n",
       "      <td>3.36.1</td>\n",
       "      <td>• Fixed an issue that caused video ad screens to not load properly</td>\n",
       "    </tr>\n",
       "  </tbody>\n",
       "</table>\n",
       "</div>"
      ],
      "text/plain": [
       "           Version  \\\n",
       "Date                 \n",
       "2019-10-20  3.38.0   \n",
       "2019-10-03  3.37.0   \n",
       "2019-10-02  3.36.1   \n",
       "\n",
       "                                                                                                                                                                                                                                                                                                                                                                                                                                                                                                                    Changes  \n",
       "Date                                                                                                                                                                                                                                                                                                                                                                                                                                                                                                                         \n",
       "2019-10-20  • Logged out users can now subscribe to up to 20 communities and have them transferred to their account when they sign up,• Added GIFs in comments support for r/FortNiteBR,• Fixed a bug that caused the view (Card/Classic) control not to work on search results,• Fixed an issue that stopped RPAN from loading for some users,• Fixed a crash that could occur on Popular tab,• Fixed a bug that caused the app to freeze when opening Live threads,• Fixed a crash that could occur when starting the app  \n",
       "2019-10-03  • Fixed a problem when replying to an inbox message displays an infinite loading state,• Fixed an issue where broadcaster on RPAN would sometimes stop receiving chat messages,• Minor bug fixes and performance improvements                                                                                                                                                                                                                                                                                    \n",
       "2019-10-02  • Fixed an issue that caused video ad screens to not load properly                                                                                                                                                                                                                                                                                                                                                                                                                                               "
      ]
     },
     "execution_count": 139,
     "metadata": {},
     "output_type": "execute_result"
    }
   ],
   "source": [
    "apk_dfs['reddit'].loc['2019-10']"
   ]
  },
  {
   "cell_type": "markdown",
   "metadata": {},
   "source": [
    "<h3>User Reviews with Likes > 90</h3>"
   ]
  },
  {
   "cell_type": "code",
   "execution_count": 145,
   "metadata": {},
   "outputs": [
    {
     "data": {
      "text/html": [
       "<div>\n",
       "<style scoped>\n",
       "    .dataframe tbody tr th:only-of-type {\n",
       "        vertical-align: middle;\n",
       "    }\n",
       "\n",
       "    .dataframe tbody tr th {\n",
       "        vertical-align: top;\n",
       "    }\n",
       "\n",
       "    .dataframe thead th {\n",
       "        text-align: right;\n",
       "    }\n",
       "</style>\n",
       "<table border=\"1\" class=\"dataframe\">\n",
       "  <thead>\n",
       "    <tr style=\"text-align: right;\">\n",
       "      <th></th>\n",
       "      <th>Username</th>\n",
       "      <th>Rating</th>\n",
       "      <th>Review</th>\n",
       "      <th>Words</th>\n",
       "      <th>Chars</th>\n",
       "      <th>Likes</th>\n",
       "      <th>ReplyDate</th>\n",
       "      <th>Year</th>\n",
       "      <th>Month</th>\n",
       "      <th>Weekday Name</th>\n",
       "    </tr>\n",
       "    <tr>\n",
       "      <th>Timestamp</th>\n",
       "      <th></th>\n",
       "      <th></th>\n",
       "      <th></th>\n",
       "      <th></th>\n",
       "      <th></th>\n",
       "      <th></th>\n",
       "      <th></th>\n",
       "      <th></th>\n",
       "      <th></th>\n",
       "      <th></th>\n",
       "    </tr>\n",
       "  </thead>\n",
       "  <tbody>\n",
       "    <tr>\n",
       "      <th>2019-10-29 17:38:33.253000+00:00</th>\n",
       "      <td>Nick Enchev</td>\n",
       "      <td>2</td>\n",
       "      <td>90% of the time when I tap a notification to open. A trending story or notification, the app does not go to the requested content. The deep linking is completely broken, if I want to find the story I have to go and look through the content list, which is a waste of time. I end up not getting back to any of the content and simply just seeing notifications without any use. Please fix, it's not hard, I've worked on proper deep linking a few times.</td>\n",
       "      <td>87</td>\n",
       "      <td>448</td>\n",
       "      <td>366</td>\n",
       "      <td>NaN</td>\n",
       "      <td>2019</td>\n",
       "      <td>10</td>\n",
       "      <td>Tuesday</td>\n",
       "    </tr>\n",
       "    <tr>\n",
       "      <th>2019-10-28 17:15:09.619000+00:00</th>\n",
       "      <td>inconspicuous tree</td>\n",
       "      <td>4</td>\n",
       "      <td>It's amazing! I was suggested Reddit by a friend and it has so many features! You can see memes or funny videos, gifs, and pictures. You can ask for help on any matter, including gaming, relationships, emotional, and life in general! There is a subreddit for anyone and everything, and I mean EVERYTHING! There are subreddits for nsfw, cute, funny, cool, interesting etc. My only complaint is that there is a lot of people who hate on everything you do and post. Also the karma system is broken.</td>\n",
       "      <td>88</td>\n",
       "      <td>495</td>\n",
       "      <td>653</td>\n",
       "      <td>NaN</td>\n",
       "      <td>2019</td>\n",
       "      <td>10</td>\n",
       "      <td>Monday</td>\n",
       "    </tr>\n",
       "    <tr>\n",
       "      <th>2019-10-28 14:07:01.926000+00:00</th>\n",
       "      <td>Dan Charles</td>\n",
       "      <td>5</td>\n",
       "      <td>I started using Reddit about 6 months ago and have been really enjoying it. There are loads of great subs and people to follow and talk with. I enjoy helping others and chatting about like-minded things. This app has always worked flawlessly for me. It's smooth, fast, easy to navigate and dark mode is easy on the eyes too. Such a simple and easy to use platform. Doesn't try to be everything (unlike Facebook) and just does what it's meant to really well.</td>\n",
       "      <td>84</td>\n",
       "      <td>457</td>\n",
       "      <td>239</td>\n",
       "      <td>NaN</td>\n",
       "      <td>2019</td>\n",
       "      <td>10</td>\n",
       "      <td>Monday</td>\n",
       "    </tr>\n",
       "    <tr>\n",
       "      <th>2019-10-16 23:47:55.880000+00:00</th>\n",
       "      <td>Carl Thomas</td>\n",
       "      <td>1</td>\n",
       "      <td>almost constantly tells me \"had trouble getting to reddit\" recently. on top of other bugs, like threads with media breaking navigation, this app is useless. Feels like modding was thrown in as an afterthought: modqueue doesn't work. Does not mix posts and comments. If I set it to comments only and then pick a comment, when I go back to the modq page, it's defaulted to posts. + comments from modq never load to begin. + Can't remove comments from inside posts.</td>\n",
       "      <td>82</td>\n",
       "      <td>462</td>\n",
       "      <td>1366</td>\n",
       "      <td>NaN</td>\n",
       "      <td>2019</td>\n",
       "      <td>10</td>\n",
       "      <td>Wednesday</td>\n",
       "    </tr>\n",
       "    <tr>\n",
       "      <th>2019-10-12 13:52:34.216000+00:00</th>\n",
       "      <td>Mark Mcgovney</td>\n",
       "      <td>5</td>\n",
       "      <td>Love! Love! LOVE IT!! People are real on Reddit, you get a lot of truth on the app. It's hard to find that nowadays, it's a breath of fresh TrUtH!! It's has just about everything for everyone, it covers kids and adults. My buddy link an article and I clicked and it brought me to Reddit. I haven't gone a day without the app, it's one of those where you get lost in time. Famous last words, \"Oh I'm just gonna be on Reddit for 15 mins.\" 4 hours later you can still find new stuff to read or watch.</td>\n",
       "      <td>100</td>\n",
       "      <td>497</td>\n",
       "      <td>381</td>\n",
       "      <td>NaN</td>\n",
       "      <td>2019</td>\n",
       "      <td>10</td>\n",
       "      <td>Saturday</td>\n",
       "    </tr>\n",
       "    <tr>\n",
       "      <th>2019-10-04 09:10:01.453000+00:00</th>\n",
       "      <td>Saket Vaibhav</td>\n",
       "      <td>5</td>\n",
       "      <td>The app is really good. It has a night mode for people who like apps to be dark and I guess that's most of us. Specially for apps in which we spend a lot of time, dark theme is so much better and preferable. Also, if you have a phone which has an AMOLED display, there's a special dark mode option just for that! Go have fun! The best part about it is that the app is just as good as the web. You don't need to specially log into Reddit on your desktop for anything.</td>\n",
       "      <td>96</td>\n",
       "      <td>466</td>\n",
       "      <td>628</td>\n",
       "      <td>NaN</td>\n",
       "      <td>2019</td>\n",
       "      <td>10</td>\n",
       "      <td>Friday</td>\n",
       "    </tr>\n",
       "    <tr>\n",
       "      <th>2019-10-03 22:57:00.255000+00:00</th>\n",
       "      <td>That Random Lemon</td>\n",
       "      <td>2</td>\n",
       "      <td>Everything was fine until for some reason the gifs and videos stopped loading. Some older gifs and videos might work, but I can't really see anything too interesting without the recordings. I messaged Reddit about a month or two ago and they don't seem to be working on solving the problem. Please fix this to make this app more enjoyable, and any help would be appreciated.</td>\n",
       "      <td>66</td>\n",
       "      <td>374</td>\n",
       "      <td>287</td>\n",
       "      <td>NaN</td>\n",
       "      <td>2019</td>\n",
       "      <td>10</td>\n",
       "      <td>Thursday</td>\n",
       "    </tr>\n",
       "  </tbody>\n",
       "</table>\n",
       "</div>"
      ],
      "text/plain": [
       "                                            Username  Rating  \\\n",
       "Timestamp                                                      \n",
       "2019-10-29 17:38:33.253000+00:00  Nick Enchev         2        \n",
       "2019-10-28 17:15:09.619000+00:00  inconspicuous tree  4        \n",
       "2019-10-28 14:07:01.926000+00:00  Dan Charles         5        \n",
       "2019-10-16 23:47:55.880000+00:00  Carl Thomas         1        \n",
       "2019-10-12 13:52:34.216000+00:00  Mark Mcgovney       5        \n",
       "2019-10-04 09:10:01.453000+00:00  Saket Vaibhav       5        \n",
       "2019-10-03 22:57:00.255000+00:00  That Random Lemon   2        \n",
       "\n",
       "                                                                                                                                                                                                                                                                                                                                                                                                                                                                                                                                             Review  \\\n",
       "Timestamp                                                                                                                                                                                                                                                                                                                                                                                                                                                                                                                                             \n",
       "2019-10-29 17:38:33.253000+00:00  90% of the time when I tap a notification to open. A trending story or notification, the app does not go to the requested content. The deep linking is completely broken, if I want to find the story I have to go and look through the content list, which is a waste of time. I end up not getting back to any of the content and simply just seeing notifications without any use. Please fix, it's not hard, I've worked on proper deep linking a few times.                                                    \n",
       "2019-10-28 17:15:09.619000+00:00  It's amazing! I was suggested Reddit by a friend and it has so many features! You can see memes or funny videos, gifs, and pictures. You can ask for help on any matter, including gaming, relationships, emotional, and life in general! There is a subreddit for anyone and everything, and I mean EVERYTHING! There are subreddits for nsfw, cute, funny, cool, interesting etc. My only complaint is that there is a lot of people who hate on everything you do and post. Also the karma system is broken.     \n",
       "2019-10-28 14:07:01.926000+00:00  I started using Reddit about 6 months ago and have been really enjoying it. There are loads of great subs and people to follow and talk with. I enjoy helping others and chatting about like-minded things. This app has always worked flawlessly for me. It's smooth, fast, easy to navigate and dark mode is easy on the eyes too. Such a simple and easy to use platform. Doesn't try to be everything (unlike Facebook) and just does what it's meant to really well.                                           \n",
       "2019-10-16 23:47:55.880000+00:00  almost constantly tells me \"had trouble getting to reddit\" recently. on top of other bugs, like threads with media breaking navigation, this app is useless. Feels like modding was thrown in as an afterthought: modqueue doesn't work. Does not mix posts and comments. If I set it to comments only and then pick a comment, when I go back to the modq page, it's defaulted to posts. + comments from modq never load to begin. + Can't remove comments from inside posts.                                      \n",
       "2019-10-12 13:52:34.216000+00:00  Love! Love! LOVE IT!! People are real on Reddit, you get a lot of truth on the app. It's hard to find that nowadays, it's a breath of fresh TrUtH!! It's has just about everything for everyone, it covers kids and adults. My buddy link an article and I clicked and it brought me to Reddit. I haven't gone a day without the app, it's one of those where you get lost in time. Famous last words, \"Oh I'm just gonna be on Reddit for 15 mins.\" 4 hours later you can still find new stuff to read or watch.   \n",
       "2019-10-04 09:10:01.453000+00:00  The app is really good. It has a night mode for people who like apps to be dark and I guess that's most of us. Specially for apps in which we spend a lot of time, dark theme is so much better and preferable. Also, if you have a phone which has an AMOLED display, there's a special dark mode option just for that! Go have fun! The best part about it is that the app is just as good as the web. You don't need to specially log into Reddit on your desktop for anything.                                  \n",
       "2019-10-03 22:57:00.255000+00:00  Everything was fine until for some reason the gifs and videos stopped loading. Some older gifs and videos might work, but I can't really see anything too interesting without the recordings. I messaged Reddit about a month or two ago and they don't seem to be working on solving the problem. Please fix this to make this app more enjoyable, and any help would be appreciated.                                                                                                                              \n",
       "\n",
       "                                  Words  Chars  Likes ReplyDate  Year  Month  \\\n",
       "Timestamp                                                                      \n",
       "2019-10-29 17:38:33.253000+00:00  87     448    366    NaN       2019  10      \n",
       "2019-10-28 17:15:09.619000+00:00  88     495    653    NaN       2019  10      \n",
       "2019-10-28 14:07:01.926000+00:00  84     457    239    NaN       2019  10      \n",
       "2019-10-16 23:47:55.880000+00:00  82     462    1366   NaN       2019  10      \n",
       "2019-10-12 13:52:34.216000+00:00  100    497    381    NaN       2019  10      \n",
       "2019-10-04 09:10:01.453000+00:00  96     466    628    NaN       2019  10      \n",
       "2019-10-03 22:57:00.255000+00:00  66     374    287    NaN       2019  10      \n",
       "\n",
       "                                 Weekday Name  \n",
       "Timestamp                                      \n",
       "2019-10-29 17:38:33.253000+00:00  Tuesday      \n",
       "2019-10-28 17:15:09.619000+00:00  Monday       \n",
       "2019-10-28 14:07:01.926000+00:00  Monday       \n",
       "2019-10-16 23:47:55.880000+00:00  Wednesday    \n",
       "2019-10-12 13:52:34.216000+00:00  Saturday     \n",
       "2019-10-04 09:10:01.453000+00:00  Friday       \n",
       "2019-10-03 22:57:00.255000+00:00  Thursday     "
      ]
     },
     "execution_count": 145,
     "metadata": {},
     "output_type": "execute_result"
    }
   ],
   "source": [
    "daf = dfs['reddit'].loc['2019-10']\n",
    "daf[daf.Likes > 200]"
   ]
  },
  {
   "cell_type": "code",
   "execution_count": 147,
   "metadata": {},
   "outputs": [
    {
     "data": {
      "image/png": "[encoded data removed]",
      "text/plain": [
       "<Figure size 720x360 with 1 Axes>"
      ]
     },
     "metadata": {
      "needs_background": "light"
     },
     "output_type": "display_data"
    }
   ],
   "source": [
    "app = 'reddit'\n",
    "i = 9\n",
    "lp2(mdfs[app][i],\n",
    "   'ReviewCount',\n",
    "   app + ' review count/release date',\n",
    "   apk_dfs[app].loc['2019-' + str(i)].index)"
   ]
  },
  {
   "cell_type": "code",
   "execution_count": 150,
   "metadata": {},
   "outputs": [
    {
     "data": {
      "text/html": [
       "<div>\n",
       "<style scoped>\n",
       "    .dataframe tbody tr th:only-of-type {\n",
       "        vertical-align: middle;\n",
       "    }\n",
       "\n",
       "    .dataframe tbody tr th {\n",
       "        vertical-align: top;\n",
       "    }\n",
       "\n",
       "    .dataframe thead th {\n",
       "        text-align: right;\n",
       "    }\n",
       "</style>\n",
       "<table border=\"1\" class=\"dataframe\">\n",
       "  <thead>\n",
       "    <tr style=\"text-align: right;\">\n",
       "      <th></th>\n",
       "      <th>Version</th>\n",
       "      <th>Changes</th>\n",
       "    </tr>\n",
       "    <tr>\n",
       "      <th>Date</th>\n",
       "      <th></th>\n",
       "      <th></th>\n",
       "    </tr>\n",
       "  </thead>\n",
       "  <tbody>\n",
       "    <tr>\n",
       "      <th>2019-09-20</th>\n",
       "      <td>3.36.0</td>\n",
       "      <td>• You can now subscribe to or turn off notifications from a particular subreddit all from a Trending notification,• Recently viewed live discussion posts now show up in chat inbox,• Updated the emotes picker for r/FortniteBR,• Fixed an issue when application wasn't loading correctly,• Fixed sorting and displaying badges in membership tab for r/FortNiteBR,• Fixed a crash that occur when trying to load live threads,• Fixed a crash that occur when returning to a post after backgrounding the app</td>\n",
       "    </tr>\n",
       "    <tr>\n",
       "      <th>2019-09-10</th>\n",
       "      <td>3.35.2</td>\n",
       "      <td>• Fixed badge grouping on the badge management screen in r/FortNiteBR,• Fixed a rare crash that could occur when opening the app,• Fixed a rare issue when r/Popular wasn't loading,• Minor fixes and improvements</td>\n",
       "    </tr>\n",
       "    <tr>\n",
       "      <th>2019-09-09</th>\n",
       "      <td>3.35.1</td>\n",
       "      <td>• Fixed badge grouping on the badge management screen in r/FortNiteBR,• Fixed a rare crash that could occur when opening the app,• Fixed a rare issue when r/Popular wasn't loading,• Minor fixes and improvements</td>\n",
       "    </tr>\n",
       "  </tbody>\n",
       "</table>\n",
       "</div>"
      ],
      "text/plain": [
       "           Version  \\\n",
       "Date                 \n",
       "2019-09-20  3.36.0   \n",
       "2019-09-10  3.35.2   \n",
       "2019-09-09  3.35.1   \n",
       "\n",
       "                                                                                                                                                                                                                                                                                                                                                                                                                                                                                                                     Changes  \n",
       "Date                                                                                                                                                                                                                                                                                                                                                                                                                                                                                                                          \n",
       "2019-09-20  • You can now subscribe to or turn off notifications from a particular subreddit all from a Trending notification,• Recently viewed live discussion posts now show up in chat inbox,• Updated the emotes picker for r/FortniteBR,• Fixed an issue when application wasn't loading correctly,• Fixed sorting and displaying badges in membership tab for r/FortNiteBR,• Fixed a crash that occur when trying to load live threads,• Fixed a crash that occur when returning to a post after backgrounding the app  \n",
       "2019-09-10  • Fixed badge grouping on the badge management screen in r/FortNiteBR,• Fixed a rare crash that could occur when opening the app,• Fixed a rare issue when r/Popular wasn't loading,• Minor fixes and improvements                                                                                                                                                                                                                                                                                                \n",
       "2019-09-09  • Fixed badge grouping on the badge management screen in r/FortNiteBR,• Fixed a rare crash that could occur when opening the app,• Fixed a rare issue when r/Popular wasn't loading,• Minor fixes and improvements                                                                                                                                                                                                                                                                                                "
      ]
     },
     "execution_count": 150,
     "metadata": {},
     "output_type": "execute_result"
    }
   ],
   "source": [
    "apk_dfs['reddit'].loc['2019-09']"
   ]
  },
  {
   "cell_type": "code",
   "execution_count": 161,
   "metadata": {},
   "outputs": [
    {
     "name": "stdout",
     "output_type": "stream",
     "text": [
      " Fixed badge grouping on the badge management screen in r/FortNiteBR,\n",
      "\n",
      " Fixed a rare crash that could occur when opening the app,\n",
      "\n",
      " Fixed a rare issue when r/Popular wasn't loading,\n",
      "\n"
     ]
    }
   ],
   "source": [
    "print_changes('reddit', '2019-09-09', '•')"
   ]
  },
  {
   "cell_type": "code",
   "execution_count": 152,
   "metadata": {},
   "outputs": [
    {
     "data": {
      "image/png": "[encoded data removed]",
      "text/plain": [
       "<Figure size 720x360 with 1 Axes>"
      ]
     },
     "metadata": {
      "needs_background": "light"
     },
     "output_type": "display_data"
    }
   ],
   "source": [
    "app = 'reddit'\n",
    "i = 8\n",
    "lp2(mdfs[app][i],\n",
    "   'ReviewCount',\n",
    "   app + ' review count/release date',\n",
    "   apk_dfs[app].loc['2019-' + str(i)].index)"
   ]
  },
  {
   "cell_type": "code",
   "execution_count": 154,
   "metadata": {},
   "outputs": [
    {
     "data": {
      "text/html": [
       "<div>\n",
       "<style scoped>\n",
       "    .dataframe tbody tr th:only-of-type {\n",
       "        vertical-align: middle;\n",
       "    }\n",
       "\n",
       "    .dataframe tbody tr th {\n",
       "        vertical-align: top;\n",
       "    }\n",
       "\n",
       "    .dataframe thead th {\n",
       "        text-align: right;\n",
       "    }\n",
       "</style>\n",
       "<table border=\"1\" class=\"dataframe\">\n",
       "  <thead>\n",
       "    <tr style=\"text-align: right;\">\n",
       "      <th></th>\n",
       "      <th>Version</th>\n",
       "      <th>Changes</th>\n",
       "    </tr>\n",
       "    <tr>\n",
       "      <th>Date</th>\n",
       "      <th></th>\n",
       "      <th></th>\n",
       "    </tr>\n",
       "  </thead>\n",
       "  <tbody>\n",
       "    <tr>\n",
       "      <th>2019-08-28</th>\n",
       "      <td>3.34.1</td>\n",
       "      <td>Fixed an issue that caused multiple ‘Trending today’ sections to appear at the top of r/Popular,Fixed an issue with displaying emojis,____________,Previously in 3.34.0,Fixed an issue when \"continue this thread\" button didn't work properly,Fixed a scrolling bug that could occur when viewing video or GIF posts,Minor fixes and improvements</td>\n",
       "    </tr>\n",
       "    <tr>\n",
       "      <th>2019-08-21</th>\n",
       "      <td>3.33.2</td>\n",
       "      <td>New in this release:,Fixed an issue where RPAN streams on Home and Popular pages would play at the same time,Fixes messaging for logged out users who want to start an RPAN stream,Other RPAN fixes and stability improvements,--------,Previously:,New! Auto night mode can now be set to follow Android Q’s Dark Theme setting,Fixed! Subreddits with underscores in their name can now be added to Custom Feeds,Fixes and improvements</td>\n",
       "    </tr>\n",
       "    <tr>\n",
       "      <th>2019-08-16</th>\n",
       "      <td>3.33.1</td>\n",
       "      <td>New in this release:,Fixes and improvements,--------,Previously:,New! Auto night mode can now be set to follow Android Q’s Dark Theme setting,Fixed! Subreddits with underscores in their name can now be added to Custom Feeds</td>\n",
       "    </tr>\n",
       "    <tr>\n",
       "      <th>2019-08-12</th>\n",
       "      <td>3.33.0</td>\n",
       "      <td>New! Auto night mode can now be set to follow Android Q’s Dark Theme setting,Fixed! Subreddits with underscores in their name can now be added to Custom Feeds,Minor fixes and improvement</td>\n",
       "    </tr>\n",
       "  </tbody>\n",
       "</table>\n",
       "</div>"
      ],
      "text/plain": [
       "           Version  \\\n",
       "Date                 \n",
       "2019-08-28  3.34.1   \n",
       "2019-08-21  3.33.2   \n",
       "2019-08-16  3.33.1   \n",
       "2019-08-12  3.33.0   \n",
       "\n",
       "                                                                                                                                                                                                                                                                                                                                                                                                                                              Changes  \n",
       "Date                                                                                                                                                                                                                                                                                                                                                                                                                                                   \n",
       "2019-08-28  Fixed an issue that caused multiple ‘Trending today’ sections to appear at the top of r/Popular,Fixed an issue with displaying emojis,____________,Previously in 3.34.0,Fixed an issue when \"continue this thread\" button didn't work properly,Fixed a scrolling bug that could occur when viewing video or GIF posts,Minor fixes and improvements                                                                                         \n",
       "2019-08-21  New in this release:,Fixed an issue where RPAN streams on Home and Popular pages would play at the same time,Fixes messaging for logged out users who want to start an RPAN stream,Other RPAN fixes and stability improvements,--------,Previously:,New! Auto night mode can now be set to follow Android Q’s Dark Theme setting,Fixed! Subreddits with underscores in their name can now be added to Custom Feeds,Fixes and improvements  \n",
       "2019-08-16  New in this release:,Fixes and improvements,--------,Previously:,New! Auto night mode can now be set to follow Android Q’s Dark Theme setting,Fixed! Subreddits with underscores in their name can now be added to Custom Feeds                                                                                                                                                                                                            \n",
       "2019-08-12  New! Auto night mode can now be set to follow Android Q’s Dark Theme setting,Fixed! Subreddits with underscores in their name can now be added to Custom Feeds,Minor fixes and improvement                                                                                                                                                                                                                                                 "
      ]
     },
     "execution_count": 154,
     "metadata": {},
     "output_type": "execute_result"
    }
   ],
   "source": [
    "apk_dfs['reddit'].loc['2019-08']"
   ]
  },
  {
   "cell_type": "code",
   "execution_count": 164,
   "metadata": {},
   "outputs": [
    {
     "name": "stdout",
     "output_type": "stream",
     "text": [
      " Auto night mode can now be set to follow Android Q’s Dark Theme setting,Fixed\n",
      "\n"
     ]
    }
   ],
   "source": [
    "print_changes(\"reddit\", \"2019-08-12\", \"!\")"
   ]
  },
  {
   "cell_type": "code",
   "execution_count": 165,
   "metadata": {},
   "outputs": [
    {
     "name": "stdout",
     "output_type": "stream",
     "text": [
      "Fixed an issue where RPAN streams on Home and Popular pages would play at the same time\n",
      "\n",
      "Fixes messaging for logged out users who want to start an RPAN stream\n",
      "\n",
      "Other RPAN fixes and stability improvements\n",
      "\n",
      "--------\n",
      "\n",
      "Previously:\n",
      "\n",
      "New! Auto night mode can now be set to follow Android Q’s Dark Theme setting\n",
      "\n",
      "Fixed! Subreddits with underscores in their name can now be added to Custom Feeds\n",
      "\n",
      "Fixes and improvements\n",
      "Name: Changes\n",
      "\n"
     ]
    }
   ],
   "source": [
    "print_changes(\"reddit\", \"2019-08-21\", \",\")"
   ]
  },
  {
   "cell_type": "code",
   "execution_count": null,
   "metadata": {},
   "outputs": [],
   "source": []
  }
 ],
 "metadata": {
  "kernelspec": {
   "display_name": "Python 3",
   "language": "python",
   "name": "python3"
  },
  "language_info": {
   "codemirror_mode": {
    "name": "ipython",
    "version": 3
   },
   "file_extension": ".py",
   "mimetype": "text/x-python",
   "name": "python",
   "nbconvert_exporter": "python",
   "pygments_lexer": "ipython3",
   "version": "3.7.5"
  }
 },
 "nbformat": 4,
 "nbformat_minor": 2
}
