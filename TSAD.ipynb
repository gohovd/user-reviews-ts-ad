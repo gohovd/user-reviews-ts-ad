{
 "cells": [
  {
   "cell_type": "markdown",
   "metadata": {},
   "source": [
    "<h1 style=\"text-align:center;\">Miscellaneous</h1>"
   ]
  },
  {
   "cell_type": "code",
   "execution_count": 1,
   "metadata": {},
   "outputs": [
    {
     "data": {
      "text/html": [
       "<style>\n",
       "    .note {\n",
       "        background-color: hsl(60, 100%, 80%);\n",
       "        border: 1px solid transparent;\n",
       "        border-radius: 5px;\n",
       "        padding: 5px;\n",
       "    }\n",
       "</style>\n"
      ],
      "text/plain": [
       "<IPython.core.display.HTML object>"
      ]
     },
     "metadata": {},
     "output_type": "display_data"
    }
   ],
   "source": [
    "%%HTML\n",
    "<style>\n",
    "    .note {\n",
    "        background-color: hsl(60, 100%, 80%);\n",
    "        border: 1px solid transparent;\n",
    "        border-radius: 5px;\n",
    "        padding: 5px;\n",
    "    }\n",
    "</style>"
   ]
  },
  {
   "cell_type": "code",
   "execution_count": 2,
   "metadata": {},
   "outputs": [],
   "source": [
    "attributes = {\n",
    "    'Reddit' : {\n",
    "        'color' : 'darkred',\n",
    "        'linestyle' : 'solid',\n",
    "        'marker': 'tri_down'\n",
    "    },\n",
    "    'Spotify': {\n",
    "        'color': 'green',\n",
    "        'linestyle': 'dotted',\n",
    "        'linewidth': '1',\n",
    "        'marker': 'circle'\n",
    "    },\n",
    "    'Snapchat': {\n",
    "        'color': 'green',\n",
    "        'linestyle': 'dotted',\n",
    "        'linewidth': '1',\n",
    "        'marker': 'circle'\n",
    "    },\n",
    "    'Soundcloud': {\n",
    "        'color': 'orange',\n",
    "        'linestyle': 'solid',\n",
    "        'linewidth': '1',\n",
    "        'marker': 'circle'\n",
    "    },\n",
    "    'Viber': {\n",
    "        'color': 'purple',\n",
    "        'linestyle': 'dotted',\n",
    "        'linewidth': '1',\n",
    "        'marker': 'circle'\n",
    "    },\n",
    "    'Tumblr': {\n",
    "        'color': 'teal',\n",
    "        'linestyle': 'solid',\n",
    "        'linewidth': '1',\n",
    "        'marker': 'circle'\n",
    "    },\n",
    "    'Tencent': {\n",
    "        'color': 'lime',\n",
    "        'linestyle': 'dotted',\n",
    "        'linewidth': '1',\n",
    "        'marker': 'circle'\n",
    "    }\n",
    "}"
   ]
  },
  {
   "cell_type": "code",
   "execution_count": 3,
   "metadata": {},
   "outputs": [],
   "source": [
    "import matplotlib.pyplot as plt\n",
    "import matplotlib as mpl\n",
    "import numpy as np\n",
    "import pandas as pd\n",
    "import re\n",
    "import statistics as s\n",
    "from calendar import monthrange"
   ]
  },
  {
   "cell_type": "markdown",
   "metadata": {},
   "source": [
    "<h1 style=\"text-align:center;\">Introduction</h1>\n",
    "\n",
    "Our goal is to detect anomalies in timeseries data, namely user reviews.\n",
    "\n",
    "## Anomaly Detection\n",
    "\n",
    "<a href=\"https://bitbucket.org/rakibulmdalam/time-series-anomaly-detection-framework/src/master/\">Timeseries Anomaly Detection Framework</a>\n",
    "\n",
    "\n",
    "## Data\n",
    "<h3 style=\"color:green;\">Google Play Store</h3>\n",
    "\n",
    "User review data comes with the following dimensions:\n",
    "- Username (string)\n",
    "- Timestamp (Datetime)\n",
    "- Rating (integer)\n",
    "- Likes (integer)\n",
    "- Review (text)\n",
    "- Replied to (boolean)\n",
    "\n",
    "### Granularity\n",
    "\n",
    "In popular apps reviews can be spaced in time by as little as a few seconds. In less popular apps they can be spaced by more.\n",
    "\n",
    "Given that each review is timestamped, we can collect averages for any time unit:\n",
    "- Hour\n",
    "- Day\n",
    "- Month\n",
    "- Year\n",
    "\n",
    "### Enriching the data\n",
    "\n",
    "We append columns based on existing columns:\n",
    "\n",
    "<ul>\n",
    "    <li>Number of characters in review (integer)</li>\n",
    "    <li>Number of words in review (integer)</li>\n",
    "    <li>Average:</li>\n",
    "    <ul>\n",
    "        <li>Words</li>\n",
    "        <li>Chars</li>\n",
    "        <li>Rating</li>\n",
    "        <li>Likes</li>\n",
    "        <li>Reviews</li>\n",
    "    </ul>\n",
    "</ul>\n",
    "\n",
    "Preliminary cleaning of data:\n",
    "- Remove reviews with less than three words\n",
    "\n",
    "Via a classification algorithm we give the reviews a category:\n",
    "- Improvement request\n",
    "- Bug report\n",
    "- Other\n",
    "\n",
    "Similarly, via a classification algorithm we deduce the review sentiment:\n",
    "- Good\n",
    "- Bad\n",
    "\n",
    "Finally, we re-structure the data to fit the anomaly detection framework:\n",
    "\n",
    "<table style=\"float:left;border:1px solid gray;\">\n",
    "    <tr>\n",
    "        <th>Time</th>\n",
    "        <th>ReviewCount</th>\n",
    "        <th>Rating</th>\n",
    "        <th>Words</th>\n",
    "        <th>Chars</th>\n",
    "        <th>Good</th>\n",
    "        <th>Bad</th>\n",
    "        <th>ImprovementRequest</th>\n",
    "        <th>BugReport</th>\n",
    "        <th>Other</th>\n",
    "    </tr>\n",
    "    <tr>\n",
    "        <td>31-01-2020 16:20</td>\n",
    "        <td>540</td>\n",
    "        <td>2394</td>\n",
    "        <td>13200</td>\n",
    "        <td>32193</td>\n",
    "        <td>120</td>\n",
    "        <td>180</td>\n",
    "        <td>19</td>\n",
    "        <td>45</td>\n",
    "        <td>411</td>\n",
    "    </tr>\n",
    "</table>\n",
    "\n",
    "<br>\n",
    "<br>\n",
    "<br>\n",
    "<br>\n",
    "<br>\n",
    "<span class=\"note\"><strong>NB:</strong> The framework requires each entry to be equally spaced in time!</span>\n",
    "<br>\n",
    "<br>\n",
    "<span class=\"note\"><strong>NB:</strong> The framework requires first column to be named 'Time' and to have format <strong>%d.%m.%Y %H:%M</strong></span>\n",
    "\n",
    "<h2 style=\"color:skyblue\">Sources</h2>\n",
    "\n",
    "- Amazon App Store http://jmcauley.ucsd.edu/data/amazon/\n",
    "- Google Play Store https://github.com/facundoolano/google-play-scraper\n",
    "\n",
    "<h2 style=\"color:purple\">Apps</h2>\n",
    "\n",
    "- Reddit\n",
    "- Spotify\n",
    "- Tumblr\n",
    "- Tencent\n",
    "- Soundcloud\n",
    "- Snapchat\n",
    "- Viber"
   ]
  },
  {
   "cell_type": "markdown",
   "metadata": {},
   "source": [
    "<h1 style=\"color:olive;text-align:center;\">Function Definitions</h1>"
   ]
  },
  {
   "cell_type": "code",
   "execution_count": 4,
   "metadata": {},
   "outputs": [],
   "source": [
    "def pie_chart(sizes, labels, title):\n",
    "    fig, ax = plt.subplots()\n",
    "    plt.style.use('fast')\n",
    "    fig=plt.figure(figsize=(12, 8), dpi= 80, facecolor='w', edgecolor='w')\n",
    "    ax.pie(sizes,\n",
    "          labels=labels,\n",
    "          autopct='%1.1f%%',\n",
    "          shadow=True,\n",
    "          startangle=90)\n",
    "\n",
    "    ax.axis('equal')\n",
    "    ax.set(aspect=\"equal\", title=title)\n",
    "    plt.show()\n",
    "    \n",
    "def multi_lineplot2(props, df, title):\n",
    "    fig = plt.figure(figsize=(14, 4), dpi= 80, facecolor='w', edgecolor='k')\n",
    "    plt.style.use('fast')\n",
    "    \n",
    "    for key, value in props.items():\n",
    "        plt.plot(df.index,\n",
    "                df[key],\n",
    "                label=key,\n",
    "                color='%s' % props[key]['color'],\n",
    "                linestyle='%s' % props[key]['linestyle'],\n",
    "                linewidth=1)\n",
    "    plt.title(title)\n",
    "    plt.legend(loc='lower right')\n",
    "    \n",
    "def multi_lineplot(dictionary_appname_properties, dataframe, title):\n",
    "    fig=plt.figure(figsize=(14, 4), dpi= 80, facecolor='w', edgecolor='k')\n",
    "    plt.style.use('classic')\n",
    "    for app, prop in dictionary_appname_properties.items():\n",
    "        plt.plot(dataframe.index,\n",
    "                dataframe[app],\n",
    "                label=app,\n",
    "                color='%s' % applications[app]['color'],\n",
    "                linestyle='%s' % applications[app]['linestyle'],\n",
    "                linewidth=1)\n",
    "    plt.title(title)\n",
    "    plt.legend(loc='lower right')\n",
    "    \n",
    "def lineplot(xaxis, yaxis, title):\n",
    "    fig = plt.figure(figsize=(10, 5), dpi = 80, facecolor = 'w', edgecolor = 'k')\n",
    "    plt.style.use('fast')\n",
    "    plt.xticks(np.arange(min(yaxis), max(yaxis)+1, 1))\n",
    "    plt.plot(xaxis,\n",
    "            yaxis,\n",
    "            linewidth=1)\n",
    "    plt.title(title)\n",
    "\n",
    "def drop_short_reviews(mode, minimum, dataframe):\n",
    "    indices_to_drop = []\n",
    "    for index, row in dataframe.iterrows():\n",
    "        review = row['Review']\n",
    "        if isinstance(review, str):\n",
    "            if mode == \"word\":\n",
    "                words = re.split(\" |-\", review)\n",
    "                if len(words) < minimum:\n",
    "                    indices_to_drop.append(index)\n",
    "            else:\n",
    "                if len(review) < minimum:\n",
    "                    indices_to_drop.append(index)\n",
    "    return indices_to_drop\n",
    "\n",
    "# Returns the daily totals of all dimensions (words, chars, likes, ..)\n",
    "# for one month as a dictionary with key = \"column name\", and value =\n",
    "# list with the sum of column name for each day of the month.\n",
    "#\n",
    "# Example: get_monthly(2019, 2, \"reddit\")\n",
    "# \n",
    "# Return: dictionary (key = \"rating\",\n",
    "#                    (value = list)\n",
    "#\n",
    "def get_monthly(year, month, app):\n",
    "    mrange = range(monthrange(year, month)[1])\n",
    "    year_month = str(year) + \"-\" + str(month)\n",
    "    mdf = dfs[app].loc[year_month]\n",
    "    data = {\n",
    "        \"Day\": [],\n",
    "        \"ReviewCount\": [],\n",
    "        \"Words\": [],\n",
    "        \"Chars\": [],\n",
    "        \"Likes\": [],\n",
    "        \"Rating\": [],\n",
    "        \"Avg_Words\": [],\n",
    "        \"Avg_Chars\" : [],\n",
    "        \"Avg_Likes\": [],\n",
    "        \"Avg_Rating\": []\n",
    "    }\n",
    "    for n in mrange:\n",
    "        day = n + 1\n",
    "        date = year_month + \"-\" + str(day)\n",
    "        data[\"Day\"].append(date);\n",
    "        data[\"ReviewCount\"].append(len(dfs[app].loc[date]))\n",
    "        data[\"Words\"].append(sum(dfs[app].loc[date][\"Words\"]))\n",
    "        data[\"Chars\"].append(sum(dfs[app].loc[date][\"Chars\"]))\n",
    "        data[\"Likes\"].append(sum(dfs[app].loc[date][\"Likes\"]))\n",
    "        data[\"Rating\"].append(sum(dfs[app].loc[date][\"Rating\"]))\n",
    "        data[\"Avg_Words\"].append(round(s.mean(dfs[app].loc[date][\"Words\"])))\n",
    "        data[\"Avg_Chars\"].append(round(s.mean(dfs[app].loc[date][\"Chars\"])))\n",
    "        data[\"Avg_Likes\"].append(round(s.mean(dfs[app].loc[date][\"Likes\"])))\n",
    "        data[\"Avg_Rating\"].append(round(s.mean(dfs[app].loc[date][\"Rating\"])))\n",
    "    return data"
   ]
  },
  {
   "cell_type": "markdown",
   "metadata": {},
   "source": [
    "<h1 style=\"text-align:center;\">Data Pre-processing</h1>\n",
    "\n",
    "## Structure\n",
    "We want two __master__ dataframes:\n",
    "1. __sum_df__: Holds all dimension sums per app (daily, hourly, ..)\n",
    "\n",
    "2. __avg_df__: Holds all averages of dimensions per app (daily, hourly, ..)\n",
    "\n",
    "The __key__ is the name of the app, and the __value__ is the app's dataframe.\n",
    "\n",
    "## Timeframe\n",
    "All analysis is performed on reviews found in the year __2019__."
   ]
  },
  {
   "cell_type": "code",
   "execution_count": 5,
   "metadata": {},
   "outputs": [],
   "source": [
    "dfs = {} # starting dataframes from .csv import\n",
    "\n",
    "mdfs = {} # DICT ('app_name') > DICT (month #) > DATAFRAME ('col') > LIST (values)\n",
    "          # mdfs['spotify'][6]['ReviewCount']\n",
    "          # mdfs['spotify'][6].loc['2019-01-01':'2019-01-10']"
   ]
  },
  {
   "cell_type": "markdown",
   "metadata": {},
   "source": [
    "<h1 style='font-size: 5em;'>Import</h1>"
   ]
  },
  {
   "cell_type": "code",
   "execution_count": 6,
   "metadata": {},
   "outputs": [
    {
     "name": "stderr",
     "output_type": "stream",
     "text": [
      "/usr/local/lib/python3.7/site-packages/IPython/core/interactiveshell.py:3058: DtypeWarning: Columns (5) have mixed types. Specify dtype option on import or set low_memory=False.\n",
      "  interactivity=interactivity, compiler=compiler, result=result)\n"
     ]
    },
    {
     "data": {
      "text/html": [
       "<div>\n",
       "<style scoped>\n",
       "    .dataframe tbody tr th:only-of-type {\n",
       "        vertical-align: middle;\n",
       "    }\n",
       "\n",
       "    .dataframe tbody tr th {\n",
       "        vertical-align: top;\n",
       "    }\n",
       "\n",
       "    .dataframe thead th {\n",
       "        text-align: right;\n",
       "    }\n",
       "</style>\n",
       "<table border=\"1\" class=\"dataframe\">\n",
       "  <thead>\n",
       "    <tr style=\"text-align: right;\">\n",
       "      <th></th>\n",
       "      <th>Username</th>\n",
       "      <th>Rating</th>\n",
       "      <th>Review</th>\n",
       "      <th>Likes</th>\n",
       "      <th>ReplyDate</th>\n",
       "    </tr>\n",
       "    <tr>\n",
       "      <th>Timestamp</th>\n",
       "      <th></th>\n",
       "      <th></th>\n",
       "      <th></th>\n",
       "      <th></th>\n",
       "      <th></th>\n",
       "    </tr>\n",
       "  </thead>\n",
       "  <tbody>\n",
       "    <tr>\n",
       "      <th>2019-12-31 23:43:16.518000+00:00</th>\n",
       "      <td>Donnell Brown jr</td>\n",
       "      <td>5</td>\n",
       "      <td>Best app for music</td>\n",
       "      <td>0</td>\n",
       "      <td>NaN</td>\n",
       "    </tr>\n",
       "    <tr>\n",
       "      <th>2019-12-31 23:42:17.130000+00:00</th>\n",
       "      <td>Jasmine Cole</td>\n",
       "      <td>5</td>\n",
       "      <td>Best music app</td>\n",
       "      <td>0</td>\n",
       "      <td>NaN</td>\n",
       "    </tr>\n",
       "    <tr>\n",
       "      <th>2019-12-31 23:26:50.271000+00:00</th>\n",
       "      <td>zeeshan tourist</td>\n",
       "      <td>5</td>\n",
       "      <td>Owsum</td>\n",
       "      <td>0</td>\n",
       "      <td>NaN</td>\n",
       "    </tr>\n",
       "  </tbody>\n",
       "</table>\n",
       "</div>"
      ],
      "text/plain": [
       "                                          Username  Rating  \\\n",
       "Timestamp                                                    \n",
       "2019-12-31 23:43:16.518000+00:00  Donnell Brown jr       5   \n",
       "2019-12-31 23:42:17.130000+00:00      Jasmine Cole       5   \n",
       "2019-12-31 23:26:50.271000+00:00   zeeshan tourist       5   \n",
       "\n",
       "                                              Review  Likes ReplyDate  \n",
       "Timestamp                                                              \n",
       "2019-12-31 23:43:16.518000+00:00  Best app for music      0       NaN  \n",
       "2019-12-31 23:42:17.130000+00:00      Best music app      0       NaN  \n",
       "2019-12-31 23:26:50.271000+00:00               Owsum      0       NaN  "
      ]
     },
     "execution_count": 6,
     "metadata": {},
     "output_type": "execute_result"
    }
   ],
   "source": [
    "year = '2019'\n",
    "\n",
    "apps = ['com.reddit.frontpage',\n",
    "        'com.spotify.music',\n",
    "        'com.snapchat.android',\n",
    "        'com.tumblr',\n",
    "        'com.viber.voip',\n",
    "        'com.tencent.mm',\n",
    "        'com.soundcloud.android',\n",
    "       'com.whatsapp']\n",
    "\n",
    "for app in apps:\n",
    "    key = app.split(\".\")[1]\n",
    "    dfs[key] = pd.read_csv(\"data/gplay_reviews/\" + app + \".csv\",\n",
    "                          index_col=\"Timestamp\",\n",
    "                          parse_dates=True).loc[year]\n",
    "\n",
    "dfs[\"soundcloud\"].head(3)"
   ]
  },
  {
   "cell_type": "markdown",
   "metadata": {},
   "source": [
    "# Quick Data Overview"
   ]
  },
  {
   "cell_type": "code",
   "execution_count": 7,
   "metadata": {
    "scrolled": false
   },
   "outputs": [
    {
     "data": {
      "text/plain": [
       "4.38956906161571"
      ]
     },
     "execution_count": 7,
     "metadata": {},
     "output_type": "execute_result"
    }
   ],
   "source": [
    "# average of rating in date range\n",
    "s.mean(dfs['reddit'].loc['2019-01-01':'2019-12-30']['Rating'])"
   ]
  },
  {
   "cell_type": "code",
   "execution_count": 8,
   "metadata": {},
   "outputs": [
    {
     "data": {
      "text/plain": [
       "pandas.core.indexes.datetimes.DatetimeIndex"
      ]
     },
     "execution_count": 8,
     "metadata": {},
     "output_type": "execute_result"
    }
   ],
   "source": [
    "type(dfs['reddit'].index)"
   ]
  },
  {
   "cell_type": "code",
   "execution_count": 9,
   "metadata": {},
   "outputs": [
    {
     "data": {
      "text/html": [
       "<div>\n",
       "<style scoped>\n",
       "    .dataframe tbody tr th:only-of-type {\n",
       "        vertical-align: middle;\n",
       "    }\n",
       "\n",
       "    .dataframe tbody tr th {\n",
       "        vertical-align: top;\n",
       "    }\n",
       "\n",
       "    .dataframe thead th {\n",
       "        text-align: right;\n",
       "    }\n",
       "</style>\n",
       "<table border=\"1\" class=\"dataframe\">\n",
       "  <thead>\n",
       "    <tr style=\"text-align: right;\">\n",
       "      <th></th>\n",
       "      <th>Username</th>\n",
       "      <th>Rating</th>\n",
       "      <th>Review</th>\n",
       "      <th>Likes</th>\n",
       "      <th>ReplyDate</th>\n",
       "    </tr>\n",
       "    <tr>\n",
       "      <th>Timestamp</th>\n",
       "      <th></th>\n",
       "      <th></th>\n",
       "      <th></th>\n",
       "      <th></th>\n",
       "      <th></th>\n",
       "    </tr>\n",
       "  </thead>\n",
       "  <tbody>\n",
       "    <tr>\n",
       "      <th>2019-12-31 23:36:53.970000+00:00</th>\n",
       "      <td>Robert Bolton</td>\n",
       "      <td>5</td>\n",
       "      <td>Watch hours of your life vanish with glee</td>\n",
       "      <td>0</td>\n",
       "      <td>NaN</td>\n",
       "    </tr>\n",
       "    <tr>\n",
       "      <th>2019-12-31 23:31:41.285000+00:00</th>\n",
       "      <td>Sandra Thomas</td>\n",
       "      <td>5</td>\n",
       "      <td>Reddit is news and humanity! It's a conglomera...</td>\n",
       "      <td>0</td>\n",
       "      <td>NaN</td>\n",
       "    </tr>\n",
       "    <tr>\n",
       "      <th>2019-12-31 23:22:35.779000+00:00</th>\n",
       "      <td>Mamali Ph</td>\n",
       "      <td>5</td>\n",
       "      <td>Awesome</td>\n",
       "      <td>0</td>\n",
       "      <td>NaN</td>\n",
       "    </tr>\n",
       "  </tbody>\n",
       "</table>\n",
       "</div>"
      ],
      "text/plain": [
       "                                       Username  Rating  \\\n",
       "Timestamp                                                 \n",
       "2019-12-31 23:36:53.970000+00:00  Robert Bolton       5   \n",
       "2019-12-31 23:31:41.285000+00:00  Sandra Thomas       5   \n",
       "2019-12-31 23:22:35.779000+00:00      Mamali Ph       5   \n",
       "\n",
       "                                                                             Review  \\\n",
       "Timestamp                                                                             \n",
       "2019-12-31 23:36:53.970000+00:00          Watch hours of your life vanish with glee   \n",
       "2019-12-31 23:31:41.285000+00:00  Reddit is news and humanity! It's a conglomera...   \n",
       "2019-12-31 23:22:35.779000+00:00                                            Awesome   \n",
       "\n",
       "                                  Likes ReplyDate  \n",
       "Timestamp                                          \n",
       "2019-12-31 23:36:53.970000+00:00      0       NaN  \n",
       "2019-12-31 23:31:41.285000+00:00      0       NaN  \n",
       "2019-12-31 23:22:35.779000+00:00      0       NaN  "
      ]
     },
     "execution_count": 9,
     "metadata": {},
     "output_type": "execute_result"
    }
   ],
   "source": [
    "dfs['reddit'].head(3)"
   ]
  },
  {
   "cell_type": "code",
   "execution_count": 10,
   "metadata": {},
   "outputs": [
    {
     "data": {
      "text/plain": [
       "Timestamp('2019-01-01 00:03:23.200000+0000', tz='UTC')"
      ]
     },
     "execution_count": 10,
     "metadata": {},
     "output_type": "execute_result"
    }
   ],
   "source": [
    "# the earliest date of a review for 'reddit' data set\n",
    "min(dfs['reddit'].index)"
   ]
  },
  {
   "cell_type": "code",
   "execution_count": 11,
   "metadata": {},
   "outputs": [
    {
     "data": {
      "text/plain": [
       "Timestamp('2019-12-31 23:36:53.970000+0000', tz='UTC')"
      ]
     },
     "execution_count": 11,
     "metadata": {},
     "output_type": "execute_result"
    }
   ],
   "source": [
    "# the latest date of a review for 'reddit'\n",
    "max(dfs[\"reddit\"].index)"
   ]
  },
  {
   "cell_type": "code",
   "execution_count": 12,
   "metadata": {},
   "outputs": [
    {
     "data": {
      "text/html": [
       "<div>\n",
       "<style scoped>\n",
       "    .dataframe tbody tr th:only-of-type {\n",
       "        vertical-align: middle;\n",
       "    }\n",
       "\n",
       "    .dataframe tbody tr th {\n",
       "        vertical-align: top;\n",
       "    }\n",
       "\n",
       "    .dataframe thead th {\n",
       "        text-align: right;\n",
       "    }\n",
       "</style>\n",
       "<table border=\"1\" class=\"dataframe\">\n",
       "  <thead>\n",
       "    <tr style=\"text-align: right;\">\n",
       "      <th></th>\n",
       "      <th>Username</th>\n",
       "      <th>Rating</th>\n",
       "      <th>Review</th>\n",
       "      <th>Likes</th>\n",
       "      <th>ReplyDate</th>\n",
       "    </tr>\n",
       "    <tr>\n",
       "      <th>Timestamp</th>\n",
       "      <th></th>\n",
       "      <th></th>\n",
       "      <th></th>\n",
       "      <th></th>\n",
       "      <th></th>\n",
       "    </tr>\n",
       "  </thead>\n",
       "  <tbody>\n",
       "    <tr>\n",
       "      <th>2019-02-03 11:54:33.539000+00:00</th>\n",
       "      <td>Kelly Spicer</td>\n",
       "      <td>5</td>\n",
       "      <td>i love reddit!! such positive, fun pages and a...</td>\n",
       "      <td>0</td>\n",
       "      <td>NaN</td>\n",
       "    </tr>\n",
       "    <tr>\n",
       "      <th>2019-02-03 11:46:25.994000+00:00</th>\n",
       "      <td>R Roscoe</td>\n",
       "      <td>5</td>\n",
       "      <td>great work day break</td>\n",
       "      <td>0</td>\n",
       "      <td>NaN</td>\n",
       "    </tr>\n",
       "    <tr>\n",
       "      <th>2019-02-03 11:38:19.261000+00:00</th>\n",
       "      <td>A Google user</td>\n",
       "      <td>5</td>\n",
       "      <td>I love reddit 10/10 (or 5/5 in this case) that...</td>\n",
       "      <td>0</td>\n",
       "      <td>NaN</td>\n",
       "    </tr>\n",
       "    <tr>\n",
       "      <th>2019-02-03 11:28:53.644000+00:00</th>\n",
       "      <td>Seth Trey</td>\n",
       "      <td>5</td>\n",
       "      <td>Really the best sort-of-social network.</td>\n",
       "      <td>0</td>\n",
       "      <td>NaN</td>\n",
       "    </tr>\n",
       "    <tr>\n",
       "      <th>2019-02-03 11:19:23.890000+00:00</th>\n",
       "      <td>Barry Johnson</td>\n",
       "      <td>5</td>\n",
       "      <td>Works well</td>\n",
       "      <td>0</td>\n",
       "      <td>NaN</td>\n",
       "    </tr>\n",
       "    <tr>\n",
       "      <th>...</th>\n",
       "      <td>...</td>\n",
       "      <td>...</td>\n",
       "      <td>...</td>\n",
       "      <td>...</td>\n",
       "      <td>...</td>\n",
       "    </tr>\n",
       "    <tr>\n",
       "      <th>2019-02-02 12:17:48.357000+00:00</th>\n",
       "      <td>Suhaib Shah</td>\n",
       "      <td>4</td>\n",
       "      <td>Great App, almost everything works perfectly f...</td>\n",
       "      <td>9</td>\n",
       "      <td>NaN</td>\n",
       "    </tr>\n",
       "    <tr>\n",
       "      <th>2019-02-02 12:09:48.817000+00:00</th>\n",
       "      <td>Monimonika18</td>\n",
       "      <td>4</td>\n",
       "      <td>So needs a Find function so we could search th...</td>\n",
       "      <td>0</td>\n",
       "      <td>NaN</td>\n",
       "    </tr>\n",
       "    <tr>\n",
       "      <th>2019-02-02 12:06:14.346000+00:00</th>\n",
       "      <td>Mani Deep</td>\n",
       "      <td>5</td>\n",
       "      <td>Original Content of memes</td>\n",
       "      <td>0</td>\n",
       "      <td>NaN</td>\n",
       "    </tr>\n",
       "    <tr>\n",
       "      <th>2019-02-02 12:04:14.110000+00:00</th>\n",
       "      <td>Angel Pena</td>\n",
       "      <td>5</td>\n",
       "      <td>just great</td>\n",
       "      <td>0</td>\n",
       "      <td>NaN</td>\n",
       "    </tr>\n",
       "    <tr>\n",
       "      <th>2019-02-02 12:02:28.456000+00:00</th>\n",
       "      <td>A Google user</td>\n",
       "      <td>5</td>\n",
       "      <td>the greatest</td>\n",
       "      <td>0</td>\n",
       "      <td>NaN</td>\n",
       "    </tr>\n",
       "  </tbody>\n",
       "</table>\n",
       "<p>554 rows × 5 columns</p>\n",
       "</div>"
      ],
      "text/plain": [
       "                                       Username  Rating  \\\n",
       "Timestamp                                                 \n",
       "2019-02-03 11:54:33.539000+00:00   Kelly Spicer       5   \n",
       "2019-02-03 11:46:25.994000+00:00       R Roscoe       5   \n",
       "2019-02-03 11:38:19.261000+00:00  A Google user       5   \n",
       "2019-02-03 11:28:53.644000+00:00      Seth Trey       5   \n",
       "2019-02-03 11:19:23.890000+00:00  Barry Johnson       5   \n",
       "...                                         ...     ...   \n",
       "2019-02-02 12:17:48.357000+00:00    Suhaib Shah       4   \n",
       "2019-02-02 12:09:48.817000+00:00   Monimonika18       4   \n",
       "2019-02-02 12:06:14.346000+00:00      Mani Deep       5   \n",
       "2019-02-02 12:04:14.110000+00:00     Angel Pena       5   \n",
       "2019-02-02 12:02:28.456000+00:00  A Google user       5   \n",
       "\n",
       "                                                                             Review  \\\n",
       "Timestamp                                                                             \n",
       "2019-02-03 11:54:33.539000+00:00  i love reddit!! such positive, fun pages and a...   \n",
       "2019-02-03 11:46:25.994000+00:00                               great work day break   \n",
       "2019-02-03 11:38:19.261000+00:00  I love reddit 10/10 (or 5/5 in this case) that...   \n",
       "2019-02-03 11:28:53.644000+00:00            Really the best sort-of-social network.   \n",
       "2019-02-03 11:19:23.890000+00:00                                         Works well   \n",
       "...                                                                             ...   \n",
       "2019-02-02 12:17:48.357000+00:00  Great App, almost everything works perfectly f...   \n",
       "2019-02-02 12:09:48.817000+00:00  So needs a Find function so we could search th...   \n",
       "2019-02-02 12:06:14.346000+00:00                          Original Content of memes   \n",
       "2019-02-02 12:04:14.110000+00:00                                         just great   \n",
       "2019-02-02 12:02:28.456000+00:00                                       the greatest   \n",
       "\n",
       "                                  Likes ReplyDate  \n",
       "Timestamp                                          \n",
       "2019-02-03 11:54:33.539000+00:00      0       NaN  \n",
       "2019-02-03 11:46:25.994000+00:00      0       NaN  \n",
       "2019-02-03 11:38:19.261000+00:00      0       NaN  \n",
       "2019-02-03 11:28:53.644000+00:00      0       NaN  \n",
       "2019-02-03 11:19:23.890000+00:00      0       NaN  \n",
       "...                                 ...       ...  \n",
       "2019-02-02 12:17:48.357000+00:00      9       NaN  \n",
       "2019-02-02 12:09:48.817000+00:00      0       NaN  \n",
       "2019-02-02 12:06:14.346000+00:00      0       NaN  \n",
       "2019-02-02 12:04:14.110000+00:00      0       NaN  \n",
       "2019-02-02 12:02:28.456000+00:00      0       NaN  \n",
       "\n",
       "[554 rows x 5 columns]"
      ]
     },
     "execution_count": 12,
     "metadata": {},
     "output_type": "execute_result"
    }
   ],
   "source": [
    "# take 24 hours from 12am to 12am\n",
    "dfs['reddit'].loc['2019-02-02 12:00:00':'2019-02-03 12:00:00']"
   ]
  },
  {
   "cell_type": "code",
   "execution_count": 13,
   "metadata": {},
   "outputs": [
    {
     "data": {
      "text/plain": [
       "'Works well'"
      ]
     },
     "execution_count": 13,
     "metadata": {},
     "output_type": "execute_result"
    }
   ],
   "source": [
    "review = dfs['reddit'].loc['2019-02-03 11:19:23']['Review'][0]\n",
    "review"
   ]
  },
  {
   "cell_type": "code",
   "execution_count": 14,
   "metadata": {},
   "outputs": [
    {
     "data": {
      "text/plain": [
       "10"
      ]
     },
     "execution_count": 14,
     "metadata": {},
     "output_type": "execute_result"
    }
   ],
   "source": [
    "len(review) # Characters"
   ]
  },
  {
   "cell_type": "code",
   "execution_count": 15,
   "metadata": {},
   "outputs": [
    {
     "data": {
      "text/plain": [
       "2"
      ]
     },
     "execution_count": 15,
     "metadata": {},
     "output_type": "execute_result"
    }
   ],
   "source": [
    "word_arr = re.split(\" |-\", review)\n",
    "len(word_arr) # Words"
   ]
  },
  {
   "cell_type": "code",
   "execution_count": 16,
   "metadata": {},
   "outputs": [
    {
     "data": {
      "text/plain": [
       "True"
      ]
     },
     "execution_count": 16,
     "metadata": {},
     "output_type": "execute_result"
    }
   ],
   "source": [
    "type(word_arr[0]) == str"
   ]
  },
  {
   "cell_type": "code",
   "execution_count": 17,
   "metadata": {},
   "outputs": [
    {
     "data": {
      "text/plain": [
       "105105"
      ]
     },
     "execution_count": 17,
     "metadata": {},
     "output_type": "execute_result"
    }
   ],
   "source": [
    "len(dfs['reddit'])"
   ]
  },
  {
   "cell_type": "markdown",
   "metadata": {},
   "source": [
    "# Removing Short Reviews"
   ]
  },
  {
   "cell_type": "code",
   "execution_count": 18,
   "metadata": {},
   "outputs": [
    {
     "data": {
      "image/png": "[encoded data removed]",
      "text/plain": [
       "<Figure size 432x288 with 1 Axes>"
      ]
     },
     "metadata": {},
     "output_type": "display_data"
    },
    {
     "data": {
      "text/plain": [
       "<Figure size 960x640 with 0 Axes>"
      ]
     },
     "metadata": {},
     "output_type": "display_data"
    },
    {
     "data": {
      "text/plain": [
       "1714770"
      ]
     },
     "execution_count": 18,
     "metadata": {},
     "output_type": "execute_result"
    }
   ],
   "source": [
    "sizes = []\n",
    "for app, dataframe in dfs.items():\n",
    "    sizes.append(len(dfs[app]))\n",
    "    \n",
    "pie_chart(sizes, apps, \"Review distribution - 2019\")\n",
    "sum(sizes)"
   ]
  },
  {
   "cell_type": "code",
   "execution_count": 19,
   "metadata": {},
   "outputs": [
    {
     "name": "stdout",
     "output_type": "stream",
     "text": [
      "105105 494505\n"
     ]
    }
   ],
   "source": [
    "# original length\n",
    "print(len(dfs[\"reddit\"]),\n",
    "      len(dfs[\"spotify\"]))"
   ]
  },
  {
   "cell_type": "code",
   "execution_count": 20,
   "metadata": {},
   "outputs": [],
   "source": [
    "# slow\n",
    "for app, dataframe in dfs.items():\n",
    "    indices_to_remove = drop_short_reviews(\"word\", 3, dataframe)\n",
    "    dfs[app] = dfs[app].drop(indices_to_remove)"
   ]
  },
  {
   "cell_type": "code",
   "execution_count": 21,
   "metadata": {},
   "outputs": [
    {
     "name": "stdout",
     "output_type": "stream",
     "text": [
      "68868 342013\n"
     ]
    }
   ],
   "source": [
    "# length after clean\n",
    "print(len(dfs[\"reddit\"]),\n",
    "      len(dfs[\"spotify\"]))"
   ]
  },
  {
   "cell_type": "code",
   "execution_count": 22,
   "metadata": {},
   "outputs": [
    {
     "data": {
      "image/png": "[encoded data removed]",
      "text/plain": [
       "<Figure size 432x288 with 1 Axes>"
      ]
     },
     "metadata": {},
     "output_type": "display_data"
    },
    {
     "data": {
      "text/plain": [
       "<Figure size 960x640 with 0 Axes>"
      ]
     },
     "metadata": {},
     "output_type": "display_data"
    },
    {
     "data": {
      "text/plain": [
       "845482"
      ]
     },
     "execution_count": 22,
     "metadata": {},
     "output_type": "execute_result"
    }
   ],
   "source": [
    "sizes = []\n",
    "for app in apps:\n",
    "    key = app.split(\".\")[1]\n",
    "    sizes.append(len(dfs[key]))\n",
    "    \n",
    "pie_chart(sizes, apps, \"Review distribution after removing short reviews - 2019\")\n",
    "sum(sizes)"
   ]
  },
  {
   "cell_type": "code",
   "execution_count": 23,
   "metadata": {},
   "outputs": [
    {
     "data": {
      "text/html": [
       "<div>\n",
       "<style scoped>\n",
       "    .dataframe tbody tr th:only-of-type {\n",
       "        vertical-align: middle;\n",
       "    }\n",
       "\n",
       "    .dataframe tbody tr th {\n",
       "        vertical-align: top;\n",
       "    }\n",
       "\n",
       "    .dataframe thead th {\n",
       "        text-align: right;\n",
       "    }\n",
       "</style>\n",
       "<table border=\"1\" class=\"dataframe\">\n",
       "  <thead>\n",
       "    <tr style=\"text-align: right;\">\n",
       "      <th></th>\n",
       "      <th>Username</th>\n",
       "      <th>Rating</th>\n",
       "      <th>Review</th>\n",
       "      <th>Likes</th>\n",
       "      <th>ReplyDate</th>\n",
       "    </tr>\n",
       "    <tr>\n",
       "      <th>Timestamp</th>\n",
       "      <th></th>\n",
       "      <th></th>\n",
       "      <th></th>\n",
       "      <th></th>\n",
       "      <th></th>\n",
       "    </tr>\n",
       "  </thead>\n",
       "  <tbody>\n",
       "    <tr>\n",
       "      <th>2019-12-31 23:58:53.673000+00:00</th>\n",
       "      <td>Anayanci Llanes gaxiola</td>\n",
       "      <td>5</td>\n",
       "      <td>It's simply great.</td>\n",
       "      <td>0</td>\n",
       "      <td>NaN</td>\n",
       "    </tr>\n",
       "  </tbody>\n",
       "</table>\n",
       "</div>"
      ],
      "text/plain": [
       "                                                 Username  Rating  \\\n",
       "Timestamp                                                           \n",
       "2019-12-31 23:58:53.673000+00:00  Anayanci Llanes gaxiola       5   \n",
       "\n",
       "                                              Review  Likes ReplyDate  \n",
       "Timestamp                                                              \n",
       "2019-12-31 23:58:53.673000+00:00  It's simply great.      0       NaN  "
      ]
     },
     "execution_count": 23,
     "metadata": {},
     "output_type": "execute_result"
    }
   ],
   "source": [
    "dfs[\"spotify\"].head(1)"
   ]
  },
  {
   "cell_type": "markdown",
   "metadata": {},
   "source": [
    "# Adding time related columns"
   ]
  },
  {
   "cell_type": "code",
   "execution_count": 24,
   "metadata": {},
   "outputs": [
    {
     "name": "stderr",
     "output_type": "stream",
     "text": [
      "/usr/local/lib/python3.7/site-packages/ipykernel_launcher.py:2: SettingWithCopyWarning: \n",
      "A value is trying to be set on a copy of a slice from a DataFrame.\n",
      "Try using .loc[row_indexer,col_indexer] = value instead\n",
      "\n",
      "See the caveats in the documentation: http://pandas.pydata.org/pandas-docs/stable/user_guide/indexing.html#returning-a-view-versus-a-copy\n",
      "  \n",
      "/usr/local/lib/python3.7/site-packages/ipykernel_launcher.py:3: SettingWithCopyWarning: \n",
      "A value is trying to be set on a copy of a slice from a DataFrame.\n",
      "Try using .loc[row_indexer,col_indexer] = value instead\n",
      "\n",
      "See the caveats in the documentation: http://pandas.pydata.org/pandas-docs/stable/user_guide/indexing.html#returning-a-view-versus-a-copy\n",
      "  This is separate from the ipykernel package so we can avoid doing imports until\n",
      "/usr/local/lib/python3.7/site-packages/ipykernel_launcher.py:4: SettingWithCopyWarning: \n",
      "A value is trying to be set on a copy of a slice from a DataFrame.\n",
      "Try using .loc[row_indexer,col_indexer] = value instead\n",
      "\n",
      "See the caveats in the documentation: http://pandas.pydata.org/pandas-docs/stable/user_guide/indexing.html#returning-a-view-versus-a-copy\n",
      "  after removing the cwd from sys.path.\n"
     ]
    },
    {
     "data": {
      "text/html": [
       "<div>\n",
       "<style scoped>\n",
       "    .dataframe tbody tr th:only-of-type {\n",
       "        vertical-align: middle;\n",
       "    }\n",
       "\n",
       "    .dataframe tbody tr th {\n",
       "        vertical-align: top;\n",
       "    }\n",
       "\n",
       "    .dataframe thead th {\n",
       "        text-align: right;\n",
       "    }\n",
       "</style>\n",
       "<table border=\"1\" class=\"dataframe\">\n",
       "  <thead>\n",
       "    <tr style=\"text-align: right;\">\n",
       "      <th></th>\n",
       "      <th>Username</th>\n",
       "      <th>Rating</th>\n",
       "      <th>Review</th>\n",
       "      <th>Likes</th>\n",
       "      <th>ReplyDate</th>\n",
       "      <th>Year</th>\n",
       "      <th>Month</th>\n",
       "      <th>Weekday Name</th>\n",
       "    </tr>\n",
       "    <tr>\n",
       "      <th>Timestamp</th>\n",
       "      <th></th>\n",
       "      <th></th>\n",
       "      <th></th>\n",
       "      <th></th>\n",
       "      <th></th>\n",
       "      <th></th>\n",
       "      <th></th>\n",
       "      <th></th>\n",
       "    </tr>\n",
       "  </thead>\n",
       "  <tbody>\n",
       "    <tr>\n",
       "      <th>2019-12-31 23:58:53.673000+00:00</th>\n",
       "      <td>Anayanci Llanes gaxiola</td>\n",
       "      <td>5</td>\n",
       "      <td>It's simply great.</td>\n",
       "      <td>0</td>\n",
       "      <td>NaN</td>\n",
       "      <td>2019</td>\n",
       "      <td>12</td>\n",
       "      <td>Tuesday</td>\n",
       "    </tr>\n",
       "  </tbody>\n",
       "</table>\n",
       "</div>"
      ],
      "text/plain": [
       "                                                 Username  Rating  \\\n",
       "Timestamp                                                           \n",
       "2019-12-31 23:58:53.673000+00:00  Anayanci Llanes gaxiola       5   \n",
       "\n",
       "                                              Review  Likes ReplyDate  Year  \\\n",
       "Timestamp                                                                     \n",
       "2019-12-31 23:58:53.673000+00:00  It's simply great.      0       NaN  2019   \n",
       "\n",
       "                                  Month Weekday Name  \n",
       "Timestamp                                             \n",
       "2019-12-31 23:58:53.673000+00:00     12      Tuesday  "
      ]
     },
     "execution_count": 24,
     "metadata": {},
     "output_type": "execute_result"
    }
   ],
   "source": [
    "for app, df in dfs.items():\n",
    "    df['Year'] = df.index.year\n",
    "    df['Month'] = df.index.month\n",
    "    df['Weekday Name'] = df.index.weekday_name\n",
    "    \n",
    "dfs['spotify'].head(1)"
   ]
  },
  {
   "cell_type": "markdown",
   "metadata": {},
   "source": [
    "# Adding columns for review length"
   ]
  },
  {
   "cell_type": "code",
   "execution_count": 25,
   "metadata": {},
   "outputs": [],
   "source": [
    "for app, dataframe in dfs.items():\n",
    "    review_wordcount = []\n",
    "    review_charcount = []\n",
    "    for review in dataframe['Review'].astype('str'):\n",
    "        review_wordcount.append(len(re.split(\" |-\", review)))\n",
    "        review_charcount.append(len(review))\n",
    "    dfs[app].insert(3, 'Words', review_wordcount)\n",
    "    dfs[app].insert(4, 'Chars', review_charcount)"
   ]
  },
  {
   "cell_type": "code",
   "execution_count": 26,
   "metadata": {},
   "outputs": [
    {
     "data": {
      "text/html": [
       "<div>\n",
       "<style scoped>\n",
       "    .dataframe tbody tr th:only-of-type {\n",
       "        vertical-align: middle;\n",
       "    }\n",
       "\n",
       "    .dataframe tbody tr th {\n",
       "        vertical-align: top;\n",
       "    }\n",
       "\n",
       "    .dataframe thead th {\n",
       "        text-align: right;\n",
       "    }\n",
       "</style>\n",
       "<table border=\"1\" class=\"dataframe\">\n",
       "  <thead>\n",
       "    <tr style=\"text-align: right;\">\n",
       "      <th></th>\n",
       "      <th>Username</th>\n",
       "      <th>Rating</th>\n",
       "      <th>Review</th>\n",
       "      <th>Words</th>\n",
       "      <th>Chars</th>\n",
       "      <th>Likes</th>\n",
       "      <th>ReplyDate</th>\n",
       "      <th>Year</th>\n",
       "      <th>Month</th>\n",
       "      <th>Weekday Name</th>\n",
       "    </tr>\n",
       "    <tr>\n",
       "      <th>Timestamp</th>\n",
       "      <th></th>\n",
       "      <th></th>\n",
       "      <th></th>\n",
       "      <th></th>\n",
       "      <th></th>\n",
       "      <th></th>\n",
       "      <th></th>\n",
       "      <th></th>\n",
       "      <th></th>\n",
       "      <th></th>\n",
       "    </tr>\n",
       "  </thead>\n",
       "  <tbody>\n",
       "    <tr>\n",
       "      <th>2019-12-31 23:58:53.673000+00:00</th>\n",
       "      <td>Anayanci Llanes gaxiola</td>\n",
       "      <td>5</td>\n",
       "      <td>It's simply great.</td>\n",
       "      <td>3</td>\n",
       "      <td>18</td>\n",
       "      <td>0</td>\n",
       "      <td>NaN</td>\n",
       "      <td>2019</td>\n",
       "      <td>12</td>\n",
       "      <td>Tuesday</td>\n",
       "    </tr>\n",
       "    <tr>\n",
       "      <th>2019-12-31 23:56:02.302000+00:00</th>\n",
       "      <td>Asish sahoo</td>\n",
       "      <td>1</td>\n",
       "      <td>Worst music app...can't find songs</td>\n",
       "      <td>5</td>\n",
       "      <td>34</td>\n",
       "      <td>0</td>\n",
       "      <td>NaN</td>\n",
       "      <td>2019</td>\n",
       "      <td>12</td>\n",
       "      <td>Tuesday</td>\n",
       "    </tr>\n",
       "    <tr>\n",
       "      <th>2019-12-31 23:55:18.947000+00:00</th>\n",
       "      <td>Ian MacLean</td>\n",
       "      <td>2</td>\n",
       "      <td>Started off as a good app, then after my initi...</td>\n",
       "      <td>32</td>\n",
       "      <td>164</td>\n",
       "      <td>0</td>\n",
       "      <td>NaN</td>\n",
       "      <td>2019</td>\n",
       "      <td>12</td>\n",
       "      <td>Tuesday</td>\n",
       "    </tr>\n",
       "    <tr>\n",
       "      <th>2019-12-31 23:54:22.967000+00:00</th>\n",
       "      <td>Belinda Ward</td>\n",
       "      <td>5</td>\n",
       "      <td>Great app with endless music for whatever mood...</td>\n",
       "      <td>10</td>\n",
       "      <td>54</td>\n",
       "      <td>0</td>\n",
       "      <td>NaN</td>\n",
       "      <td>2019</td>\n",
       "      <td>12</td>\n",
       "      <td>Tuesday</td>\n",
       "    </tr>\n",
       "    <tr>\n",
       "      <th>2019-12-31 23:52:25.241000+00:00</th>\n",
       "      <td>Satish Kumar</td>\n",
       "      <td>5</td>\n",
       "      <td>Good music app........best app... Number one app</td>\n",
       "      <td>7</td>\n",
       "      <td>48</td>\n",
       "      <td>0</td>\n",
       "      <td>NaN</td>\n",
       "      <td>2019</td>\n",
       "      <td>12</td>\n",
       "      <td>Tuesday</td>\n",
       "    </tr>\n",
       "    <tr>\n",
       "      <th>2019-12-31 23:49:50.735000+00:00</th>\n",
       "      <td>T8r t0t</td>\n",
       "      <td>1</td>\n",
       "      <td>If you want to listen to music you want don't ...</td>\n",
       "      <td>50</td>\n",
       "      <td>265</td>\n",
       "      <td>0</td>\n",
       "      <td>NaN</td>\n",
       "      <td>2019</td>\n",
       "      <td>12</td>\n",
       "      <td>Tuesday</td>\n",
       "    </tr>\n",
       "    <tr>\n",
       "      <th>2019-12-31 23:48:27.108000+00:00</th>\n",
       "      <td>Dadd J</td>\n",
       "      <td>4</td>\n",
       "      <td>Do enjoy the app had no problems</td>\n",
       "      <td>7</td>\n",
       "      <td>32</td>\n",
       "      <td>0</td>\n",
       "      <td>NaN</td>\n",
       "      <td>2019</td>\n",
       "      <td>12</td>\n",
       "      <td>Tuesday</td>\n",
       "    </tr>\n",
       "    <tr>\n",
       "      <th>2019-12-31 23:47:57.460000+00:00</th>\n",
       "      <td>James White</td>\n",
       "      <td>5</td>\n",
       "      <td>Love it. I can listen to the music I want</td>\n",
       "      <td>10</td>\n",
       "      <td>41</td>\n",
       "      <td>0</td>\n",
       "      <td>NaN</td>\n",
       "      <td>2019</td>\n",
       "      <td>12</td>\n",
       "      <td>Tuesday</td>\n",
       "    </tr>\n",
       "    <tr>\n",
       "      <th>2019-12-31 23:45:47.794000+00:00</th>\n",
       "      <td>Lisa Moore</td>\n",
       "      <td>4</td>\n",
       "      <td>Love the app way to many adds</td>\n",
       "      <td>7</td>\n",
       "      <td>29</td>\n",
       "      <td>0</td>\n",
       "      <td>NaN</td>\n",
       "      <td>2019</td>\n",
       "      <td>12</td>\n",
       "      <td>Tuesday</td>\n",
       "    </tr>\n",
       "    <tr>\n",
       "      <th>2019-12-31 23:45:04.147000+00:00</th>\n",
       "      <td>Ash</td>\n",
       "      <td>5</td>\n",
       "      <td>I love the fact no matter how old the song if ...</td>\n",
       "      <td>20</td>\n",
       "      <td>88</td>\n",
       "      <td>0</td>\n",
       "      <td>NaN</td>\n",
       "      <td>2019</td>\n",
       "      <td>12</td>\n",
       "      <td>Tuesday</td>\n",
       "    </tr>\n",
       "  </tbody>\n",
       "</table>\n",
       "</div>"
      ],
      "text/plain": [
       "                                                 Username  Rating  \\\n",
       "Timestamp                                                           \n",
       "2019-12-31 23:58:53.673000+00:00  Anayanci Llanes gaxiola       5   \n",
       "2019-12-31 23:56:02.302000+00:00              Asish sahoo       1   \n",
       "2019-12-31 23:55:18.947000+00:00              Ian MacLean       2   \n",
       "2019-12-31 23:54:22.967000+00:00             Belinda Ward       5   \n",
       "2019-12-31 23:52:25.241000+00:00             Satish Kumar       5   \n",
       "2019-12-31 23:49:50.735000+00:00                  T8r t0t       1   \n",
       "2019-12-31 23:48:27.108000+00:00                   Dadd J       4   \n",
       "2019-12-31 23:47:57.460000+00:00              James White       5   \n",
       "2019-12-31 23:45:47.794000+00:00               Lisa Moore       4   \n",
       "2019-12-31 23:45:04.147000+00:00                      Ash       5   \n",
       "\n",
       "                                                                             Review  \\\n",
       "Timestamp                                                                             \n",
       "2019-12-31 23:58:53.673000+00:00                                 It's simply great.   \n",
       "2019-12-31 23:56:02.302000+00:00                 Worst music app...can't find songs   \n",
       "2019-12-31 23:55:18.947000+00:00  Started off as a good app, then after my initi...   \n",
       "2019-12-31 23:54:22.967000+00:00  Great app with endless music for whatever mood...   \n",
       "2019-12-31 23:52:25.241000+00:00   Good music app........best app... Number one app   \n",
       "2019-12-31 23:49:50.735000+00:00  If you want to listen to music you want don't ...   \n",
       "2019-12-31 23:48:27.108000+00:00                   Do enjoy the app had no problems   \n",
       "2019-12-31 23:47:57.460000+00:00          Love it. I can listen to the music I want   \n",
       "2019-12-31 23:45:47.794000+00:00                      Love the app way to many adds   \n",
       "2019-12-31 23:45:04.147000+00:00  I love the fact no matter how old the song if ...   \n",
       "\n",
       "                                  Words  Chars  Likes ReplyDate  Year  Month  \\\n",
       "Timestamp                                                                      \n",
       "2019-12-31 23:58:53.673000+00:00      3     18      0       NaN  2019     12   \n",
       "2019-12-31 23:56:02.302000+00:00      5     34      0       NaN  2019     12   \n",
       "2019-12-31 23:55:18.947000+00:00     32    164      0       NaN  2019     12   \n",
       "2019-12-31 23:54:22.967000+00:00     10     54      0       NaN  2019     12   \n",
       "2019-12-31 23:52:25.241000+00:00      7     48      0       NaN  2019     12   \n",
       "2019-12-31 23:49:50.735000+00:00     50    265      0       NaN  2019     12   \n",
       "2019-12-31 23:48:27.108000+00:00      7     32      0       NaN  2019     12   \n",
       "2019-12-31 23:47:57.460000+00:00     10     41      0       NaN  2019     12   \n",
       "2019-12-31 23:45:47.794000+00:00      7     29      0       NaN  2019     12   \n",
       "2019-12-31 23:45:04.147000+00:00     20     88      0       NaN  2019     12   \n",
       "\n",
       "                                 Weekday Name  \n",
       "Timestamp                                      \n",
       "2019-12-31 23:58:53.673000+00:00      Tuesday  \n",
       "2019-12-31 23:56:02.302000+00:00      Tuesday  \n",
       "2019-12-31 23:55:18.947000+00:00      Tuesday  \n",
       "2019-12-31 23:54:22.967000+00:00      Tuesday  \n",
       "2019-12-31 23:52:25.241000+00:00      Tuesday  \n",
       "2019-12-31 23:49:50.735000+00:00      Tuesday  \n",
       "2019-12-31 23:48:27.108000+00:00      Tuesday  \n",
       "2019-12-31 23:47:57.460000+00:00      Tuesday  \n",
       "2019-12-31 23:45:47.794000+00:00      Tuesday  \n",
       "2019-12-31 23:45:04.147000+00:00      Tuesday  "
      ]
     },
     "execution_count": 26,
     "metadata": {},
     "output_type": "execute_result"
    }
   ],
   "source": [
    "dfs[\"spotify\"].head(10)"
   ]
  },
  {
   "cell_type": "markdown",
   "metadata": {},
   "source": [
    "# Make monthly dictionary for each app (appname_monthly)\n",
    "- Key: Month number (1, 12)\n",
    "- Value: Dictionary with daily totals"
   ]
  },
  {
   "cell_type": "code",
   "execution_count": 27,
   "metadata": {},
   "outputs": [
    {
     "ename": "StatisticsError",
     "evalue": "mean requires at least one data point",
     "output_type": "error",
     "traceback": [
      "\u001b[0;31m---------------------------------------------------------------------------\u001b[0m",
      "\u001b[0;31mStatisticsError\u001b[0m                           Traceback (most recent call last)",
      "\u001b[0;32m<ipython-input-27-e73f593f08b8>\u001b[0m in \u001b[0;36m<module>\u001b[0;34m\u001b[0m\n\u001b[1;32m      3\u001b[0m     \u001b[0mexec\u001b[0m\u001b[0;34m(\u001b[0m\u001b[0mappname\u001b[0m \u001b[0;34m+\u001b[0m \u001b[0;34m\"_monthly = {}\"\u001b[0m\u001b[0;34m)\u001b[0m\u001b[0;34m\u001b[0m\u001b[0;34m\u001b[0m\u001b[0m\n\u001b[1;32m      4\u001b[0m     \u001b[0;32mfor\u001b[0m \u001b[0mi\u001b[0m \u001b[0;32min\u001b[0m \u001b[0mrange\u001b[0m\u001b[0;34m(\u001b[0m\u001b[0;36m1\u001b[0m\u001b[0;34m,\u001b[0m\u001b[0;36m13\u001b[0m\u001b[0;34m)\u001b[0m\u001b[0;34m:\u001b[0m\u001b[0;34m\u001b[0m\u001b[0;34m\u001b[0m\u001b[0m\n\u001b[0;32m----> 5\u001b[0;31m         \u001b[0mexec\u001b[0m\u001b[0;34m(\u001b[0m\u001b[0mappname\u001b[0m \u001b[0;34m+\u001b[0m \u001b[0;34m\"_monthly[i] = get_monthly(2019, i, appname)\"\u001b[0m\u001b[0;34m)\u001b[0m\u001b[0;34m\u001b[0m\u001b[0;34m\u001b[0m\u001b[0m\n\u001b[0m",
      "\u001b[0;32m<string>\u001b[0m in \u001b[0;36m<module>\u001b[0;34m\u001b[0m\n",
      "\u001b[0;32m<ipython-input-4-76a22e17d481>\u001b[0m in \u001b[0;36mget_monthly\u001b[0;34m(year, month, app)\u001b[0m\n\u001b[1;32m     97\u001b[0m         \u001b[0mdata\u001b[0m\u001b[0;34m[\u001b[0m\u001b[0;34m\"Likes\"\u001b[0m\u001b[0;34m]\u001b[0m\u001b[0;34m.\u001b[0m\u001b[0mappend\u001b[0m\u001b[0;34m(\u001b[0m\u001b[0msum\u001b[0m\u001b[0;34m(\u001b[0m\u001b[0mdfs\u001b[0m\u001b[0;34m[\u001b[0m\u001b[0mapp\u001b[0m\u001b[0;34m]\u001b[0m\u001b[0;34m.\u001b[0m\u001b[0mloc\u001b[0m\u001b[0;34m[\u001b[0m\u001b[0mdate\u001b[0m\u001b[0;34m]\u001b[0m\u001b[0;34m[\u001b[0m\u001b[0;34m\"Likes\"\u001b[0m\u001b[0;34m]\u001b[0m\u001b[0;34m)\u001b[0m\u001b[0;34m)\u001b[0m\u001b[0;34m\u001b[0m\u001b[0;34m\u001b[0m\u001b[0m\n\u001b[1;32m     98\u001b[0m         \u001b[0mdata\u001b[0m\u001b[0;34m[\u001b[0m\u001b[0;34m\"Rating\"\u001b[0m\u001b[0;34m]\u001b[0m\u001b[0;34m.\u001b[0m\u001b[0mappend\u001b[0m\u001b[0;34m(\u001b[0m\u001b[0msum\u001b[0m\u001b[0;34m(\u001b[0m\u001b[0mdfs\u001b[0m\u001b[0;34m[\u001b[0m\u001b[0mapp\u001b[0m\u001b[0;34m]\u001b[0m\u001b[0;34m.\u001b[0m\u001b[0mloc\u001b[0m\u001b[0;34m[\u001b[0m\u001b[0mdate\u001b[0m\u001b[0;34m]\u001b[0m\u001b[0;34m[\u001b[0m\u001b[0;34m\"Rating\"\u001b[0m\u001b[0;34m]\u001b[0m\u001b[0;34m)\u001b[0m\u001b[0;34m)\u001b[0m\u001b[0;34m\u001b[0m\u001b[0;34m\u001b[0m\u001b[0m\n\u001b[0;32m---> 99\u001b[0;31m         \u001b[0mdata\u001b[0m\u001b[0;34m[\u001b[0m\u001b[0;34m\"Avg_Words\"\u001b[0m\u001b[0;34m]\u001b[0m\u001b[0;34m.\u001b[0m\u001b[0mappend\u001b[0m\u001b[0;34m(\u001b[0m\u001b[0mround\u001b[0m\u001b[0;34m(\u001b[0m\u001b[0ms\u001b[0m\u001b[0;34m.\u001b[0m\u001b[0mmean\u001b[0m\u001b[0;34m(\u001b[0m\u001b[0mdfs\u001b[0m\u001b[0;34m[\u001b[0m\u001b[0mapp\u001b[0m\u001b[0;34m]\u001b[0m\u001b[0;34m.\u001b[0m\u001b[0mloc\u001b[0m\u001b[0;34m[\u001b[0m\u001b[0mdate\u001b[0m\u001b[0;34m]\u001b[0m\u001b[0;34m[\u001b[0m\u001b[0;34m\"Words\"\u001b[0m\u001b[0;34m]\u001b[0m\u001b[0;34m)\u001b[0m\u001b[0;34m)\u001b[0m\u001b[0;34m)\u001b[0m\u001b[0;34m\u001b[0m\u001b[0;34m\u001b[0m\u001b[0m\n\u001b[0m\u001b[1;32m    100\u001b[0m         \u001b[0mdata\u001b[0m\u001b[0;34m[\u001b[0m\u001b[0;34m\"Avg_Chars\"\u001b[0m\u001b[0;34m]\u001b[0m\u001b[0;34m.\u001b[0m\u001b[0mappend\u001b[0m\u001b[0;34m(\u001b[0m\u001b[0mround\u001b[0m\u001b[0;34m(\u001b[0m\u001b[0ms\u001b[0m\u001b[0;34m.\u001b[0m\u001b[0mmean\u001b[0m\u001b[0;34m(\u001b[0m\u001b[0mdfs\u001b[0m\u001b[0;34m[\u001b[0m\u001b[0mapp\u001b[0m\u001b[0;34m]\u001b[0m\u001b[0;34m.\u001b[0m\u001b[0mloc\u001b[0m\u001b[0;34m[\u001b[0m\u001b[0mdate\u001b[0m\u001b[0;34m]\u001b[0m\u001b[0;34m[\u001b[0m\u001b[0;34m\"Chars\"\u001b[0m\u001b[0;34m]\u001b[0m\u001b[0;34m)\u001b[0m\u001b[0;34m)\u001b[0m\u001b[0;34m)\u001b[0m\u001b[0;34m\u001b[0m\u001b[0;34m\u001b[0m\u001b[0m\n\u001b[1;32m    101\u001b[0m         \u001b[0mdata\u001b[0m\u001b[0;34m[\u001b[0m\u001b[0;34m\"Avg_Likes\"\u001b[0m\u001b[0;34m]\u001b[0m\u001b[0;34m.\u001b[0m\u001b[0mappend\u001b[0m\u001b[0;34m(\u001b[0m\u001b[0mround\u001b[0m\u001b[0;34m(\u001b[0m\u001b[0ms\u001b[0m\u001b[0;34m.\u001b[0m\u001b[0mmean\u001b[0m\u001b[0;34m(\u001b[0m\u001b[0mdfs\u001b[0m\u001b[0;34m[\u001b[0m\u001b[0mapp\u001b[0m\u001b[0;34m]\u001b[0m\u001b[0;34m.\u001b[0m\u001b[0mloc\u001b[0m\u001b[0;34m[\u001b[0m\u001b[0mdate\u001b[0m\u001b[0;34m]\u001b[0m\u001b[0;34m[\u001b[0m\u001b[0;34m\"Likes\"\u001b[0m\u001b[0;34m]\u001b[0m\u001b[0;34m)\u001b[0m\u001b[0;34m)\u001b[0m\u001b[0;34m)\u001b[0m\u001b[0;34m\u001b[0m\u001b[0;34m\u001b[0m\u001b[0m\n",
      "\u001b[0;32m/usr/local/Cellar/python/3.7.5/Frameworks/Python.framework/Versions/3.7/lib/python3.7/statistics.py\u001b[0m in \u001b[0;36mmean\u001b[0;34m(data)\u001b[0m\n\u001b[1;32m    308\u001b[0m     \u001b[0mn\u001b[0m \u001b[0;34m=\u001b[0m \u001b[0mlen\u001b[0m\u001b[0;34m(\u001b[0m\u001b[0mdata\u001b[0m\u001b[0;34m)\u001b[0m\u001b[0;34m\u001b[0m\u001b[0;34m\u001b[0m\u001b[0m\n\u001b[1;32m    309\u001b[0m     \u001b[0;32mif\u001b[0m \u001b[0mn\u001b[0m \u001b[0;34m<\u001b[0m \u001b[0;36m1\u001b[0m\u001b[0;34m:\u001b[0m\u001b[0;34m\u001b[0m\u001b[0;34m\u001b[0m\u001b[0m\n\u001b[0;32m--> 310\u001b[0;31m         \u001b[0;32mraise\u001b[0m \u001b[0mStatisticsError\u001b[0m\u001b[0;34m(\u001b[0m\u001b[0;34m'mean requires at least one data point'\u001b[0m\u001b[0;34m)\u001b[0m\u001b[0;34m\u001b[0m\u001b[0;34m\u001b[0m\u001b[0m\n\u001b[0m\u001b[1;32m    311\u001b[0m     \u001b[0mT\u001b[0m\u001b[0;34m,\u001b[0m \u001b[0mtotal\u001b[0m\u001b[0;34m,\u001b[0m \u001b[0mcount\u001b[0m \u001b[0;34m=\u001b[0m \u001b[0m_sum\u001b[0m\u001b[0;34m(\u001b[0m\u001b[0mdata\u001b[0m\u001b[0;34m)\u001b[0m\u001b[0;34m\u001b[0m\u001b[0;34m\u001b[0m\u001b[0m\n\u001b[1;32m    312\u001b[0m     \u001b[0;32massert\u001b[0m \u001b[0mcount\u001b[0m \u001b[0;34m==\u001b[0m \u001b[0mn\u001b[0m\u001b[0;34m\u001b[0m\u001b[0;34m\u001b[0m\u001b[0m\n",
      "\u001b[0;31mStatisticsError\u001b[0m: mean requires at least one data point"
     ]
    }
   ],
   "source": [
    "for app, dataframe in dfs.items():\n",
    "    appname = str(app)\n",
    "    exec(appname + \"_monthly = {}\")\n",
    "    for i in range(1,13):\n",
    "        exec(appname + \"_monthly[i] = get_monthly(2019, i, appname)\")"
   ]
  },
  {
   "cell_type": "code",
   "execution_count": null,
   "metadata": {},
   "outputs": [],
   "source": [
    "for app, attr in attributes.items():\n",
    "    print(app.lower())"
   ]
  },
  {
   "cell_type": "code",
   "execution_count": null,
   "metadata": {},
   "outputs": [],
   "source": [
    "for app, attr in attributes.items():\n",
    "    appname = app.lower()\n",
    "    exec(appname + \"_m = {}\")\n",
    "    for i in range(1,13):\n",
    "        exec(\"dict_m = \" + appname + \"_monthly[\" + str(i) + \"]\")\n",
    "        df = pd.DataFrame.from_dict(dict_m)\n",
    "        df.index = pd.to_datetime(df['Day'])\n",
    "        df = df.drop('Day', axis=1)\n",
    "        exec(appname + \"_m[i] = df\")\n",
    "\n",
    "tencent_m[1].head(10)"
   ]
  },
  {
   "cell_type": "markdown",
   "metadata": {},
   "source": [
    "# Add new monthly dataframes to master dataframe (mdfs)\n",
    "\n",
    "Conveniently retrieve the daily totals per dimension, per app, with:\n",
    "- mdfs['app_name'][month_no]\n",
    "\n",
    "Use .loc to get a range of days of the month:\n",
    "- mdfs['app_name'][month_no].loc['2019-01-01':'2019-01-05']\n",
    "\n",
    "Example below"
   ]
  },
  {
   "cell_type": "code",
   "execution_count": null,
   "metadata": {},
   "outputs": [],
   "source": [
    "# replace dfs with the new _m dfs\n",
    "for app, dataframe in dfs.items():\n",
    "    exec(\"mdfs[app] = \" + app + \"_m\")"
   ]
  },
  {
   "cell_type": "code",
   "execution_count": null,
   "metadata": {},
   "outputs": [],
   "source": [
    "type(mdfs['spotify'][1].index)\n",
    "mdfs['spotify'][1].loc['2019-01-03':'2019-01-12']"
   ]
  },
  {
   "cell_type": "code",
   "execution_count": null,
   "metadata": {
    "scrolled": false
   },
   "outputs": [],
   "source": [
    "# how many days were there more than 700 reviews?\n",
    "res = {count for count in mdfs['spotify'][1]['ReviewCount'].tolist() if count > 700}\n",
    "len(res)"
   ]
  },
  {
   "cell_type": "code",
   "execution_count": null,
   "metadata": {},
   "outputs": [],
   "source": [
    "mdfs['spotify'][1].head(5)"
   ]
  },
  {
   "cell_type": "markdown",
   "metadata": {},
   "source": [
    "<h1 style=\"font-size:4em;text-align: center;color:teal;padding-top:50px;padding-bottom:50px;\">Plotting Totals</h1>"
   ]
  },
  {
   "cell_type": "code",
   "execution_count": null,
   "metadata": {},
   "outputs": [],
   "source": [
    "x = np.arange(1, monthrange(2019, 8)[1]+1)\n",
    "y = spotify_m[8]['Words']\n",
    "\n",
    "fig, ax = plt.subplots(figsize=(10,5))\n",
    "ax.plot(x, y)\n",
    "ax.set(xlabel='time (d)',\n",
    "       ylabel='word count',\n",
    "       title='Daily Wordcount - Spotify - August')\n",
    "ax.grid()\n",
    "\n",
    "plt.show()"
   ]
  },
  {
   "cell_type": "code",
   "execution_count": null,
   "metadata": {},
   "outputs": [],
   "source": [
    "fig, ax = plt.subplots(figsize=(18,4))\n",
    "for i in range(1,13):\n",
    "    ax.plot(mdfs['spotify'][i][\"Words\"])\n",
    "ax.set(xlabel='time (d)', ylabel='word count', title='Daily Wordcount - Spotify - 2019')\n",
    "\n",
    "plt.show()"
   ]
  },
  {
   "cell_type": "code",
   "execution_count": null,
   "metadata": {
    "scrolled": false
   },
   "outputs": [],
   "source": [
    "fig, ax = plt.subplots(figsize=(18,4))\n",
    "for i in range(1,13):\n",
    "    ax.plot(spotify_m[i][\"ReviewCount\"])\n",
    "ax.set(xlabel='time (d)', ylabel='review count', title='Daily ReviewCount - Spotify - 2019')\n",
    "plt.show()"
   ]
  },
  {
   "cell_type": "code",
   "execution_count": null,
   "metadata": {},
   "outputs": [],
   "source": [
    "def grid_5_plot(app, year, month, ylist, color):\n",
    "    if type(month) == int:\n",
    "        month_dict = {\n",
    "            1: \"January\",\n",
    "            2: \"February\",\n",
    "            3: \"March\",\n",
    "            4: \"April\",\n",
    "            5: \"May\",\n",
    "            6: \"June\",\n",
    "            7: \"July\",\n",
    "            8: \"August\",\n",
    "            9: \"September\",\n",
    "            10: \"October\",\n",
    "            11: \"November\",\n",
    "            12: \"December\"\n",
    "        }\n",
    "    if color == None:\n",
    "        color = \"blue\"\n",
    "        \n",
    "    x = np.arange(1, monthrange(2019, month)[1]+1)\n",
    "    mpl.style.use(\"default\")\n",
    "    fig = plt.figure(figsize=(12,6), constrained_layout=True)\n",
    "    fig.suptitle(app.title() + \" - \" + month_dict[month] + \" \" + str(year),\n",
    "                 fontsize=18,\n",
    "                position=(0.5,1.1))\n",
    "    gs = fig.add_gridspec(3, 2)\n",
    "    \n",
    "    y = ylist['ReviewCount']\n",
    "    ax22 = fig.add_subplot(gs[0, :])\n",
    "    ax22.plot(x, y, 'o', ls='-', ms=4, markevery=None, color=color)\n",
    "    ylabel=('Review count')\n",
    "    \n",
    "    y = ylist['Words']\n",
    "    ax00 = fig.add_subplot(gs[2, 0])\n",
    "    ax00.plot(x, y, color=color)\n",
    "    ax00.set(title='Wordcount')\n",
    "\n",
    "    y = ylist['Chars']\n",
    "    ax10 = fig.add_subplot(gs[2, 1])\n",
    "    ax10.plot(x, y, color=color)\n",
    "    ax10.set(title='Character Count')\n",
    "\n",
    "    y = ylist['Rating']\n",
    "    ax01 = fig.add_subplot(gs[1,0])\n",
    "    ax01.plot(x, y, color=color)\n",
    "    ax01.set_xticks([])\n",
    "    ax01.set(title='Rating')\n",
    "\n",
    "    y = ylist['Likes']\n",
    "    ax11 = fig.add_subplot(gs[1,1])\n",
    "    ax11.plot(x, y, color=color)\n",
    "    ax11.scatter(x, y, color=color)\n",
    "    ax11.set_xticks([])\n",
    "    ax11.set(title='Likes')\n",
    "    \n",
    "def get_year_reviewcount(app):\n",
    "    fig, ax = plt.subplots(figsize=(18,4))\n",
    "    for i in range(1,13):\n",
    "        ax.plot(mdfs[app][i][\"ReviewCount\"])\n",
    "    ax.set(xlabel='time (d)',\n",
    "           ylabel='review count',\n",
    "           title='Daily ReviewCount - ' + app.title() + ' - 2019')\n",
    "    plt.show()"
   ]
  },
  {
   "cell_type": "code",
   "execution_count": null,
   "metadata": {},
   "outputs": [],
   "source": [
    "fig, ax = plt.subplots(figsize=(18,4))\n",
    "for i in range(1,13):\n",
    "    ax.plot(mdfs['viber'][i][\"ReviewCount\"], color=\"purple\")\n",
    "    ax.plot(mdfs['soundcloud'][i][\"ReviewCount\"], color=\"orange\")\n",
    "ax.set(xlabel='time (d)', ylabel='word count')\n",
    "\n",
    "plt.show()"
   ]
  },
  {
   "cell_type": "code",
   "execution_count": null,
   "metadata": {
    "scrolled": false
   },
   "outputs": [],
   "source": [
    "# PLOTS A LOT, SLOW, NB\n",
    "# for app, df in mdfs.items():\n",
    "#     get_year_reviewcount(app)\n",
    "#     for i in range(1,13):\n",
    "#         grid_5_plot(app, 2019, i, mdfs[app][i], color=attributes[app.title()]['color'])"
   ]
  },
  {
   "cell_type": "markdown",
   "metadata": {},
   "source": [
    "<h1 style=\"text-align:center;font-size:4em;\">Prepare Data for TSADF</h1>"
   ]
  },
  {
   "cell_type": "markdown",
   "metadata": {},
   "source": [
    "<h2>Make all rows equally spaced in time</h2>"
   ]
  },
  {
   "cell_type": "code",
   "execution_count": null,
   "metadata": {
    "scrolled": true
   },
   "outputs": [],
   "source": [
    "mdfs['viber'][3].head(10)"
   ]
  },
  {
   "cell_type": "markdown",
   "metadata": {},
   "source": [
    "# Or just set time to 00:00"
   ]
  },
  {
   "cell_type": "markdown",
   "metadata": {},
   "source": [
    "<h2>Change DatetimeIndex to the correct format</h2>\n",
    "\n",
    "- %d.%m.%Y %H:%M"
   ]
  },
  {
   "cell_type": "code",
   "execution_count": null,
   "metadata": {},
   "outputs": [],
   "source": [
    "list(mdfs['tencent'][1]['ReviewCount'].head(3))"
   ]
  },
  {
   "cell_type": "code",
   "execution_count": null,
   "metadata": {},
   "outputs": [],
   "source": [
    "mdfs['tencent'][1].head(3)"
   ]
  },
  {
   "cell_type": "code",
   "execution_count": null,
   "metadata": {},
   "outputs": [],
   "source": [
    "mdfs['tencent'][1].index"
   ]
  },
  {
   "cell_type": "code",
   "execution_count": null,
   "metadata": {},
   "outputs": [],
   "source": [
    "# takes a list of 'Timestamp' indices\n",
    "# returns a list of 'String' datetime with 00:00 hrs:mins\n",
    "def appendZeroTime(indices):\n",
    "    new_index = [];\n",
    "    for index in indices:\n",
    "        index = str(index)\n",
    "        date = index.split(\" \")[0]\n",
    "        hours = index.split(\" \")[1].split(\":\")[0]\n",
    "        minutes = index.split(\" \")[1].split(\":\")[1]\n",
    "        index = date + \" 00:00\"\n",
    "        new_index.append(index)\n",
    "    return new_index\n",
    "    \n",
    "print(type(mdfs['tencent']),\n",
    "        type(mdfs['tencent'][1]),\n",
    "        type(mdfs['tencent'][1].ReviewCount))"
   ]
  },
  {
   "cell_type": "code",
   "execution_count": null,
   "metadata": {},
   "outputs": [],
   "source": [
    "from datetime import datetime, timedelta\n",
    "\n",
    "def lp(df, col, title):\n",
    "    df.index = pd.to_datetime(df.index)\n",
    "    x = np.arange(df.index[0], df.index[-1], timedelta(days=1)).astype(datetime)\n",
    "    y = df[col].loc[df.index[0]:df.index[-2]]\n",
    "    \n",
    "    fig, ax = plt.subplots(figsize=(10,5))\n",
    "    ax.plot(x, y)\n",
    "    ax.set(xlabel='date',\n",
    "          ylabel=col.lower(),\n",
    "          title=title)\n",
    "    ax.grid()\n",
    "    plt.show()\n",
    "    \n",
    "def lp2(df, col, title, vlines):\n",
    "    df.index = pd.to_datetime(df.index)\n",
    "    x = np.arange(df.index[0], df.index[-1], timedelta(days=1)).astype(datetime)\n",
    "    y = df[col].loc[df.index[0]:df.index[-2]]\n",
    "    \n",
    "    fig, ax = plt.subplots(figsize=(10,5))\n",
    "    ax.plot(x, y)\n",
    "    ax.set(xlabel='date',\n",
    "          ylabel=col.lower(),\n",
    "          title=title)\n",
    "    ax.grid()\n",
    "    \n",
    "    for vline in vlines:\n",
    "        ax.axvline(vline, linewidth=2, color='r')\n",
    "    \n",
    "    plt.show()"
   ]
  },
  {
   "cell_type": "code",
   "execution_count": null,
   "metadata": {},
   "outputs": [],
   "source": [
    "# combine the 12 monthly dataframes for each app\n",
    "# collapse into 1 dataframe with 365 daily totals\n",
    "def getExportableDf(app):\n",
    "    c = {\n",
    "        'index' : [],\n",
    "        'ReviewCount': [],\n",
    "        'Words': [],\n",
    "        'Chars': [],\n",
    "        'Likes': [],\n",
    "        'Rating': [],\n",
    "        'Avg_Words': [],\n",
    "        'Avg_Chars': [],\n",
    "        'Avg_Likes': [],\n",
    "        'Avg_Rating': []\n",
    "    }\n",
    "    for i in range(1,13):\n",
    "        new_index = appendZeroTime(mdfs[app][i].index)\n",
    "        c['index'] += new_index\n",
    "        \n",
    "        for col in mdfs[app][i].columns:\n",
    "            c[col] += list(mdfs[app][i][col])\n",
    "            \n",
    "    exportable = pd.DataFrame.from_dict(c)\n",
    "    exportable = exportable.set_index('index')\n",
    "    exportable.index = pd.to_datetime(exportable.index,\n",
    "                                     format=\"%Y-%m-%d %H:%S\")\n",
    "    exportable.index = exportable.index.strftime('%d.%m.%Y %H:%S')\n",
    "    exportable.index.name = 'Time'\n",
    "    \n",
    "    return exportable\n",
    "    \n",
    "e = getExportableDf('tencent')\n",
    "e.head(3)\n",
    "\n"
   ]
  },
  {
   "cell_type": "code",
   "execution_count": null,
   "metadata": {},
   "outputs": [],
   "source": [
    "len(getExportableDf('spotify'))"
   ]
  },
  {
   "cell_type": "code",
   "execution_count": null,
   "metadata": {},
   "outputs": [],
   "source": [
    "e = getExportableDf('spotify')\n",
    "type(e.index)"
   ]
  },
  {
   "cell_type": "markdown",
   "metadata": {},
   "source": [
    "# Export"
   ]
  },
  {
   "cell_type": "code",
   "execution_count": null,
   "metadata": {},
   "outputs": [],
   "source": [
    "e.to_csv('spotify_2019.csv', columns = e.columns)"
   ]
  },
  {
   "cell_type": "code",
   "execution_count": null,
   "metadata": {},
   "outputs": [],
   "source": [
    "def printMinAndMax(df):\n",
    "    print(f\"REVIEW \\t Ma: {max(df['ReviewCount'])}\\t Mi: {min(df['ReviewCount'])}\")\n",
    "    print(f\"WORDS \\t Ma: {max(df['Words'])}\\t Mi: {min(df['Words'])}\")\n",
    "    print(f\"CHARS \\t Ma: {max(df['Chars'])}\\t Mi: {min(df['Chars'])}\")\n",
    "    print(f\"LIKES \\t Ma: {max(df['Likes'])}\\t Mi: {min(df['Likes'])}\")\n",
    "    print(f\"RATING \\t Ma: {max(df['Rating'])}\\t Mi: {min(df['Rating'])}\")"
   ]
  },
  {
   "cell_type": "code",
   "execution_count": null,
   "metadata": {},
   "outputs": [],
   "source": [
    "def printHighsLows(app_name):\n",
    "    df = mdfs[app_name]\n",
    "    print(\"\\nHighest and lowest daily review count per month for \" + app_name + \"\\n\")\n",
    "    print(\"MONTH\\t\\t\\t\", \"HIGH\\t\\t\\t\\t\\t\", \"LOW\")\n",
    "    for i in range(1,13):\n",
    "        vmax = max(df[i].ReviewCount)\n",
    "        vmin = min(df[i].ReviewCount)\n",
    "        date_max = df[i].index[df[i]['ReviewCount'] == vmax]\n",
    "        date_min = df[i].index[df[i]['ReviewCount'] == vmin]\n",
    "        date_max_d = date_max.strftime(\"%d\")[0]\n",
    "        date_min_d = date_min.strftime(\"%d\")[0]\n",
    "        day_name_max = dfs[app_name].loc[date_max[0].strftime(\"%Y-%m-%d\")]['Weekday Name'].values[0]\n",
    "        day_name_min = dfs[app_name].loc[date_min[0].strftime(\"%Y-%m-%d\")]['Weekday Name'].values[0]\n",
    "        print(str(i) + \"\\t\\t\\t\",\n",
    "              day_name_max + \", \" + str(date_max_d), \"\\t\" + str(vmax), \"\\t\\t\\t\",\n",
    "              day_name_min + \", \" + str(date_min_d), \"\\t\" + str(vmin))"
   ]
  },
  {
   "cell_type": "markdown",
   "metadata": {},
   "source": [
    "# Crosscheck Anomalies Detected with TSADF\n",
    "\n",
    "Below, we look into anomalies detected with the framework.\n",
    "\n",
    "1. Analyze dataset with framework (365 rows, daily totals)\n",
    "2. Make note of what dates the framework finds anomalies\n",
    "3. Retrieve the same dates from the dataframe\n",
    "4. Check max() and min(); see that the framework identifies EV's\n",
    "\n",
    "The following experiment is done using user reviews for Spotify from the Google Play Store, for the year 2019."
   ]
  },
  {
   "cell_type": "markdown",
   "metadata": {},
   "source": [
    "# Nutshell\n",
    "\n",
    "Below is a linechart of the review count measured throughout 2019 for Spotify."
   ]
  },
  {
   "cell_type": "code",
   "execution_count": null,
   "metadata": {},
   "outputs": [],
   "source": [
    "get_year_reviewcount('spotify')"
   ]
  },
  {
   "cell_type": "markdown",
   "metadata": {},
   "source": [
    "Each month has its own color, and we can see some distinct highs and lows in the above linechart.\n",
    "\n",
    "## What is an anomaly\n",
    "Even though some of the measured values are _clearly_ higher than other measurements - they're not necessarily anomalies. It could be that these values are part of a natural (__seasonal__) pattern.\n",
    "\n",
    "Likely, many software development companies have regular __version release cycles__ of e.g., 2 weeks. So the peaks and valleys seen in the chart are natural.\n",
    "\n",
    "## What is seasonality\n",
    "To find out, we have to crosscheck our findings -- both through visualization and use of the time series anomaly detection framework -- with _events_ occurring with the company developing the software whose data we are analyzing.\n",
    "\n",
    "Below, we make note of the extreme values (EVs) recorded each month, pertaining to the spotify user review data. We then look into spotify logs to see if something happened prior to those dates (e.g., new version release).\n",
    "\n",
    "### Max and min values for review count per month"
   ]
  },
  {
   "cell_type": "code",
   "execution_count": null,
   "metadata": {},
   "outputs": [],
   "source": [
    "printHighsLows('spotify')"
   ]
  },
  {
   "cell_type": "markdown",
   "metadata": {},
   "source": [
    "## Changelog\n",
    "\n",
    "Below is a list of dates where a new version was released, taken from __apk4fun.com__\n",
    "\n",
    "* SoundCloud: https://www.apk4fun.com/history/1563/2/\n",
    "* Snapchat: https://www.apk4fun.com/history/1299/2/\n",
    "* Spotify: https://www.apk4fun.com/history/9887/2/"
   ]
  },
  {
   "cell_type": "code",
   "execution_count": null,
   "metadata": {},
   "outputs": [],
   "source": [
    "spotify_versions = [\n",
    "    '8.5.36.747',\n",
    "    '8.5.33.831',\n",
    "    '8.5.32.889',\n",
    "    '8.5.31.676',\n",
    "    '8.5.30.579',\n",
    "    '8.5.29.828',\n",
    "    '8.5.28.985',\n",
    "    '8.5.27.957',\n",
    "    '8.5.25.894',\n",
    "    '8.5.24.762'\n",
    "]\n",
    "\n",
    "spotify_dates = [\n",
    "    '2019-12-13',\n",
    "    '2019-11-22',\n",
    "    '2019-11-11',\n",
    "    '2019-11-05',\n",
    "    '2019-10-29',\n",
    "    '2019-10-22',\n",
    "    '2019-10-14',\n",
    "    '2019-10-08',\n",
    "    '2019-09-30',\n",
    "    '2019-09-18'\n",
    "]\n",
    "\n",
    "spotify_release_dates = {\n",
    "    12 : ['2019-12-13'],\n",
    "    11 : ['2019-11-22', '2019-11-11', '2019-11-05'],\n",
    "    10 : ['2019-10-29', '2019-10-22', '2019-10-22', '2019-10-14', '2019-10-08'],\n",
    "    9 : ['2019-09-30', '2019-09-18']\n",
    "}\n",
    "\n",
    "snapchat_versions = [\n",
    "    '10.72.5.0',\n",
    "    '10.72.0.0',\n",
    "    '10.71.5.0',\n",
    "    '10.70.5.0',\n",
    "    '10.70.0.0',\n",
    "    '10.69.5.0',\n",
    "    '10.69.0.0',\n",
    "    '10.68.5.0',\n",
    "    '10.68.0.0',\n",
    "    '10.67.5.0'\n",
    "]\n",
    "snapchat_dates = [\n",
    "    '2019-12-17',\n",
    "    '2019-12-09',\n",
    "    '2019-12-02',\n",
    "    '2019-11-19',\n",
    "    '2019-11-11',\n",
    "    '2019-11-05',\n",
    "    '2019-10-30',\n",
    "    '2019-10-21',\n",
    "    '2019-10-16',\n",
    "    '2019-10-03'\n",
    "]\n",
    "snapchat_release_dates = {\n",
    "    12 : ['2019-12-17', '2019-12-09', '2019-12-02'],\n",
    "    11 : ['2019-11-19', '2019-11-11', '2019-11-05'],\n",
    "    10: ['2019-10-30', '2019-10-21', '2019-10-16', '2019-10-03']\n",
    "}\n",
    "\n",
    "soundcloud_versions = [\n",
    "    '2019.12.10',\n",
    "    '2019.11.20',\n",
    "    '2019.11.11',\n",
    "    '2019.10.31',\n",
    "    '2019.10.17',\n",
    "    '2019.09.30',\n",
    "    '2019.09.19',\n",
    "    '2019.09.03',\n",
    "    '2019.08.23',\n",
    "    '2019.08.09'\n",
    "]\n",
    "soundcloud_dates = [\n",
    "    '2019-12-10',\n",
    "    '2019-11-25',\n",
    "    '2019-11-12',\n",
    "    '2019-10-31',\n",
    "    '2019-10-17',\n",
    "    '2019-09-30',\n",
    "    '2019-09-19',\n",
    "    '2019-09-03',\n",
    "    '2019-08-23',\n",
    "    '2019-08-12'\n",
    "]\n",
    "soundcloud_release_dates = {\n",
    "    12: ['2019-12-10'],\n",
    "    11: ['2019-11-25', '2019-11-12'],\n",
    "    10: ['2019-10-31', '2019-10-17'],\n",
    "    9: ['2019-09-30', '2019-09-19', '2019-09-03'],\n",
    "    8: ['2019-08-23', '2019-08-12']\n",
    "}\n",
    "\n",
    "release_dates = {\n",
    "    'spotify' : spotify_release_dates,\n",
    "    'snapchat' : snapchat_release_dates,\n",
    "    'soundcloud' : soundcloud_release_dates\n",
    "}"
   ]
  },
  {
   "cell_type": "markdown",
   "metadata": {},
   "source": [
    "<div style=\"padding-top:20px;padding-bottom:20px;text-align:center;\">\n",
    "    <span style=\"font-size:3em;\">Sep/Oct/Nov/Dec - </span><span style=\"text-decoration:underline;font-size: 3em; color:green;\">Spotify</span>\n",
    "    <h1>Review count <strong style=\"font-weight: 300;\">and release dates</strong></h1>\n",
    "</div>"
   ]
  },
  {
   "cell_type": "code",
   "execution_count": null,
   "metadata": {},
   "outputs": [],
   "source": [
    "mdfs['spotify'][9].head(1)"
   ]
  },
  {
   "cell_type": "markdown",
   "metadata": {},
   "source": [
    "# September"
   ]
  },
  {
   "cell_type": "code",
   "execution_count": null,
   "metadata": {},
   "outputs": [],
   "source": [
    "lp2(mdfs['spotify'][9], 'ReviewCount', 'review count and release dates - September 2019', release_dates['spotify'][9])"
   ]
  },
  {
   "cell_type": "markdown",
   "metadata": {},
   "source": [
    "# October"
   ]
  },
  {
   "cell_type": "code",
   "execution_count": null,
   "metadata": {},
   "outputs": [],
   "source": [
    "lp2(mdfs['spotify'][10], 'ReviewCount', 'review count and release dates - October 2019', release_dates['spotify'][10])"
   ]
  },
  {
   "cell_type": "markdown",
   "metadata": {},
   "source": [
    "# November"
   ]
  },
  {
   "cell_type": "code",
   "execution_count": null,
   "metadata": {},
   "outputs": [],
   "source": [
    "lp2(mdfs['spotify'][11], 'ReviewCount', 'review count and release dates - November 2019', release_dates['spotify'][11])"
   ]
  },
  {
   "cell_type": "markdown",
   "metadata": {},
   "source": [
    "# December"
   ]
  },
  {
   "cell_type": "code",
   "execution_count": null,
   "metadata": {},
   "outputs": [],
   "source": [
    "lp2(mdfs['spotify'][12], 'ReviewCount', 'review count and release dates - December 2019', release_dates['spotify'][12])"
   ]
  },
  {
   "cell_type": "markdown",
   "metadata": {},
   "source": [
    "<div style=\"padding-top:20px;padding-bottom:20px;text-align:center;\">\n",
    "    <span style=\"font-size:3em;\">Oct/Nov/Dec - </span><span style=\"text-decoration:underline;font-size: 3em; color:#CCCC00;\">Snapchat</span>\n",
    "    <h1>Review count <strong style=\"font-weight: 300;\">and release dates</strong></h1>\n",
    "</div>"
   ]
  },
  {
   "cell_type": "markdown",
   "metadata": {},
   "source": [
    "# October (all dimensions)"
   ]
  },
  {
   "cell_type": "code",
   "execution_count": null,
   "metadata": {},
   "outputs": [],
   "source": [
    "lp2(mdfs['snapchat'][10], 'ReviewCount', 'reviews', release_dates['snapchat'][10])"
   ]
  },
  {
   "cell_type": "code",
   "execution_count": null,
   "metadata": {},
   "outputs": [],
   "source": [
    "lp2(mdfs['snapchat'][10], 'Words', 'words', release_dates['snapchat'][10])"
   ]
  },
  {
   "cell_type": "code",
   "execution_count": null,
   "metadata": {},
   "outputs": [],
   "source": [
    "lp2(mdfs['snapchat'][10], 'Chars', 'characters', release_dates['snapchat'][10])"
   ]
  },
  {
   "cell_type": "code",
   "execution_count": null,
   "metadata": {},
   "outputs": [],
   "source": [
    "lp2(mdfs['snapchat'][10], 'Likes', 'likes', release_dates['snapchat'][10])"
   ]
  },
  {
   "cell_type": "code",
   "execution_count": null,
   "metadata": {},
   "outputs": [],
   "source": [
    "lp2(mdfs['snapchat'][10], 'Rating', 'rating', release_dates['snapchat'][10])"
   ]
  },
  {
   "cell_type": "markdown",
   "metadata": {},
   "source": [
    "# (all averages)"
   ]
  },
  {
   "cell_type": "code",
   "execution_count": null,
   "metadata": {},
   "outputs": [],
   "source": [
    "lp2(mdfs['snapchat'][10], 'Avg_Words', 'average words', release_dates['snapchat'][10])"
   ]
  },
  {
   "cell_type": "code",
   "execution_count": null,
   "metadata": {},
   "outputs": [],
   "source": [
    "lp2(mdfs['snapchat'][10], 'Avg_Chars', 'average characters', release_dates['snapchat'][10])"
   ]
  },
  {
   "cell_type": "code",
   "execution_count": null,
   "metadata": {},
   "outputs": [],
   "source": [
    "lp2(mdfs['snapchat'][10], 'Avg_Likes', 'average likes', release_dates['snapchat'][10])"
   ]
  },
  {
   "cell_type": "code",
   "execution_count": null,
   "metadata": {},
   "outputs": [],
   "source": [
    "lp2(mdfs['snapchat'][10], 'Avg_Rating', 'average rating', release_dates['snapchat'][10])"
   ]
  },
  {
   "cell_type": "markdown",
   "metadata": {},
   "source": [
    "# November"
   ]
  },
  {
   "cell_type": "code",
   "execution_count": null,
   "metadata": {},
   "outputs": [],
   "source": [
    "lp2(mdfs['snapchat'][11], 'ReviewCount', 'review count and release dates - October 2019', release_dates['snapchat'][11])"
   ]
  },
  {
   "cell_type": "markdown",
   "metadata": {},
   "source": [
    "# December"
   ]
  },
  {
   "cell_type": "code",
   "execution_count": null,
   "metadata": {},
   "outputs": [],
   "source": [
    "lp2(mdfs['snapchat'][12], 'ReviewCount', 'review count and release dates - October 2019', release_dates['snapchat'][12])"
   ]
  },
  {
   "cell_type": "markdown",
   "metadata": {},
   "source": [
    "<div style=\"padding-top:20px;padding-bottom:20px;text-align:center;\">\n",
    "    <span style=\"font-size:3em;\">Oct/Nov/Dec - </span><span style=\"text-decoration:underline;font-size: 3em; color:#ff8c00;\">SoundCloud</span>\n",
    "    <h1>Review count <strong style=\"font-weight: 300;\">and release dates</strong></h1>\n",
    "</div>"
   ]
  },
  {
   "cell_type": "markdown",
   "metadata": {},
   "source": [
    "# August"
   ]
  },
  {
   "cell_type": "code",
   "execution_count": null,
   "metadata": {},
   "outputs": [],
   "source": [
    "lp2(mdfs['soundcloud'][8], 'ReviewCount', 'review count and release dates - August 2019', release_dates['soundcloud'][8])"
   ]
  },
  {
   "cell_type": "markdown",
   "metadata": {},
   "source": [
    "# September"
   ]
  },
  {
   "cell_type": "code",
   "execution_count": null,
   "metadata": {},
   "outputs": [],
   "source": [
    "lp2(mdfs['soundcloud'][9], 'ReviewCount', 'review count and release dates - September 2019', release_dates['soundcloud'][9])"
   ]
  },
  {
   "cell_type": "markdown",
   "metadata": {},
   "source": [
    "# October"
   ]
  },
  {
   "cell_type": "code",
   "execution_count": null,
   "metadata": {},
   "outputs": [],
   "source": [
    "lp2(mdfs['soundcloud'][10], 'ReviewCount', 'review count and release dates - October 2019', release_dates['soundcloud'][10])"
   ]
  },
  {
   "cell_type": "markdown",
   "metadata": {},
   "source": [
    "# November"
   ]
  },
  {
   "cell_type": "code",
   "execution_count": null,
   "metadata": {},
   "outputs": [],
   "source": [
    "lp2(mdfs['soundcloud'][11], 'ReviewCount', 'review count and release dates - November 2019', release_dates['soundcloud'][11])"
   ]
  },
  {
   "cell_type": "markdown",
   "metadata": {},
   "source": [
    "# December"
   ]
  },
  {
   "cell_type": "code",
   "execution_count": null,
   "metadata": {},
   "outputs": [],
   "source": [
    "lp2(mdfs['soundcloud'][12], 'ReviewCount', 'review count and release dates - December 2019', release_dates['soundcloud'][12])"
   ]
  },
  {
   "cell_type": "markdown",
   "metadata": {},
   "source": [
    "<h1 style='font-size:5em;color:#333;'>APK Release History per App </h1>\n",
    "\n",
    "In this section we consider data collected from multiple sources of APK version history logs. We want to see if software releases can be directly correlated to peaks in user review counts.\n",
    "\n",
    "Further, we collect the change list for some of the releases to see if we can deduce whether it's a new feature or bug/hot fixes.\n",
    "\n",
    "<h2>Sources</h2>\n",
    "\n",
    "* apk4fun.com\n",
    "* appbrain.com\n",
    "\n",
    "<h2>Plot Legend</h2>\n",
    "\n",
    "<ul>\n",
    "    <li style='color: blue;'>Blue line => Reviews posted</li>\n",
    "    <li style='color: red;'>Red line => APK version release</li>\n",
    "</ul>\n",
    "\n",
    "<h2>Limitations</h2>\n",
    "\n",
    "Some apps are not at all verbose when it comes to sharing changes from version to version. As such, we only consider those who indeed share details of their changes. This includes:\n",
    "- Snapchat\n",
    "- Reddit"
   ]
  },
  {
   "cell_type": "code",
   "execution_count": null,
   "metadata": {
    "scrolled": true
   },
   "outputs": [],
   "source": [
    "apk_dfs = {}\n",
    "apps = ['reddit',\n",
    "       'soundcloud',\n",
    "       'spotify',\n",
    "       'tumblr',\n",
    "       'viber',\n",
    "       'snapchat']\n",
    "\n",
    "for app in apps:\n",
    "    apk_dfs[app] = pd.read_csv(\"data/apk/\" + app + \"-apk.csv\",\n",
    "                          index_col=\"Date\",\n",
    "                          parse_dates=True)\n",
    "\n",
    "apk_dfs['reddit'].loc['2020-03']"
   ]
  },
  {
   "cell_type": "code",
   "execution_count": null,
   "metadata": {},
   "outputs": [],
   "source": [
    "apk_dfs['snapchat'].loc['2019-05']"
   ]
  },
  {
   "cell_type": "markdown",
   "metadata": {},
   "source": [
    "# Reddit"
   ]
  },
  {
   "cell_type": "code",
   "execution_count": null,
   "metadata": {
    "scrolled": false
   },
   "outputs": [],
   "source": [
    "app = 'reddit'\n",
    "i = 12\n",
    "lp2(mdfs[app][i],\n",
    "   'ReviewCount',\n",
    "   app + ' review count/release date',\n",
    "   apk_dfs[app].loc['2019-' + str(i)].index)"
   ]
  },
  {
   "cell_type": "code",
   "execution_count": null,
   "metadata": {},
   "outputs": [],
   "source": [
    "apk_dfs['reddit'].loc['2019-12']"
   ]
  },
  {
   "cell_type": "code",
   "execution_count": null,
   "metadata": {},
   "outputs": [],
   "source": [
    "pd.set_option('display.max_colwidth', -1)"
   ]
  },
  {
   "cell_type": "code",
   "execution_count": null,
   "metadata": {},
   "outputs": [],
   "source": [
    "str(apk_dfs['reddit'].loc['2019-12'].Changes)"
   ]
  },
  {
   "cell_type": "markdown",
   "metadata": {},
   "source": [
    "# Snapchat"
   ]
  },
  {
   "cell_type": "code",
   "execution_count": null,
   "metadata": {},
   "outputs": [],
   "source": [
    "app = 'snapchat'\n",
    "i = 3\n",
    "lp2(mdfs[app][i],\n",
    "   'ReviewCount',\n",
    "   app + ' review count/release date',\n",
    "   apk_dfs[app].loc['2019-' + str(i)].index)"
   ]
  },
  {
   "cell_type": "code",
   "execution_count": null,
   "metadata": {},
   "outputs": [],
   "source": [
    "app = 'snapchat'\n",
    "i = 4\n",
    "lp2(mdfs[app][i],\n",
    "   'ReviewCount',\n",
    "   app + ' review count/release date',\n",
    "   apk_dfs[app].loc['2019-' + str(i)].index)"
   ]
  },
  {
   "cell_type": "code",
   "execution_count": null,
   "metadata": {},
   "outputs": [],
   "source": [
    "len(apk_dfs['snapchat'].loc['2019-04'].Changes)"
   ]
  },
  {
   "cell_type": "code",
   "execution_count": null,
   "metadata": {},
   "outputs": [],
   "source": [
    "apk_dfs['snapchat'].loc['2019-04'].Changes"
   ]
  },
  {
   "cell_type": "markdown",
   "metadata": {},
   "source": [
    "<h3>User Reviews with Likes > 25</h3>"
   ]
  },
  {
   "cell_type": "code",
   "execution_count": null,
   "metadata": {},
   "outputs": [],
   "source": [
    "daf = dfs['snapchat'].loc['2019-04-02']\n",
    "daf[daf.Likes > 25]"
   ]
  },
  {
   "cell_type": "code",
   "execution_count": null,
   "metadata": {},
   "outputs": [],
   "source": [
    "app = 'snapchat'\n",
    "i = 5\n",
    "lp2(mdfs[app][i],\n",
    "   'ReviewCount',\n",
    "   app + ' review count/release date',\n",
    "   apk_dfs[app].loc['2019-' + str(i)].index)"
   ]
  },
  {
   "cell_type": "code",
   "execution_count": null,
   "metadata": {},
   "outputs": [],
   "source": [
    "app = 'snapchat'\n",
    "i = 6\n",
    "lp2(mdfs[app][i],\n",
    "   'ReviewCount',\n",
    "   app + ' review count/release date',\n",
    "   apk_dfs[app].loc['2019-' + str(i)].index)"
   ]
  },
  {
   "cell_type": "code",
   "execution_count": null,
   "metadata": {},
   "outputs": [],
   "source": [
    "apk_dfs['snapchat'].loc['2019-06'].Changes"
   ]
  },
  {
   "cell_type": "code",
   "execution_count": null,
   "metadata": {},
   "outputs": [],
   "source": []
  }
 ],
 "metadata": {
  "kernelspec": {
   "display_name": "Python 3",
   "language": "python",
   "name": "python3"
  },
  "language_info": {
   "codemirror_mode": {
    "name": "ipython",
    "version": 3
   },
   "file_extension": ".py",
   "mimetype": "text/x-python",
   "name": "python",
   "nbconvert_exporter": "python",
   "pygments_lexer": "ipython3",
   "version": "3.7.5"
  }
 },
 "nbformat": 4,
 "nbformat_minor": 2
}
