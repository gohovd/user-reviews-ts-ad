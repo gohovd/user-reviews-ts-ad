{
 "cells": [
  {
   "cell_type": "code",
   "execution_count": 1,
   "metadata": {},
   "outputs": [],
   "source": [
    "import pandas as pd"
   ]
  },
  {
   "cell_type": "code",
   "execution_count": 2,
   "metadata": {},
   "outputs": [
    {
     "data": {
      "text/html": [
       "<div>\n",
       "<style scoped>\n",
       "    .dataframe tbody tr th:only-of-type {\n",
       "        vertical-align: middle;\n",
       "    }\n",
       "\n",
       "    .dataframe tbody tr th {\n",
       "        vertical-align: top;\n",
       "    }\n",
       "\n",
       "    .dataframe thead th {\n",
       "        text-align: right;\n",
       "    }\n",
       "</style>\n",
       "<table border=\"1\" class=\"dataframe\">\n",
       "  <thead>\n",
       "    <tr style=\"text-align: right;\">\n",
       "      <th></th>\n",
       "      <th>app_name</th>\n",
       "      <th>user_id</th>\n",
       "      <th>user_name</th>\n",
       "      <th>date</th>\n",
       "      <th>country</th>\n",
       "      <th>version</th>\n",
       "      <th>score</th>\n",
       "      <th>topic</th>\n",
       "      <th>review</th>\n",
       "      <th>url</th>\n",
       "      <th>review_id</th>\n",
       "      <th>category_final</th>\n",
       "      <th>sentiment_final</th>\n",
       "      <th>req_final</th>\n",
       "    </tr>\n",
       "  </thead>\n",
       "  <tbody>\n",
       "    <tr>\n",
       "      <th>52505.0</th>\n",
       "      <td>Facebook</td>\n",
       "      <td>246193109</td>\n",
       "      <td>Help is herr</td>\n",
       "      <td>2017-06-21 00:00:00</td>\n",
       "      <td>United States</td>\n",
       "      <td>97</td>\n",
       "      <td>1</td>\n",
       "      <td>Notifications not showing up</td>\n",
       "      <td>The notification badges are showing up on my i...</td>\n",
       "      <td>https://itunes.apple.com/WebObjects/MZStore.wo...</td>\n",
       "      <td>53163.0</td>\n",
       "      <td>requirement</td>\n",
       "      <td>neutral</td>\n",
       "      <td>functional</td>\n",
       "    </tr>\n",
       "  </tbody>\n",
       "</table>\n",
       "</div>"
      ],
      "text/plain": [
       "         app_name    user_id     user_name                 date  \\\n",
       "52505.0  Facebook  246193109  Help is herr  2017-06-21 00:00:00   \n",
       "\n",
       "               country version  score                         topic  \\\n",
       "52505.0  United States      97      1  Notifications not showing up   \n",
       "\n",
       "                                                    review  \\\n",
       "52505.0  The notification badges are showing up on my i...   \n",
       "\n",
       "                                                       url  review_id  \\\n",
       "52505.0  https://itunes.apple.com/WebObjects/MZStore.wo...    53163.0   \n",
       "\n",
       "        category_final sentiment_final   req_final  \n",
       "52505.0    requirement         neutral  functional  "
      ]
     },
     "execution_count": 2,
     "metadata": {},
     "output_type": "execute_result"
    }
   ],
   "source": [
    "l_raw = pd.read_excel(\"data/LData.xlsx\", encoding='utf-8', index_col='Unnamed: 0')\n",
    "l_raw.head(1)"
   ]
  },
  {
   "cell_type": "code",
   "execution_count": 3,
   "metadata": {},
   "outputs": [
    {
     "name": "stdout",
     "output_type": "stream",
     "text": [
      "<class 'pandas.core.frame.DataFrame'>\n",
      "Float64Index: 3000 entries, 52505.0 to 45413.0\n",
      "Data columns (total 14 columns):\n",
      "app_name           3000 non-null object\n",
      "user_id            3000 non-null object\n",
      "user_name          2993 non-null object\n",
      "date               3000 non-null object\n",
      "country            3000 non-null object\n",
      "version            3000 non-null object\n",
      "score              3000 non-null int64\n",
      "topic              2994 non-null object\n",
      "review             2996 non-null object\n",
      "url                2850 non-null object\n",
      "review_id          2850 non-null float64\n",
      "category_final     3000 non-null object\n",
      "sentiment_final    2796 non-null object\n",
      "req_final          1081 non-null object\n",
      "dtypes: float64(1), int64(1), object(12)\n",
      "memory usage: 351.6+ KB\n"
     ]
    }
   ],
   "source": [
    "l_raw.info()\n",
    "l = l_raw"
   ]
  },
  {
   "cell_type": "markdown",
   "metadata": {},
   "source": [
    "# DATA CLEANING"
   ]
  },
  {
   "cell_type": "markdown",
   "metadata": {},
   "source": [
    "* Reindex"
   ]
  },
  {
   "cell_type": "code",
   "execution_count": 4,
   "metadata": {},
   "outputs": [
    {
     "data": {
      "text/html": [
       "<div>\n",
       "<style scoped>\n",
       "    .dataframe tbody tr th:only-of-type {\n",
       "        vertical-align: middle;\n",
       "    }\n",
       "\n",
       "    .dataframe tbody tr th {\n",
       "        vertical-align: top;\n",
       "    }\n",
       "\n",
       "    .dataframe thead th {\n",
       "        text-align: right;\n",
       "    }\n",
       "</style>\n",
       "<table border=\"1\" class=\"dataframe\">\n",
       "  <thead>\n",
       "    <tr style=\"text-align: right;\">\n",
       "      <th></th>\n",
       "      <th>app_name</th>\n",
       "      <th>user_id</th>\n",
       "      <th>user_name</th>\n",
       "      <th>date</th>\n",
       "      <th>country</th>\n",
       "      <th>version</th>\n",
       "      <th>score</th>\n",
       "      <th>topic</th>\n",
       "      <th>review</th>\n",
       "      <th>url</th>\n",
       "      <th>review_id</th>\n",
       "      <th>category_final</th>\n",
       "      <th>sentiment_final</th>\n",
       "      <th>req_final</th>\n",
       "    </tr>\n",
       "  </thead>\n",
       "  <tbody>\n",
       "    <tr>\n",
       "      <th>0</th>\n",
       "      <td>Facebook</td>\n",
       "      <td>246193109</td>\n",
       "      <td>Help is herr</td>\n",
       "      <td>2017-06-21 00:00:00</td>\n",
       "      <td>United States</td>\n",
       "      <td>97</td>\n",
       "      <td>1</td>\n",
       "      <td>Notifications not showing up</td>\n",
       "      <td>The notification badges are showing up on my i...</td>\n",
       "      <td>https://itunes.apple.com/WebObjects/MZStore.wo...</td>\n",
       "      <td>53163.0</td>\n",
       "      <td>requirement</td>\n",
       "      <td>neutral</td>\n",
       "      <td>functional</td>\n",
       "    </tr>\n",
       "    <tr>\n",
       "      <th>1</th>\n",
       "      <td>Facebook</td>\n",
       "      <td>43034279</td>\n",
       "      <td>javamdnss</td>\n",
       "      <td>2017-06-16 00:00:00</td>\n",
       "      <td>United States</td>\n",
       "      <td>97</td>\n",
       "      <td>1</td>\n",
       "      <td>Hate it!</td>\n",
       "      <td>Why do they make changes we don't need? Now th...</td>\n",
       "      <td>https://itunes.apple.com/WebObjects/MZStore.wo...</td>\n",
       "      <td>53905.0</td>\n",
       "      <td>other</td>\n",
       "      <td>very negative</td>\n",
       "      <td>NaN</td>\n",
       "    </tr>\n",
       "    <tr>\n",
       "      <th>2</th>\n",
       "      <td>Facebook</td>\n",
       "      <td>496978255</td>\n",
       "      <td>NaN</td>\n",
       "      <td>2017-05-27 00:00:00</td>\n",
       "      <td>Hong Kong</td>\n",
       "      <td>94</td>\n",
       "      <td>1</td>\n",
       "      <td>Useless function n poor experience</td>\n",
       "      <td>Story is useless n annoying to user. \\nCan't s...</td>\n",
       "      <td>https://itunes.apple.com/WebObjects/MZStore.wo...</td>\n",
       "      <td>47401.0</td>\n",
       "      <td>other</td>\n",
       "      <td>negative</td>\n",
       "      <td>NaN</td>\n",
       "    </tr>\n",
       "    <tr>\n",
       "      <th>3</th>\n",
       "      <td>Facebook</td>\n",
       "      <td>139595037</td>\n",
       "      <td>Gilbertiggy</td>\n",
       "      <td>2017-05-26 00:00:00</td>\n",
       "      <td>United Kingdom</td>\n",
       "      <td>94</td>\n",
       "      <td>1</td>\n",
       "      <td>To many updates!</td>\n",
       "      <td>This app is always having an update for someth...</td>\n",
       "      <td>https://itunes.apple.com/WebObjects/MZStore.wo...</td>\n",
       "      <td>42233.0</td>\n",
       "      <td>requirement</td>\n",
       "      <td>negative</td>\n",
       "      <td>functional</td>\n",
       "    </tr>\n",
       "    <tr>\n",
       "      <th>4</th>\n",
       "      <td>Facebook</td>\n",
       "      <td>180832062</td>\n",
       "      <td>Princess Lou 24</td>\n",
       "      <td>2017-06-01 00:00:00</td>\n",
       "      <td>United Kingdom</td>\n",
       "      <td>94</td>\n",
       "      <td>1</td>\n",
       "      <td>Photo albums</td>\n",
       "      <td>Just spent an hour trying to upload photos and...</td>\n",
       "      <td>https://itunes.apple.com/WebObjects/MZStore.wo...</td>\n",
       "      <td>42066.0</td>\n",
       "      <td>requirement</td>\n",
       "      <td>negative</td>\n",
       "      <td>non-functional</td>\n",
       "    </tr>\n",
       "  </tbody>\n",
       "</table>\n",
       "</div>"
      ],
      "text/plain": [
       "   app_name    user_id        user_name                 date         country  \\\n",
       "0  Facebook  246193109     Help is herr  2017-06-21 00:00:00   United States   \n",
       "1  Facebook   43034279        javamdnss  2017-06-16 00:00:00   United States   \n",
       "2  Facebook  496978255              NaN  2017-05-27 00:00:00       Hong Kong   \n",
       "3  Facebook  139595037      Gilbertiggy  2017-05-26 00:00:00  United Kingdom   \n",
       "4  Facebook  180832062  Princess Lou 24  2017-06-01 00:00:00  United Kingdom   \n",
       "\n",
       "  version  score                               topic  \\\n",
       "0      97      1        Notifications not showing up   \n",
       "1      97      1                            Hate it!   \n",
       "2      94      1  Useless function n poor experience   \n",
       "3      94      1                    To many updates!   \n",
       "4      94      1                        Photo albums   \n",
       "\n",
       "                                              review  \\\n",
       "0  The notification badges are showing up on my i...   \n",
       "1  Why do they make changes we don't need? Now th...   \n",
       "2  Story is useless n annoying to user. \\nCan't s...   \n",
       "3  This app is always having an update for someth...   \n",
       "4  Just spent an hour trying to upload photos and...   \n",
       "\n",
       "                                                 url  review_id  \\\n",
       "0  https://itunes.apple.com/WebObjects/MZStore.wo...    53163.0   \n",
       "1  https://itunes.apple.com/WebObjects/MZStore.wo...    53905.0   \n",
       "2  https://itunes.apple.com/WebObjects/MZStore.wo...    47401.0   \n",
       "3  https://itunes.apple.com/WebObjects/MZStore.wo...    42233.0   \n",
       "4  https://itunes.apple.com/WebObjects/MZStore.wo...    42066.0   \n",
       "\n",
       "  category_final sentiment_final       req_final  \n",
       "0    requirement         neutral      functional  \n",
       "1          other   very negative             NaN  \n",
       "2          other        negative             NaN  \n",
       "3    requirement        negative      functional  \n",
       "4    requirement        negative  non-functional  "
      ]
     },
     "execution_count": 4,
     "metadata": {},
     "output_type": "execute_result"
    }
   ],
   "source": [
    "l = l.reset_index(drop=True)\n",
    "l.head()"
   ]
  },
  {
   "cell_type": "markdown",
   "metadata": {},
   "source": [
    "* Drop unneccessary columns"
   ]
  },
  {
   "cell_type": "code",
   "execution_count": 5,
   "metadata": {},
   "outputs": [
    {
     "data": {
      "text/html": [
       "<div>\n",
       "<style scoped>\n",
       "    .dataframe tbody tr th:only-of-type {\n",
       "        vertical-align: middle;\n",
       "    }\n",
       "\n",
       "    .dataframe tbody tr th {\n",
       "        vertical-align: top;\n",
       "    }\n",
       "\n",
       "    .dataframe thead th {\n",
       "        text-align: right;\n",
       "    }\n",
       "</style>\n",
       "<table border=\"1\" class=\"dataframe\">\n",
       "  <thead>\n",
       "    <tr style=\"text-align: right;\">\n",
       "      <th></th>\n",
       "      <th>country</th>\n",
       "      <th>score</th>\n",
       "      <th>topic</th>\n",
       "      <th>review</th>\n",
       "      <th>category_final</th>\n",
       "      <th>sentiment_final</th>\n",
       "    </tr>\n",
       "  </thead>\n",
       "  <tbody>\n",
       "    <tr>\n",
       "      <th>0</th>\n",
       "      <td>United States</td>\n",
       "      <td>1</td>\n",
       "      <td>Notifications not showing up</td>\n",
       "      <td>The notification badges are showing up on my i...</td>\n",
       "      <td>requirement</td>\n",
       "      <td>neutral</td>\n",
       "    </tr>\n",
       "  </tbody>\n",
       "</table>\n",
       "</div>"
      ],
      "text/plain": [
       "         country  score                         topic  \\\n",
       "0  United States      1  Notifications not showing up   \n",
       "\n",
       "                                              review category_final  \\\n",
       "0  The notification badges are showing up on my i...    requirement   \n",
       "\n",
       "  sentiment_final  \n",
       "0         neutral  "
      ]
     },
     "execution_count": 5,
     "metadata": {},
     "output_type": "execute_result"
    }
   ],
   "source": [
    "l = l.drop(['user_id', 'url', 'review_id', 'version', 'user_name', 'app_name', 'date', 'req_final'], axis=1)\n",
    "l.head(1)"
   ]
  },
  {
   "cell_type": "markdown",
   "metadata": {},
   "source": [
    "* Rename label columns"
   ]
  },
  {
   "cell_type": "code",
   "execution_count": 6,
   "metadata": {},
   "outputs": [
    {
     "data": {
      "text/html": [
       "<div>\n",
       "<style scoped>\n",
       "    .dataframe tbody tr th:only-of-type {\n",
       "        vertical-align: middle;\n",
       "    }\n",
       "\n",
       "    .dataframe tbody tr th {\n",
       "        vertical-align: top;\n",
       "    }\n",
       "\n",
       "    .dataframe thead th {\n",
       "        text-align: right;\n",
       "    }\n",
       "</style>\n",
       "<table border=\"1\" class=\"dataframe\">\n",
       "  <thead>\n",
       "    <tr style=\"text-align: right;\">\n",
       "      <th></th>\n",
       "      <th>country</th>\n",
       "      <th>score</th>\n",
       "      <th>topic</th>\n",
       "      <th>review</th>\n",
       "      <th>category</th>\n",
       "      <th>sentiment</th>\n",
       "    </tr>\n",
       "  </thead>\n",
       "  <tbody>\n",
       "    <tr>\n",
       "      <th>0</th>\n",
       "      <td>United States</td>\n",
       "      <td>1</td>\n",
       "      <td>Notifications not showing up</td>\n",
       "      <td>The notification badges are showing up on my i...</td>\n",
       "      <td>requirement</td>\n",
       "      <td>neutral</td>\n",
       "    </tr>\n",
       "  </tbody>\n",
       "</table>\n",
       "</div>"
      ],
      "text/plain": [
       "         country  score                         topic  \\\n",
       "0  United States      1  Notifications not showing up   \n",
       "\n",
       "                                              review     category sentiment  \n",
       "0  The notification badges are showing up on my i...  requirement   neutral  "
      ]
     },
     "execution_count": 6,
     "metadata": {},
     "output_type": "execute_result"
    }
   ],
   "source": [
    "l = l.rename(columns = {\n",
    "    \"category_final\": \"category\",\n",
    "    \"sentiment_final\": \"sentiment\"\n",
    "}, errors=\"raise\")\n",
    "l.head(1)"
   ]
  },
  {
   "cell_type": "markdown",
   "metadata": {},
   "source": [
    "* Remove NaN rows"
   ]
  },
  {
   "cell_type": "code",
   "execution_count": 7,
   "metadata": {},
   "outputs": [
    {
     "name": "stdout",
     "output_type": "stream",
     "text": [
      "<class 'pandas.core.frame.DataFrame'>\n",
      "Int64Index: 2795 entries, 0 to 2999\n",
      "Data columns (total 6 columns):\n",
      "country      2795 non-null object\n",
      "score        2795 non-null int64\n",
      "topic        2795 non-null object\n",
      "review       2795 non-null object\n",
      "category     2795 non-null object\n",
      "sentiment    2795 non-null object\n",
      "dtypes: int64(1), object(5)\n",
      "memory usage: 152.9+ KB\n"
     ]
    }
   ],
   "source": [
    "l = l.dropna()\n",
    "l.info()"
   ]
  },
  {
   "cell_type": "code",
   "execution_count": 8,
   "metadata": {},
   "outputs": [],
   "source": [
    "# https://docs.python.org/2/library/string.html\n",
    "import string\n",
    "import nltk\n",
    "from nltk import word_tokenize\n",
    "from nltk.stem import WordNetLemmatizer\n",
    "from nltk.corpus import stopwords\n",
    "from nltk.stem.porter import PorterStemmer\n",
    "import re"
   ]
  },
  {
   "cell_type": "code",
   "execution_count": 9,
   "metadata": {},
   "outputs": [],
   "source": [
    "def remove_punctuation(data, column):\n",
    "    \"\"\"\n",
    "    Uses string.punctuation list to remove unwarranted characeters\n",
    "    !\"#$%&\\'()*+,-./:;<=>?@[\\\\]^_`{|}~'\n",
    "    \"\"\"\n",
    "    punctuation_table = str.maketrans('', '', string.punctuation)\n",
    "    stripped = [review.translate(punctuation_table) for review in data[column]]\n",
    "    return stripped\n",
    "\n",
    "def lowercase(data, column):\n",
    "    review_arr = data[column].to_list()\n",
    "    return [review.lower() for review in review_arr]\n",
    "\n",
    "def asciionly(data, column):\n",
    "    new_reviews = []\n",
    "    for review in data[column]:\n",
    "        review = re.sub('[^A-Za-z0-9\\s]', '', review)\n",
    "        new_reviews.append(review)\n",
    "    return new_reviews\n",
    "\n",
    "def new_line_to_space(data, column):\n",
    "    new_reviews = []\n",
    "    for review in data[column]:\n",
    "        nr = review.replace('\\n', ' ')\n",
    "        nr = nr.replace('\\t', '') # remove tab as well\n",
    "        new_reviews.append(nr)\n",
    "    return new_reviews\n",
    "\n",
    "def remove_single_characters(data, column):\n",
    "    new_reviews = []\n",
    "    for review in data[column]:\n",
    "        words = review.split(\" \")\n",
    "        new_words = []\n",
    "        for index, word in enumerate(words):\n",
    "            if (len(word) > 1):\n",
    "                new_words.append(word)\n",
    "        new_review = \" \".join(word for word in new_words)\n",
    "        new_reviews.append(new_review)\n",
    "    return new_reviews\n",
    "\n",
    "def remove_non_english(data, column):\n",
    "    words = set(nltk.corpus.words.words())\n",
    "    new_reviews = []\n",
    "    for review in data[column]:\n",
    "        new_review = \" \".join(w for w in nltk.wordpunct_tokenize(review) if w.lower() in words or not w.isalpha())\n",
    "        new_reviews.append(new_review)\n",
    "    return new_reviews\n",
    "\n",
    "def remove_stopwords(data, column):\n",
    "    stop_words = stopwords.words('english')\n",
    "    new_reviews = []\n",
    "    for review in data[column]:\n",
    "        new_words = []\n",
    "        for word in review.split(\" \"):\n",
    "            if word not in stop_words:\n",
    "                new_words.append(word)\n",
    "        new_review = \" \".join(w for w in new_words)\n",
    "        new_reviews.append(new_review)  \n",
    "    return new_reviews\n",
    "\n",
    "def tokenize_words(data, column):\n",
    "    tokenized_reviews = []\n",
    "    for review in data[column]:\n",
    "        tokenized_reviews.append(word_tokenize(review))\n",
    "    return tokenized_reviews\n",
    "\n",
    "def stem(data, column):\n",
    "    porter = PorterStemmer()\n",
    "    new_reviews = []\n",
    "    for review_tokens in data[column]:\n",
    "        stemmed = [porter.stem(word) for word in review_tokens]\n",
    "        new_reviews.append(stemmed)\n",
    "    return new_reviews\n",
    "\n",
    "def lemmatize(data, column):\n",
    "    wnt = WordNetLemmatizer()\n",
    "    new_reviews = []\n",
    "    for review_tokens in data[column]:\n",
    "        lemmas = []   \n",
    "        for word in review_tokens:\n",
    "            lemma = wnt.lemmatize(word, pos='v')\n",
    "            lemmas.append(lemma)\n",
    "        new_reviews.append(lemmas)\n",
    "    return new_reviews"
   ]
  },
  {
   "cell_type": "code",
   "execution_count": 10,
   "metadata": {},
   "outputs": [],
   "source": [
    "# testing\n",
    "review = \"The notification badges are showing up on my iphone when i don't want them to and stuff I can't believe this\"\n",
    "rdi = { 'review' : [review] }\n",
    "te = pd.DataFrame(rdi)"
   ]
  },
  {
   "cell_type": "code",
   "execution_count": 11,
   "metadata": {},
   "outputs": [
    {
     "data": {
      "text/plain": [
       "['The',\n",
       " 'notification',\n",
       " 'badges',\n",
       " 'are',\n",
       " 'showing',\n",
       " 'up',\n",
       " 'on',\n",
       " 'my',\n",
       " 'iphone',\n",
       " 'when',\n",
       " 'i',\n",
       " 'do',\n",
       " \"n't\",\n",
       " 'want',\n",
       " 'them',\n",
       " 'to',\n",
       " 'and',\n",
       " 'stuff',\n",
       " 'I',\n",
       " 'ca',\n",
       " \"n't\",\n",
       " 'believe',\n",
       " 'this']"
      ]
     },
     "execution_count": 11,
     "metadata": {},
     "output_type": "execute_result"
    }
   ],
   "source": [
    "te['review'] = tokenize_words(te, 'review')\n",
    "te['review'][0]"
   ]
  },
  {
   "cell_type": "code",
   "execution_count": 12,
   "metadata": {},
   "outputs": [
    {
     "data": {
      "text/plain": [
       "list"
      ]
     },
     "execution_count": 12,
     "metadata": {},
     "output_type": "execute_result"
    }
   ],
   "source": [
    "type(te['review'][0])"
   ]
  },
  {
   "cell_type": "code",
   "execution_count": 13,
   "metadata": {},
   "outputs": [
    {
     "data": {
      "text/plain": [
       "[['The',\n",
       "  'notification',\n",
       "  'badge',\n",
       "  'be',\n",
       "  'show',\n",
       "  'up',\n",
       "  'on',\n",
       "  'my',\n",
       "  'iphone',\n",
       "  'when',\n",
       "  'i',\n",
       "  'do',\n",
       "  \"n't\",\n",
       "  'want',\n",
       "  'them',\n",
       "  'to',\n",
       "  'and',\n",
       "  'stuff',\n",
       "  'I',\n",
       "  'ca',\n",
       "  \"n't\",\n",
       "  'believe',\n",
       "  'this']]"
      ]
     },
     "execution_count": 13,
     "metadata": {},
     "output_type": "execute_result"
    }
   ],
   "source": [
    "te = lemmatize(te, 'review')\n",
    "te"
   ]
  },
  {
   "cell_type": "code",
   "execution_count": 14,
   "metadata": {},
   "outputs": [
    {
     "data": {
      "text/html": [
       "<div>\n",
       "<style scoped>\n",
       "    .dataframe tbody tr th:only-of-type {\n",
       "        vertical-align: middle;\n",
       "    }\n",
       "\n",
       "    .dataframe tbody tr th {\n",
       "        vertical-align: top;\n",
       "    }\n",
       "\n",
       "    .dataframe thead th {\n",
       "        text-align: right;\n",
       "    }\n",
       "</style>\n",
       "<table border=\"1\" class=\"dataframe\">\n",
       "  <thead>\n",
       "    <tr style=\"text-align: right;\">\n",
       "      <th></th>\n",
       "      <th>country</th>\n",
       "      <th>score</th>\n",
       "      <th>topic</th>\n",
       "      <th>review</th>\n",
       "      <th>category</th>\n",
       "      <th>sentiment</th>\n",
       "    </tr>\n",
       "  </thead>\n",
       "  <tbody>\n",
       "    <tr>\n",
       "      <th>0</th>\n",
       "      <td>United States</td>\n",
       "      <td>1</td>\n",
       "      <td>Notifications not showing up</td>\n",
       "      <td>The notification badges are showing up on my i...</td>\n",
       "      <td>requirement</td>\n",
       "      <td>neutral</td>\n",
       "    </tr>\n",
       "  </tbody>\n",
       "</table>\n",
       "</div>"
      ],
      "text/plain": [
       "         country  score                         topic  \\\n",
       "0  United States      1  Notifications not showing up   \n",
       "\n",
       "                                              review     category sentiment  \n",
       "0  The notification badges are showing up on my i...  requirement   neutral  "
      ]
     },
     "execution_count": 14,
     "metadata": {},
     "output_type": "execute_result"
    }
   ],
   "source": [
    "l.head(1)"
   ]
  },
  {
   "cell_type": "code",
   "execution_count": 15,
   "metadata": {},
   "outputs": [
    {
     "data": {
      "text/html": [
       "<div>\n",
       "<style scoped>\n",
       "    .dataframe tbody tr th:only-of-type {\n",
       "        vertical-align: middle;\n",
       "    }\n",
       "\n",
       "    .dataframe tbody tr th {\n",
       "        vertical-align: top;\n",
       "    }\n",
       "\n",
       "    .dataframe thead th {\n",
       "        text-align: right;\n",
       "    }\n",
       "</style>\n",
       "<table border=\"1\" class=\"dataframe\">\n",
       "  <thead>\n",
       "    <tr style=\"text-align: right;\">\n",
       "      <th></th>\n",
       "      <th>country</th>\n",
       "      <th>score</th>\n",
       "      <th>topic</th>\n",
       "      <th>review</th>\n",
       "      <th>category</th>\n",
       "      <th>sentiment</th>\n",
       "    </tr>\n",
       "  </thead>\n",
       "  <tbody>\n",
       "    <tr>\n",
       "      <th>0</th>\n",
       "      <td>United States</td>\n",
       "      <td>1</td>\n",
       "      <td>Notifications not showing up</td>\n",
       "      <td>The notification badges are showing up on my i...</td>\n",
       "      <td>requirement</td>\n",
       "      <td>neutral</td>\n",
       "    </tr>\n",
       "    <tr>\n",
       "      <th>1</th>\n",
       "      <td>United States</td>\n",
       "      <td>1</td>\n",
       "      <td>Hate it!</td>\n",
       "      <td>Why do they make changes we don't need? Now th...</td>\n",
       "      <td>other</td>\n",
       "      <td>very negative</td>\n",
       "    </tr>\n",
       "    <tr>\n",
       "      <th>2</th>\n",
       "      <td>Hong Kong</td>\n",
       "      <td>1</td>\n",
       "      <td>Useless function n poor experience</td>\n",
       "      <td>Story is useless n annoying to user. \\nCan't s...</td>\n",
       "      <td>other</td>\n",
       "      <td>negative</td>\n",
       "    </tr>\n",
       "    <tr>\n",
       "      <th>3</th>\n",
       "      <td>United Kingdom</td>\n",
       "      <td>1</td>\n",
       "      <td>To many updates!</td>\n",
       "      <td>This app is always having an update for someth...</td>\n",
       "      <td>requirement</td>\n",
       "      <td>negative</td>\n",
       "    </tr>\n",
       "    <tr>\n",
       "      <th>4</th>\n",
       "      <td>United Kingdom</td>\n",
       "      <td>1</td>\n",
       "      <td>Photo albums</td>\n",
       "      <td>Just spent an hour trying to upload photos and...</td>\n",
       "      <td>requirement</td>\n",
       "      <td>negative</td>\n",
       "    </tr>\n",
       "  </tbody>\n",
       "</table>\n",
       "</div>"
      ],
      "text/plain": [
       "          country  score                               topic  \\\n",
       "0   United States      1        Notifications not showing up   \n",
       "1   United States      1                            Hate it!   \n",
       "2       Hong Kong      1  Useless function n poor experience   \n",
       "3  United Kingdom      1                    To many updates!   \n",
       "4  United Kingdom      1                        Photo albums   \n",
       "\n",
       "                                              review     category  \\\n",
       "0  The notification badges are showing up on my i...  requirement   \n",
       "1  Why do they make changes we don't need? Now th...        other   \n",
       "2  Story is useless n annoying to user. \\nCan't s...        other   \n",
       "3  This app is always having an update for someth...  requirement   \n",
       "4  Just spent an hour trying to upload photos and...  requirement   \n",
       "\n",
       "       sentiment  \n",
       "0        neutral  \n",
       "1  very negative  \n",
       "2       negative  \n",
       "3       negative  \n",
       "4       negative  "
      ]
     },
     "execution_count": 15,
     "metadata": {},
     "output_type": "execute_result"
    }
   ],
   "source": [
    "norm_l = l.copy()\n",
    "norm_l.head()"
   ]
  },
  {
   "cell_type": "code",
   "execution_count": 16,
   "metadata": {},
   "outputs": [],
   "source": [
    "def normalize(data, column):\n",
    "    data[column] = lowercase(data, column)\n",
    "    data[column] = remove_punctuation(data, column)\n",
    "    data[column] = asciionly(data, column)\n",
    "    data[column] = new_line_to_space(data, column)\n",
    "    data[column] = remove_single_characters(data, column)\n",
    "    data[column] = remove_stopwords(data, column)\n",
    "    data[column] = tokenize_words(data, column)\n",
    "#     data[column] = stem(data, column)\n",
    "    data[column] = lemmatize(data, column)\n",
    "    return data[column]"
   ]
  },
  {
   "cell_type": "code",
   "execution_count": 17,
   "metadata": {},
   "outputs": [
    {
     "data": {
      "text/html": [
       "<div>\n",
       "<style scoped>\n",
       "    .dataframe tbody tr th:only-of-type {\n",
       "        vertical-align: middle;\n",
       "    }\n",
       "\n",
       "    .dataframe tbody tr th {\n",
       "        vertical-align: top;\n",
       "    }\n",
       "\n",
       "    .dataframe thead th {\n",
       "        text-align: right;\n",
       "    }\n",
       "</style>\n",
       "<table border=\"1\" class=\"dataframe\">\n",
       "  <thead>\n",
       "    <tr style=\"text-align: right;\">\n",
       "      <th></th>\n",
       "      <th>country</th>\n",
       "      <th>score</th>\n",
       "      <th>topic</th>\n",
       "      <th>review</th>\n",
       "      <th>category</th>\n",
       "      <th>sentiment</th>\n",
       "    </tr>\n",
       "  </thead>\n",
       "  <tbody>\n",
       "    <tr>\n",
       "      <th>0</th>\n",
       "      <td>United States</td>\n",
       "      <td>1</td>\n",
       "      <td>Notifications not showing up</td>\n",
       "      <td>[notification, badge, show, iphone, plus, open...</td>\n",
       "      <td>requirement</td>\n",
       "      <td>neutral</td>\n",
       "    </tr>\n",
       "  </tbody>\n",
       "</table>\n",
       "</div>"
      ],
      "text/plain": [
       "         country  score                         topic  \\\n",
       "0  United States      1  Notifications not showing up   \n",
       "\n",
       "                                              review     category sentiment  \n",
       "0  [notification, badge, show, iphone, plus, open...  requirement   neutral  "
      ]
     },
     "execution_count": 17,
     "metadata": {},
     "output_type": "execute_result"
    }
   ],
   "source": [
    "norm_l['review'] = normalize(norm_l, 'review')\n",
    "norm_l.head(1)"
   ]
  },
  {
   "cell_type": "code",
   "execution_count": 18,
   "metadata": {},
   "outputs": [
    {
     "data": {
      "text/plain": [
       "['cant', 'remove', 'reactions', 'interface', 'unusable', 'stupid']"
      ]
     },
     "execution_count": 18,
     "metadata": {},
     "output_type": "execute_result"
    }
   ],
   "source": [
    "r = norm_l['review'][321]\n",
    "r"
   ]
  },
  {
   "cell_type": "markdown",
   "metadata": {},
   "source": [
    "# CLASSIFIER TRAINING"
   ]
  },
  {
   "cell_type": "code",
   "execution_count": 136,
   "metadata": {},
   "outputs": [],
   "source": [
    "from sklearn.feature_extraction.text import CountVectorizer\n",
    "from sklearn.feature_extraction.text import TfidfVectorizer\n",
    "from sklearn.feature_extraction.text import TfidfTransformer\n",
    "\n",
    "from sklearn.preprocessing import LabelEncoder\n",
    "\n",
    "from sklearn.linear_model import LogisticRegression\n",
    "from sklearn.ensemble import RandomForestClassifier\n",
    "from sklearn.tree import DecisionTreeClassifier\n",
    "from sklearn import model_selection, naive_bayes, svm\n",
    "from sklearn.linear_model import SGDClassifier\n",
    "\n",
    "from sklearn.metrics import accuracy_score, precision_score, recall_score, f1_score\n",
    "from sklearn import metrics\n",
    "\n",
    "from sklearn.model_selection import cross_val_score"
   ]
  },
  {
   "cell_type": "code",
   "execution_count": 20,
   "metadata": {},
   "outputs": [],
   "source": [
    "def collapse_labels(labels):\n",
    "    new_labels = []\n",
    "    pos = ['positive', 'very positive', 'positve', 'postive']\n",
    "    neg = ['negative', 'very negative']\n",
    "    for label in labels:\n",
    "        label = label.lower()\n",
    "        if label in pos:\n",
    "            label = \"positive\"\n",
    "        elif label in neg:\n",
    "            label = \"negative\"\n",
    "        new_labels.append(label)\n",
    "    return pd.Series(new_labels)\n",
    "\n",
    "def stringify_reviews(reviews):\n",
    "    new_reviews = []\n",
    "    for review in reviews:\n",
    "        new_reviews.append(str(review))\n",
    "    return new_reviews"
   ]
  },
  {
   "cell_type": "markdown",
   "metadata": {},
   "source": [
    "## SENTIMENT"
   ]
  },
  {
   "cell_type": "code",
   "execution_count": 21,
   "metadata": {
    "scrolled": true
   },
   "outputs": [],
   "source": [
    "labels = collapse_labels(norm_l['sentiment'])\n",
    "reviews = stringify_reviews(norm_l['review'])"
   ]
  },
  {
   "cell_type": "code",
   "execution_count": 181,
   "metadata": {},
   "outputs": [],
   "source": [
    "from sklearn.pipeline import Pipeline\n",
    "import numpy as np\n",
    "\n",
    "tfidf_vectorizer = TfidfVectorizer(max_features=5000)\n",
    "count_vectorizer = CountVectorizer(min_df=25, ngram_range=(1,2))\n",
    "\n",
    "def train_clfs(reviews, labels, mf=5000):\n",
    "    \"\"\"\n",
    "    Encode target labels with value between 0 and n_classes-1.\n",
    "    \"\"\"\n",
    "    encoder = LabelEncoder()\n",
    "    encoded_labels = encoder.fit_transform(labels)\n",
    "    \n",
    "    \"\"\"\n",
    "    Split training and test data (70/30)\n",
    "    \"\"\"\n",
    "    X_train, X_test, y_train, y_test = model_selection.train_test_split(\n",
    "        reviews,\n",
    "        encoded_labels,\n",
    "        random_state=8,\n",
    "        train_size=0.7\n",
    "    )\n",
    "    \n",
    "    \"\"\"\n",
    "    TF-IDF\n",
    "    \"\"\"\n",
    "    tfidf_vectorizer.fit(reviews) # on the entire vocabulary\n",
    "    \n",
    "    X_train_tfidf = tfidf_vectorizer.transform(X_train)\n",
    "    X_test_tfidf = tfidf_vectorizer.transform(X_test)\n",
    "    \n",
    "    \"\"\"\n",
    "    Models\n",
    "    \"\"\"\n",
    "    nb = naive_bayes.MultinomialNB().fit(X_train_tfidf, y_train)\n",
    "    nb_y_preds = nb.predict(X_test_tfidf)\n",
    "    print_performance(\"multinomial naive bayes\",\n",
    "                     y_test, nb_y_preds)\n",
    "    \n",
    "    SVM = svm.SVC(C=1.0, kernel='linear', gamma='auto').fit(X_train_tfidf, y_train)\n",
    "    SVM_y_preds = SVM.predict(X_test_tfidf)\n",
    "    print_performance(\"svm\", y_test, SVM_y_preds)\n",
    "        \n",
    "    count_vectorizer.fit(X_train)\n",
    "    X_train_vect = count_vectorizer.transform(X_train)\n",
    "    X_test_vect = count_vectorizer.transform(X_test)\n",
    "    \n",
    "    lr = LogisticRegression(solver='liblinear', multi_class='auto').fit(X_train_vect, y_train)\n",
    "    lr_y_preds = lr.predict(X_test_vect)\n",
    "    print_performance(\"logistic regression\", y_test, lr_y_preds)\n",
    "    \n",
    "    rf = RandomForestClassifier(max_depth=50).fit(X_train_tfidf, y_train)\n",
    "    X_vect_test_tfidf = tfidf_vectorizer.transform(X_test)\n",
    "    rf_y_preds = rf.predict(X_vect_test_tfidf)\n",
    "    print_performance(\"random forest\", y_test, rf_y_preds)\n",
    "    \n",
    "    sgd = SGDClassifier(loss='hinge', penalty='l2',\n",
    "                             alpha=1e-3, random_state=42,\n",
    "                             max_iter=5, tol=None).fit(X_train_tfidf, y_train)\n",
    "    sgd_y_preds = sgd.predict(X_vect_test_tfidf)\n",
    "    print_performance(\"sgd\", y_test, sgd_y_preds)\n",
    "    \n",
    "def print_performance(title, test, predicted):\n",
    "    print(f'/\\/\\/\\/\\/ {title}')\n",
    "    print(\"Recall\\t\\t\",recall_score(test, predicted, average=\"weighted\")*100)\n",
    "    print()\n",
    "    print(\"Precision\\t\", precision_score(test, predicted, average='weighted')*100)\n",
    "    print()\n",
    "    print(\"F1\\t\\t\", f1_score(test, predicted, average='weighted')*100, \"\\n\")\n",
    "    \n",
    "\n",
    "text_clf = Pipeline([\n",
    "    ('vect', CountVectorizer()),\n",
    "    ('tfidf', TfidfTransformer()),\n",
    "    ('clf', SGDClassifier(loss='hinge', penalty='l2',\n",
    "                         alpha=1e-3, random_state=42,\n",
    "                         max_iter=8, tol=None)),\n",
    "])\n",
    "    \n",
    "def train_clfs2(reviews, labels, mf=5000):\n",
    "    encoder = LabelEncoder()\n",
    "    e_labels = encoder.fit_transform(labels)\n",
    "    \n",
    "    X_train, X_test, y_train, y_test = model_selection.train_test_split(reviews, e_labels,\n",
    "                                                                        random_state=42, train_size=0.7)\n",
    "    \n",
    "    text_clf.fit(X_train, y_train)\n",
    "    \n",
    "    y_pred = text_clf.predict(X_test)\n",
    "    print(np.mean(y_pred == y_test))\n",
    "    print(metrics.classification_report(y_test, y_pred, target_names=['positive', 'neutral', 'negative']))"
   ]
  },
  {
   "cell_type": "code",
   "execution_count": 182,
   "metadata": {},
   "outputs": [],
   "source": [
    "def get_tfidf(reviews, X_train):\n",
    "    tfidf_vectorizer.fit(reviews)\n",
    "    X_train_tfidf = tfidf_vectorizer.transform(X_train)\n",
    "    return X_train_tfidf\n",
    "    \n",
    "def get_count_vect(X_train, X_test):\n",
    "    count_vectorizer.fit(X_train)\n",
    "    X_train_vect = count_vectorizer.transform(X_train)\n",
    "    return X_train_vect"
   ]
  },
  {
   "cell_type": "code",
   "execution_count": 183,
   "metadata": {},
   "outputs": [
    {
     "name": "stdout",
     "output_type": "stream",
     "text": [
      "0.6567342073897497\n",
      "              precision    recall  f1-score   support\n",
      "\n",
      "    positive       0.64      0.63      0.63       299\n",
      "     neutral       0.55      0.47      0.50       232\n",
      "    negative       0.74      0.82      0.78       308\n",
      "\n",
      "    accuracy                           0.66       839\n",
      "   macro avg       0.64      0.64      0.64       839\n",
      "weighted avg       0.65      0.66      0.65       839\n",
      "\n"
     ]
    }
   ],
   "source": [
    "train_clfs2(reviews, labels)"
   ]
  },
  {
   "cell_type": "code",
   "execution_count": 184,
   "metadata": {},
   "outputs": [
    {
     "name": "stdout",
     "output_type": "stream",
     "text": [
      "/\\/\\/\\/\\/ multinomial naive bayes\n",
      "Recall\t\t 66.15017878426698\n",
      "\n",
      "Precision\t 66.70088015702542\n",
      "\n",
      "F1\t\t 64.49623885060626 \n",
      "\n",
      "/\\/\\/\\/\\/ svm\n",
      "Recall\t\t 67.34207389749702\n",
      "\n",
      "Precision\t 67.40061457203662\n",
      "\n",
      "F1\t\t 67.36049779767703 \n",
      "\n",
      "/\\/\\/\\/\\/ logistic regression\n",
      "Recall\t\t 61.14421930870083\n",
      "\n",
      "Precision\t 60.73714073131784\n",
      "\n",
      "F1\t\t 60.877959094766396 \n",
      "\n",
      "/\\/\\/\\/\\/ random forest\n",
      "Recall\t\t 65.07747318235995\n",
      "\n",
      "Precision\t 64.39140090253483\n",
      "\n",
      "F1\t\t 64.29030139797496 \n",
      "\n",
      "/\\/\\/\\/\\/ sgd\n",
      "Recall\t\t 67.46126340882003\n",
      "\n",
      "Precision\t 66.68513014297989\n",
      "\n",
      "F1\t\t 66.74201356098311 \n",
      "\n"
     ]
    }
   ],
   "source": [
    "train_clfs(reviews, labels)"
   ]
  },
  {
   "cell_type": "code",
   "execution_count": null,
   "metadata": {},
   "outputs": [],
   "source": [
    "# add extra features blindly\n",
    "lf = l.copy()\n",
    "lf.head(1)"
   ]
  },
  {
   "cell_type": "code",
   "execution_count": 186,
   "metadata": {},
   "outputs": [],
   "source": [
    "f_reviews = []\n",
    "\n",
    "\"\"\"\n",
    "Take the country, score, and topic field, and concatenate with the review string.\n",
    "\"\"\"\n",
    "for index, row in lf.iterrows():\n",
    "    country = str(row['country'])\n",
    "    score = str(row['score'])\n",
    "    topic = str(row['topic'])\n",
    "    review = str(row['review'])\n",
    "    features = country + \" \" + score + \" \" + topic + \" \" + review\n",
    "    f_reviews.append(features)\n",
    "    \n",
    "lf['review'] = f_reviews\n",
    "lf['review'] = normalize(lf, 'review')\n",
    "\n",
    "f_reviews = stringify_reviews(lf['review'])"
   ]
  },
  {
   "cell_type": "code",
   "execution_count": 187,
   "metadata": {},
   "outputs": [
    {
     "name": "stdout",
     "output_type": "stream",
     "text": [
      "0.6734207389749702\n",
      "              precision    recall  f1-score   support\n",
      "\n",
      "    positive       0.65      0.66      0.65       299\n",
      "     neutral       0.58      0.46      0.51       232\n",
      "    negative       0.74      0.85      0.79       308\n",
      "\n",
      "    accuracy                           0.67       839\n",
      "   macro avg       0.66      0.66      0.65       839\n",
      "weighted avg       0.66      0.67      0.67       839\n",
      "\n"
     ]
    }
   ],
   "source": [
    "train_clfs2(f_reviews, labels)"
   ]
  },
  {
   "cell_type": "code",
   "execution_count": 188,
   "metadata": {},
   "outputs": [
    {
     "name": "stdout",
     "output_type": "stream",
     "text": [
      "/\\/\\/\\/\\/ multinomial naive bayes\n",
      "Recall\t\t 67.34207389749702\n",
      "\n",
      "Precision\t 67.09115623856893\n",
      "\n",
      "F1\t\t 65.60951060580464 \n",
      "\n",
      "/\\/\\/\\/\\/ svm\n",
      "Recall\t\t 68.89153754469606\n",
      "\n",
      "Precision\t 69.14623635671052\n",
      "\n",
      "F1\t\t 69.00342921910872 \n",
      "\n",
      "/\\/\\/\\/\\/ logistic regression\n",
      "Recall\t\t 63.17044100119189\n",
      "\n",
      "Precision\t 62.88423495372807\n",
      "\n",
      "F1\t\t 62.9456187191635 \n",
      "\n",
      "/\\/\\/\\/\\/ random forest\n",
      "Recall\t\t 67.93802145411205\n",
      "\n",
      "Precision\t 67.38084277536915\n",
      "\n",
      "F1\t\t 67.44584728565385 \n",
      "\n",
      "/\\/\\/\\/\\/ sgd\n",
      "Recall\t\t 70.20262216924911\n",
      "\n",
      "Precision\t 69.5406349130178\n",
      "\n",
      "F1\t\t 69.6127972478808 \n",
      "\n"
     ]
    }
   ],
   "source": [
    "train_clfs(f_reviews, labels)"
   ]
  },
  {
   "cell_type": "markdown",
   "metadata": {},
   "source": [
    "# HYPERPARAM TUNING"
   ]
  },
  {
   "cell_type": "code",
   "execution_count": 197,
   "metadata": {},
   "outputs": [],
   "source": [
    "from sklearn.model_selection import GridSearchCV\n",
    "from sklearn import metrics\n",
    "\n",
    "parameters = {\n",
    "    'vect__ngram_range': [(1,1), (1, 2)],\n",
    "    'tfidf__use_idf': (True, False),\n",
    "    'clf__alpha': (1e-2, 1e-3),\n",
    "}\n",
    "\n",
    "gs_clf = GridSearchCV(text_clf, parameters, cv=5, n_jobs=1)"
   ]
  },
  {
   "cell_type": "code",
   "execution_count": 198,
   "metadata": {},
   "outputs": [],
   "source": [
    "encoder = LabelEncoder()\n",
    "e_labels = encoder.fit_transform(labels)\n",
    "\n",
    "X_train, X_test, y_train, y_test = model_selection.train_test_split(f_reviews, e_labels,\n",
    "                                                                    random_state=42, train_size=0.6)"
   ]
  },
  {
   "cell_type": "code",
   "execution_count": 199,
   "metadata": {},
   "outputs": [],
   "source": [
    "gs_clf = gs_clf.fit(X_train, y_train)"
   ]
  },
  {
   "cell_type": "code",
   "execution_count": 200,
   "metadata": {},
   "outputs": [
    {
     "data": {
      "text/plain": [
       "0.6696588486140725"
      ]
     },
     "execution_count": 200,
     "metadata": {},
     "output_type": "execute_result"
    }
   ],
   "source": [
    "gs_clf.best_score_"
   ]
  },
  {
   "cell_type": "code",
   "execution_count": 201,
   "metadata": {},
   "outputs": [
    {
     "name": "stdout",
     "output_type": "stream",
     "text": [
      "clf__alpha: 0.001\n",
      "tfidf__use_idf: True\n",
      "vect__ngram_range: (1, 1)\n"
     ]
    }
   ],
   "source": [
    "for param_name in sorted(parameters.keys()):\n",
    "    print(\"%s: %r\" % (param_name, gs_clf.best_params_[param_name]))"
   ]
  },
  {
   "cell_type": "markdown",
   "metadata": {},
   "source": [
    "# CROSS VALIDATION"
   ]
  },
  {
   "cell_type": "code",
   "execution_count": 202,
   "metadata": {},
   "outputs": [],
   "source": [
    "scores = cross_val_score(text_clf, f_reviews, labels, cv=5)"
   ]
  },
  {
   "cell_type": "code",
   "execution_count": 203,
   "metadata": {},
   "outputs": [
    {
     "name": "stdout",
     "output_type": "stream",
     "text": [
      "Accuracy: 0.64 (+/- 0.04)\n"
     ]
    }
   ],
   "source": [
    "print(\"Accuracy: %0.2f (+/- %0.2f)\" % (scores.mean(), scores.std() * 2))"
   ]
  },
  {
   "cell_type": "markdown",
   "metadata": {},
   "source": [
    "# CONFUSION MATRIX"
   ]
  },
  {
   "cell_type": "code",
   "execution_count": 205,
   "metadata": {},
   "outputs": [
    {
     "data": {
      "text/plain": [
       "array([[407, 109,  67],\n",
       "       [171, 241,  97],\n",
       "       [ 65,  45, 475]])"
      ]
     },
     "execution_count": 205,
     "metadata": {},
     "output_type": "execute_result"
    }
   ],
   "source": [
    "from sklearn.metrics import confusion_matrix\n",
    "from sklearn.model_selection import cross_val_predict\n",
    "y_train_pred = cross_val_predict(text_clf, X_train, y_train, cv=5)\n",
    "confusion_matrix(y_train, y_train_pred)"
   ]
  },
  {
   "cell_type": "code",
   "execution_count": null,
   "metadata": {},
   "outputs": [],
   "source": [
    "# SCIKIT-LEARN MOVIE REVIEW DATASET (SENTIMENT ANALYSIS)"
   ]
  }
 ],
 "metadata": {
  "kernelspec": {
   "display_name": "Python 3",
   "language": "python",
   "name": "python3"
  },
  "language_info": {
   "codemirror_mode": {
    "name": "ipython",
    "version": 3
   },
   "file_extension": ".py",
   "mimetype": "text/x-python",
   "name": "python",
   "nbconvert_exporter": "python",
   "pygments_lexer": "ipython3",
   "version": "3.7.5"
  }
 },
 "nbformat": 4,
 "nbformat_minor": 2
}
