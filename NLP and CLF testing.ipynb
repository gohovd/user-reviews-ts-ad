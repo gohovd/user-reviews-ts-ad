{
 "cells": [
  {
   "cell_type": "code",
   "execution_count": 1,
   "metadata": {},
   "outputs": [],
   "source": [
    "# Decides whether or not to include the language classifier portion of the notebook\n",
    "# It takes a while to train\n",
    "TRAIN_LANGUAGE_PREDICTOR = False\n",
    "SENTIMENT_CLASSES = 3"
   ]
  },
  {
   "cell_type": "code",
   "execution_count": 2,
   "metadata": {},
   "outputs": [],
   "source": [
    "import pandas as pd"
   ]
  },
  {
   "cell_type": "code",
   "execution_count": 3,
   "metadata": {},
   "outputs": [
    {
     "data": {
      "text/html": [
       "<div>\n",
       "<style scoped>\n",
       "    .dataframe tbody tr th:only-of-type {\n",
       "        vertical-align: middle;\n",
       "    }\n",
       "\n",
       "    .dataframe tbody tr th {\n",
       "        vertical-align: top;\n",
       "    }\n",
       "\n",
       "    .dataframe thead th {\n",
       "        text-align: right;\n",
       "    }\n",
       "</style>\n",
       "<table border=\"1\" class=\"dataframe\">\n",
       "  <thead>\n",
       "    <tr style=\"text-align: right;\">\n",
       "      <th></th>\n",
       "      <th>app_name</th>\n",
       "      <th>user_id</th>\n",
       "      <th>user_name</th>\n",
       "      <th>date</th>\n",
       "      <th>country</th>\n",
       "      <th>version</th>\n",
       "      <th>score</th>\n",
       "      <th>topic</th>\n",
       "      <th>review</th>\n",
       "      <th>url</th>\n",
       "      <th>review_id</th>\n",
       "      <th>category_final</th>\n",
       "      <th>sentiment_final</th>\n",
       "      <th>req_final</th>\n",
       "    </tr>\n",
       "  </thead>\n",
       "  <tbody>\n",
       "    <tr>\n",
       "      <th>52505.0</th>\n",
       "      <td>Facebook</td>\n",
       "      <td>246193109</td>\n",
       "      <td>Help is herr</td>\n",
       "      <td>2017-06-21 00:00:00</td>\n",
       "      <td>United States</td>\n",
       "      <td>97</td>\n",
       "      <td>1</td>\n",
       "      <td>Notifications not showing up</td>\n",
       "      <td>The notification badges are showing up on my i...</td>\n",
       "      <td>https://itunes.apple.com/WebObjects/MZStore.wo...</td>\n",
       "      <td>53163.0</td>\n",
       "      <td>requirement</td>\n",
       "      <td>neutral</td>\n",
       "      <td>functional</td>\n",
       "    </tr>\n",
       "  </tbody>\n",
       "</table>\n",
       "</div>"
      ],
      "text/plain": [
       "         app_name    user_id     user_name                 date  \\\n",
       "52505.0  Facebook  246193109  Help is herr  2017-06-21 00:00:00   \n",
       "\n",
       "               country version  score                         topic  \\\n",
       "52505.0  United States      97      1  Notifications not showing up   \n",
       "\n",
       "                                                    review  \\\n",
       "52505.0  The notification badges are showing up on my i...   \n",
       "\n",
       "                                                       url  review_id  \\\n",
       "52505.0  https://itunes.apple.com/WebObjects/MZStore.wo...    53163.0   \n",
       "\n",
       "        category_final sentiment_final   req_final  \n",
       "52505.0    requirement         neutral  functional  "
      ]
     },
     "execution_count": 3,
     "metadata": {},
     "output_type": "execute_result"
    }
   ],
   "source": [
    "l_raw = pd.read_excel(\"data/LData.xlsx\", index_col='Unnamed: 0')\n",
    "l_raw.head(1)"
   ]
  },
  {
   "cell_type": "code",
   "execution_count": 4,
   "metadata": {},
   "outputs": [
    {
     "name": "stdout",
     "output_type": "stream",
     "text": [
      "<class 'pandas.core.frame.DataFrame'>\n",
      "Float64Index: 3000 entries, 52505.0 to 45413.0\n",
      "Data columns (total 14 columns):\n",
      "app_name           3000 non-null object\n",
      "user_id            3000 non-null object\n",
      "user_name          2993 non-null object\n",
      "date               3000 non-null object\n",
      "country            3000 non-null object\n",
      "version            3000 non-null object\n",
      "score              3000 non-null int64\n",
      "topic              2994 non-null object\n",
      "review             2996 non-null object\n",
      "url                2850 non-null object\n",
      "review_id          2850 non-null float64\n",
      "category_final     3000 non-null object\n",
      "sentiment_final    2796 non-null object\n",
      "req_final          1081 non-null object\n",
      "dtypes: float64(1), int64(1), object(12)\n",
      "memory usage: 351.6+ KB\n"
     ]
    }
   ],
   "source": [
    "l_raw.info()\n",
    "la = l_raw"
   ]
  },
  {
   "cell_type": "markdown",
   "metadata": {},
   "source": [
    "# DATA CLEANING"
   ]
  },
  {
   "cell_type": "markdown",
   "metadata": {},
   "source": [
    "* Reindex"
   ]
  },
  {
   "cell_type": "code",
   "execution_count": 5,
   "metadata": {},
   "outputs": [
    {
     "data": {
      "text/html": [
       "<div>\n",
       "<style scoped>\n",
       "    .dataframe tbody tr th:only-of-type {\n",
       "        vertical-align: middle;\n",
       "    }\n",
       "\n",
       "    .dataframe tbody tr th {\n",
       "        vertical-align: top;\n",
       "    }\n",
       "\n",
       "    .dataframe thead th {\n",
       "        text-align: right;\n",
       "    }\n",
       "</style>\n",
       "<table border=\"1\" class=\"dataframe\">\n",
       "  <thead>\n",
       "    <tr style=\"text-align: right;\">\n",
       "      <th></th>\n",
       "      <th>app_name</th>\n",
       "      <th>user_id</th>\n",
       "      <th>user_name</th>\n",
       "      <th>date</th>\n",
       "      <th>country</th>\n",
       "      <th>version</th>\n",
       "      <th>score</th>\n",
       "      <th>topic</th>\n",
       "      <th>review</th>\n",
       "      <th>url</th>\n",
       "      <th>review_id</th>\n",
       "      <th>category_final</th>\n",
       "      <th>sentiment_final</th>\n",
       "      <th>req_final</th>\n",
       "    </tr>\n",
       "  </thead>\n",
       "  <tbody>\n",
       "    <tr>\n",
       "      <th>0</th>\n",
       "      <td>Facebook</td>\n",
       "      <td>246193109</td>\n",
       "      <td>Help is herr</td>\n",
       "      <td>2017-06-21 00:00:00</td>\n",
       "      <td>United States</td>\n",
       "      <td>97</td>\n",
       "      <td>1</td>\n",
       "      <td>Notifications not showing up</td>\n",
       "      <td>The notification badges are showing up on my i...</td>\n",
       "      <td>https://itunes.apple.com/WebObjects/MZStore.wo...</td>\n",
       "      <td>53163.0</td>\n",
       "      <td>requirement</td>\n",
       "      <td>neutral</td>\n",
       "      <td>functional</td>\n",
       "    </tr>\n",
       "    <tr>\n",
       "      <th>1</th>\n",
       "      <td>Facebook</td>\n",
       "      <td>43034279</td>\n",
       "      <td>javamdnss</td>\n",
       "      <td>2017-06-16 00:00:00</td>\n",
       "      <td>United States</td>\n",
       "      <td>97</td>\n",
       "      <td>1</td>\n",
       "      <td>Hate it!</td>\n",
       "      <td>Why do they make changes we don't need? Now th...</td>\n",
       "      <td>https://itunes.apple.com/WebObjects/MZStore.wo...</td>\n",
       "      <td>53905.0</td>\n",
       "      <td>other</td>\n",
       "      <td>very negative</td>\n",
       "      <td>NaN</td>\n",
       "    </tr>\n",
       "    <tr>\n",
       "      <th>2</th>\n",
       "      <td>Facebook</td>\n",
       "      <td>496978255</td>\n",
       "      <td>NaN</td>\n",
       "      <td>2017-05-27 00:00:00</td>\n",
       "      <td>Hong Kong</td>\n",
       "      <td>94</td>\n",
       "      <td>1</td>\n",
       "      <td>Useless function n poor experience</td>\n",
       "      <td>Story is useless n annoying to user. \\nCan't s...</td>\n",
       "      <td>https://itunes.apple.com/WebObjects/MZStore.wo...</td>\n",
       "      <td>47401.0</td>\n",
       "      <td>other</td>\n",
       "      <td>negative</td>\n",
       "      <td>NaN</td>\n",
       "    </tr>\n",
       "    <tr>\n",
       "      <th>3</th>\n",
       "      <td>Facebook</td>\n",
       "      <td>139595037</td>\n",
       "      <td>Gilbertiggy</td>\n",
       "      <td>2017-05-26 00:00:00</td>\n",
       "      <td>United Kingdom</td>\n",
       "      <td>94</td>\n",
       "      <td>1</td>\n",
       "      <td>To many updates!</td>\n",
       "      <td>This app is always having an update for someth...</td>\n",
       "      <td>https://itunes.apple.com/WebObjects/MZStore.wo...</td>\n",
       "      <td>42233.0</td>\n",
       "      <td>requirement</td>\n",
       "      <td>negative</td>\n",
       "      <td>functional</td>\n",
       "    </tr>\n",
       "    <tr>\n",
       "      <th>4</th>\n",
       "      <td>Facebook</td>\n",
       "      <td>180832062</td>\n",
       "      <td>Princess Lou 24</td>\n",
       "      <td>2017-06-01 00:00:00</td>\n",
       "      <td>United Kingdom</td>\n",
       "      <td>94</td>\n",
       "      <td>1</td>\n",
       "      <td>Photo albums</td>\n",
       "      <td>Just spent an hour trying to upload photos and...</td>\n",
       "      <td>https://itunes.apple.com/WebObjects/MZStore.wo...</td>\n",
       "      <td>42066.0</td>\n",
       "      <td>requirement</td>\n",
       "      <td>negative</td>\n",
       "      <td>non-functional</td>\n",
       "    </tr>\n",
       "  </tbody>\n",
       "</table>\n",
       "</div>"
      ],
      "text/plain": [
       "   app_name    user_id        user_name                 date         country  \\\n",
       "0  Facebook  246193109     Help is herr  2017-06-21 00:00:00   United States   \n",
       "1  Facebook   43034279        javamdnss  2017-06-16 00:00:00   United States   \n",
       "2  Facebook  496978255              NaN  2017-05-27 00:00:00       Hong Kong   \n",
       "3  Facebook  139595037      Gilbertiggy  2017-05-26 00:00:00  United Kingdom   \n",
       "4  Facebook  180832062  Princess Lou 24  2017-06-01 00:00:00  United Kingdom   \n",
       "\n",
       "  version  score                               topic  \\\n",
       "0      97      1        Notifications not showing up   \n",
       "1      97      1                            Hate it!   \n",
       "2      94      1  Useless function n poor experience   \n",
       "3      94      1                    To many updates!   \n",
       "4      94      1                        Photo albums   \n",
       "\n",
       "                                              review  \\\n",
       "0  The notification badges are showing up on my i...   \n",
       "1  Why do they make changes we don't need? Now th...   \n",
       "2  Story is useless n annoying to user. \\nCan't s...   \n",
       "3  This app is always having an update for someth...   \n",
       "4  Just spent an hour trying to upload photos and...   \n",
       "\n",
       "                                                 url  review_id  \\\n",
       "0  https://itunes.apple.com/WebObjects/MZStore.wo...    53163.0   \n",
       "1  https://itunes.apple.com/WebObjects/MZStore.wo...    53905.0   \n",
       "2  https://itunes.apple.com/WebObjects/MZStore.wo...    47401.0   \n",
       "3  https://itunes.apple.com/WebObjects/MZStore.wo...    42233.0   \n",
       "4  https://itunes.apple.com/WebObjects/MZStore.wo...    42066.0   \n",
       "\n",
       "  category_final sentiment_final       req_final  \n",
       "0    requirement         neutral      functional  \n",
       "1          other   very negative             NaN  \n",
       "2          other        negative             NaN  \n",
       "3    requirement        negative      functional  \n",
       "4    requirement        negative  non-functional  "
      ]
     },
     "execution_count": 5,
     "metadata": {},
     "output_type": "execute_result"
    }
   ],
   "source": [
    "la = la.reset_index(drop=True)\n",
    "la.head()"
   ]
  },
  {
   "cell_type": "markdown",
   "metadata": {},
   "source": [
    "* Drop unneccessary columns"
   ]
  },
  {
   "cell_type": "code",
   "execution_count": 6,
   "metadata": {},
   "outputs": [
    {
     "data": {
      "text/html": [
       "<div>\n",
       "<style scoped>\n",
       "    .dataframe tbody tr th:only-of-type {\n",
       "        vertical-align: middle;\n",
       "    }\n",
       "\n",
       "    .dataframe tbody tr th {\n",
       "        vertical-align: top;\n",
       "    }\n",
       "\n",
       "    .dataframe thead th {\n",
       "        text-align: right;\n",
       "    }\n",
       "</style>\n",
       "<table border=\"1\" class=\"dataframe\">\n",
       "  <thead>\n",
       "    <tr style=\"text-align: right;\">\n",
       "      <th></th>\n",
       "      <th>country</th>\n",
       "      <th>score</th>\n",
       "      <th>topic</th>\n",
       "      <th>review</th>\n",
       "      <th>category_final</th>\n",
       "      <th>sentiment_final</th>\n",
       "    </tr>\n",
       "  </thead>\n",
       "  <tbody>\n",
       "    <tr>\n",
       "      <th>0</th>\n",
       "      <td>United States</td>\n",
       "      <td>1</td>\n",
       "      <td>Notifications not showing up</td>\n",
       "      <td>The notification badges are showing up on my i...</td>\n",
       "      <td>requirement</td>\n",
       "      <td>neutral</td>\n",
       "    </tr>\n",
       "  </tbody>\n",
       "</table>\n",
       "</div>"
      ],
      "text/plain": [
       "         country  score                         topic  \\\n",
       "0  United States      1  Notifications not showing up   \n",
       "\n",
       "                                              review category_final  \\\n",
       "0  The notification badges are showing up on my i...    requirement   \n",
       "\n",
       "  sentiment_final  \n",
       "0         neutral  "
      ]
     },
     "execution_count": 6,
     "metadata": {},
     "output_type": "execute_result"
    }
   ],
   "source": [
    "la = la.drop(['user_id', 'url', 'review_id', 'version', 'user_name', 'app_name', 'date', 'req_final'], axis=1)\n",
    "la.head(1)"
   ]
  },
  {
   "cell_type": "markdown",
   "metadata": {},
   "source": [
    "* Rename label columns"
   ]
  },
  {
   "cell_type": "code",
   "execution_count": 7,
   "metadata": {},
   "outputs": [
    {
     "data": {
      "text/html": [
       "<div>\n",
       "<style scoped>\n",
       "    .dataframe tbody tr th:only-of-type {\n",
       "        vertical-align: middle;\n",
       "    }\n",
       "\n",
       "    .dataframe tbody tr th {\n",
       "        vertical-align: top;\n",
       "    }\n",
       "\n",
       "    .dataframe thead th {\n",
       "        text-align: right;\n",
       "    }\n",
       "</style>\n",
       "<table border=\"1\" class=\"dataframe\">\n",
       "  <thead>\n",
       "    <tr style=\"text-align: right;\">\n",
       "      <th></th>\n",
       "      <th>country</th>\n",
       "      <th>score</th>\n",
       "      <th>topic</th>\n",
       "      <th>review</th>\n",
       "      <th>category</th>\n",
       "      <th>sentiment</th>\n",
       "    </tr>\n",
       "  </thead>\n",
       "  <tbody>\n",
       "    <tr>\n",
       "      <th>0</th>\n",
       "      <td>United States</td>\n",
       "      <td>1</td>\n",
       "      <td>Notifications not showing up</td>\n",
       "      <td>The notification badges are showing up on my i...</td>\n",
       "      <td>requirement</td>\n",
       "      <td>neutral</td>\n",
       "    </tr>\n",
       "  </tbody>\n",
       "</table>\n",
       "</div>"
      ],
      "text/plain": [
       "         country  score                         topic  \\\n",
       "0  United States      1  Notifications not showing up   \n",
       "\n",
       "                                              review     category sentiment  \n",
       "0  The notification badges are showing up on my i...  requirement   neutral  "
      ]
     },
     "execution_count": 7,
     "metadata": {},
     "output_type": "execute_result"
    }
   ],
   "source": [
    "la = la.rename(columns = {\n",
    "    \"category_final\": \"category\",\n",
    "    \"sentiment_final\": \"sentiment\"\n",
    "}, errors=\"raise\")\n",
    "la.head(1)"
   ]
  },
  {
   "cell_type": "markdown",
   "metadata": {},
   "source": [
    "* Remove NaN rows"
   ]
  },
  {
   "cell_type": "code",
   "execution_count": 8,
   "metadata": {},
   "outputs": [
    {
     "name": "stdout",
     "output_type": "stream",
     "text": [
      "<class 'pandas.core.frame.DataFrame'>\n",
      "Int64Index: 2795 entries, 0 to 2999\n",
      "Data columns (total 6 columns):\n",
      "country      2795 non-null object\n",
      "score        2795 non-null int64\n",
      "topic        2795 non-null object\n",
      "review       2795 non-null object\n",
      "category     2795 non-null object\n",
      "sentiment    2795 non-null object\n",
      "dtypes: int64(1), object(5)\n",
      "memory usage: 152.9+ KB\n"
     ]
    }
   ],
   "source": [
    "# l = l[l['review'].notna()] # take the rows that are not NaN\n",
    "la = la.dropna() # remove any row with at least one value missing NaN\n",
    "la.info()"
   ]
  },
  {
   "cell_type": "code",
   "execution_count": 9,
   "metadata": {},
   "outputs": [],
   "source": [
    "# https://docs.python.org/2/library/string.html\n",
    "import string\n",
    "import nltk\n",
    "from nltk import word_tokenize\n",
    "from nltk.stem import WordNetLemmatizer\n",
    "from nltk.corpus import stopwords\n",
    "from nltk.stem.porter import PorterStemmer\n",
    "import re"
   ]
  },
  {
   "cell_type": "code",
   "execution_count": 10,
   "metadata": {},
   "outputs": [],
   "source": [
    "def remove_punctuation(data, column):\n",
    "    \"\"\"\n",
    "    Uses string.punctuation list to remove unwarranted characeters\n",
    "    !\"#$%&\\'()*+,-./:;<=>?@[\\\\]^_`{|}~'\n",
    "    \"\"\"\n",
    "    punctuation_table = str.maketrans('', '', string.punctuation)\n",
    "    stripped = [review.translate(punctuation_table) for review in data[column]]\n",
    "    return stripped\n",
    "\n",
    "def lowercase(data, column):\n",
    "    review_arr = data[column].to_list()\n",
    "    return [review.lower() for review in review_arr]\n",
    "\n",
    "def asciionly(data, column):\n",
    "    new_reviews = []\n",
    "    for review in data[column]:\n",
    "        review = re.sub('[^A-Za-z0-9\\s]', '', review)\n",
    "        new_reviews.append(review)\n",
    "    return new_reviews\n",
    "\n",
    "def new_line_to_space(data, column):\n",
    "    new_reviews = []\n",
    "    for review in data[column]:\n",
    "        nr = review.replace('\\n', ' ')\n",
    "        nr = nr.replace('\\t', '') # remove tab as well\n",
    "        new_reviews.append(nr)\n",
    "    return new_reviews\n",
    "\n",
    "def remove_single_characters(data, column):\n",
    "    new_reviews = []\n",
    "    for review in data[column]:\n",
    "        words = review.split(\" \")\n",
    "        new_words = []\n",
    "        for index, word in enumerate(words):\n",
    "            if (len(word) > 1):\n",
    "                new_words.append(word)\n",
    "        new_review = \" \".join(word for word in new_words)\n",
    "        new_reviews.append(new_review)\n",
    "    return new_reviews\n",
    "\n",
    "def remove_stopwords(data, column):\n",
    "    stop_words = set(stopwords.words('english')) - {'doing','having','because','into','against','over','under','why','no','not','only','same','just','should','now'}\n",
    "    new_reviews = []\n",
    "    for review in data[column]:\n",
    "        new_words = []\n",
    "        for word in review.split(\" \"):\n",
    "            if word not in stop_words:\n",
    "                new_words.append(word)\n",
    "        new_review = \" \".join(w for w in new_words)\n",
    "        new_reviews.append(new_review)  \n",
    "    return new_reviews\n",
    "\n",
    "def tokenize_words(data, column):\n",
    "    tokenized_reviews = []\n",
    "    for review in data[column]:\n",
    "        tokenized_reviews.append(word_tokenize(review))\n",
    "    return tokenized_reviews\n",
    "\n",
    "def stem(data, column):\n",
    "    porter = PorterStemmer()\n",
    "    new_reviews = []\n",
    "    for review_tokens in data[column]:\n",
    "        stemmed = [porter.stem(word) for word in review_tokens]\n",
    "        new_reviews.append(stemmed)\n",
    "    return new_reviews\n",
    "\n",
    "def lemmatize(data, column):\n",
    "    wnt = WordNetLemmatizer()\n",
    "    new_reviews = []\n",
    "    for review_tokens in data[column]:\n",
    "        lemmas = []   \n",
    "        for word in review_tokens:\n",
    "            lemma = wnt.lemmatize(word, pos='v')\n",
    "            lemmas.append(lemma)\n",
    "        new_reviews.append(lemmas)\n",
    "    return new_reviews"
   ]
  },
  {
   "cell_type": "code",
   "execution_count": 11,
   "metadata": {},
   "outputs": [
    {
     "data": {
      "text/html": [
       "<div>\n",
       "<style scoped>\n",
       "    .dataframe tbody tr th:only-of-type {\n",
       "        vertical-align: middle;\n",
       "    }\n",
       "\n",
       "    .dataframe tbody tr th {\n",
       "        vertical-align: top;\n",
       "    }\n",
       "\n",
       "    .dataframe thead th {\n",
       "        text-align: right;\n",
       "    }\n",
       "</style>\n",
       "<table border=\"1\" class=\"dataframe\">\n",
       "  <thead>\n",
       "    <tr style=\"text-align: right;\">\n",
       "      <th></th>\n",
       "      <th>country</th>\n",
       "      <th>score</th>\n",
       "      <th>topic</th>\n",
       "      <th>review</th>\n",
       "      <th>category</th>\n",
       "      <th>sentiment</th>\n",
       "    </tr>\n",
       "  </thead>\n",
       "  <tbody>\n",
       "    <tr>\n",
       "      <th>0</th>\n",
       "      <td>United States</td>\n",
       "      <td>1</td>\n",
       "      <td>Notifications not showing up</td>\n",
       "      <td>The notification badges are showing up on my i...</td>\n",
       "      <td>requirement</td>\n",
       "      <td>neutral</td>\n",
       "    </tr>\n",
       "  </tbody>\n",
       "</table>\n",
       "</div>"
      ],
      "text/plain": [
       "         country  score                         topic  \\\n",
       "0  United States      1  Notifications not showing up   \n",
       "\n",
       "                                              review     category sentiment  \n",
       "0  The notification badges are showing up on my i...  requirement   neutral  "
      ]
     },
     "execution_count": 11,
     "metadata": {},
     "output_type": "execute_result"
    }
   ],
   "source": [
    "la.head(1)"
   ]
  },
  {
   "cell_type": "code",
   "execution_count": 12,
   "metadata": {},
   "outputs": [
    {
     "data": {
      "text/html": [
       "<div>\n",
       "<style scoped>\n",
       "    .dataframe tbody tr th:only-of-type {\n",
       "        vertical-align: middle;\n",
       "    }\n",
       "\n",
       "    .dataframe tbody tr th {\n",
       "        vertical-align: top;\n",
       "    }\n",
       "\n",
       "    .dataframe thead th {\n",
       "        text-align: right;\n",
       "    }\n",
       "</style>\n",
       "<table border=\"1\" class=\"dataframe\">\n",
       "  <thead>\n",
       "    <tr style=\"text-align: right;\">\n",
       "      <th></th>\n",
       "      <th>country</th>\n",
       "      <th>score</th>\n",
       "      <th>topic</th>\n",
       "      <th>review</th>\n",
       "      <th>category</th>\n",
       "      <th>sentiment</th>\n",
       "    </tr>\n",
       "  </thead>\n",
       "  <tbody>\n",
       "    <tr>\n",
       "      <th>0</th>\n",
       "      <td>United States</td>\n",
       "      <td>1</td>\n",
       "      <td>Notifications not showing up</td>\n",
       "      <td>The notification badges are showing up on my i...</td>\n",
       "      <td>requirement</td>\n",
       "      <td>neutral</td>\n",
       "    </tr>\n",
       "    <tr>\n",
       "      <th>1</th>\n",
       "      <td>United States</td>\n",
       "      <td>1</td>\n",
       "      <td>Hate it!</td>\n",
       "      <td>Why do they make changes we don't need? Now th...</td>\n",
       "      <td>other</td>\n",
       "      <td>very negative</td>\n",
       "    </tr>\n",
       "    <tr>\n",
       "      <th>2</th>\n",
       "      <td>Hong Kong</td>\n",
       "      <td>1</td>\n",
       "      <td>Useless function n poor experience</td>\n",
       "      <td>Story is useless n annoying to user. \\nCan't s...</td>\n",
       "      <td>other</td>\n",
       "      <td>negative</td>\n",
       "    </tr>\n",
       "    <tr>\n",
       "      <th>3</th>\n",
       "      <td>United Kingdom</td>\n",
       "      <td>1</td>\n",
       "      <td>To many updates!</td>\n",
       "      <td>This app is always having an update for someth...</td>\n",
       "      <td>requirement</td>\n",
       "      <td>negative</td>\n",
       "    </tr>\n",
       "    <tr>\n",
       "      <th>4</th>\n",
       "      <td>United Kingdom</td>\n",
       "      <td>1</td>\n",
       "      <td>Photo albums</td>\n",
       "      <td>Just spent an hour trying to upload photos and...</td>\n",
       "      <td>requirement</td>\n",
       "      <td>negative</td>\n",
       "    </tr>\n",
       "  </tbody>\n",
       "</table>\n",
       "</div>"
      ],
      "text/plain": [
       "          country  score                               topic  \\\n",
       "0   United States      1        Notifications not showing up   \n",
       "1   United States      1                            Hate it!   \n",
       "2       Hong Kong      1  Useless function n poor experience   \n",
       "3  United Kingdom      1                    To many updates!   \n",
       "4  United Kingdom      1                        Photo albums   \n",
       "\n",
       "                                              review     category  \\\n",
       "0  The notification badges are showing up on my i...  requirement   \n",
       "1  Why do they make changes we don't need? Now th...        other   \n",
       "2  Story is useless n annoying to user. \\nCan't s...        other   \n",
       "3  This app is always having an update for someth...  requirement   \n",
       "4  Just spent an hour trying to upload photos and...  requirement   \n",
       "\n",
       "       sentiment  \n",
       "0        neutral  \n",
       "1  very negative  \n",
       "2       negative  \n",
       "3       negative  \n",
       "4       negative  "
      ]
     },
     "execution_count": 12,
     "metadata": {},
     "output_type": "execute_result"
    }
   ],
   "source": [
    "norm_l = la.copy()\n",
    "norm_l.head()"
   ]
  },
  {
   "cell_type": "code",
   "execution_count": 13,
   "metadata": {},
   "outputs": [],
   "source": [
    "def normalize(data, column):\n",
    "    data[column] = lowercase(data, column)\n",
    "    data[column] = remove_punctuation(data, column)\n",
    "    data[column] = asciionly(data, column)\n",
    "    data[column] = new_line_to_space(data, column)\n",
    "    data[column] = remove_single_characters(data, column)\n",
    "    data[column] = remove_stopwords(data, column)\n",
    "    data[column] = tokenize_words(data, column)\n",
    "#     data[column] = stem(data, column)\n",
    "    data[column] = lemmatize(data, column)\n",
    "    return data[column]"
   ]
  },
  {
   "cell_type": "code",
   "execution_count": 14,
   "metadata": {},
   "outputs": [
    {
     "data": {
      "text/html": [
       "<div>\n",
       "<style scoped>\n",
       "    .dataframe tbody tr th:only-of-type {\n",
       "        vertical-align: middle;\n",
       "    }\n",
       "\n",
       "    .dataframe tbody tr th {\n",
       "        vertical-align: top;\n",
       "    }\n",
       "\n",
       "    .dataframe thead th {\n",
       "        text-align: right;\n",
       "    }\n",
       "</style>\n",
       "<table border=\"1\" class=\"dataframe\">\n",
       "  <thead>\n",
       "    <tr style=\"text-align: right;\">\n",
       "      <th></th>\n",
       "      <th>country</th>\n",
       "      <th>score</th>\n",
       "      <th>topic</th>\n",
       "      <th>review</th>\n",
       "      <th>category</th>\n",
       "      <th>sentiment</th>\n",
       "    </tr>\n",
       "  </thead>\n",
       "  <tbody>\n",
       "    <tr>\n",
       "      <th>0</th>\n",
       "      <td>United States</td>\n",
       "      <td>1</td>\n",
       "      <td>Notifications not showing up</td>\n",
       "      <td>[notification, badge, show, iphone, plus, open...</td>\n",
       "      <td>requirement</td>\n",
       "      <td>neutral</td>\n",
       "    </tr>\n",
       "  </tbody>\n",
       "</table>\n",
       "</div>"
      ],
      "text/plain": [
       "         country  score                         topic  \\\n",
       "0  United States      1  Notifications not showing up   \n",
       "\n",
       "                                              review     category sentiment  \n",
       "0  [notification, badge, show, iphone, plus, open...  requirement   neutral  "
      ]
     },
     "execution_count": 14,
     "metadata": {},
     "output_type": "execute_result"
    }
   ],
   "source": [
    "norm_l['review'] = normalize(norm_l, 'review')\n",
    "norm_l.head(1)"
   ]
  },
  {
   "cell_type": "code",
   "execution_count": 15,
   "metadata": {},
   "outputs": [
    {
     "data": {
      "text/plain": [
       "['cant', 'remove', 'reactions', 'interface', 'unusable', 'stupid']"
      ]
     },
     "execution_count": 15,
     "metadata": {},
     "output_type": "execute_result"
    }
   ],
   "source": [
    "r = norm_l['review'][321]\n",
    "r"
   ]
  },
  {
   "cell_type": "markdown",
   "metadata": {},
   "source": [
    "# CLASSIFIER TRAINING"
   ]
  },
  {
   "cell_type": "code",
   "execution_count": 16,
   "metadata": {},
   "outputs": [],
   "source": [
    "from sklearn.feature_extraction.text import CountVectorizer\n",
    "from sklearn.feature_extraction.text import TfidfVectorizer\n",
    "from sklearn.feature_extraction.text import TfidfTransformer\n",
    "\n",
    "from sklearn.preprocessing import LabelEncoder\n",
    "\n",
    "from sklearn.linear_model import LogisticRegression\n",
    "from sklearn.ensemble import RandomForestClassifier\n",
    "from sklearn.tree import DecisionTreeClassifier\n",
    "from sklearn import model_selection, naive_bayes, svm\n",
    "from sklearn.linear_model import SGDClassifier\n",
    "\n",
    "from sklearn.metrics import accuracy_score, precision_score, recall_score, f1_score\n",
    "from sklearn import metrics\n",
    "\n",
    "from sklearn.model_selection import cross_val_score"
   ]
  },
  {
   "cell_type": "code",
   "execution_count": 17,
   "metadata": {},
   "outputs": [],
   "source": [
    "def collapse_sentiment_labels(labels):\n",
    "    if SENTIMENT_CLASSES == 3:\n",
    "        pos = ['positive', 'positve', 'postive', 'very positive']\n",
    "        neg = ['negative', 'very negative']\n",
    "        neu = ['neutral']\n",
    "        \n",
    "    elif SENTIMENT_CLASSES == 5:\n",
    "        pos = ['positive', 'positve', 'postive']\n",
    "        neg = ['negative']\n",
    "        neu = ['neutral']\n",
    "    \n",
    "    new_labels = []\n",
    "\n",
    "    for label in labels:\n",
    "        label = label.lower()\n",
    "        if label in pos:\n",
    "            label = \"positive\"\n",
    "        elif label in neg:\n",
    "            label = \"negative\"\n",
    "        elif label in neu:\n",
    "            label = \"neutral\"\n",
    "        new_labels.append(label)\n",
    "    return pd.Series(new_labels)\n",
    "\n",
    "def collapse_category_labels(labels):\n",
    "    new_labels = []\n",
    "    req = ['requirement', 'Requirement']\n",
    "    oth = ['Other', 'other']\n",
    "    bug = ['bug report', 'Bug report']\n",
    "    for label in labels:\n",
    "        label = label.lower()\n",
    "        if label in req:\n",
    "            new_labels.append('requirement')\n",
    "        elif label in oth:\n",
    "            new_labels.append('other')\n",
    "        elif label in bug:\n",
    "            new_labels.append('bug report')\n",
    "    return pd.Series(new_labels)\n",
    "\n",
    "def stringify_reviews(reviews):\n",
    "    new_reviews = []\n",
    "    for review in reviews:\n",
    "        new_reviews.append(str(review))\n",
    "    return new_reviews"
   ]
  },
  {
   "cell_type": "code",
   "execution_count": 18,
   "metadata": {},
   "outputs": [],
   "source": [
    "from sklearn.pipeline import Pipeline\n",
    "import numpy as np\n",
    "\n",
    "def train_clfs(reviews, labels, mf=5000):\n",
    "    \"\"\"\n",
    "    Encode target labels with value between 0 and n_classes-1.\n",
    "    \"\"\"\n",
    "    encoder = LabelEncoder()\n",
    "    encoded_labels = encoder.fit_transform(labels)\n",
    "    \n",
    "    \"\"\"\n",
    "    Split training and test data (70/30)\n",
    "    \"\"\"\n",
    "    X_train, X_test, y_train, y_test = model_selection.train_test_split(\n",
    "        reviews,\n",
    "        encoded_labels,\n",
    "        random_state=8,\n",
    "        train_size=0.7\n",
    "    )\n",
    "    \n",
    "    \"\"\"\n",
    "    TF-IDF\n",
    "    \"\"\"\n",
    "    tfidf_vectorizer = TfidfVectorizer(max_features=5000)\n",
    "    tfidf_vectorizer.fit(reviews) # on the entire vocabulary\n",
    "    \n",
    "    X_train_tfidf = tfidf_vectorizer.transform(X_train)\n",
    "    X_test_tfidf = tfidf_vectorizer.transform(X_test)\n",
    "    \n",
    "    \"\"\"\n",
    "    Models\n",
    "    \"\"\"\n",
    "    nb = naive_bayes.MultinomialNB().fit(X_train_tfidf, y_train)\n",
    "    nb_y_preds = nb.predict(X_test_tfidf)\n",
    "    print_performance(\"multinomial naive bayes\",\n",
    "                     y_test, nb_y_preds)\n",
    "    \n",
    "    SVM = svm.SVC(C=1.0, kernel='linear', gamma='auto').fit(X_train_tfidf, y_train)\n",
    "    SVM_y_preds = SVM.predict(X_test_tfidf)\n",
    "    print_performance(\"linear svm\", y_test, SVM_y_preds)\n",
    "\n",
    "    count_vectorizer = CountVectorizer(min_df=25, ngram_range=(1,2))\n",
    "    count_vectorizer.fit(X_train)\n",
    "    X_train_vect = count_vectorizer.transform(X_train)\n",
    "    X_test_vect = count_vectorizer.transform(X_test)\n",
    "    \n",
    "    lr = LogisticRegression(solver='liblinear', multi_class='auto').fit(X_train_vect, y_train)\n",
    "    lr_y_preds = lr.predict(X_test_vect)\n",
    "    print_performance(\"logistic regression\", y_test, lr_y_preds)\n",
    "    \n",
    "    rf = RandomForestClassifier(max_depth=50).fit(X_train_tfidf, y_train)\n",
    "    X_vect_test_tfidf = tfidf_vectorizer.transform(X_test)\n",
    "    rf_y_preds = rf.predict(X_vect_test_tfidf)\n",
    "    print_performance(\"random forest\", y_test, rf_y_preds)\n",
    "    \n",
    "    sgd = SGDClassifier(loss='hinge', penalty='l2',\n",
    "                             alpha=1e-3, random_state=42,\n",
    "                             max_iter=5, tol=None).fit(X_train_tfidf, y_train)\n",
    "    sgd_y_preds = sgd.predict(X_vect_test_tfidf)\n",
    "    print_performance(\"linear svm, sgd training\", y_test, sgd_y_preds)\n",
    "    \n",
    "def print_performance(title, test, predicted):\n",
    "    print(f'/\\/\\/\\/\\/ {title}')\n",
    "    print(\"Recall\\t\\t\",recall_score(test, predicted, average=\"weighted\")*100)\n",
    "    print()\n",
    "    print(\"Precision\\t\", precision_score(test, predicted, average='weighted')*100)\n",
    "    print()\n",
    "    print(\"F1\\t\\t\", f1_score(test, predicted, average='weighted')*100, \"\\n\")\n",
    "    \n",
    "    \n",
    "def train_sgd(reviews, labels):\n",
    "    text_clf = Pipeline([\n",
    "        ('vect', CountVectorizer(min_df=25, ngram_range=(1,2))),\n",
    "        ('tfidf', TfidfTransformer()),\n",
    "        ('clf', SGDClassifier(loss='hinge', penalty='l2',\n",
    "                             alpha=1e-3, random_state=42,\n",
    "                             max_iter=8, tol=None)),\n",
    "    ])\n",
    "    encoder = LabelEncoder()\n",
    "    e_labels = encoder.fit_transform(labels)\n",
    "    print(f\"SGD classifier trained with labels: {labels.unique()}\")\n",
    "    \n",
    "    X_train, X_test, y_train, y_test = model_selection.train_test_split(reviews, e_labels,\n",
    "                                                                        random_state=42, train_size=0.7)\n",
    "    \n",
    "    text_clf.fit(X_train, y_train)\n",
    "    \n",
    "    y_pred = text_clf.predict(X_test)\n",
    "#     print(np.mean(y_pred == y_test))\n",
    "    print_performance(\"sgd\", y_test, y_pred)\n",
    "    return text_clf, encoder"
   ]
  },
  {
   "cell_type": "code",
   "execution_count": 19,
   "metadata": {},
   "outputs": [],
   "source": [
    "def get_tfidf(reviews, X_train):\n",
    "    tfidf_vectorizer.fit(reviews)\n",
    "    X_train_tfidf = tfidf_vectorizer.transform(X_train)\n",
    "    return X_train_tfidf\n",
    "    \n",
    "def get_count_vect(X_train, X_test):\n",
    "    count_vectorizer.fit(X_train)\n",
    "    X_train_vect = count_vectorizer.transform(X_train)\n",
    "    return X_train_vect"
   ]
  },
  {
   "cell_type": "code",
   "execution_count": 20,
   "metadata": {},
   "outputs": [],
   "source": [
    "def add_features(df, list_of_features):\n",
    "    enriched_reviews = []\n",
    "    for index, row in df.iterrows():\n",
    "        features = []\n",
    "        for f in list_of_features:\n",
    "            features.append(row[f])\n",
    "        enriched_review = \"\"\n",
    "        for feature in features:\n",
    "            enriched_review += str(feature) + \" \"\n",
    "        enriched_review += row['review']\n",
    "        enriched_reviews.append(enriched_review)\n",
    "    return enriched_reviews"
   ]
  },
  {
   "cell_type": "markdown",
   "metadata": {},
   "source": [
    "## SENTIMENT"
   ]
  },
  {
   "cell_type": "code",
   "execution_count": 21,
   "metadata": {
    "scrolled": true
   },
   "outputs": [],
   "source": [
    "labels = collapse_sentiment_labels(norm_l['sentiment'])\n",
    "reviews = stringify_reviews(norm_l['review'])"
   ]
  },
  {
   "cell_type": "code",
   "execution_count": 22,
   "metadata": {},
   "outputs": [
    {
     "data": {
      "text/plain": [
       "array(['neutral', 'negative', 'positive'], dtype=object)"
      ]
     },
     "execution_count": 22,
     "metadata": {},
     "output_type": "execute_result"
    }
   ],
   "source": [
    "# 3-class classification\n",
    "labels.unique()\n",
    "# norm_l['sentiment'].unique()"
   ]
  },
  {
   "cell_type": "code",
   "execution_count": 23,
   "metadata": {},
   "outputs": [
    {
     "data": {
      "text/html": [
       "<div>\n",
       "<style scoped>\n",
       "    .dataframe tbody tr th:only-of-type {\n",
       "        vertical-align: middle;\n",
       "    }\n",
       "\n",
       "    .dataframe tbody tr th {\n",
       "        vertical-align: top;\n",
       "    }\n",
       "\n",
       "    .dataframe thead th {\n",
       "        text-align: right;\n",
       "    }\n",
       "</style>\n",
       "<table border=\"1\" class=\"dataframe\">\n",
       "  <thead>\n",
       "    <tr style=\"text-align: right;\">\n",
       "      <th></th>\n",
       "      <th>country</th>\n",
       "      <th>score</th>\n",
       "      <th>topic</th>\n",
       "      <th>review</th>\n",
       "      <th>category</th>\n",
       "      <th>sentiment</th>\n",
       "    </tr>\n",
       "  </thead>\n",
       "  <tbody>\n",
       "    <tr>\n",
       "      <th>0</th>\n",
       "      <td>United States</td>\n",
       "      <td>1</td>\n",
       "      <td>Notifications not showing up</td>\n",
       "      <td>The notification badges are showing up on my i...</td>\n",
       "      <td>requirement</td>\n",
       "      <td>neutral</td>\n",
       "    </tr>\n",
       "  </tbody>\n",
       "</table>\n",
       "</div>"
      ],
      "text/plain": [
       "         country  score                         topic  \\\n",
       "0  United States      1  Notifications not showing up   \n",
       "\n",
       "                                              review     category sentiment  \n",
       "0  The notification badges are showing up on my i...  requirement   neutral  "
      ]
     },
     "execution_count": 23,
     "metadata": {},
     "output_type": "execute_result"
    }
   ],
   "source": [
    "lf = la.copy()\n",
    "lf.head(1)"
   ]
  },
  {
   "cell_type": "code",
   "execution_count": 24,
   "metadata": {},
   "outputs": [],
   "source": [
    "lf['review'] = add_features(lf, ['topic', 'score'])\n",
    "lf['review'] = normalize(lf, 'review')\n",
    "lf['review'] = stringify_reviews(lf['review'])\n",
    "\n",
    "f_reviews = lf['review']"
   ]
  },
  {
   "cell_type": "code",
   "execution_count": 25,
   "metadata": {},
   "outputs": [
    {
     "name": "stdout",
     "output_type": "stream",
     "text": [
      "SGD classifier trained with labels: ['neutral' 'negative' 'positive']\n",
      "/\\/\\/\\/\\/ sgd\n",
      "Recall\t\t 64.60071513706794\n",
      "\n",
      "Precision\t 63.884366691851525\n",
      "\n",
      "F1\t\t 64.1435471227908 \n",
      "\n"
     ]
    }
   ],
   "source": [
    "sen_clf, sen_enc = train_sgd(f_reviews, labels)"
   ]
  },
  {
   "cell_type": "code",
   "execution_count": 26,
   "metadata": {},
   "outputs": [
    {
     "name": "stdout",
     "output_type": "stream",
     "text": [
      "/\\/\\/\\/\\/ multinomial naive bayes\n",
      "Recall\t\t 67.69964243146603\n",
      "\n",
      "Precision\t 68.25623676241854\n",
      "\n",
      "F1\t\t 65.72330950209971 \n",
      "\n",
      "/\\/\\/\\/\\/ linear svm\n",
      "Recall\t\t 68.41477949940405\n",
      "\n",
      "Precision\t 68.61888714469484\n",
      "\n",
      "F1\t\t 68.50928834388377 \n",
      "\n",
      "/\\/\\/\\/\\/ logistic regression\n",
      "Recall\t\t 65.43504171632897\n",
      "\n",
      "Precision\t 64.9754778090274\n",
      "\n",
      "F1\t\t 65.14375692332341 \n",
      "\n",
      "/\\/\\/\\/\\/ random forest\n",
      "Recall\t\t 67.46126340882003\n",
      "\n",
      "Precision\t 66.6924091912552\n",
      "\n",
      "F1\t\t 66.55887041060308 \n",
      "\n",
      "/\\/\\/\\/\\/ linear svm, sgd training\n",
      "Recall\t\t 70.32181168057211\n",
      "\n",
      "Precision\t 69.4633145303935\n",
      "\n",
      "F1\t\t 69.41741519577468 \n",
      "\n"
     ]
    }
   ],
   "source": [
    "train_clfs(f_reviews, labels)"
   ]
  },
  {
   "cell_type": "markdown",
   "metadata": {},
   "source": [
    "# HYPERPARAM TUNING"
   ]
  },
  {
   "cell_type": "code",
   "execution_count": 27,
   "metadata": {},
   "outputs": [
    {
     "data": {
      "text/plain": [
       "0.6589996868312542"
      ]
     },
     "execution_count": 27,
     "metadata": {},
     "output_type": "execute_result"
    }
   ],
   "source": [
    "from sklearn.model_selection import GridSearchCV\n",
    "from sklearn import metrics\n",
    "\n",
    "parameters = {\n",
    "    'vect__ngram_range': [(1,1), (1, 2)],\n",
    "    'tfidf__use_idf': (True, False),\n",
    "    'clf__alpha': (1e-2, 1e-3),\n",
    "}\n",
    "\n",
    "gs_clf = GridSearchCV(sen_clf, parameters, cv=5, n_jobs=1)\n",
    "\n",
    "encoder = LabelEncoder()\n",
    "e_labels = encoder.fit_transform(labels)\n",
    "\n",
    "X_train, X_test, y_train, y_test = model_selection.train_test_split(f_reviews, e_labels,\n",
    "                                                                    random_state=42, train_size=0.7)\n",
    "\n",
    "gs_clf = gs_clf.fit(X_train, y_train)\n",
    "gs_clf.best_score_"
   ]
  },
  {
   "cell_type": "code",
   "execution_count": 28,
   "metadata": {},
   "outputs": [
    {
     "name": "stdout",
     "output_type": "stream",
     "text": [
      "clf__alpha: 0.001\n",
      "tfidf__use_idf: True\n",
      "vect__ngram_range: (1, 2)\n"
     ]
    }
   ],
   "source": [
    "for param_name in sorted(parameters.keys()):\n",
    "    print(\"%s: %r\" % (param_name, gs_clf.best_params_[param_name]))"
   ]
  },
  {
   "cell_type": "markdown",
   "metadata": {},
   "source": [
    "# CROSS VALIDATION"
   ]
  },
  {
   "cell_type": "code",
   "execution_count": 29,
   "metadata": {},
   "outputs": [
    {
     "name": "stdout",
     "output_type": "stream",
     "text": [
      "Accuracy: 0.64 (+/- 0.03)\n"
     ]
    }
   ],
   "source": [
    "scores = cross_val_score(sen_clf, f_reviews, labels, cv=5)\n",
    "print(\"Accuracy: %0.2f (+/- %0.2f)\" % (scores.mean(), scores.std() * 2))"
   ]
  },
  {
   "cell_type": "markdown",
   "metadata": {},
   "source": [
    "# CONFUSION MATRIX"
   ]
  },
  {
   "cell_type": "code",
   "execution_count": 30,
   "metadata": {},
   "outputs": [
    {
     "data": {
      "text/plain": [
       "array([[463, 139,  67],\n",
       "       [202, 276, 120],\n",
       "       [ 70,  69, 550]])"
      ]
     },
     "execution_count": 30,
     "metadata": {},
     "output_type": "execute_result"
    }
   ],
   "source": [
    "from sklearn.metrics import confusion_matrix\n",
    "from sklearn.model_selection import cross_val_predict\n",
    "y_train_pred = cross_val_predict(sen_clf, X_train, y_train, cv=5)\n",
    "confusion_matrix(y_train, y_train_pred, labels=[0, 1, 2]) # neg, neut, pos"
   ]
  },
  {
   "cell_type": "code",
   "execution_count": 31,
   "metadata": {},
   "outputs": [
    {
     "data": {
      "text/plain": [
       "'The notification badges are showing up on my iPhone 6 Plus but when I open app there not there. This has happened since last update. \\nAlso quit interrupting videos with stupid ads. Annoying.'"
      ]
     },
     "execution_count": 31,
     "metadata": {},
     "output_type": "execute_result"
    }
   ],
   "source": [
    "la['review'][0] # original"
   ]
  },
  {
   "cell_type": "code",
   "execution_count": 32,
   "metadata": {},
   "outputs": [
    {
     "data": {
      "text/plain": [
       "\"['notification', 'badge', 'show', 'iphone', 'plus', 'open', 'app', 'not', 'happen', 'since', 'last', 'update', 'also', 'quit', 'interrupt', 'videos', 'stupid', 'ads', 'annoy']\""
      ]
     },
     "execution_count": 32,
     "metadata": {},
     "output_type": "execute_result"
    }
   ],
   "source": [
    "str(norm_l['review'][0]) # normalized"
   ]
  },
  {
   "cell_type": "code",
   "execution_count": 33,
   "metadata": {},
   "outputs": [
    {
     "data": {
      "text/plain": [
       "\"['notifications', 'not', 'show', 'notification', 'badge', 'show', 'iphone', 'plus', 'open', 'app', 'not', 'happen', 'since', 'last', 'update', 'also', 'quit', 'interrupt', 'videos', 'stupid', 'ads', 'annoy']\""
      ]
     },
     "execution_count": 33,
     "metadata": {},
     "output_type": "execute_result"
    }
   ],
   "source": [
    "str(lf['review'][0]) # normalized, with additional features"
   ]
  },
  {
   "cell_type": "markdown",
   "metadata": {},
   "source": [
    "<h3 style=\"text-decoration:line-through\">REMOVING NON-ENGLISH REVIEWS</h3>"
   ]
  },
  {
   "cell_type": "code",
   "execution_count": 34,
   "metadata": {},
   "outputs": [
    {
     "data": {
      "text/html": [
       "<div>\n",
       "<style scoped>\n",
       "    .dataframe tbody tr th:only-of-type {\n",
       "        vertical-align: middle;\n",
       "    }\n",
       "\n",
       "    .dataframe tbody tr th {\n",
       "        vertical-align: top;\n",
       "    }\n",
       "\n",
       "    .dataframe thead th {\n",
       "        text-align: right;\n",
       "    }\n",
       "</style>\n",
       "<table border=\"1\" class=\"dataframe\">\n",
       "  <thead>\n",
       "    <tr style=\"text-align: right;\">\n",
       "      <th></th>\n",
       "      <th>score</th>\n",
       "    </tr>\n",
       "  </thead>\n",
       "  <tbody>\n",
       "    <tr>\n",
       "      <th>count</th>\n",
       "      <td>2795.000000</td>\n",
       "    </tr>\n",
       "    <tr>\n",
       "      <th>mean</th>\n",
       "      <td>2.964222</td>\n",
       "    </tr>\n",
       "    <tr>\n",
       "      <th>std</th>\n",
       "      <td>1.400279</td>\n",
       "    </tr>\n",
       "    <tr>\n",
       "      <th>min</th>\n",
       "      <td>1.000000</td>\n",
       "    </tr>\n",
       "    <tr>\n",
       "      <th>25%</th>\n",
       "      <td>2.000000</td>\n",
       "    </tr>\n",
       "    <tr>\n",
       "      <th>50%</th>\n",
       "      <td>3.000000</td>\n",
       "    </tr>\n",
       "    <tr>\n",
       "      <th>75%</th>\n",
       "      <td>4.000000</td>\n",
       "    </tr>\n",
       "    <tr>\n",
       "      <th>max</th>\n",
       "      <td>5.000000</td>\n",
       "    </tr>\n",
       "  </tbody>\n",
       "</table>\n",
       "</div>"
      ],
      "text/plain": [
       "             score\n",
       "count  2795.000000\n",
       "mean      2.964222\n",
       "std       1.400279\n",
       "min       1.000000\n",
       "25%       2.000000\n",
       "50%       3.000000\n",
       "75%       4.000000\n",
       "max       5.000000"
      ]
     },
     "execution_count": 34,
     "metadata": {},
     "output_type": "execute_result"
    }
   ],
   "source": [
    "lfe = la.copy()\n",
    "lfe.describe()"
   ]
  },
  {
   "cell_type": "code",
   "execution_count": 35,
   "metadata": {},
   "outputs": [],
   "source": [
    "if TRAIN_LANGUAGE_PREDICTOR == True:\n",
    "    lfe = drop_non_english(lfe)\n",
    "\n",
    "    lfe['review'] = add_features(lfe, ['topic', 'score'])\n",
    "    lfe_reviews = normalize(lfe, 'review')\n",
    "    lfe_reviews = stringify_reviews(lfe_reviews)\n",
    "\n",
    "    lfe_labels = collapse_sentiment_labels(lfe['sentiment'])\n",
    "    lfe_labels.unique()\n",
    "\n",
    "    train_clfs(lfe_reviews, lfe_labels)"
   ]
  },
  {
   "cell_type": "markdown",
   "metadata": {},
   "source": [
    "# CATEGORY CLASSIFIER"
   ]
  },
  {
   "cell_type": "code",
   "execution_count": 36,
   "metadata": {},
   "outputs": [
    {
     "name": "stdout",
     "output_type": "stream",
     "text": [
      "SGD classifier trained with labels: ['requirement' 'other' 'bug report']\n",
      "/\\/\\/\\/\\/ sgd\n",
      "Recall\t\t 73.18235995232419\n",
      "\n",
      "Precision\t 73.2383078272905\n",
      "\n",
      "F1\t\t 73.1854088146044 \n",
      "\n"
     ]
    }
   ],
   "source": [
    "cat_clf, cat_enc = train_sgd(\n",
    "    stringify_reviews(lf['review']),\n",
    "    collapse_category_labels(lf['category'])\n",
    ")"
   ]
  },
  {
   "cell_type": "markdown",
   "metadata": {},
   "source": [
    "# SENTIMENT CLASSIFIER"
   ]
  },
  {
   "cell_type": "code",
   "execution_count": 37,
   "metadata": {},
   "outputs": [
    {
     "name": "stdout",
     "output_type": "stream",
     "text": [
      "SGD classifier trained with labels: ['neutral' 'negative' 'positive']\n",
      "/\\/\\/\\/\\/ sgd\n",
      "Recall\t\t 64.60071513706794\n",
      "\n",
      "Precision\t 63.884366691851525\n",
      "\n",
      "F1\t\t 64.1435471227908 \n",
      "\n"
     ]
    }
   ],
   "source": [
    "sen_clf, sen_enc = train_sgd(\n",
    "    stringify_reviews(lf['review']),\n",
    "    collapse_sentiment_labels(lf['sentiment'])\n",
    ")"
   ]
  },
  {
   "cell_type": "markdown",
   "metadata": {},
   "source": [
    "# CLASSIFYING GOOGLE PLAY REVIEWS"
   ]
  },
  {
   "cell_type": "code",
   "execution_count": 38,
   "metadata": {},
   "outputs": [
    {
     "name": "stdout",
     "output_type": "stream",
     "text": [
      "<class 'pandas.core.frame.DataFrame'>\n",
      "DatetimeIndex: 256370 entries, 2020-03-24 08:28:32.297000+00:00 to 2016-04-07 09:59:57.812000+00:00\n",
      "Data columns (total 5 columns):\n",
      "Username     256369 non-null object\n",
      "Rating       256370 non-null int64\n",
      "Review       256359 non-null object\n",
      "Likes        256370 non-null int64\n",
      "ReplyDate    479 non-null object\n",
      "dtypes: int64(2), object(3)\n",
      "memory usage: 11.7+ MB\n"
     ]
    }
   ],
   "source": [
    "reddit = pd.read_csv('data/gplay_reviews/com.reddit.frontpage.csv', index_col=\"Timestamp\", parse_dates=True)\n",
    "reddit.info()"
   ]
  },
  {
   "cell_type": "code",
   "execution_count": 39,
   "metadata": {},
   "outputs": [
    {
     "data": {
      "text/html": [
       "<div>\n",
       "<style scoped>\n",
       "    .dataframe tbody tr th:only-of-type {\n",
       "        vertical-align: middle;\n",
       "    }\n",
       "\n",
       "    .dataframe tbody tr th {\n",
       "        vertical-align: top;\n",
       "    }\n",
       "\n",
       "    .dataframe thead th {\n",
       "        text-align: right;\n",
       "    }\n",
       "</style>\n",
       "<table border=\"1\" class=\"dataframe\">\n",
       "  <thead>\n",
       "    <tr style=\"text-align: right;\">\n",
       "      <th></th>\n",
       "      <th>Username</th>\n",
       "      <th>Rating</th>\n",
       "      <th>Review</th>\n",
       "      <th>Likes</th>\n",
       "      <th>ReplyDate</th>\n",
       "    </tr>\n",
       "    <tr>\n",
       "      <th>Timestamp</th>\n",
       "      <th></th>\n",
       "      <th></th>\n",
       "      <th></th>\n",
       "      <th></th>\n",
       "      <th></th>\n",
       "    </tr>\n",
       "  </thead>\n",
       "  <tbody>\n",
       "    <tr>\n",
       "      <th>2020-03-24 08:28:32.297000+00:00</th>\n",
       "      <td>Christopher Posey</td>\n",
       "      <td>1</td>\n",
       "      <td>Trash, I'm noting using an app to access a web...</td>\n",
       "      <td>0</td>\n",
       "      <td>NaN</td>\n",
       "    </tr>\n",
       "    <tr>\n",
       "      <th>2020-03-24 08:08:21.450000+00:00</th>\n",
       "      <td>Just다니엘</td>\n",
       "      <td>4</td>\n",
       "      <td>App version are slow and need so much optimiza...</td>\n",
       "      <td>0</td>\n",
       "      <td>NaN</td>\n",
       "    </tr>\n",
       "    <tr>\n",
       "      <th>2020-03-24 08:01:53.800000+00:00</th>\n",
       "      <td>Aadit Shivam</td>\n",
       "      <td>5</td>\n",
       "      <td>Instagram bad reddit good</td>\n",
       "      <td>0</td>\n",
       "      <td>NaN</td>\n",
       "    </tr>\n",
       "  </tbody>\n",
       "</table>\n",
       "</div>"
      ],
      "text/plain": [
       "                                           Username  Rating  \\\n",
       "Timestamp                                                     \n",
       "2020-03-24 08:28:32.297000+00:00  Christopher Posey       1   \n",
       "2020-03-24 08:08:21.450000+00:00            Just다니엘       4   \n",
       "2020-03-24 08:01:53.800000+00:00       Aadit Shivam       5   \n",
       "\n",
       "                                                                             Review  \\\n",
       "Timestamp                                                                             \n",
       "2020-03-24 08:28:32.297000+00:00  Trash, I'm noting using an app to access a web...   \n",
       "2020-03-24 08:08:21.450000+00:00  App version are slow and need so much optimiza...   \n",
       "2020-03-24 08:01:53.800000+00:00                          Instagram bad reddit good   \n",
       "\n",
       "                                  Likes ReplyDate  \n",
       "Timestamp                                          \n",
       "2020-03-24 08:28:32.297000+00:00      0       NaN  \n",
       "2020-03-24 08:08:21.450000+00:00      0       NaN  \n",
       "2020-03-24 08:01:53.800000+00:00      0       NaN  "
      ]
     },
     "execution_count": 39,
     "metadata": {},
     "output_type": "execute_result"
    }
   ],
   "source": [
    "reddit.head(3)"
   ]
  },
  {
   "cell_type": "code",
   "execution_count": 40,
   "metadata": {},
   "outputs": [],
   "source": [
    "# to speed up computation, select 10000 reviews\n",
    "reddit_sample = reddit.sample(10000)"
   ]
  },
  {
   "cell_type": "code",
   "execution_count": 41,
   "metadata": {},
   "outputs": [],
   "source": [
    "def drop_empty_reviews(df):\n",
    "    for index, row in df.iterrows():\n",
    "        r = row['Review']\n",
    "        if type(r) != str:\n",
    "            df.drop(index, inplace=True)\n",
    "    return df\n",
    "\n",
    "def remove_short_reviews(data):\n",
    "    return data[data['Review'].str.len() > 50]"
   ]
  },
  {
   "cell_type": "code",
   "execution_count": 42,
   "metadata": {},
   "outputs": [
    {
     "name": "stdout",
     "output_type": "stream",
     "text": [
      "<class 'pandas.core.frame.DataFrame'>\n",
      "DatetimeIndex: 3449 entries, 2017-03-22 17:22:59.281000+00:00 to 2020-01-31 07:32:30.256000+00:00\n",
      "Data columns (total 5 columns):\n",
      "Username     3449 non-null object\n",
      "Rating       3449 non-null int64\n",
      "Review       3449 non-null object\n",
      "Likes        3449 non-null int64\n",
      "ReplyDate    13 non-null object\n",
      "dtypes: int64(2), object(3)\n",
      "memory usage: 161.7+ KB\n"
     ]
    }
   ],
   "source": [
    "reddit_sample = remove_short_reviews(reddit_sample)\n",
    "reddit_sample = drop_empty_reviews(reddit_sample)\n",
    "reddit_sample.info()"
   ]
  },
  {
   "cell_type": "code",
   "execution_count": 43,
   "metadata": {},
   "outputs": [],
   "source": [
    "# out of 10,000 reviews\n",
    "# only 33% were more than 50 characters long"
   ]
  },
  {
   "cell_type": "code",
   "execution_count": 44,
   "metadata": {},
   "outputs": [
    {
     "data": {
      "text/plain": [
       "Timestamp\n",
       "2017-03-22 17:22:59.281000+00:00    [not, bad, better, tumblr, gifs, sometimes, is...\n",
       "2018-05-07 23:16:58.534000+00:00    [since, add, add, app, isnt, great, anymore, a...\n",
       "2017-07-24 14:38:22.331000+00:00    [take, days, get, into, amaze, app, stories, j...\n",
       "2017-12-25 14:02:59.194000+00:00    [great, way, share, internet, base, ideas, hil...\n",
       "2019-08-08 17:43:07.317000+00:00    [fun, not, real, political, yet, educational, ...\n",
       "                                                          ...                        \n",
       "2019-04-27 17:17:46.814000+00:00    [usually, great, love, load, next, topics, imm...\n",
       "2019-06-29 19:09:52.450000+00:00    [im, pro, trump, im, boycott, reddit, contact,...\n",
       "2019-04-22 20:04:47.208000+00:00    [decent, app, work, stop, load, time, crash, o...\n",
       "2016-12-27 08:32:11.976000+00:00    [app, useless, scroll, 10, picture, close, pie...\n",
       "2020-01-31 07:32:30.256000+00:00    [reddit, good, however, cant, seem, post, post...\n",
       "Name: Review, Length: 3449, dtype: object"
      ]
     },
     "execution_count": 44,
     "metadata": {},
     "output_type": "execute_result"
    }
   ],
   "source": [
    "reddit_reviews = normalize(reddit_sample, 'Review')\n",
    "reddit_reviews"
   ]
  },
  {
   "cell_type": "code",
   "execution_count": 45,
   "metadata": {},
   "outputs": [],
   "source": [
    "reddit_cat_y_pred = cat_clf.predict(stringify_reviews(reddit_reviews))\n",
    "reddit_sen_y_pred = sen_clf.predict(stringify_reviews(reddit_reviews))"
   ]
  },
  {
   "cell_type": "code",
   "execution_count": 1,
   "metadata": {},
   "outputs": [
    {
     "ename": "NameError",
     "evalue": "name 'dfs' is not defined",
     "output_type": "error",
     "traceback": [
      "\u001b[0;31m---------------------------------------------------------------------------\u001b[0m",
      "\u001b[0;31mNameError\u001b[0m                                 Traceback (most recent call last)",
      "\u001b[0;32m<ipython-input-1-df9ffc026562>\u001b[0m in \u001b[0;36m<module>\u001b[0;34m\u001b[0m\n\u001b[0;32m----> 1\u001b[0;31m \u001b[0mdfs\u001b[0m\u001b[0;34m[\u001b[0m\u001b[0;34m'reddit'\u001b[0m\u001b[0;34m]\u001b[0m\u001b[0;34m.\u001b[0m\u001b[0mhead\u001b[0m\u001b[0;34m(\u001b[0m\u001b[0;34m)\u001b[0m\u001b[0;34m\u001b[0m\u001b[0;34m\u001b[0m\u001b[0m\n\u001b[0m",
      "\u001b[0;31mNameError\u001b[0m: name 'dfs' is not defined"
     ]
    }
   ],
   "source": [
    "dfs['reddit'].head()"
   ]
  },
  {
   "cell_type": "code",
   "execution_count": 46,
   "metadata": {},
   "outputs": [
    {
     "data": {
      "text/html": [
       "<div>\n",
       "<style scoped>\n",
       "    .dataframe tbody tr th:only-of-type {\n",
       "        vertical-align: middle;\n",
       "    }\n",
       "\n",
       "    .dataframe tbody tr th {\n",
       "        vertical-align: top;\n",
       "    }\n",
       "\n",
       "    .dataframe thead th {\n",
       "        text-align: right;\n",
       "    }\n",
       "</style>\n",
       "<table border=\"1\" class=\"dataframe\">\n",
       "  <thead>\n",
       "    <tr style=\"text-align: right;\">\n",
       "      <th></th>\n",
       "      <th>review</th>\n",
       "      <th>category</th>\n",
       "      <th>sentiment</th>\n",
       "    </tr>\n",
       "  </thead>\n",
       "  <tbody>\n",
       "    <tr>\n",
       "      <th>0</th>\n",
       "      <td>[not, bad, better, tumblr, gifs, sometimes, is...</td>\n",
       "      <td>bug report</td>\n",
       "      <td>neutral</td>\n",
       "    </tr>\n",
       "    <tr>\n",
       "      <th>1</th>\n",
       "      <td>[since, add, add, app, isnt, great, anymore, a...</td>\n",
       "      <td>requirement</td>\n",
       "      <td>negative</td>\n",
       "    </tr>\n",
       "    <tr>\n",
       "      <th>2</th>\n",
       "      <td>[take, days, get, into, amaze, app, stories, j...</td>\n",
       "      <td>other</td>\n",
       "      <td>positive</td>\n",
       "    </tr>\n",
       "    <tr>\n",
       "      <th>3</th>\n",
       "      <td>[great, way, share, internet, base, ideas, hil...</td>\n",
       "      <td>other</td>\n",
       "      <td>positive</td>\n",
       "    </tr>\n",
       "    <tr>\n",
       "      <th>4</th>\n",
       "      <td>[fun, not, real, political, yet, educational, ...</td>\n",
       "      <td>other</td>\n",
       "      <td>positive</td>\n",
       "    </tr>\n",
       "    <tr>\n",
       "      <th>5</th>\n",
       "      <td>[im, addict, nosleep, subscript, like, forepla...</td>\n",
       "      <td>requirement</td>\n",
       "      <td>negative</td>\n",
       "    </tr>\n",
       "    <tr>\n",
       "      <th>6</th>\n",
       "      <td>[frequently, wont, load, specific, link, withi...</td>\n",
       "      <td>bug report</td>\n",
       "      <td>neutral</td>\n",
       "    </tr>\n",
       "    <tr>\n",
       "      <th>7</th>\n",
       "      <td>[recently, start, spamming, daily, reddit, rec...</td>\n",
       "      <td>requirement</td>\n",
       "      <td>positive</td>\n",
       "    </tr>\n",
       "    <tr>\n",
       "      <th>8</th>\n",
       "      <td>[everything, would, expect, simple, way, great...</td>\n",
       "      <td>requirement</td>\n",
       "      <td>positive</td>\n",
       "    </tr>\n",
       "    <tr>\n",
       "      <th>9</th>\n",
       "      <td>[know, look, enjoy]</td>\n",
       "      <td>other</td>\n",
       "      <td>positive</td>\n",
       "    </tr>\n",
       "    <tr>\n",
       "      <th>10</th>\n",
       "      <td>[love, great, however, community, time, feel, ...</td>\n",
       "      <td>requirement</td>\n",
       "      <td>positive</td>\n",
       "    </tr>\n",
       "    <tr>\n",
       "      <th>11</th>\n",
       "      <td>[great, app, kill, time, share, ideas, get, he...</td>\n",
       "      <td>other</td>\n",
       "      <td>positive</td>\n",
       "    </tr>\n",
       "    <tr>\n",
       "      <th>12</th>\n",
       "      <td>[reddit, place, best, worst, people, internet,...</td>\n",
       "      <td>other</td>\n",
       "      <td>positive</td>\n",
       "    </tr>\n",
       "    <tr>\n",
       "      <th>13</th>\n",
       "      <td>[app, not, good, even, though, reddit, content...</td>\n",
       "      <td>bug report</td>\n",
       "      <td>positive</td>\n",
       "    </tr>\n",
       "    <tr>\n",
       "      <th>14</th>\n",
       "      <td>[not, good, reddit, apps, comment, thread, ind...</td>\n",
       "      <td>requirement</td>\n",
       "      <td>neutral</td>\n",
       "    </tr>\n",
       "    <tr>\n",
       "      <th>15</th>\n",
       "      <td>[great, content, even, greater, community, fin...</td>\n",
       "      <td>bug report</td>\n",
       "      <td>neutral</td>\n",
       "    </tr>\n",
       "    <tr>\n",
       "      <th>16</th>\n",
       "      <td>[great, app, smooth, functionality, search, fu...</td>\n",
       "      <td>requirement</td>\n",
       "      <td>positive</td>\n",
       "    </tr>\n",
       "    <tr>\n",
       "      <th>17</th>\n",
       "      <td>[need, pick, just, pure, joy, turn, reddit, lo...</td>\n",
       "      <td>requirement</td>\n",
       "      <td>positive</td>\n",
       "    </tr>\n",
       "    <tr>\n",
       "      <th>18</th>\n",
       "      <td>[full, neo, liberals, front, page, focus, arou...</td>\n",
       "      <td>other</td>\n",
       "      <td>neutral</td>\n",
       "    </tr>\n",
       "    <tr>\n",
       "      <th>19</th>\n",
       "      <td>[normie, instagram, wont, read]</td>\n",
       "      <td>bug report</td>\n",
       "      <td>neutral</td>\n",
       "    </tr>\n",
       "  </tbody>\n",
       "</table>\n",
       "</div>"
      ],
      "text/plain": [
       "                                               review     category sentiment\n",
       "0   [not, bad, better, tumblr, gifs, sometimes, is...   bug report   neutral\n",
       "1   [since, add, add, app, isnt, great, anymore, a...  requirement  negative\n",
       "2   [take, days, get, into, amaze, app, stories, j...        other  positive\n",
       "3   [great, way, share, internet, base, ideas, hil...        other  positive\n",
       "4   [fun, not, real, political, yet, educational, ...        other  positive\n",
       "5   [im, addict, nosleep, subscript, like, forepla...  requirement  negative\n",
       "6   [frequently, wont, load, specific, link, withi...   bug report   neutral\n",
       "7   [recently, start, spamming, daily, reddit, rec...  requirement  positive\n",
       "8   [everything, would, expect, simple, way, great...  requirement  positive\n",
       "9                                 [know, look, enjoy]        other  positive\n",
       "10  [love, great, however, community, time, feel, ...  requirement  positive\n",
       "11  [great, app, kill, time, share, ideas, get, he...        other  positive\n",
       "12  [reddit, place, best, worst, people, internet,...        other  positive\n",
       "13  [app, not, good, even, though, reddit, content...   bug report  positive\n",
       "14  [not, good, reddit, apps, comment, thread, ind...  requirement   neutral\n",
       "15  [great, content, even, greater, community, fin...   bug report   neutral\n",
       "16  [great, app, smooth, functionality, search, fu...  requirement  positive\n",
       "17  [need, pick, just, pure, joy, turn, reddit, lo...  requirement  positive\n",
       "18  [full, neo, liberals, front, page, focus, arou...        other   neutral\n",
       "19                    [normie, instagram, wont, read]   bug report   neutral"
      ]
     },
     "execution_count": 46,
     "metadata": {},
     "output_type": "execute_result"
    }
   ],
   "source": [
    "# testing\n",
    "reddit_data = {\n",
    "    'review': reddit_reviews,\n",
    "    'category': cat_enc.inverse_transform(reddit_cat_y_pred),\n",
    "    'sentiment': sen_enc.inverse_transform(reddit_sen_y_pred)\n",
    "}\n",
    "te = pd.DataFrame(reddit_data)\n",
    "te = te.reset_index(drop=True)\n",
    "te.head(20)"
   ]
  },
  {
   "cell_type": "markdown",
   "metadata": {},
   "source": [
    "# MORE TRAINING DATA"
   ]
  },
  {
   "cell_type": "code",
   "execution_count": 47,
   "metadata": {},
   "outputs": [
    {
     "name": "stdout",
     "output_type": "stream",
     "text": [
      "<class 'pandas.core.frame.DataFrame'>\n",
      "Int64Index: 2560 entries, 1 to 419\n",
      "Data columns (total 29 columns):\n",
      "app_name                2560 non-null object\n",
      "user_id                 2560 non-null int64\n",
      "user_name               2560 non-null object\n",
      "date                    2560 non-null object\n",
      "country                 2560 non-null object\n",
      "version                 2560 non-null object\n",
      "score                   2560 non-null int64\n",
      "topic                   2560 non-null object\n",
      "review_text             2560 non-null object\n",
      "url                     2560 non-null object\n",
      "review_id               2560 non-null int64\n",
      "annotator_id            2560 non-null int64\n",
      "isAnnotated             2560 non-null int64\n",
      "annotatingTime          2560 non-null object\n",
      "sentimentScore          2560 non-null int64\n",
      "NotEnglish              2560 non-null int64\n",
      "isFeatureShortcoming    2560 non-null int64\n",
      "isFeatureStrength       2560 non-null int64\n",
      "isFeatureRequest        2560 non-null int64\n",
      "isBugReport             2560 non-null int64\n",
      "isUsageScenario         2560 non-null int64\n",
      "isGeneralPraise         2560 non-null int64\n",
      "isGeneralComplaint      2560 non-null int64\n",
      "isNoise                 2560 non-null int64\n",
      "isOther                 2560 non-null int64\n",
      "otherText               2560 non-null object\n",
      "isNotSureOfLabels       2560 non-null int64\n",
      "comment                 2560 non-null object\n",
      "gender                  2560 non-null object\n",
      "dtypes: int64(17), object(12)\n",
      "memory usage: 600.0+ KB\n"
     ]
    }
   ],
   "source": [
    "import sqlite3\n",
    "\n",
    "db_path = \"data/reviews_with_truthset/reviews_with_truthset.db\"\n",
    "\n",
    "conn = sqlite3.connect(db_path)\n",
    "conn.text_factory = lambda b: b.decode(errors = 'ignore')\n",
    "\n",
    "l2 = pd.read_sql_query(\"SELECT * FROM labeledreviews\", conn, index_col='id')\n",
    "l2.info()"
   ]
  },
  {
   "cell_type": "code",
   "execution_count": 48,
   "metadata": {},
   "outputs": [
    {
     "data": {
      "text/plain": [
       "id\n",
       "1    It's helpful for all communication\n",
       "Name: review_text, dtype: object"
      ]
     },
     "execution_count": 48,
     "metadata": {},
     "output_type": "execute_result"
    }
   ],
   "source": [
    "l2['review_text'][:1]"
   ]
  },
  {
   "cell_type": "code",
   "execution_count": 49,
   "metadata": {},
   "outputs": [
    {
     "data": {
      "text/plain": [
       "id\n",
       "1    1\n",
       "Name: sentimentScore, dtype: int64"
      ]
     },
     "execution_count": 49,
     "metadata": {},
     "output_type": "execute_result"
    }
   ],
   "source": [
    "l2['sentimentScore'][:1]"
   ]
  },
  {
   "cell_type": "markdown",
   "metadata": {},
   "source": [
    "# CHANGE SENTIMENT LABELS OF NEW DATA TO FIT THE CURRENT ENCODER"
   ]
  },
  {
   "cell_type": "markdown",
   "metadata": {},
   "source": [
    "### CURRENT SENTIMENT CLASSES MAPPING"
   ]
  },
  {
   "cell_type": "markdown",
   "metadata": {},
   "source": [
    "- Negative: 0\n",
    "- Neutral: 1\n",
    "- Positive: 2\n",
    "- Very negative: 3\n",
    "- Very positive: 4"
   ]
  },
  {
   "cell_type": "code",
   "execution_count": 50,
   "metadata": {},
   "outputs": [
    {
     "data": {
      "text/plain": [
       "array(['negative', 'neutral', 'positive'], dtype=object)"
      ]
     },
     "execution_count": 50,
     "metadata": {},
     "output_type": "execute_result"
    }
   ],
   "source": [
    "sen_enc.classes_"
   ]
  },
  {
   "cell_type": "code",
   "execution_count": 51,
   "metadata": {},
   "outputs": [
    {
     "data": {
      "text/plain": [
       "array([0, 1, 2])"
      ]
     },
     "execution_count": 51,
     "metadata": {},
     "output_type": "execute_result"
    }
   ],
   "source": [
    "sen_enc.transform(sen_enc.classes_)"
   ]
  },
  {
   "cell_type": "code",
   "execution_count": 52,
   "metadata": {},
   "outputs": [
    {
     "data": {
      "text/plain": [
       "array([ 1,  0,  2, -2, -1])"
      ]
     },
     "execution_count": 52,
     "metadata": {},
     "output_type": "execute_result"
    }
   ],
   "source": [
    "l2.sentimentScore.unique()"
   ]
  },
  {
   "cell_type": "markdown",
   "metadata": {},
   "source": [
    "As can be seen in the above cell, the labels for sentiment in the new training data are different than what we currently have. It is a more logical mapping, with negative values for negative sentiment, vice versa, but we'll make it fit our current setup nonetheless."
   ]
  },
  {
   "cell_type": "code",
   "execution_count": 53,
   "metadata": {},
   "outputs": [],
   "source": [
    "# for 5-class\n",
    "la2 = l2.copy()\n",
    "nsl = [] # new_sentiment_labels\n",
    "\n",
    "if SENTIMENT_CLASSES == 5:\n",
    "    for index, row in l2.iterrows():\n",
    "        if row.sentimentScore == -2:\n",
    "            nsl.append(3)\n",
    "        elif row.sentimentScore == -1:\n",
    "            nsl.append(0)\n",
    "        elif row.sentimentScore == 0:\n",
    "            nsl.append(1)\n",
    "        elif row.sentimentScore == 1:\n",
    "            nsl.append(2)\n",
    "        elif row.sentimentScore == 2:\n",
    "            nsl.append(4)\n",
    "elif SENTIMENT_CLASSES == 3:\n",
    "    for index, row in l2.iterrows():\n",
    "        if row.sentimentScore == -2:\n",
    "            nsl.append(0)\n",
    "        elif row.sentimentScore == -1:\n",
    "            nsl.append(0)\n",
    "        elif row.sentimentScore == 0:\n",
    "            nsl.append(1)\n",
    "        elif row.sentimentScore == 1:\n",
    "            nsl.append(2)\n",
    "        elif row.sentimentScore == 2:\n",
    "            nsl.append(2)\n",
    "\n",
    "la2['sentimentScore'] = nsl"
   ]
  },
  {
   "cell_type": "code",
   "execution_count": 54,
   "metadata": {},
   "outputs": [
    {
     "data": {
      "text/html": [
       "<div>\n",
       "<style scoped>\n",
       "    .dataframe tbody tr th:only-of-type {\n",
       "        vertical-align: middle;\n",
       "    }\n",
       "\n",
       "    .dataframe tbody tr th {\n",
       "        vertical-align: top;\n",
       "    }\n",
       "\n",
       "    .dataframe thead th {\n",
       "        text-align: right;\n",
       "    }\n",
       "</style>\n",
       "<table border=\"1\" class=\"dataframe\">\n",
       "  <thead>\n",
       "    <tr style=\"text-align: right;\">\n",
       "      <th></th>\n",
       "      <th>country</th>\n",
       "      <th>score</th>\n",
       "      <th>topic</th>\n",
       "      <th>review_text</th>\n",
       "      <th>sentimentScore</th>\n",
       "    </tr>\n",
       "    <tr>\n",
       "      <th>id</th>\n",
       "      <th></th>\n",
       "      <th></th>\n",
       "      <th></th>\n",
       "      <th></th>\n",
       "      <th></th>\n",
       "    </tr>\n",
       "  </thead>\n",
       "  <tbody>\n",
       "    <tr>\n",
       "      <th>1</th>\n",
       "      <td>Singapore</td>\n",
       "      <td>5</td>\n",
       "      <td>Nice</td>\n",
       "      <td>It's helpful for all communication</td>\n",
       "      <td>2</td>\n",
       "    </tr>\n",
       "  </tbody>\n",
       "</table>\n",
       "</div>"
      ],
      "text/plain": [
       "      country  score topic                         review_text  sentimentScore\n",
       "id                                                                            \n",
       "1   Singapore      5  Nice  It's helpful for all communication               2"
      ]
     },
     "execution_count": 54,
     "metadata": {},
     "output_type": "execute_result"
    }
   ],
   "source": [
    "la2 = la2[['country', 'score', 'topic', 'review_text', 'sentimentScore']]\n",
    "la2.head(1)"
   ]
  },
  {
   "cell_type": "code",
   "execution_count": 55,
   "metadata": {},
   "outputs": [
    {
     "data": {
      "text/html": [
       "<div>\n",
       "<style scoped>\n",
       "    .dataframe tbody tr th:only-of-type {\n",
       "        vertical-align: middle;\n",
       "    }\n",
       "\n",
       "    .dataframe tbody tr th {\n",
       "        vertical-align: top;\n",
       "    }\n",
       "\n",
       "    .dataframe thead th {\n",
       "        text-align: right;\n",
       "    }\n",
       "</style>\n",
       "<table border=\"1\" class=\"dataframe\">\n",
       "  <thead>\n",
       "    <tr style=\"text-align: right;\">\n",
       "      <th></th>\n",
       "      <th>country</th>\n",
       "      <th>score</th>\n",
       "      <th>topic</th>\n",
       "      <th>review</th>\n",
       "      <th>sentiment</th>\n",
       "    </tr>\n",
       "    <tr>\n",
       "      <th>id</th>\n",
       "      <th></th>\n",
       "      <th></th>\n",
       "      <th></th>\n",
       "      <th></th>\n",
       "      <th></th>\n",
       "    </tr>\n",
       "  </thead>\n",
       "  <tbody>\n",
       "    <tr>\n",
       "      <th>1</th>\n",
       "      <td>Singapore</td>\n",
       "      <td>5</td>\n",
       "      <td>Nice</td>\n",
       "      <td>It's helpful for all communication</td>\n",
       "      <td>2</td>\n",
       "    </tr>\n",
       "  </tbody>\n",
       "</table>\n",
       "</div>"
      ],
      "text/plain": [
       "      country  score topic                              review  sentiment\n",
       "id                                                                       \n",
       "1   Singapore      5  Nice  It's helpful for all communication          2"
      ]
     },
     "execution_count": 55,
     "metadata": {},
     "output_type": "execute_result"
    }
   ],
   "source": [
    "la2 = la2.rename(columns = {\n",
    "    \"review_text\": \"review\",\n",
    "    \"sentimentScore\": \"sentiment\"\n",
    "}, errors=\"raise\")\n",
    "la2.head(1)"
   ]
  },
  {
   "cell_type": "code",
   "execution_count": 56,
   "metadata": {},
   "outputs": [],
   "source": [
    "la2.sentiment = sen_enc.inverse_transform(la2.sentiment)"
   ]
  },
  {
   "cell_type": "code",
   "execution_count": 57,
   "metadata": {},
   "outputs": [
    {
     "data": {
      "text/html": [
       "<div>\n",
       "<style scoped>\n",
       "    .dataframe tbody tr th:only-of-type {\n",
       "        vertical-align: middle;\n",
       "    }\n",
       "\n",
       "    .dataframe tbody tr th {\n",
       "        vertical-align: top;\n",
       "    }\n",
       "\n",
       "    .dataframe thead th {\n",
       "        text-align: right;\n",
       "    }\n",
       "</style>\n",
       "<table border=\"1\" class=\"dataframe\">\n",
       "  <thead>\n",
       "    <tr style=\"text-align: right;\">\n",
       "      <th></th>\n",
       "      <th>country</th>\n",
       "      <th>score</th>\n",
       "      <th>topic</th>\n",
       "      <th>review</th>\n",
       "      <th>sentiment</th>\n",
       "    </tr>\n",
       "    <tr>\n",
       "      <th>id</th>\n",
       "      <th></th>\n",
       "      <th></th>\n",
       "      <th></th>\n",
       "      <th></th>\n",
       "      <th></th>\n",
       "    </tr>\n",
       "  </thead>\n",
       "  <tbody>\n",
       "    <tr>\n",
       "      <th>1</th>\n",
       "      <td>Singapore</td>\n",
       "      <td>5</td>\n",
       "      <td>Nice</td>\n",
       "      <td>It's helpful for all communication</td>\n",
       "      <td>positive</td>\n",
       "    </tr>\n",
       "  </tbody>\n",
       "</table>\n",
       "</div>"
      ],
      "text/plain": [
       "      country  score topic                              review sentiment\n",
       "id                                                                      \n",
       "1   Singapore      5  Nice  It's helpful for all communication  positive"
      ]
     },
     "execution_count": 57,
     "metadata": {},
     "output_type": "execute_result"
    }
   ],
   "source": [
    "la2.head(1)"
   ]
  },
  {
   "cell_type": "markdown",
   "metadata": {},
   "source": [
    "# TRAIN WITH COMBINED LABELS AND REVIEWS"
   ]
  },
  {
   "cell_type": "code",
   "execution_count": 58,
   "metadata": {},
   "outputs": [
    {
     "name": "stdout",
     "output_type": "stream",
     "text": [
      "2795 2560 5355\n"
     ]
    }
   ],
   "source": [
    "print(len(la.review),\n",
    "     len(la2.review),\n",
    "      (len(la.review) + len(la2.review)))"
   ]
  },
  {
   "cell_type": "code",
   "execution_count": 59,
   "metadata": {},
   "outputs": [
    {
     "name": "stdout",
     "output_type": "stream",
     "text": [
      "<class 'pandas.core.frame.DataFrame'>\n",
      "Int64Index: 5355 entries, 0 to 419\n",
      "Data columns (total 5 columns):\n",
      "country      5355 non-null object\n",
      "review       5355 non-null object\n",
      "score        5355 non-null int64\n",
      "sentiment    5355 non-null object\n",
      "topic        5355 non-null object\n",
      "dtypes: int64(1), object(4)\n",
      "memory usage: 251.0+ KB\n"
     ]
    },
    {
     "name": "stderr",
     "output_type": "stream",
     "text": [
      "/usr/local/lib/python3.7/site-packages/ipykernel_launcher.py:1: FutureWarning: Sorting because non-concatenation axis is not aligned. A future version\n",
      "of pandas will change to not sort by default.\n",
      "\n",
      "To accept the future behavior, pass 'sort=False'.\n",
      "\n",
      "To retain the current behavior and silence the warning, pass 'sort=True'.\n",
      "\n",
      "  \"\"\"Entry point for launching an IPython kernel.\n"
     ]
    }
   ],
   "source": [
    "lac = pd.concat([la, la2])\n",
    "lac = lac.drop(['category'], axis=1)\n",
    "lac.info()"
   ]
  },
  {
   "cell_type": "code",
   "execution_count": 60,
   "metadata": {},
   "outputs": [],
   "source": [
    "lac['review'] = add_features(lac, ['topic', 'score'])\n",
    "lac['review'] = normalize(lac, 'review')\n",
    "lac['review'] = stringify_reviews(lac['review'])"
   ]
  },
  {
   "cell_type": "code",
   "execution_count": 61,
   "metadata": {},
   "outputs": [
    {
     "name": "stdout",
     "output_type": "stream",
     "text": [
      "SGD classifier trained with labels: ['neutral' 'negative' 'positive']\n",
      "/\\/\\/\\/\\/ sgd\n",
      "Recall\t\t 73.86434349719974\n",
      "\n",
      "Precision\t 73.49268825345371\n",
      "\n",
      "F1\t\t 73.62201823612445 \n",
      "\n"
     ]
    }
   ],
   "source": [
    "sen_clf, sen_enc = train_sgd(\n",
    "    stringify_reviews(lac['review']),\n",
    "    collapse_sentiment_labels(lac['sentiment'])\n",
    ")"
   ]
  },
  {
   "cell_type": "code",
   "execution_count": 62,
   "metadata": {},
   "outputs": [
    {
     "name": "stdout",
     "output_type": "stream",
     "text": [
      "/\\/\\/\\/\\/ multinomial naive bayes\n",
      "Recall\t\t 72.37087741132545\n",
      "\n",
      "Precision\t 72.15397621887027\n",
      "\n",
      "F1\t\t 71.23144821140446 \n",
      "\n",
      "/\\/\\/\\/\\/ linear svm\n",
      "Recall\t\t 75.54449284380834\n",
      "\n",
      "Precision\t 75.78246016184696\n",
      "\n",
      "F1\t\t 75.64314802732541 \n",
      "\n",
      "/\\/\\/\\/\\/ logistic regression\n",
      "Recall\t\t 72.18419415059117\n",
      "\n",
      "Precision\t 72.16080239104508\n",
      "\n",
      "F1\t\t 72.13673130689628 \n",
      "\n",
      "/\\/\\/\\/\\/ random forest\n",
      "Recall\t\t 72.55756067205974\n",
      "\n",
      "Precision\t 72.0856697423837\n",
      "\n",
      "F1\t\t 72.10087717398198 \n",
      "\n",
      "/\\/\\/\\/\\/ linear svm, sgd training\n",
      "Recall\t\t 75.17112632233976\n",
      "\n",
      "Precision\t 74.72973258384076\n",
      "\n",
      "F1\t\t 74.86542625810549 \n",
      "\n"
     ]
    }
   ],
   "source": [
    "train_clfs(stringify_reviews(lac['review']),\n",
    "          collapse_sentiment_labels(lac['sentiment']))"
   ]
  },
  {
   "cell_type": "code",
   "execution_count": 63,
   "metadata": {},
   "outputs": [],
   "source": [
    "import matplotlib.pyplot as plt\n",
    "\n",
    "def piec(s, l):\n",
    "    fig1, ax1 = plt.subplots()\n",
    "    ax1.pie(s, labels=l, autopct='%1.1f%%', startangle=90)\n",
    "    ax1.axis('equal')\n",
    "    plt.figure(figsize=(20,10)) \n",
    "    plt.show()"
   ]
  },
  {
   "cell_type": "markdown",
   "metadata": {},
   "source": [
    "# LABEL DISTRIBUTION IN TRAINING DATA"
   ]
  },
  {
   "cell_type": "markdown",
   "metadata": {},
   "source": [
    "## REQUIREMENTS ENGINEERING DATA"
   ]
  },
  {
   "cell_type": "markdown",
   "metadata": {},
   "source": [
    "### SENTIMENT CLASSES"
   ]
  },
  {
   "cell_type": "code",
   "execution_count": 64,
   "metadata": {},
   "outputs": [
    {
     "data": {
      "image/png": "[encoded data removed]",
      "text/plain": [
       "<Figure size 432x288 with 1 Axes>"
      ]
     },
     "metadata": {},
     "output_type": "display_data"
    },
    {
     "data": {
      "text/plain": [
       "<Figure size 1440x720 with 0 Axes>"
      ]
     },
     "metadata": {},
     "output_type": "display_data"
    }
   ],
   "source": [
    "sen = la['sentiment']\n",
    "labels = ['very negative', 'negative', 'neutral', 'positive', 'very positive']\n",
    "sizes = [\n",
    "    len(sen[la.sentiment == 'very negative']),\n",
    "    len(sen[la.sentiment == 'negative']),\n",
    "    len(sen[la.sentiment == 'neutral']),\n",
    "    len(sen[la.sentiment == 'positive']),\n",
    "    len(sen[la.sentiment == 'very positive'])\n",
    "]\n",
    "piec(sizes, labels)"
   ]
  },
  {
   "cell_type": "markdown",
   "metadata": {},
   "source": [
    "### CATEGORY CLASSES"
   ]
  },
  {
   "cell_type": "code",
   "execution_count": 65,
   "metadata": {},
   "outputs": [
    {
     "data": {
      "text/plain": [
       "array(['requirement', 'other', 'bug report'], dtype=object)"
      ]
     },
     "execution_count": 65,
     "metadata": {},
     "output_type": "execute_result"
    }
   ],
   "source": [
    "categories = collapse_category_labels(la['category'])\n",
    "categories.unique()"
   ]
  },
  {
   "cell_type": "code",
   "execution_count": 66,
   "metadata": {},
   "outputs": [
    {
     "data": {
      "text/plain": [
       "1087"
      ]
     },
     "execution_count": 66,
     "metadata": {},
     "output_type": "execute_result"
    }
   ],
   "source": [
    "len(categories[categories == 'requirement'])"
   ]
  },
  {
   "cell_type": "code",
   "execution_count": 67,
   "metadata": {},
   "outputs": [
    {
     "data": {
      "image/png": "[encoded data removed]",
      "text/plain": [
       "<Figure size 432x288 with 1 Axes>"
      ]
     },
     "metadata": {},
     "output_type": "display_data"
    },
    {
     "data": {
      "text/plain": [
       "<Figure size 1440x720 with 0 Axes>"
      ]
     },
     "metadata": {},
     "output_type": "display_data"
    }
   ],
   "source": [
    "labels = ['requirement', 'other', 'bug report']\n",
    "sizes = [\n",
    "    len(categories[categories == 'requirement']),\n",
    "    len(categories[categories == 'other']),\n",
    "    len(categories[categories == 'bug report'])\n",
    "]\n",
    "piec(sizes, labels)"
   ]
  },
  {
   "cell_type": "markdown",
   "metadata": {},
   "source": [
    "## CULTURE STUDY DATA"
   ]
  },
  {
   "cell_type": "markdown",
   "metadata": {},
   "source": [
    "### SENTIMENT CLASSES"
   ]
  },
  {
   "cell_type": "code",
   "execution_count": 68,
   "metadata": {},
   "outputs": [
    {
     "data": {
      "image/png": "[encoded data removed]",
      "text/plain": [
       "<Figure size 432x288 with 1 Axes>"
      ]
     },
     "metadata": {},
     "output_type": "display_data"
    },
    {
     "data": {
      "text/plain": [
       "<Figure size 1440x720 with 0 Axes>"
      ]
     },
     "metadata": {},
     "output_type": "display_data"
    }
   ],
   "source": [
    "sen = l2['sentimentScore']\n",
    "labels = ['very negative', 'negative', 'neutral', 'positive', 'very positive']\n",
    "sizes = [\n",
    "    len(sen[l2.sentimentScore == -2]),\n",
    "    len(sen[l2.sentimentScore == -1]),\n",
    "    len(sen[l2.sentimentScore == 0]),\n",
    "    len(sen[l2.sentimentScore == 1]),\n",
    "    len(sen[l2.sentimentScore == 2]),\n",
    "]\n",
    "piec(sizes, labels)"
   ]
  },
  {
   "cell_type": "code",
   "execution_count": 69,
   "metadata": {
    "scrolled": true
   },
   "outputs": [
    {
     "data": {
      "image/png": "[encoded data removed]",
      "text/plain": [
       "<Figure size 432x288 with 1 Axes>"
      ]
     },
     "metadata": {},
     "output_type": "display_data"
    },
    {
     "data": {
      "text/plain": [
       "<Figure size 1440x720 with 0 Axes>"
      ]
     },
     "metadata": {},
     "output_type": "display_data"
    }
   ],
   "source": [
    "bug_reports = la[la.category == 'bug report']\n",
    "labels = ['very negative', 'negative', 'neutral', 'positive', 'very positive']\n",
    "sizes = []\n",
    "for l in labels:\n",
    "    sizes.append(len(bug_reports[bug_reports.sentiment == l]))\n",
    "piec(sizes, labels)\n",
    "# sentiment distribution in \"bug report\" reviews"
   ]
  },
  {
   "cell_type": "code",
   "execution_count": 70,
   "metadata": {},
   "outputs": [
    {
     "data": {
      "image/png": "[encoded data removed]",
      "text/plain": [
       "<Figure size 432x288 with 1 Axes>"
      ]
     },
     "metadata": {},
     "output_type": "display_data"
    },
    {
     "data": {
      "text/plain": [
       "<Figure size 1440x720 with 0 Axes>"
      ]
     },
     "metadata": {},
     "output_type": "display_data"
    }
   ],
   "source": [
    "requirements = la[la.category == 'requirement']\n",
    "labels = ['very negative', 'negative', 'neutral', 'positive', 'very positive']\n",
    "sizes = []\n",
    "for l in labels:\n",
    "    sizes.append(len(requirements[requirements.sentiment == l]))\n",
    "\n",
    "piec(sizes, labels)\n",
    "# sentiment distribution in \"requirement\" reviews"
   ]
  }
 ],
 "metadata": {
  "kernelspec": {
   "display_name": "Python 3",
   "language": "python",
   "name": "python3"
  },
  "language_info": {
   "codemirror_mode": {
    "name": "ipython",
    "version": 3
   },
   "file_extension": ".py",
   "mimetype": "text/x-python",
   "name": "python",
   "nbconvert_exporter": "python",
   "pygments_lexer": "ipython3",
   "version": "3.7.5"
  }
 },
 "nbformat": 4,
 "nbformat_minor": 2
}
