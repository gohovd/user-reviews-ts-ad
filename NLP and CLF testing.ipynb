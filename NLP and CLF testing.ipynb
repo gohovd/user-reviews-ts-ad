{
 "cells": [
  {
   "cell_type": "code",
   "execution_count": 91,
   "metadata": {},
   "outputs": [],
   "source": [
    "import pandas as pd"
   ]
  },
  {
   "cell_type": "code",
   "execution_count": 92,
   "metadata": {},
   "outputs": [
    {
     "data": {
      "text/html": [
       "<div>\n",
       "<style scoped>\n",
       "    .dataframe tbody tr th:only-of-type {\n",
       "        vertical-align: middle;\n",
       "    }\n",
       "\n",
       "    .dataframe tbody tr th {\n",
       "        vertical-align: top;\n",
       "    }\n",
       "\n",
       "    .dataframe thead th {\n",
       "        text-align: right;\n",
       "    }\n",
       "</style>\n",
       "<table border=\"1\" class=\"dataframe\">\n",
       "  <thead>\n",
       "    <tr style=\"text-align: right;\">\n",
       "      <th></th>\n",
       "      <th>app_name</th>\n",
       "      <th>user_id</th>\n",
       "      <th>user_name</th>\n",
       "      <th>date</th>\n",
       "      <th>country</th>\n",
       "      <th>version</th>\n",
       "      <th>score</th>\n",
       "      <th>topic</th>\n",
       "      <th>review</th>\n",
       "      <th>url</th>\n",
       "      <th>review_id</th>\n",
       "      <th>category_final</th>\n",
       "      <th>sentiment_final</th>\n",
       "      <th>req_final</th>\n",
       "    </tr>\n",
       "  </thead>\n",
       "  <tbody>\n",
       "    <tr>\n",
       "      <th>52505.0</th>\n",
       "      <td>Facebook</td>\n",
       "      <td>246193109</td>\n",
       "      <td>Help is herr</td>\n",
       "      <td>2017-06-21 00:00:00</td>\n",
       "      <td>United States</td>\n",
       "      <td>97</td>\n",
       "      <td>1</td>\n",
       "      <td>Notifications not showing up</td>\n",
       "      <td>The notification badges are showing up on my i...</td>\n",
       "      <td>https://itunes.apple.com/WebObjects/MZStore.wo...</td>\n",
       "      <td>53163.0</td>\n",
       "      <td>requirement</td>\n",
       "      <td>neutral</td>\n",
       "      <td>functional</td>\n",
       "    </tr>\n",
       "  </tbody>\n",
       "</table>\n",
       "</div>"
      ],
      "text/plain": [
       "         app_name    user_id     user_name                 date  \\\n",
       "52505.0  Facebook  246193109  Help is herr  2017-06-21 00:00:00   \n",
       "\n",
       "               country version  score                         topic  \\\n",
       "52505.0  United States      97      1  Notifications not showing up   \n",
       "\n",
       "                                                    review  \\\n",
       "52505.0  The notification badges are showing up on my i...   \n",
       "\n",
       "                                                       url  review_id  \\\n",
       "52505.0  https://itunes.apple.com/WebObjects/MZStore.wo...    53163.0   \n",
       "\n",
       "        category_final sentiment_final   req_final  \n",
       "52505.0    requirement         neutral  functional  "
      ]
     },
     "execution_count": 92,
     "metadata": {},
     "output_type": "execute_result"
    }
   ],
   "source": [
    "l_raw = pd.read_excel(\"data/LData.xlsx\", index_col='Unnamed: 0')\n",
    "l_raw.head(1)"
   ]
  },
  {
   "cell_type": "code",
   "execution_count": 93,
   "metadata": {},
   "outputs": [
    {
     "name": "stdout",
     "output_type": "stream",
     "text": [
      "<class 'pandas.core.frame.DataFrame'>\n",
      "Float64Index: 3000 entries, 52505.0 to 45413.0\n",
      "Data columns (total 14 columns):\n",
      "app_name           3000 non-null object\n",
      "user_id            3000 non-null object\n",
      "user_name          2993 non-null object\n",
      "date               3000 non-null object\n",
      "country            3000 non-null object\n",
      "version            3000 non-null object\n",
      "score              3000 non-null int64\n",
      "topic              2994 non-null object\n",
      "review             2996 non-null object\n",
      "url                2850 non-null object\n",
      "review_id          2850 non-null float64\n",
      "category_final     3000 non-null object\n",
      "sentiment_final    2796 non-null object\n",
      "req_final          1081 non-null object\n",
      "dtypes: float64(1), int64(1), object(12)\n",
      "memory usage: 351.6+ KB\n"
     ]
    }
   ],
   "source": [
    "l_raw.info()\n",
    "la = l_raw"
   ]
  },
  {
   "cell_type": "markdown",
   "metadata": {},
   "source": [
    "# DATA CLEANING"
   ]
  },
  {
   "cell_type": "markdown",
   "metadata": {},
   "source": [
    "* Reindex"
   ]
  },
  {
   "cell_type": "code",
   "execution_count": 94,
   "metadata": {},
   "outputs": [
    {
     "data": {
      "text/html": [
       "<div>\n",
       "<style scoped>\n",
       "    .dataframe tbody tr th:only-of-type {\n",
       "        vertical-align: middle;\n",
       "    }\n",
       "\n",
       "    .dataframe tbody tr th {\n",
       "        vertical-align: top;\n",
       "    }\n",
       "\n",
       "    .dataframe thead th {\n",
       "        text-align: right;\n",
       "    }\n",
       "</style>\n",
       "<table border=\"1\" class=\"dataframe\">\n",
       "  <thead>\n",
       "    <tr style=\"text-align: right;\">\n",
       "      <th></th>\n",
       "      <th>app_name</th>\n",
       "      <th>user_id</th>\n",
       "      <th>user_name</th>\n",
       "      <th>date</th>\n",
       "      <th>country</th>\n",
       "      <th>version</th>\n",
       "      <th>score</th>\n",
       "      <th>topic</th>\n",
       "      <th>review</th>\n",
       "      <th>url</th>\n",
       "      <th>review_id</th>\n",
       "      <th>category_final</th>\n",
       "      <th>sentiment_final</th>\n",
       "      <th>req_final</th>\n",
       "    </tr>\n",
       "  </thead>\n",
       "  <tbody>\n",
       "    <tr>\n",
       "      <th>0</th>\n",
       "      <td>Facebook</td>\n",
       "      <td>246193109</td>\n",
       "      <td>Help is herr</td>\n",
       "      <td>2017-06-21 00:00:00</td>\n",
       "      <td>United States</td>\n",
       "      <td>97</td>\n",
       "      <td>1</td>\n",
       "      <td>Notifications not showing up</td>\n",
       "      <td>The notification badges are showing up on my i...</td>\n",
       "      <td>https://itunes.apple.com/WebObjects/MZStore.wo...</td>\n",
       "      <td>53163.0</td>\n",
       "      <td>requirement</td>\n",
       "      <td>neutral</td>\n",
       "      <td>functional</td>\n",
       "    </tr>\n",
       "    <tr>\n",
       "      <th>1</th>\n",
       "      <td>Facebook</td>\n",
       "      <td>43034279</td>\n",
       "      <td>javamdnss</td>\n",
       "      <td>2017-06-16 00:00:00</td>\n",
       "      <td>United States</td>\n",
       "      <td>97</td>\n",
       "      <td>1</td>\n",
       "      <td>Hate it!</td>\n",
       "      <td>Why do they make changes we don't need? Now th...</td>\n",
       "      <td>https://itunes.apple.com/WebObjects/MZStore.wo...</td>\n",
       "      <td>53905.0</td>\n",
       "      <td>other</td>\n",
       "      <td>very negative</td>\n",
       "      <td>NaN</td>\n",
       "    </tr>\n",
       "    <tr>\n",
       "      <th>2</th>\n",
       "      <td>Facebook</td>\n",
       "      <td>496978255</td>\n",
       "      <td>NaN</td>\n",
       "      <td>2017-05-27 00:00:00</td>\n",
       "      <td>Hong Kong</td>\n",
       "      <td>94</td>\n",
       "      <td>1</td>\n",
       "      <td>Useless function n poor experience</td>\n",
       "      <td>Story is useless n annoying to user. \\nCan't s...</td>\n",
       "      <td>https://itunes.apple.com/WebObjects/MZStore.wo...</td>\n",
       "      <td>47401.0</td>\n",
       "      <td>other</td>\n",
       "      <td>negative</td>\n",
       "      <td>NaN</td>\n",
       "    </tr>\n",
       "    <tr>\n",
       "      <th>3</th>\n",
       "      <td>Facebook</td>\n",
       "      <td>139595037</td>\n",
       "      <td>Gilbertiggy</td>\n",
       "      <td>2017-05-26 00:00:00</td>\n",
       "      <td>United Kingdom</td>\n",
       "      <td>94</td>\n",
       "      <td>1</td>\n",
       "      <td>To many updates!</td>\n",
       "      <td>This app is always having an update for someth...</td>\n",
       "      <td>https://itunes.apple.com/WebObjects/MZStore.wo...</td>\n",
       "      <td>42233.0</td>\n",
       "      <td>requirement</td>\n",
       "      <td>negative</td>\n",
       "      <td>functional</td>\n",
       "    </tr>\n",
       "    <tr>\n",
       "      <th>4</th>\n",
       "      <td>Facebook</td>\n",
       "      <td>180832062</td>\n",
       "      <td>Princess Lou 24</td>\n",
       "      <td>2017-06-01 00:00:00</td>\n",
       "      <td>United Kingdom</td>\n",
       "      <td>94</td>\n",
       "      <td>1</td>\n",
       "      <td>Photo albums</td>\n",
       "      <td>Just spent an hour trying to upload photos and...</td>\n",
       "      <td>https://itunes.apple.com/WebObjects/MZStore.wo...</td>\n",
       "      <td>42066.0</td>\n",
       "      <td>requirement</td>\n",
       "      <td>negative</td>\n",
       "      <td>non-functional</td>\n",
       "    </tr>\n",
       "  </tbody>\n",
       "</table>\n",
       "</div>"
      ],
      "text/plain": [
       "   app_name    user_id        user_name                 date         country  \\\n",
       "0  Facebook  246193109     Help is herr  2017-06-21 00:00:00   United States   \n",
       "1  Facebook   43034279        javamdnss  2017-06-16 00:00:00   United States   \n",
       "2  Facebook  496978255              NaN  2017-05-27 00:00:00       Hong Kong   \n",
       "3  Facebook  139595037      Gilbertiggy  2017-05-26 00:00:00  United Kingdom   \n",
       "4  Facebook  180832062  Princess Lou 24  2017-06-01 00:00:00  United Kingdom   \n",
       "\n",
       "  version  score                               topic  \\\n",
       "0      97      1        Notifications not showing up   \n",
       "1      97      1                            Hate it!   \n",
       "2      94      1  Useless function n poor experience   \n",
       "3      94      1                    To many updates!   \n",
       "4      94      1                        Photo albums   \n",
       "\n",
       "                                              review  \\\n",
       "0  The notification badges are showing up on my i...   \n",
       "1  Why do they make changes we don't need? Now th...   \n",
       "2  Story is useless n annoying to user. \\nCan't s...   \n",
       "3  This app is always having an update for someth...   \n",
       "4  Just spent an hour trying to upload photos and...   \n",
       "\n",
       "                                                 url  review_id  \\\n",
       "0  https://itunes.apple.com/WebObjects/MZStore.wo...    53163.0   \n",
       "1  https://itunes.apple.com/WebObjects/MZStore.wo...    53905.0   \n",
       "2  https://itunes.apple.com/WebObjects/MZStore.wo...    47401.0   \n",
       "3  https://itunes.apple.com/WebObjects/MZStore.wo...    42233.0   \n",
       "4  https://itunes.apple.com/WebObjects/MZStore.wo...    42066.0   \n",
       "\n",
       "  category_final sentiment_final       req_final  \n",
       "0    requirement         neutral      functional  \n",
       "1          other   very negative             NaN  \n",
       "2          other        negative             NaN  \n",
       "3    requirement        negative      functional  \n",
       "4    requirement        negative  non-functional  "
      ]
     },
     "execution_count": 94,
     "metadata": {},
     "output_type": "execute_result"
    }
   ],
   "source": [
    "la = la.reset_index(drop=True)\n",
    "la.head()"
   ]
  },
  {
   "cell_type": "markdown",
   "metadata": {},
   "source": [
    "* Drop unneccessary columns"
   ]
  },
  {
   "cell_type": "code",
   "execution_count": 95,
   "metadata": {},
   "outputs": [
    {
     "data": {
      "text/html": [
       "<div>\n",
       "<style scoped>\n",
       "    .dataframe tbody tr th:only-of-type {\n",
       "        vertical-align: middle;\n",
       "    }\n",
       "\n",
       "    .dataframe tbody tr th {\n",
       "        vertical-align: top;\n",
       "    }\n",
       "\n",
       "    .dataframe thead th {\n",
       "        text-align: right;\n",
       "    }\n",
       "</style>\n",
       "<table border=\"1\" class=\"dataframe\">\n",
       "  <thead>\n",
       "    <tr style=\"text-align: right;\">\n",
       "      <th></th>\n",
       "      <th>country</th>\n",
       "      <th>score</th>\n",
       "      <th>topic</th>\n",
       "      <th>review</th>\n",
       "      <th>category_final</th>\n",
       "      <th>sentiment_final</th>\n",
       "    </tr>\n",
       "  </thead>\n",
       "  <tbody>\n",
       "    <tr>\n",
       "      <th>0</th>\n",
       "      <td>United States</td>\n",
       "      <td>1</td>\n",
       "      <td>Notifications not showing up</td>\n",
       "      <td>The notification badges are showing up on my i...</td>\n",
       "      <td>requirement</td>\n",
       "      <td>neutral</td>\n",
       "    </tr>\n",
       "  </tbody>\n",
       "</table>\n",
       "</div>"
      ],
      "text/plain": [
       "         country  score                         topic  \\\n",
       "0  United States      1  Notifications not showing up   \n",
       "\n",
       "                                              review category_final  \\\n",
       "0  The notification badges are showing up on my i...    requirement   \n",
       "\n",
       "  sentiment_final  \n",
       "0         neutral  "
      ]
     },
     "execution_count": 95,
     "metadata": {},
     "output_type": "execute_result"
    }
   ],
   "source": [
    "la = la.drop(['user_id', 'url', 'review_id', 'version', 'user_name', 'app_name', 'date', 'req_final'], axis=1)\n",
    "la.head(1)"
   ]
  },
  {
   "cell_type": "markdown",
   "metadata": {},
   "source": [
    "* Rename label columns"
   ]
  },
  {
   "cell_type": "code",
   "execution_count": 96,
   "metadata": {},
   "outputs": [
    {
     "data": {
      "text/html": [
       "<div>\n",
       "<style scoped>\n",
       "    .dataframe tbody tr th:only-of-type {\n",
       "        vertical-align: middle;\n",
       "    }\n",
       "\n",
       "    .dataframe tbody tr th {\n",
       "        vertical-align: top;\n",
       "    }\n",
       "\n",
       "    .dataframe thead th {\n",
       "        text-align: right;\n",
       "    }\n",
       "</style>\n",
       "<table border=\"1\" class=\"dataframe\">\n",
       "  <thead>\n",
       "    <tr style=\"text-align: right;\">\n",
       "      <th></th>\n",
       "      <th>country</th>\n",
       "      <th>score</th>\n",
       "      <th>topic</th>\n",
       "      <th>review</th>\n",
       "      <th>category</th>\n",
       "      <th>sentiment</th>\n",
       "    </tr>\n",
       "  </thead>\n",
       "  <tbody>\n",
       "    <tr>\n",
       "      <th>0</th>\n",
       "      <td>United States</td>\n",
       "      <td>1</td>\n",
       "      <td>Notifications not showing up</td>\n",
       "      <td>The notification badges are showing up on my i...</td>\n",
       "      <td>requirement</td>\n",
       "      <td>neutral</td>\n",
       "    </tr>\n",
       "  </tbody>\n",
       "</table>\n",
       "</div>"
      ],
      "text/plain": [
       "         country  score                         topic  \\\n",
       "0  United States      1  Notifications not showing up   \n",
       "\n",
       "                                              review     category sentiment  \n",
       "0  The notification badges are showing up on my i...  requirement   neutral  "
      ]
     },
     "execution_count": 96,
     "metadata": {},
     "output_type": "execute_result"
    }
   ],
   "source": [
    "la = la.rename(columns = {\n",
    "    \"category_final\": \"category\",\n",
    "    \"sentiment_final\": \"sentiment\"\n",
    "}, errors=\"raise\")\n",
    "la.head(1)"
   ]
  },
  {
   "cell_type": "markdown",
   "metadata": {},
   "source": [
    "* Remove NaN rows"
   ]
  },
  {
   "cell_type": "code",
   "execution_count": 97,
   "metadata": {},
   "outputs": [
    {
     "name": "stdout",
     "output_type": "stream",
     "text": [
      "<class 'pandas.core.frame.DataFrame'>\n",
      "Int64Index: 2795 entries, 0 to 2999\n",
      "Data columns (total 6 columns):\n",
      "country      2795 non-null object\n",
      "score        2795 non-null int64\n",
      "topic        2795 non-null object\n",
      "review       2795 non-null object\n",
      "category     2795 non-null object\n",
      "sentiment    2795 non-null object\n",
      "dtypes: int64(1), object(5)\n",
      "memory usage: 152.9+ KB\n"
     ]
    }
   ],
   "source": [
    "# l = l[l['review'].notna()] # take the rows that are not NaN\n",
    "la = la.dropna() # remove any row with at least one value missing NaN\n",
    "la.info()"
   ]
  },
  {
   "cell_type": "code",
   "execution_count": 98,
   "metadata": {},
   "outputs": [],
   "source": [
    "# https://docs.python.org/2/library/string.html\n",
    "import string\n",
    "import nltk\n",
    "from nltk import word_tokenize\n",
    "from nltk.stem import WordNetLemmatizer\n",
    "from nltk.corpus import stopwords\n",
    "from nltk.stem.porter import PorterStemmer\n",
    "import re"
   ]
  },
  {
   "cell_type": "code",
   "execution_count": 99,
   "metadata": {},
   "outputs": [],
   "source": [
    "def remove_punctuation(data, column):\n",
    "    \"\"\"\n",
    "    Uses string.punctuation list to remove unwarranted characeters\n",
    "    !\"#$%&\\'()*+,-./:;<=>?@[\\\\]^_`{|}~'\n",
    "    \"\"\"\n",
    "    punctuation_table = str.maketrans('', '', string.punctuation)\n",
    "    stripped = [review.translate(punctuation_table) for review in data[column]]\n",
    "    return stripped\n",
    "\n",
    "def lowercase(data, column):\n",
    "    review_arr = data[column].to_list()\n",
    "    return [review.lower() for review in review_arr]\n",
    "\n",
    "def asciionly(data, column):\n",
    "    new_reviews = []\n",
    "    for review in data[column]:\n",
    "        review = re.sub('[^A-Za-z0-9\\s]', '', review)\n",
    "        new_reviews.append(review)\n",
    "    return new_reviews\n",
    "\n",
    "def new_line_to_space(data, column):\n",
    "    new_reviews = []\n",
    "    for review in data[column]:\n",
    "        nr = review.replace('\\n', ' ')\n",
    "        nr = nr.replace('\\t', '') # remove tab as well\n",
    "        new_reviews.append(nr)\n",
    "    return new_reviews\n",
    "\n",
    "def remove_single_characters(data, column):\n",
    "    new_reviews = []\n",
    "    for review in data[column]:\n",
    "        words = review.split(\" \")\n",
    "        new_words = []\n",
    "        for index, word in enumerate(words):\n",
    "            if (len(word) > 1):\n",
    "                new_words.append(word)\n",
    "        new_review = \" \".join(word for word in new_words)\n",
    "        new_reviews.append(new_review)\n",
    "    return new_reviews\n",
    "\n",
    "def remove_non_english(data, column):\n",
    "    words = set(nltk.corpus.words.words())\n",
    "    new_reviews = []\n",
    "    for review in data[column]:\n",
    "        new_review = \" \".join(w for w in nltk.wordpunct_tokenize(review) if w.lower() in words or not w.isalpha())\n",
    "        new_reviews.append(new_review)\n",
    "    return new_reviews\n",
    "\n",
    "def remove_stopwords(data, column):\n",
    "    stop_words = stopwords.words('english')\n",
    "    new_reviews = []\n",
    "    for review in data[column]:\n",
    "        new_words = []\n",
    "        for word in review.split(\" \"):\n",
    "            if word not in stop_words:\n",
    "                new_words.append(word)\n",
    "        new_review = \" \".join(w for w in new_words)\n",
    "        new_reviews.append(new_review)  \n",
    "    return new_reviews\n",
    "\n",
    "def tokenize_words(data, column):\n",
    "    tokenized_reviews = []\n",
    "    for review in data[column]:\n",
    "        tokenized_reviews.append(word_tokenize(review))\n",
    "    return tokenized_reviews\n",
    "\n",
    "def stem(data, column):\n",
    "    porter = PorterStemmer()\n",
    "    new_reviews = []\n",
    "    for review_tokens in data[column]:\n",
    "        stemmed = [porter.stem(word) for word in review_tokens]\n",
    "        new_reviews.append(stemmed)\n",
    "    return new_reviews\n",
    "\n",
    "def lemmatize(data, column):\n",
    "    wnt = WordNetLemmatizer()\n",
    "    new_reviews = []\n",
    "    for review_tokens in data[column]:\n",
    "        lemmas = []   \n",
    "        for word in review_tokens:\n",
    "            lemma = wnt.lemmatize(word, pos='v')\n",
    "            lemmas.append(lemma)\n",
    "        new_reviews.append(lemmas)\n",
    "    return new_reviews"
   ]
  },
  {
   "cell_type": "code",
   "execution_count": 10,
   "metadata": {},
   "outputs": [],
   "source": [
    "# testing\n",
    "review = \"The notification badges are showing up on my iphone when i don't want them to and stuff I can't believe this\"\n",
    "rdi = { 'review' : [review] }\n",
    "te = pd.DataFrame(rdi)"
   ]
  },
  {
   "cell_type": "code",
   "execution_count": 11,
   "metadata": {},
   "outputs": [
    {
     "data": {
      "text/plain": [
       "['The',\n",
       " 'notification',\n",
       " 'badges',\n",
       " 'are',\n",
       " 'showing',\n",
       " 'up',\n",
       " 'on',\n",
       " 'my',\n",
       " 'iphone',\n",
       " 'when',\n",
       " 'i',\n",
       " 'do',\n",
       " \"n't\",\n",
       " 'want',\n",
       " 'them',\n",
       " 'to',\n",
       " 'and',\n",
       " 'stuff',\n",
       " 'I',\n",
       " 'ca',\n",
       " \"n't\",\n",
       " 'believe',\n",
       " 'this']"
      ]
     },
     "execution_count": 11,
     "metadata": {},
     "output_type": "execute_result"
    }
   ],
   "source": [
    "te['review'] = tokenize_words(te, 'review')\n",
    "te['review'][0]"
   ]
  },
  {
   "cell_type": "code",
   "execution_count": 12,
   "metadata": {},
   "outputs": [
    {
     "data": {
      "text/plain": [
       "list"
      ]
     },
     "execution_count": 12,
     "metadata": {},
     "output_type": "execute_result"
    }
   ],
   "source": [
    "type(te['review'][0])"
   ]
  },
  {
   "cell_type": "code",
   "execution_count": 13,
   "metadata": {},
   "outputs": [
    {
     "data": {
      "text/plain": [
       "[['The',\n",
       "  'notification',\n",
       "  'badge',\n",
       "  'be',\n",
       "  'show',\n",
       "  'up',\n",
       "  'on',\n",
       "  'my',\n",
       "  'iphone',\n",
       "  'when',\n",
       "  'i',\n",
       "  'do',\n",
       "  \"n't\",\n",
       "  'want',\n",
       "  'them',\n",
       "  'to',\n",
       "  'and',\n",
       "  'stuff',\n",
       "  'I',\n",
       "  'ca',\n",
       "  \"n't\",\n",
       "  'believe',\n",
       "  'this']]"
      ]
     },
     "execution_count": 13,
     "metadata": {},
     "output_type": "execute_result"
    }
   ],
   "source": [
    "te = lemmatize(te, 'review')\n",
    "te"
   ]
  },
  {
   "cell_type": "code",
   "execution_count": 14,
   "metadata": {},
   "outputs": [
    {
     "data": {
      "text/html": [
       "<div>\n",
       "<style scoped>\n",
       "    .dataframe tbody tr th:only-of-type {\n",
       "        vertical-align: middle;\n",
       "    }\n",
       "\n",
       "    .dataframe tbody tr th {\n",
       "        vertical-align: top;\n",
       "    }\n",
       "\n",
       "    .dataframe thead th {\n",
       "        text-align: right;\n",
       "    }\n",
       "</style>\n",
       "<table border=\"1\" class=\"dataframe\">\n",
       "  <thead>\n",
       "    <tr style=\"text-align: right;\">\n",
       "      <th></th>\n",
       "      <th>country</th>\n",
       "      <th>score</th>\n",
       "      <th>topic</th>\n",
       "      <th>review</th>\n",
       "      <th>category</th>\n",
       "      <th>sentiment</th>\n",
       "    </tr>\n",
       "  </thead>\n",
       "  <tbody>\n",
       "    <tr>\n",
       "      <th>0</th>\n",
       "      <td>United States</td>\n",
       "      <td>1</td>\n",
       "      <td>Notifications not showing up</td>\n",
       "      <td>The notification badges are showing up on my i...</td>\n",
       "      <td>requirement</td>\n",
       "      <td>neutral</td>\n",
       "    </tr>\n",
       "  </tbody>\n",
       "</table>\n",
       "</div>"
      ],
      "text/plain": [
       "         country  score                         topic  \\\n",
       "0  United States      1  Notifications not showing up   \n",
       "\n",
       "                                              review     category sentiment  \n",
       "0  The notification badges are showing up on my i...  requirement   neutral  "
      ]
     },
     "execution_count": 14,
     "metadata": {},
     "output_type": "execute_result"
    }
   ],
   "source": [
    "la.head(1)"
   ]
  },
  {
   "cell_type": "code",
   "execution_count": 15,
   "metadata": {},
   "outputs": [
    {
     "data": {
      "text/html": [
       "<div>\n",
       "<style scoped>\n",
       "    .dataframe tbody tr th:only-of-type {\n",
       "        vertical-align: middle;\n",
       "    }\n",
       "\n",
       "    .dataframe tbody tr th {\n",
       "        vertical-align: top;\n",
       "    }\n",
       "\n",
       "    .dataframe thead th {\n",
       "        text-align: right;\n",
       "    }\n",
       "</style>\n",
       "<table border=\"1\" class=\"dataframe\">\n",
       "  <thead>\n",
       "    <tr style=\"text-align: right;\">\n",
       "      <th></th>\n",
       "      <th>country</th>\n",
       "      <th>score</th>\n",
       "      <th>topic</th>\n",
       "      <th>review</th>\n",
       "      <th>category</th>\n",
       "      <th>sentiment</th>\n",
       "    </tr>\n",
       "  </thead>\n",
       "  <tbody>\n",
       "    <tr>\n",
       "      <th>0</th>\n",
       "      <td>United States</td>\n",
       "      <td>1</td>\n",
       "      <td>Notifications not showing up</td>\n",
       "      <td>The notification badges are showing up on my i...</td>\n",
       "      <td>requirement</td>\n",
       "      <td>neutral</td>\n",
       "    </tr>\n",
       "    <tr>\n",
       "      <th>1</th>\n",
       "      <td>United States</td>\n",
       "      <td>1</td>\n",
       "      <td>Hate it!</td>\n",
       "      <td>Why do they make changes we don't need? Now th...</td>\n",
       "      <td>other</td>\n",
       "      <td>very negative</td>\n",
       "    </tr>\n",
       "    <tr>\n",
       "      <th>2</th>\n",
       "      <td>Hong Kong</td>\n",
       "      <td>1</td>\n",
       "      <td>Useless function n poor experience</td>\n",
       "      <td>Story is useless n annoying to user. \\nCan't s...</td>\n",
       "      <td>other</td>\n",
       "      <td>negative</td>\n",
       "    </tr>\n",
       "    <tr>\n",
       "      <th>3</th>\n",
       "      <td>United Kingdom</td>\n",
       "      <td>1</td>\n",
       "      <td>To many updates!</td>\n",
       "      <td>This app is always having an update for someth...</td>\n",
       "      <td>requirement</td>\n",
       "      <td>negative</td>\n",
       "    </tr>\n",
       "    <tr>\n",
       "      <th>4</th>\n",
       "      <td>United Kingdom</td>\n",
       "      <td>1</td>\n",
       "      <td>Photo albums</td>\n",
       "      <td>Just spent an hour trying to upload photos and...</td>\n",
       "      <td>requirement</td>\n",
       "      <td>negative</td>\n",
       "    </tr>\n",
       "  </tbody>\n",
       "</table>\n",
       "</div>"
      ],
      "text/plain": [
       "          country  score                               topic  \\\n",
       "0   United States      1        Notifications not showing up   \n",
       "1   United States      1                            Hate it!   \n",
       "2       Hong Kong      1  Useless function n poor experience   \n",
       "3  United Kingdom      1                    To many updates!   \n",
       "4  United Kingdom      1                        Photo albums   \n",
       "\n",
       "                                              review     category  \\\n",
       "0  The notification badges are showing up on my i...  requirement   \n",
       "1  Why do they make changes we don't need? Now th...        other   \n",
       "2  Story is useless n annoying to user. \\nCan't s...        other   \n",
       "3  This app is always having an update for someth...  requirement   \n",
       "4  Just spent an hour trying to upload photos and...  requirement   \n",
       "\n",
       "       sentiment  \n",
       "0        neutral  \n",
       "1  very negative  \n",
       "2       negative  \n",
       "3       negative  \n",
       "4       negative  "
      ]
     },
     "execution_count": 15,
     "metadata": {},
     "output_type": "execute_result"
    }
   ],
   "source": [
    "norm_l = la.copy()\n",
    "norm_l.head()"
   ]
  },
  {
   "cell_type": "code",
   "execution_count": 16,
   "metadata": {},
   "outputs": [],
   "source": [
    "def normalize(data, column):\n",
    "    data[column] = lowercase(data, column)\n",
    "#     data[column] = remove_non_english(data, column)\n",
    "    data[column] = remove_punctuation(data, column)\n",
    "    data[column] = asciionly(data, column)\n",
    "    data[column] = new_line_to_space(data, column)\n",
    "    data[column] = remove_single_characters(data, column)\n",
    "    data[column] = remove_stopwords(data, column)\n",
    "    data[column] = tokenize_words(data, column)\n",
    "#     data[column] = stem(data, column)\n",
    "    data[column] = lemmatize(data, column)\n",
    "    return data[column]"
   ]
  },
  {
   "cell_type": "code",
   "execution_count": 17,
   "metadata": {},
   "outputs": [
    {
     "data": {
      "text/html": [
       "<div>\n",
       "<style scoped>\n",
       "    .dataframe tbody tr th:only-of-type {\n",
       "        vertical-align: middle;\n",
       "    }\n",
       "\n",
       "    .dataframe tbody tr th {\n",
       "        vertical-align: top;\n",
       "    }\n",
       "\n",
       "    .dataframe thead th {\n",
       "        text-align: right;\n",
       "    }\n",
       "</style>\n",
       "<table border=\"1\" class=\"dataframe\">\n",
       "  <thead>\n",
       "    <tr style=\"text-align: right;\">\n",
       "      <th></th>\n",
       "      <th>country</th>\n",
       "      <th>score</th>\n",
       "      <th>topic</th>\n",
       "      <th>review</th>\n",
       "      <th>category</th>\n",
       "      <th>sentiment</th>\n",
       "    </tr>\n",
       "  </thead>\n",
       "  <tbody>\n",
       "    <tr>\n",
       "      <th>0</th>\n",
       "      <td>United States</td>\n",
       "      <td>1</td>\n",
       "      <td>Notifications not showing up</td>\n",
       "      <td>[notification, badge, show, iphone, plus, open...</td>\n",
       "      <td>requirement</td>\n",
       "      <td>neutral</td>\n",
       "    </tr>\n",
       "  </tbody>\n",
       "</table>\n",
       "</div>"
      ],
      "text/plain": [
       "         country  score                         topic  \\\n",
       "0  United States      1  Notifications not showing up   \n",
       "\n",
       "                                              review     category sentiment  \n",
       "0  [notification, badge, show, iphone, plus, open...  requirement   neutral  "
      ]
     },
     "execution_count": 17,
     "metadata": {},
     "output_type": "execute_result"
    }
   ],
   "source": [
    "norm_l['review'] = normalize(norm_l, 'review')\n",
    "norm_l.head(1)"
   ]
  },
  {
   "cell_type": "code",
   "execution_count": 18,
   "metadata": {},
   "outputs": [
    {
     "data": {
      "text/plain": [
       "['cant', 'remove', 'reactions', 'interface', 'unusable', 'stupid']"
      ]
     },
     "execution_count": 18,
     "metadata": {},
     "output_type": "execute_result"
    }
   ],
   "source": [
    "r = norm_l['review'][321]\n",
    "r"
   ]
  },
  {
   "cell_type": "markdown",
   "metadata": {},
   "source": [
    "# CLASSIFIER TRAINING"
   ]
  },
  {
   "cell_type": "code",
   "execution_count": 19,
   "metadata": {},
   "outputs": [],
   "source": [
    "from sklearn.feature_extraction.text import CountVectorizer\n",
    "from sklearn.feature_extraction.text import TfidfVectorizer\n",
    "from sklearn.feature_extraction.text import TfidfTransformer\n",
    "\n",
    "from sklearn.preprocessing import LabelEncoder\n",
    "\n",
    "from sklearn.linear_model import LogisticRegression\n",
    "from sklearn.ensemble import RandomForestClassifier\n",
    "from sklearn.tree import DecisionTreeClassifier\n",
    "from sklearn import model_selection, naive_bayes, svm\n",
    "from sklearn.linear_model import SGDClassifier\n",
    "\n",
    "from sklearn.metrics import accuracy_score, precision_score, recall_score, f1_score\n",
    "from sklearn import metrics\n",
    "\n",
    "from sklearn.model_selection import cross_val_score"
   ]
  },
  {
   "cell_type": "code",
   "execution_count": 20,
   "metadata": {},
   "outputs": [],
   "source": [
    "def collapse_labels(labels):\n",
    "    new_labels = []\n",
    "    pos = ['positive', 'very positive', 'positve', 'postive']\n",
    "    neg = ['negative', 'very negative']\n",
    "    for label in labels:\n",
    "        label = label.lower()\n",
    "        if label in pos:\n",
    "            label = \"positive\"\n",
    "        elif label in neg:\n",
    "            label = \"negative\"\n",
    "        new_labels.append(label)\n",
    "    return pd.Series(new_labels)\n",
    "\n",
    "def stringify_reviews(reviews):\n",
    "    new_reviews = []\n",
    "    for review in reviews:\n",
    "        new_reviews.append(str(review))\n",
    "    return new_reviews"
   ]
  },
  {
   "cell_type": "markdown",
   "metadata": {},
   "source": [
    "## SENTIMENT"
   ]
  },
  {
   "cell_type": "code",
   "execution_count": 21,
   "metadata": {
    "scrolled": true
   },
   "outputs": [],
   "source": [
    "labels = collapse_labels(norm_l['sentiment'])\n",
    "reviews = stringify_reviews(norm_l['review'])"
   ]
  },
  {
   "cell_type": "code",
   "execution_count": 22,
   "metadata": {},
   "outputs": [],
   "source": [
    "from sklearn.pipeline import Pipeline\n",
    "import numpy as np\n",
    "\n",
    "tfidf_vectorizer = TfidfVectorizer(max_features=5000)\n",
    "count_vectorizer = CountVectorizer(min_df=25, ngram_range=(1,2))\n",
    "\n",
    "def train_clfs(reviews, labels, mf=5000):\n",
    "    \"\"\"\n",
    "    Encode target labels with value between 0 and n_classes-1.\n",
    "    \"\"\"\n",
    "    encoder = LabelEncoder()\n",
    "    encoded_labels = encoder.fit_transform(labels)\n",
    "    \n",
    "    \"\"\"\n",
    "    Split training and test data (70/30)\n",
    "    \"\"\"\n",
    "    X_train, X_test, y_train, y_test = model_selection.train_test_split(\n",
    "        reviews,\n",
    "        encoded_labels,\n",
    "        random_state=8,\n",
    "        train_size=0.7\n",
    "    )\n",
    "    \n",
    "    \"\"\"\n",
    "    TF-IDF\n",
    "    \"\"\"\n",
    "    tfidf_vectorizer.fit(reviews) # on the entire vocabulary\n",
    "    \n",
    "    X_train_tfidf = tfidf_vectorizer.transform(X_train)\n",
    "    X_test_tfidf = tfidf_vectorizer.transform(X_test)\n",
    "    \n",
    "    \"\"\"\n",
    "    Models\n",
    "    \"\"\"\n",
    "    nb = naive_bayes.MultinomialNB().fit(X_train_tfidf, y_train)\n",
    "    nb_y_preds = nb.predict(X_test_tfidf)\n",
    "    print_performance(\"multinomial naive bayes\",\n",
    "                     y_test, nb_y_preds)\n",
    "    \n",
    "    SVM = svm.SVC(C=1.0, kernel='linear', gamma='auto').fit(X_train_tfidf, y_train)\n",
    "    SVM_y_preds = SVM.predict(X_test_tfidf)\n",
    "    print_performance(\"svm\", y_test, SVM_y_preds)\n",
    "        \n",
    "    count_vectorizer.fit(X_train)\n",
    "    X_train_vect = count_vectorizer.transform(X_train)\n",
    "    X_test_vect = count_vectorizer.transform(X_test)\n",
    "    \n",
    "    lr = LogisticRegression(solver='liblinear', multi_class='auto').fit(X_train_vect, y_train)\n",
    "    lr_y_preds = lr.predict(X_test_vect)\n",
    "    print_performance(\"logistic regression\", y_test, lr_y_preds)\n",
    "    \n",
    "    rf = RandomForestClassifier(max_depth=50).fit(X_train_tfidf, y_train)\n",
    "    X_vect_test_tfidf = tfidf_vectorizer.transform(X_test)\n",
    "    rf_y_preds = rf.predict(X_vect_test_tfidf)\n",
    "    print_performance(\"random forest\", y_test, rf_y_preds)\n",
    "    \n",
    "    sgd = SGDClassifier(loss='hinge', penalty='l2',\n",
    "                             alpha=1e-3, random_state=42,\n",
    "                             max_iter=5, tol=None).fit(X_train_tfidf, y_train)\n",
    "    sgd_y_preds = sgd.predict(X_vect_test_tfidf)\n",
    "    print_performance(\"sgd\", y_test, sgd_y_preds)\n",
    "    \n",
    "def print_performance(title, test, predicted):\n",
    "    print(f'/\\/\\/\\/\\/ {title}')\n",
    "    print(\"Recall\\t\\t\",recall_score(test, predicted, average=\"weighted\")*100)\n",
    "    print()\n",
    "    print(\"Precision\\t\", precision_score(test, predicted, average='weighted')*100)\n",
    "    print()\n",
    "    print(\"F1\\t\\t\", f1_score(test, predicted, average='weighted')*100, \"\\n\")\n",
    "    \n",
    "\n",
    "text_clf = Pipeline([\n",
    "    ('vect', CountVectorizer()),\n",
    "    ('tfidf', TfidfTransformer()),\n",
    "    ('clf', SGDClassifier(loss='hinge', penalty='l2',\n",
    "                         alpha=1e-3, random_state=42,\n",
    "                         max_iter=8, tol=None)),\n",
    "])\n",
    "    \n",
    "def train_clfs2(reviews, labels, mf=5000):\n",
    "    encoder = LabelEncoder()\n",
    "    e_labels = encoder.fit_transform(labels)\n",
    "    \n",
    "    X_train, X_test, y_train, y_test = model_selection.train_test_split(reviews, e_labels,\n",
    "                                                                        random_state=42, train_size=0.7)\n",
    "    \n",
    "    text_clf.fit(X_train, y_train)\n",
    "    \n",
    "    y_pred = text_clf.predict(X_test)\n",
    "    print(np.mean(y_pred == y_test))\n",
    "#     print(metrics.classification_report(y_test, y_pred, target_names=['positive', 'neutral', 'negative']))"
   ]
  },
  {
   "cell_type": "code",
   "execution_count": 23,
   "metadata": {},
   "outputs": [],
   "source": [
    "def get_tfidf(reviews, X_train):\n",
    "    tfidf_vectorizer.fit(reviews)\n",
    "    X_train_tfidf = tfidf_vectorizer.transform(X_train)\n",
    "    return X_train_tfidf\n",
    "    \n",
    "def get_count_vect(X_train, X_test):\n",
    "    count_vectorizer.fit(X_train)\n",
    "    X_train_vect = count_vectorizer.transform(X_train)\n",
    "    return X_train_vect"
   ]
  },
  {
   "cell_type": "code",
   "execution_count": 24,
   "metadata": {},
   "outputs": [
    {
     "name": "stdout",
     "output_type": "stream",
     "text": [
      "0.6567342073897497\n"
     ]
    }
   ],
   "source": [
    "train_clfs2(reviews, labels)"
   ]
  },
  {
   "cell_type": "code",
   "execution_count": 25,
   "metadata": {},
   "outputs": [
    {
     "data": {
      "text/plain": [
       "array(['neutral', 'negative', 'positive'], dtype=object)"
      ]
     },
     "execution_count": 25,
     "metadata": {},
     "output_type": "execute_result"
    }
   ],
   "source": [
    "# 3-class classification\n",
    "labels.unique()"
   ]
  },
  {
   "cell_type": "code",
   "execution_count": 26,
   "metadata": {},
   "outputs": [
    {
     "name": "stdout",
     "output_type": "stream",
     "text": [
      "/\\/\\/\\/\\/ multinomial naive bayes\n",
      "Recall\t\t 66.15017878426698\n",
      "\n",
      "Precision\t 66.70088015702542\n",
      "\n",
      "F1\t\t 64.49623885060626 \n",
      "\n",
      "/\\/\\/\\/\\/ svm\n",
      "Recall\t\t 67.34207389749702\n",
      "\n",
      "Precision\t 67.40061457203662\n",
      "\n",
      "F1\t\t 67.36049779767703 \n",
      "\n",
      "/\\/\\/\\/\\/ logistic regression\n",
      "Recall\t\t 61.14421930870083\n",
      "\n",
      "Precision\t 60.73714073131784\n",
      "\n",
      "F1\t\t 60.877959094766396 \n",
      "\n",
      "/\\/\\/\\/\\/ random forest\n",
      "Recall\t\t 65.55423122765197\n",
      "\n",
      "Precision\t 64.96805163133234\n",
      "\n",
      "F1\t\t 64.45319970907914 \n",
      "\n",
      "/\\/\\/\\/\\/ sgd\n",
      "Recall\t\t 67.46126340882003\n",
      "\n",
      "Precision\t 66.68513014297989\n",
      "\n",
      "F1\t\t 66.74201356098311 \n",
      "\n"
     ]
    }
   ],
   "source": [
    "train_clfs(reviews, labels)"
   ]
  },
  {
   "cell_type": "code",
   "execution_count": 52,
   "metadata": {},
   "outputs": [
    {
     "data": {
      "text/html": [
       "<div>\n",
       "<style scoped>\n",
       "    .dataframe tbody tr th:only-of-type {\n",
       "        vertical-align: middle;\n",
       "    }\n",
       "\n",
       "    .dataframe tbody tr th {\n",
       "        vertical-align: top;\n",
       "    }\n",
       "\n",
       "    .dataframe thead th {\n",
       "        text-align: right;\n",
       "    }\n",
       "</style>\n",
       "<table border=\"1\" class=\"dataframe\">\n",
       "  <thead>\n",
       "    <tr style=\"text-align: right;\">\n",
       "      <th></th>\n",
       "      <th>country</th>\n",
       "      <th>score</th>\n",
       "      <th>topic</th>\n",
       "      <th>review</th>\n",
       "      <th>category</th>\n",
       "      <th>sentiment</th>\n",
       "    </tr>\n",
       "  </thead>\n",
       "  <tbody>\n",
       "    <tr>\n",
       "      <th>0</th>\n",
       "      <td>United States</td>\n",
       "      <td>1</td>\n",
       "      <td>Notifications not showing up</td>\n",
       "      <td>The notification badges are showing up on my i...</td>\n",
       "      <td>requirement</td>\n",
       "      <td>neutral</td>\n",
       "    </tr>\n",
       "  </tbody>\n",
       "</table>\n",
       "</div>"
      ],
      "text/plain": [
       "         country  score                         topic  \\\n",
       "0  United States      1  Notifications not showing up   \n",
       "\n",
       "                                              review     category sentiment  \n",
       "0  The notification badges are showing up on my i...  requirement   neutral  "
      ]
     },
     "execution_count": 52,
     "metadata": {},
     "output_type": "execute_result"
    }
   ],
   "source": [
    "# add extra features blindly\n",
    "lf = l.copy()\n",
    "lf.head(1)"
   ]
  },
  {
   "cell_type": "code",
   "execution_count": 139,
   "metadata": {},
   "outputs": [],
   "source": [
    "def add_features(df, list_of_features):\n",
    "    enriched_reviews = []\n",
    "    # go through each review in the dataframe\n",
    "    \n",
    "    for index, row in df.iterrows():\n",
    "        features = []\n",
    "        \n",
    "        # go through each of the provided features\n",
    "        for f in list_of_features:\n",
    "            features.append(row[f])\n",
    "        \n",
    "        enriched_review = \"\"\n",
    "        for feature in features:\n",
    "            enriched_review += str(feature) + \" \"\n",
    "        enriched_review += row['review']\n",
    "        enriched_reviews.append(enriched_review)\n",
    "    return enriched_reviews"
   ]
  },
  {
   "cell_type": "code",
   "execution_count": 53,
   "metadata": {},
   "outputs": [],
   "source": [
    "lf['review'] = add_features(lf, ['country', 'topic', 'score'])\n",
    "lf['review'] = normalize(lf, 'review')\n",
    "lf['review'] = stringify_reviews(lf['review'])\n",
    "\n",
    "f_reviews = lf['review']"
   ]
  },
  {
   "cell_type": "code",
   "execution_count": 54,
   "metadata": {},
   "outputs": [
    {
     "name": "stdout",
     "output_type": "stream",
     "text": [
      "0.6734207389749702\n"
     ]
    }
   ],
   "source": [
    "train_clfs2(f_reviews, labels)"
   ]
  },
  {
   "cell_type": "code",
   "execution_count": 55,
   "metadata": {},
   "outputs": [
    {
     "name": "stdout",
     "output_type": "stream",
     "text": [
      "/\\/\\/\\/\\/ multinomial naive bayes\n",
      "Recall\t\t 67.34207389749702\n",
      "\n",
      "Precision\t 67.09115623856893\n",
      "\n",
      "F1\t\t 65.60951060580464 \n",
      "\n",
      "/\\/\\/\\/\\/ svm\n",
      "Recall\t\t 68.89153754469606\n",
      "\n",
      "Precision\t 69.14623635671052\n",
      "\n",
      "F1\t\t 69.00342921910872 \n",
      "\n",
      "/\\/\\/\\/\\/ logistic regression\n",
      "Recall\t\t 63.17044100119189\n",
      "\n",
      "Precision\t 62.88423495372807\n",
      "\n",
      "F1\t\t 62.9456187191635 \n",
      "\n",
      "/\\/\\/\\/\\/ random forest\n",
      "Recall\t\t 67.22288438617402\n",
      "\n",
      "Precision\t 66.50084209083018\n",
      "\n",
      "F1\t\t 66.59892220082924 \n",
      "\n",
      "/\\/\\/\\/\\/ sgd\n",
      "Recall\t\t 70.20262216924911\n",
      "\n",
      "Precision\t 69.5406349130178\n",
      "\n",
      "F1\t\t 69.6127972478808 \n",
      "\n"
     ]
    }
   ],
   "source": [
    "train_clfs(f_reviews, labels)"
   ]
  },
  {
   "cell_type": "markdown",
   "metadata": {},
   "source": [
    "# HYPERPARAM TUNING"
   ]
  },
  {
   "cell_type": "code",
   "execution_count": 56,
   "metadata": {},
   "outputs": [],
   "source": [
    "from sklearn.model_selection import GridSearchCV\n",
    "from sklearn import metrics\n",
    "\n",
    "parameters = {\n",
    "    'vect__ngram_range': [(1,1), (1, 2)],\n",
    "    'tfidf__use_idf': (True, False),\n",
    "    'clf__alpha': (1e-2, 1e-3),\n",
    "}\n",
    "\n",
    "gs_clf = GridSearchCV(text_clf, parameters, cv=5, n_jobs=1)\n",
    "\n",
    "encoder = LabelEncoder()\n",
    "e_labels = encoder.fit_transform(labels)\n",
    "\n",
    "X_train, X_test, y_train, y_test = model_selection.train_test_split(f_reviews, e_labels,\n",
    "                                                                    random_state=42, train_size=0.6)\n",
    "\n",
    "gs_clf = gs_clf.fit(X_train, y_train)\n",
    "gs_clf.best_score_"
   ]
  },
  {
   "cell_type": "code",
   "execution_count": 60,
   "metadata": {},
   "outputs": [
    {
     "name": "stdout",
     "output_type": "stream",
     "text": [
      "clf__alpha: 0.001\n",
      "tfidf__use_idf: True\n",
      "vect__ngram_range: (1, 1)\n"
     ]
    }
   ],
   "source": [
    "for param_name in sorted(parameters.keys()):\n",
    "    print(\"%s: %r\" % (param_name, gs_clf.best_params_[param_name]))"
   ]
  },
  {
   "cell_type": "markdown",
   "metadata": {},
   "source": [
    "# CROSS VALIDATION"
   ]
  },
  {
   "cell_type": "code",
   "execution_count": 61,
   "metadata": {},
   "outputs": [],
   "source": [
    "scores = cross_val_score(text_clf, f_reviews, labels, cv=5)\n",
    "print(\"Accuracy: %0.2f (+/- %0.2f)\" % (scores.mean(), scores.std() * 2))"
   ]
  },
  {
   "cell_type": "markdown",
   "metadata": {},
   "source": [
    "# CONFUSION MATRIX"
   ]
  },
  {
   "cell_type": "code",
   "execution_count": 38,
   "metadata": {},
   "outputs": [
    {
     "data": {
      "text/plain": [
       "array([[407, 109,  67],\n",
       "       [171, 241,  97],\n",
       "       [ 65,  45, 475]])"
      ]
     },
     "execution_count": 38,
     "metadata": {},
     "output_type": "execute_result"
    }
   ],
   "source": [
    "from sklearn.metrics import confusion_matrix\n",
    "from sklearn.model_selection import cross_val_predict\n",
    "y_train_pred = cross_val_predict(text_clf, X_train, y_train, cv=5)\n",
    "confusion_matrix(y_train, y_train_pred)"
   ]
  },
  {
   "cell_type": "code",
   "execution_count": 82,
   "metadata": {},
   "outputs": [
    {
     "ename": "TypeError",
     "evalue": "tuple indices must be integers or slices, not str",
     "output_type": "error",
     "traceback": [
      "\u001b[0;31m---------------------------------------------------------------------------\u001b[0m",
      "\u001b[0;31mTypeError\u001b[0m                                 Traceback (most recent call last)",
      "\u001b[0;32m<ipython-input-82-621dbd075403>\u001b[0m in \u001b[0;36m<module>\u001b[0;34m\u001b[0m\n\u001b[0;32m----> 1\u001b[0;31m \u001b[0ml\u001b[0m\u001b[0;34m[\u001b[0m\u001b[0;34m'review'\u001b[0m\u001b[0;34m]\u001b[0m\u001b[0;34m[\u001b[0m\u001b[0;36m0\u001b[0m\u001b[0;34m]\u001b[0m \u001b[0;31m# original\u001b[0m\u001b[0;34m\u001b[0m\u001b[0;34m\u001b[0m\u001b[0m\n\u001b[0m",
      "\u001b[0;31mTypeError\u001b[0m: tuple indices must be integers or slices, not str"
     ]
    }
   ],
   "source": [
    "la['review'][0] # original"
   ]
  },
  {
   "cell_type": "code",
   "execution_count": 68,
   "metadata": {},
   "outputs": [
    {
     "data": {
      "text/plain": [
       "\"['notification', 'badge', 'show', 'iphone', 'plus', 'open', 'app', 'happen', 'since', 'last', 'update', 'also', 'quit', 'interrupt', 'videos', 'stupid', 'ads', 'annoy']\""
      ]
     },
     "execution_count": 68,
     "metadata": {},
     "output_type": "execute_result"
    }
   ],
   "source": [
    "str(norm_l['review'][0]) # normalized"
   ]
  },
  {
   "cell_type": "code",
   "execution_count": 66,
   "metadata": {},
   "outputs": [
    {
     "data": {
      "text/plain": [
       "\"['unite', 'state', 'notifications', 'show', 'notification', 'badge', 'show', 'iphone', 'plus', 'open', 'app', 'happen', 'since', 'last', 'update', 'also', 'quit', 'interrupt', 'videos', 'stupid', 'ads', 'annoy']\""
      ]
     },
     "execution_count": 66,
     "metadata": {},
     "output_type": "execute_result"
    }
   ],
   "source": [
    "str(lf['review'][0]) # normalized, with additional features"
   ]
  },
  {
   "cell_type": "markdown",
   "metadata": {},
   "source": [
    "# LANGUAGE IDENTIFICATION"
   ]
  },
  {
   "cell_type": "code",
   "execution_count": 72,
   "metadata": {},
   "outputs": [
    {
     "name": "stderr",
     "output_type": "stream",
     "text": [
      "/usr/local/lib/python3.7/site-packages/pandas/core/frame.py:7138: FutureWarning: Sorting because non-concatenation axis is not aligned. A future version\n",
      "of pandas will change to not sort by default.\n",
      "\n",
      "To accept the future behavior, pass 'sort=False'.\n",
      "\n",
      "To retain the current behavior and silence the warning, pass 'sort=True'.\n",
      "\n",
      "  sort=sort,\n"
     ]
    },
    {
     "name": "stdout",
     "output_type": "stream",
     "text": [
      "\n",
      "Number of text snippplets: 63156\n",
      "________________________________\n",
      "Greek                    6681\n",
      "French                   6466\n",
      "German                   6395\n",
      "Italian                  6383\n",
      "Portuguese               6147\n",
      "Spanish                  6016\n",
      "Finnish                  5597\n",
      "Swedish                  4940\n",
      "Danish                   4914\n",
      "Dutch                    4826\n",
      "English                  4791\n"
     ]
    },
    {
     "data": {
      "text/html": [
       "<div>\n",
       "<style scoped>\n",
       "    .dataframe tbody tr th:only-of-type {\n",
       "        vertical-align: middle;\n",
       "    }\n",
       "\n",
       "    .dataframe tbody tr th {\n",
       "        vertical-align: top;\n",
       "    }\n",
       "\n",
       "    .dataframe thead th {\n",
       "        text-align: right;\n",
       "    }\n",
       "</style>\n",
       "<table border=\"1\" class=\"dataframe\">\n",
       "  <thead>\n",
       "    <tr style=\"text-align: right;\">\n",
       "      <th></th>\n",
       "      <th>lang</th>\n",
       "      <th>len</th>\n",
       "      <th>text</th>\n",
       "      <th>ltext</th>\n",
       "    </tr>\n",
       "  </thead>\n",
       "  <tbody>\n",
       "    <tr>\n",
       "      <th>178620</th>\n",
       "      <td>French</td>\n",
       "      <td>237</td>\n",
       "      <td>Je demanderai conseil aux services juridiques ...</td>\n",
       "      <td>je demanderai conseil aux services juridiques ...</td>\n",
       "    </tr>\n",
       "    <tr>\n",
       "      <th>149602</th>\n",
       "      <td>Danish</td>\n",
       "      <td>317</td>\n",
       "      <td>Hvis vi skal have held til at overbevise en sk...</td>\n",
       "      <td>hvis vi skal have held til at overbevise en sk...</td>\n",
       "    </tr>\n",
       "    <tr>\n",
       "      <th>120874</th>\n",
       "      <td>Portuguese</td>\n",
       "      <td>211</td>\n",
       "      <td>A prova disso é o facto de que nas regiões ond...</td>\n",
       "      <td>a prova disso é o facto de que nas regiões ond...</td>\n",
       "    </tr>\n",
       "    <tr>\n",
       "      <th>90450</th>\n",
       "      <td>Greek</td>\n",
       "      <td>247</td>\n",
       "      <td>Λύσεις σε αυτά τα προβλήματα δεν αναζητούμε εξ...</td>\n",
       "      <td>λύσεις σε αυτά τα προβλήματα δεν αναζητούμε εξ...</td>\n",
       "    </tr>\n",
       "    <tr>\n",
       "      <th>133398</th>\n",
       "      <td>Finnish</td>\n",
       "      <td>224</td>\n",
       "      <td>Lisäksi täytyy olla niin , että jos tilintarka...</td>\n",
       "      <td>lisäksi täytyy olla niin , että jos tilintarka...</td>\n",
       "    </tr>\n",
       "    <tr>\n",
       "      <th>27642</th>\n",
       "      <td>German</td>\n",
       "      <td>270</td>\n",
       "      <td>Wenn Europa in eine Phase des Nachdenkens über...</td>\n",
       "      <td>wenn europa in eine phase des nachdenkens über...</td>\n",
       "    </tr>\n",
       "    <tr>\n",
       "      <th>89838</th>\n",
       "      <td>Greek</td>\n",
       "      <td>256</td>\n",
       "      <td>Ωστόσο , η γαλλική αντιπροσωπεία της Ομάδας μα...</td>\n",
       "      <td>ωστόσο , η γαλλική αντιπροσωπεία της ομάδας μα...</td>\n",
       "    </tr>\n",
       "    <tr>\n",
       "      <th>181089</th>\n",
       "      <td>French</td>\n",
       "      <td>319</td>\n",
       "      <td>Cette clarification fait défaut dans le texte ...</td>\n",
       "      <td>cette clarification fait défaut dans le texte ...</td>\n",
       "    </tr>\n",
       "    <tr>\n",
       "      <th>173490</th>\n",
       "      <td>French</td>\n",
       "      <td>355</td>\n",
       "      <td>Mais dès le Sommet suivi tenu au mois de décem...</td>\n",
       "      <td>mais dès le sommet suivi tenu au mois de décem...</td>\n",
       "    </tr>\n",
       "    <tr>\n",
       "      <th>14899</th>\n",
       "      <td>Dutch</td>\n",
       "      <td>224</td>\n",
       "      <td>Het zou ronduit beschamend zijn als we zouden ...</td>\n",
       "      <td>het zou ronduit beschamend zijn als we zouden ...</td>\n",
       "    </tr>\n",
       "  </tbody>\n",
       "</table>\n",
       "</div>"
      ],
      "text/plain": [
       "              lang  len                                               text  \\\n",
       "178620      French  237  Je demanderai conseil aux services juridiques ...   \n",
       "149602      Danish  317  Hvis vi skal have held til at overbevise en sk...   \n",
       "120874  Portuguese  211  A prova disso é o facto de que nas regiões ond...   \n",
       "90450        Greek  247  Λύσεις σε αυτά τα προβλήματα δεν αναζητούμε εξ...   \n",
       "133398     Finnish  224  Lisäksi täytyy olla niin , että jos tilintarka...   \n",
       "27642       German  270  Wenn Europa in eine Phase des Nachdenkens über...   \n",
       "89838        Greek  256  Ωστόσο , η γαλλική αντιπροσωπεία της Ομάδας μα...   \n",
       "181089      French  319  Cette clarification fait défaut dans le texte ...   \n",
       "173490      French  355  Mais dès le Sommet suivi tenu au mois de décem...   \n",
       "14899        Dutch  224  Het zou ronduit beschamend zijn als we zouden ...   \n",
       "\n",
       "                                                    ltext  \n",
       "178620  je demanderai conseil aux services juridiques ...  \n",
       "149602  hvis vi skal have held til at overbevise en sk...  \n",
       "120874  a prova disso é o facto de que nas regiões ond...  \n",
       "90450   λύσεις σε αυτά τα προβλήματα δεν αναζητούμε εξ...  \n",
       "133398  lisäksi täytyy olla niin , että jos tilintarka...  \n",
       "27642   wenn europa in eine phase des nachdenkens über...  \n",
       "89838   ωστόσο , η γαλλική αντιπροσωπεία της ομάδας μα...  \n",
       "181089  cette clarification fait défaut dans le texte ...  \n",
       "173490  mais dès le sommet suivi tenu au mois de décem...  \n",
       "14899   het zou ronduit beschamend zijn als we zouden ...  "
      ]
     },
     "execution_count": 72,
     "metadata": {},
     "output_type": "execute_result"
    }
   ],
   "source": [
    "from pathlib import Path\n",
    "import random\n",
    "from collections import Counter, defaultdict\n",
    "from sklearn.neighbors import *\n",
    "from matplotlib import pyplot as plt\n",
    "from mpl_toolkits import mplot3d\n",
    "%matplotlib inline\n",
    " \n",
    "def read(file):\n",
    "    '''Returns contents of a file'''\n",
    "    with open(file, 'r', errors='ignore') as f:\n",
    "        text = f.read()\n",
    "    return text\n",
    " \n",
    "def load_eu_texts():\n",
    "    '''Read texts snipplets in 10 different languages into pd.Dataframe\n",
    " \n",
    "    load_eu_texts() -> pd.Dataframe\n",
    "    \n",
    "    The text snipplets are taken from the nltk-data corpus.\n",
    "    '''\n",
    "    basepath = Path('/Users/gohost/nltk_data/corpora/europarl_raw/')\n",
    "    df = pd.DataFrame(columns=['text', 'lang', 'len'])\n",
    "    languages = [None]\n",
    "    for lang in basepath.iterdir():\n",
    "        languages.append(lang.as_posix())\n",
    "        t = '\\n'.join([read(p) for p in lang.glob('*')])\n",
    "        d = pd.DataFrame()\n",
    "        d['text'] = ''\n",
    "        d['text'] = pd.Series(t.split('\\n'))\n",
    "        d['lang'] = lang.name.title()\n",
    "        df = df.append(d.copy(), ignore_index=True)\n",
    "    return df\n",
    " \n",
    "def clean_eutextdf(df):\n",
    "    '''Preprocesses the texts by doing a set of cleaning steps\n",
    "    \n",
    "    clean_eutextdf(df) -> cleaned_df\n",
    "    '''\n",
    "    # Cuts of whitespaces a the beginning and and\n",
    "    df['text'] = [i.strip() for i in df['text']]\n",
    "    # Generate a lowercase Version of the text column\n",
    "    df['ltext'] = [i.lower() for i in df['text']]\n",
    " \n",
    "    # Determining the length of each text\n",
    "    df['len'] = [len(i) for i in df['text']]\n",
    "    # Drops all texts that are not at least 200 chars long\n",
    "    df = df.loc[df['len'] > 200]\n",
    "    return df\n",
    " \n",
    "# Execute the above functions to load the texts\n",
    "df = clean_eutextdf(load_eu_texts())\n",
    " \n",
    "# Print a few stats of the read texts\n",
    "textline = 'Number of text snippplets: ' + str(df.shape[0])\n",
    "print('\\n' + textline + '\\n' + ''.join(['_' for i in range(len(textline))]))\n",
    "c = Counter(df['lang'])\n",
    "for l in c.most_common():\n",
    "    print('%-25s' % l[0] + str(l[1]))\n",
    "df.sample(10)"
   ]
  },
  {
   "cell_type": "code",
   "execution_count": 73,
   "metadata": {},
   "outputs": [
    {
     "name": "stdout",
     "output_type": "stream",
     "text": [
      "Counting Chars:\n",
      "β è a m f ü d é τ ç γ κ ò v ô υ δ α e ό ύ û ϊ ë q χ j ρ ά x b ï h ì ΐ l ä ώ ú η ö ή ξ t õ î g º í θ k r z w æ â ê ι i o c ω å ß à ã ν μ π ς ª á ù έ y ί s n φ ó ϋ ñ λ u ε ΰ σ p ψ ο ζ ø "
     ]
    }
   ],
   "source": [
    "def calc_charratios(df):\n",
    "    '''Calculating ratio of any (alphabetical) char in any text of df for each lyric\n",
    "    \n",
    "    calc_charratios(df) -> list, pd.Dataframe\n",
    "    '''\n",
    "    CHARS = ''.join({c for c in ''.join(df['ltext']) if c.isalpha()})\n",
    "    print('Counting Chars:')\n",
    "    for c in CHARS:\n",
    "        print(c, end=' ')\n",
    "        df[c] = [r.count(c) for r in df['ltext']] / df['len']\n",
    "    return list(CHARS), df\n",
    " \n",
    "features, df = calc_charratios(df)"
   ]
  },
  {
   "cell_type": "code",
   "execution_count": 74,
   "metadata": {},
   "outputs": [],
   "source": [
    "def split_dataset(df, ratio=0.5):\n",
    "    '''Split the dataset into a train and a test dataset\n",
    "    \n",
    "    split_dataset(featuredf, ratio) -> pd.Dataframe, pd.Dataframe\n",
    "    '''\n",
    "    df = df.sample(frac=1).reset_index(drop=True)\n",
    "    traindf = df[:][:int(df.shape[0] * ratio)]\n",
    "    testdf = df[:][int(df.shape[0] * ratio):]\n",
    "    return traindf, testdf\n",
    " \n",
    "featuredf = pd.DataFrame()\n",
    "featuredf['lang'] = df['lang']\n",
    "for feature in features:\n",
    "    featuredf[feature] = df[feature]\n",
    "traindf, testdf = split_dataset(featuredf, ratio=0.80)\n",
    " \n",
    "x = np.array([np.array(row[1:]) for index, row in traindf.iterrows()])\n",
    "y = np.array([l for l in traindf['lang']])\n",
    "X = np.array([np.array(row[1:]) for index, row in testdf.iterrows()])\n",
    "Y = np.array([l for l in testdf['lang']])"
   ]
  },
  {
   "cell_type": "code",
   "execution_count": 75,
   "metadata": {},
   "outputs": [
    {
     "name": "stdout",
     "output_type": "stream",
     "text": [
      "k\tPercentage of correctly predicted language\n",
      "__________________________________________________\n",
      "1\t98.06%\n",
      "2\t98.053%\n",
      "3\t98.369%\n",
      "4\t98.433%\n",
      "5\t98.599%\n",
      "6\t98.567%\n",
      "7\t98.528%\n",
      "8\t98.599%\n",
      "9\t98.615%\n",
      "10\t98.623%\n",
      "11\t98.607%\n",
      "12\t98.686%\n",
      "13\t98.615%\n",
      "14\t98.694%\n",
      "15\t98.615%\n"
     ]
    }
   ],
   "source": [
    "def train_knn(x, y, k):\n",
    "    '''Returns the trained k nearest neighbors classifier\n",
    "    \n",
    "    train_knn(x, y, k) -> sklearn.neighbors.KNeighborsClassifier\n",
    "    '''\n",
    "    clf = KNeighborsClassifier(k)\n",
    "    clf.fit(x, y)\n",
    "    return clf\n",
    " \n",
    "def test_knn(clf, X, Y):\n",
    "    '''Tests a given classifier with a testset and return result\n",
    "    \n",
    "    text_knn(clf, X, Y) -> float\n",
    "    '''\n",
    "    predictions = clf.predict(X)\n",
    "    ratio_correct = len([i for i in range(len(Y)) if Y[i] == predictions[i]]) / len(Y)\n",
    "    return ratio_correct\n",
    " \n",
    "print('''k\\tPercentage of correctly predicted language\n",
    "__________________________________________________''')\n",
    "for i in range(1, 16):\n",
    "    clf = train_knn(x, y, i)\n",
    "    ratio_correct = test_knn(clf, X, Y)\n",
    "    print(str(i) + '\\t' + str(round(ratio_correct * 100, 3)) + '%')"
   ]
  },
  {
   "cell_type": "code",
   "execution_count": 76,
   "metadata": {},
   "outputs": [
    {
     "name": "stdout",
     "output_type": "stream",
     "text": [
      "Danish              \tVi hilser det portugisiske formandskabs initiativ velkomment...\n",
      "Greek               \tΓια τον λόγο αυτό ταχθήκαμε κατά της συγκέντρωσης πόρων σε μ...\n",
      "German              \tGrenzüberschreitende Dienstleistungen Nach der Tagesordnung ...\n",
      "Italian             \tNel novembre 1991 , dopo un lungo dibattito all' interno del...\n",
      "Danish              \tPurvis og jeg tænker på , de maltwhishyproducerende dele af ...\n",
      "Greek               \tΘα μπορούσε να αναρωτηθεί κανείς πώς χορηγείται στη σημερινή...\n",
      "Finnish             \tEi voida myöskään olla välittämättä siitä , mikä merkitys äs...\n",
      "French              \tCe qui s' est passé avec l' Erika n' est pas le fruit de la ...\n",
      "Italian             \tTengo a dire che anche la partecipazione del Parlamento euro...\n",
      "Finnish             \tMonissa maissa ihmisoikeuksien yleismaailmallisuuden periaat...\n"
     ]
    }
   ],
   "source": [
    "def extract_features(text, features):\n",
    "    '''Extracts all alphabetic characters and add their ratios as feature\n",
    "    \n",
    "    extract_features(text, features) -> np.array\n",
    "    '''\n",
    "    textlen = len(text)\n",
    "    ratios = []\n",
    "    text = text.lower()\n",
    "    for feature in features:\n",
    "        ratios.append(text.count(feature) / textlen)\n",
    "    return np.array(ratios)\n",
    " \n",
    "def predict_lang(text, clf=clf):\n",
    "    '''Predicts the language of a given text and classifier\n",
    "    \n",
    "    predict_lang(text, clf) -> str\n",
    "    '''\n",
    "    extracted_features = extract_features(text, features)\n",
    "    return clf.predict(np.array(np.array([extracted_features])))[0]\n",
    " \n",
    "text_sample = df.sample(10)['text']\n",
    " \n",
    "for example_text in text_sample:\n",
    "    print('%-20s'  % predict_lang(example_text, clf) + '\\t' + example_text[:60] + '...')"
   ]
  },
  {
   "cell_type": "markdown",
   "metadata": {},
   "source": [
    "# PREDICTING LANGUAGE"
   ]
  },
  {
   "cell_type": "code",
   "execution_count": 111,
   "metadata": {},
   "outputs": [
    {
     "data": {
      "text/plain": [
       "2795"
      ]
     },
     "execution_count": 111,
     "metadata": {},
     "output_type": "execute_result"
    }
   ],
   "source": [
    "len(l['review'])"
   ]
  },
  {
   "cell_type": "code",
   "execution_count": 109,
   "metadata": {},
   "outputs": [],
   "source": [
    "english_only = []\n",
    "reviews = l['review']\n",
    "for r in reviews:\n",
    "    if predict_lang(r, clf) == \"English\":\n",
    "        english_only.append(r)"
   ]
  },
  {
   "cell_type": "code",
   "execution_count": 145,
   "metadata": {},
   "outputs": [],
   "source": [
    "def drop_non_english(df):\n",
    "    english_only = []\n",
    "    \n",
    "    for index, row in df.iterrows():\n",
    "        if predict_lang(row['review'], clf) != \"English\":\n",
    "            df.drop(index, inplace=True)\n",
    "    return df"
   ]
  },
  {
   "cell_type": "code",
   "execution_count": 110,
   "metadata": {},
   "outputs": [
    {
     "data": {
      "text/plain": [
       "2328"
      ]
     },
     "execution_count": 110,
     "metadata": {},
     "output_type": "execute_result"
    }
   ],
   "source": [
    "len(english_only)"
   ]
  },
  {
   "cell_type": "code",
   "execution_count": 140,
   "metadata": {},
   "outputs": [
    {
     "data": {
      "text/plain": [
       "['The notification badges are showing up on my iPhone 6 Plus but when I open app there not there. This has happened since last update. \\nAlso quit interrupting videos with stupid ads. Annoying.',\n",
       " 'Why do they make changes we don\\'t need? Now there is no option to see just \"recent posts\"! Looks like I\\'m going to have to delete the phone app. Way to lose people FB.']"
      ]
     },
     "execution_count": 140,
     "metadata": {},
     "output_type": "execute_result"
    }
   ],
   "source": [
    "english_only[:2]"
   ]
  },
  {
   "cell_type": "markdown",
   "metadata": {},
   "source": [
    "### REMOVING NON-ENGLISH REVIEWS"
   ]
  },
  {
   "cell_type": "code",
   "execution_count": 151,
   "metadata": {},
   "outputs": [
    {
     "data": {
      "text/html": [
       "<div>\n",
       "<style scoped>\n",
       "    .dataframe tbody tr th:only-of-type {\n",
       "        vertical-align: middle;\n",
       "    }\n",
       "\n",
       "    .dataframe tbody tr th {\n",
       "        vertical-align: top;\n",
       "    }\n",
       "\n",
       "    .dataframe thead th {\n",
       "        text-align: right;\n",
       "    }\n",
       "</style>\n",
       "<table border=\"1\" class=\"dataframe\">\n",
       "  <thead>\n",
       "    <tr style=\"text-align: right;\">\n",
       "      <th></th>\n",
       "      <th>score</th>\n",
       "    </tr>\n",
       "  </thead>\n",
       "  <tbody>\n",
       "    <tr>\n",
       "      <th>count</th>\n",
       "      <td>2795.000000</td>\n",
       "    </tr>\n",
       "    <tr>\n",
       "      <th>mean</th>\n",
       "      <td>2.964222</td>\n",
       "    </tr>\n",
       "    <tr>\n",
       "      <th>std</th>\n",
       "      <td>1.400279</td>\n",
       "    </tr>\n",
       "    <tr>\n",
       "      <th>min</th>\n",
       "      <td>1.000000</td>\n",
       "    </tr>\n",
       "    <tr>\n",
       "      <th>25%</th>\n",
       "      <td>2.000000</td>\n",
       "    </tr>\n",
       "    <tr>\n",
       "      <th>50%</th>\n",
       "      <td>3.000000</td>\n",
       "    </tr>\n",
       "    <tr>\n",
       "      <th>75%</th>\n",
       "      <td>4.000000</td>\n",
       "    </tr>\n",
       "    <tr>\n",
       "      <th>max</th>\n",
       "      <td>5.000000</td>\n",
       "    </tr>\n",
       "  </tbody>\n",
       "</table>\n",
       "</div>"
      ],
      "text/plain": [
       "             score\n",
       "count  2795.000000\n",
       "mean      2.964222\n",
       "std       1.400279\n",
       "min       1.000000\n",
       "25%       2.000000\n",
       "50%       3.000000\n",
       "75%       4.000000\n",
       "max       5.000000"
      ]
     },
     "execution_count": 151,
     "metadata": {},
     "output_type": "execute_result"
    }
   ],
   "source": [
    "lfe = l.copy()\n",
    "lfe.describe()"
   ]
  },
  {
   "cell_type": "code",
   "execution_count": 152,
   "metadata": {},
   "outputs": [
    {
     "data": {
      "text/plain": [
       "2328"
      ]
     },
     "execution_count": 152,
     "metadata": {},
     "output_type": "execute_result"
    }
   ],
   "source": [
    "lfe = drop_non_english(lfe)\n",
    "len(lfe)"
   ]
  },
  {
   "cell_type": "code",
   "execution_count": 153,
   "metadata": {},
   "outputs": [],
   "source": [
    "lfe['review'] = add_features(lfe, ['country', 'topic', 'score'])\n",
    "lfe_reviews = normalize(lfe, 'review')\n",
    "lfe_reviews = stringify_reviews(lfe_reviews)"
   ]
  },
  {
   "cell_type": "code",
   "execution_count": 154,
   "metadata": {},
   "outputs": [
    {
     "data": {
      "text/plain": [
       "array(['neutral', 'negative', 'positive'], dtype=object)"
      ]
     },
     "execution_count": 154,
     "metadata": {},
     "output_type": "execute_result"
    }
   ],
   "source": [
    "lfe_labels = collapse_labels(lfe['sentiment'])\n",
    "lfe_labels.unique()"
   ]
  },
  {
   "cell_type": "code",
   "execution_count": 155,
   "metadata": {},
   "outputs": [
    {
     "name": "stdout",
     "output_type": "stream",
     "text": [
      "/\\/\\/\\/\\/ multinomial naive bayes\n",
      "Recall\t\t 61.37339055793991\n",
      "\n",
      "Precision\t 61.13806590320255\n",
      "\n",
      "F1\t\t 56.2467626611372 \n",
      "\n",
      "/\\/\\/\\/\\/ svm\n",
      "Recall\t\t 63.66237482117311\n",
      "\n",
      "Precision\t 62.564591581873906\n",
      "\n",
      "F1\t\t 62.79706442857448 \n",
      "\n",
      "/\\/\\/\\/\\/ logistic regression\n",
      "Recall\t\t 61.659513590844064\n",
      "\n",
      "Precision\t 60.56307194159024\n",
      "\n",
      "F1\t\t 60.863130669804676 \n",
      "\n",
      "/\\/\\/\\/\\/ random forest\n",
      "Recall\t\t 64.52074391988555\n",
      "\n",
      "Precision\t 63.864895596212314\n",
      "\n",
      "F1\t\t 62.85485758006385 \n",
      "\n",
      "/\\/\\/\\/\\/ sgd\n",
      "Recall\t\t 64.09155937052932\n",
      "\n",
      "Precision\t 62.71809797800538\n",
      "\n",
      "F1\t\t 62.48638713930551 \n",
      "\n"
     ]
    }
   ],
   "source": [
    "train_clfs(lfe_reviews, lfe_labels)"
   ]
  }
 ],
 "metadata": {
  "kernelspec": {
   "display_name": "Python 3",
   "language": "python",
   "name": "python3"
  },
  "language_info": {
   "codemirror_mode": {
    "name": "ipython",
    "version": 3
   },
   "file_extension": ".py",
   "mimetype": "text/x-python",
   "name": "python",
   "nbconvert_exporter": "python",
   "pygments_lexer": "ipython3",
   "version": "3.7.5"
  }
 },
 "nbformat": 4,
 "nbformat_minor": 2
}
