{
 "cells": [
  {
   "cell_type": "code",
   "execution_count": 1,
   "metadata": {},
   "outputs": [],
   "source": [
    "import os\n",
    "import time\n",
    "import pandas as pd\n",
    "import numpy as np\n",
    "import random\n",
    "\n",
    "import matplotlib.pyplot as plt\n",
    "import statistics as s\n",
    "\n",
    "def piec(s, l):\n",
    "    fig1, ax1 = plt.subplots()\n",
    "    ax1.pie(s, labels=l, autopct='%1.1f%%', startangle=90)\n",
    "    ax1.axis('equal')\n",
    "    plt.figure(figsize=(20,10)) \n",
    "    plt.show()"
   ]
  },
  {
   "cell_type": "markdown",
   "metadata": {},
   "source": [
    "# apps\n",
    "\n",
    "this notebook will be operating on the first element in the apps dictionary.\n",
    "\n",
    "outcomment/replace the entry with your settings"
   ]
  },
  {
   "cell_type": "code",
   "execution_count": 2,
   "metadata": {},
   "outputs": [],
   "source": [
    "apps = {\n",
    "    'twitter' : {\n",
    "        'id' : 'com.twitter.android',\n",
    "        'color' : 'blue',\n",
    "        'linestyle' : 'solid',\n",
    "        'marker' : 'dot'\n",
    "    }\n",
    "}"
   ]
  },
  {
   "cell_type": "markdown",
   "metadata": {},
   "source": [
    "## GLOBAL VARIABLES"
   ]
  },
  {
   "cell_type": "code",
   "execution_count": 3,
   "metadata": {},
   "outputs": [],
   "source": [
    "APP_NAME = list(apps.keys())[0]\n",
    "APP_NAME\n",
    "\n",
    "RELEVANT_COL = 'Interactions'\n",
    "\n",
    "selected_indices = {} # Dictionary of DataFrames\n",
    "selected_indices[APP_NAME] = [] # DataFrame accessible via name \"twitter\", \"reddit\", etc."
   ]
  },
  {
   "cell_type": "markdown",
   "metadata": {},
   "source": [
    "# time series anomaly detection framework\n",
    "\n",
    "this notebook also relies on your running TSADF on your dataset (for a given year), and putting in this here below variables all the indices that were marked by TSADF:"
   ]
  },
  {
   "cell_type": "code",
   "execution_count": 4,
   "metadata": {},
   "outputs": [],
   "source": [
    "# REDDIT\n",
    "# TSADF_INDICES = [59, 88, 104, 115, 127, 144, 158, 171, 252, 324] # 5 words min\n",
    "\n",
    "# TWITTER\n",
    "TSADF_INDICES = [42, 75, 79, 80, 81, 83, 85, 88, 91, 112, 353, 354, 355, 357, 358, 4, 71, 260, 294]\n",
    "TSADF_INDICES = random.sample(TSADF_INDICES, 10)\n",
    "\n",
    "interactions_point_an_df = [42, 75, 78, 79, 80, 81, 82, 83, 84, 85, 86, 87, 88, 90, 91, 112, 353, 354, 355, 356, 357, 38]\n",
    "interactions_only_point_an_df = [75, 79, 80, 81, 82, 83, 84, 85, 86, 87, 88, 89, 90, 91, 354, 356, 357, 358]\n",
    "interactions_only_diff_an_df = [4, 71, 260, 294]\n",
    "\n",
    "TSADF_INTERACTIONS_INDICES = interactions_point_an_df + interactions_only_point_an_df + interactions_only_diff_an_df\n",
    "TII = set(TSADF_INTERACTIONS_INDICES)\n",
    "TII\n",
    "\n",
    "TSADF_INDICES = TII\n",
    "\n",
    "TSADF_INDICES = ['12-02-2019', '17-03-2019', '20-03-2019', '22-03-2019', '23-03-2019', '24-03-2019', '25-03-2019',\n",
    "                '26-03-2019', '27-03-2019', '28-03-2019', '29-03-2019', '30-03-2019', '31-03-2019', '01-04-2019',\n",
    "                '02-04-2019', '23-04-2019', '20-12-2019', '21-12-2019', '22-12-2019', '23-12-2019', '24-12-2019',\n",
    "                '05-01-2019', '13-03-2019', '18-09-2019', '22-10-2019']"
   ]
  },
  {
   "cell_type": "markdown",
   "metadata": {},
   "source": [
    "# import\n",
    "\n",
    "### [1] raw, cleaned, classified\n",
    "For each app, we import preprocessed (cleaned) datasets, as well as _exportable_ datasets.\n",
    "The cleaned datasets are datasets that:\n",
    "- were collected by scraping Google Play\n",
    "- have had null values removed\n",
    "- have had replyDates converted to boolean (1 or 0 indicating whether a review was replied to)\n",
    "- have had short/meaningless reviews removed\n",
    "- have had their review content classified into columns: sentiment, category\n",
    "- have the following structure:\n",
    "\n",
    "<table style=\"text-align:left;float:left;border:1px solid green;\">\n",
    "    <tr>\n",
    "        <th>Timestamp</th>\n",
    "        <th>Username</th>\n",
    "        <th>Rating</th>\n",
    "        <th>Review</th>\n",
    "        <th>Sentiment</th>\n",
    "        <th>Category</th>\n",
    "        <th>Words</th>\n",
    "        <th>Chars</th>\n",
    "        <th>Likes</th>\n",
    "        <th>ReplyDate</th>\n",
    "        <th>Year</th>\n",
    "        <th>Month</th>\n",
    "        <th>Weekday Name</th>\n",
    "    </tr>\n",
    "    <tr>\n",
    "        <td>08-08-2019 16:20</td>\n",
    "        <td>George</td>\n",
    "        <td>5</td>\n",
    "        <td>Great app for reasons A, B, and C</td>\n",
    "        <td>1</td>\n",
    "        <td>Other</td>\n",
    "        <td>Words</td>\n",
    "        <td>27</td>\n",
    "        <td>0</td>\n",
    "        <td>0</td>\n",
    "        <td>2019</td>\n",
    "        <td>August</td>\n",
    "        <td>Wednesday</td>\n",
    "    </tr>\n",
    "</table>\n",
    "<br><br><br>\n",
    "\n",
    "### [2] exportable, daily sum totals\n",
    "The exportable datasets have the following structure:\n",
    "\n",
    "<table style=\"float:left;border:1px solid red;\">\n",
    "    <tr>\n",
    "        <th>Time</th>\n",
    "        <th>ReviewCount</th>\n",
    "        <th>Rating</th>\n",
    "        <th>Words</th>\n",
    "        <th>Chars</th>\n",
    "        <th>Replies</th>\n",
    "        <th>Negative</th>\n",
    "        <th>Neutral</th>\n",
    "        <th>Positive</th>\n",
    "        <th>ImprovementRequest</th>\n",
    "        <th>BugReport</th>\n",
    "        <th>Other</th>\n",
    "    </tr>\n",
    "    <tr>\n",
    "        <td>31-01-2020 16:20</td>\n",
    "        <td>540</td>\n",
    "        <td>2394</td>\n",
    "        <td>13200</td>\n",
    "        <td>32193</td>\n",
    "        <td>44</td>\n",
    "        <td>1</td>\n",
    "        <td>19</td>\n",
    "        <td>45</td>\n",
    "        <td>411</td>\n",
    "        <td>30</td>\n",
    "        <td>30</td>\n",
    "    </tr>\n",
    "</table>\n"
   ]
  },
  {
   "cell_type": "code",
   "execution_count": 5,
   "metadata": {},
   "outputs": [
    {
     "name": "stdout",
     "output_type": "stream",
     "text": [
      "dict_keys(['twitter']) \n",
      " dict_keys(['twitter'])\n"
     ]
    }
   ],
   "source": [
    "rcc = {} # (R)aw, (C)lean, (C)lassified\n",
    "edf = {} # (E)xportable (D)aily sum totals Data(F)rame\n",
    "\n",
    "for x in apps:\n",
    "    rcc[x] = pd.read_csv('data/gplay_clean/' + x + '_raw_clean.csv',\n",
    "                         index_col=\"Timestamp\",\n",
    "                         parse_dates=True).loc['2019']\n",
    "    edf[x] = pd.read_csv('data/exported/' + x + '_clean_2019.csv', parse_dates=True, index_col='Time')\n",
    "    \n",
    "print(rcc.keys(),'\\n',edf.keys())"
   ]
  },
  {
   "cell_type": "code",
   "execution_count": 6,
   "metadata": {},
   "outputs": [
    {
     "data": {
      "image/png": "[encoded data removed]",
      "text/plain": [
       "<Figure size 432x288 with 1 Axes>"
      ]
     },
     "metadata": {},
     "output_type": "display_data"
    },
    {
     "data": {
      "text/plain": [
       "<Figure size 1440x720 with 0 Axes>"
      ]
     },
     "metadata": {},
     "output_type": "display_data"
    }
   ],
   "source": [
    "# get monthly distribution of reviews\n",
    "def gmd(df):\n",
    "    '''\n",
    "        Sizes are the review-counts per month\n",
    "    '''\n",
    "    sizes = []\n",
    "    for m in range(1,13):\n",
    "        lenm = len(df.loc['2019-' + str(m)])\n",
    "        sizes.append(lenm)\n",
    "    return sizes\n",
    "        \n",
    "# a fairly even distribution of reviews every month in this dataset..\n",
    "piec(gmd(rcc[APP_NAME]), range(1,13))"
   ]
  },
  {
   "cell_type": "code",
   "execution_count": 7,
   "metadata": {},
   "outputs": [
    {
     "data": {
      "text/html": [
       "<div>\n",
       "<style scoped>\n",
       "    .dataframe tbody tr th:only-of-type {\n",
       "        vertical-align: middle;\n",
       "    }\n",
       "\n",
       "    .dataframe tbody tr th {\n",
       "        vertical-align: top;\n",
       "    }\n",
       "\n",
       "    .dataframe thead th {\n",
       "        text-align: right;\n",
       "    }\n",
       "</style>\n",
       "<table border=\"1\" class=\"dataframe\">\n",
       "  <thead>\n",
       "    <tr style=\"text-align: right;\">\n",
       "      <th></th>\n",
       "      <th>Username</th>\n",
       "      <th>Rating</th>\n",
       "      <th>Review</th>\n",
       "      <th>Words</th>\n",
       "      <th>Chars</th>\n",
       "      <th>Likes</th>\n",
       "      <th>ReplyDate</th>\n",
       "      <th>Year</th>\n",
       "      <th>Month</th>\n",
       "      <th>Weekday Name</th>\n",
       "    </tr>\n",
       "    <tr>\n",
       "      <th>Timestamp</th>\n",
       "      <th></th>\n",
       "      <th></th>\n",
       "      <th></th>\n",
       "      <th></th>\n",
       "      <th></th>\n",
       "      <th></th>\n",
       "      <th></th>\n",
       "      <th></th>\n",
       "      <th></th>\n",
       "      <th></th>\n",
       "    </tr>\n",
       "  </thead>\n",
       "  <tbody>\n",
       "    <tr>\n",
       "      <th>2019-12-31 23:51:49.190000+00:00</th>\n",
       "      <td>Moscow John</td>\n",
       "      <td>5</td>\n",
       "      <td>It was awesome for me using Twitter I need to ...</td>\n",
       "      <td>22</td>\n",
       "      <td>101</td>\n",
       "      <td>0</td>\n",
       "      <td>0</td>\n",
       "      <td>2019</td>\n",
       "      <td>12</td>\n",
       "      <td>Tuesday</td>\n",
       "    </tr>\n",
       "    <tr>\n",
       "      <th>2019-12-31 23:48:58.683000+00:00</th>\n",
       "      <td>Hoyte Bangerz</td>\n",
       "      <td>5</td>\n",
       "      <td>Easy to use lovely UI</td>\n",
       "      <td>5</td>\n",
       "      <td>21</td>\n",
       "      <td>0</td>\n",
       "      <td>0</td>\n",
       "      <td>2019</td>\n",
       "      <td>12</td>\n",
       "      <td>Tuesday</td>\n",
       "    </tr>\n",
       "    <tr>\n",
       "      <th>2019-12-31 23:48:02.484000+00:00</th>\n",
       "      <td>Shelby Sharp Oubre</td>\n",
       "      <td>3</td>\n",
       "      <td>Can you guys fix the problem on the app with v...</td>\n",
       "      <td>23</td>\n",
       "      <td>110</td>\n",
       "      <td>1</td>\n",
       "      <td>0</td>\n",
       "      <td>2019</td>\n",
       "      <td>12</td>\n",
       "      <td>Tuesday</td>\n",
       "    </tr>\n",
       "    <tr>\n",
       "      <th>2019-12-31 23:46:46.473000+00:00</th>\n",
       "      <td>Nihal Arafa</td>\n",
       "      <td>5</td>\n",
       "      <td>Learned a lot since I joined twitter</td>\n",
       "      <td>7</td>\n",
       "      <td>36</td>\n",
       "      <td>0</td>\n",
       "      <td>0</td>\n",
       "      <td>2019</td>\n",
       "      <td>12</td>\n",
       "      <td>Tuesday</td>\n",
       "    </tr>\n",
       "    <tr>\n",
       "      <th>2019-12-31 23:20:32.681000+00:00</th>\n",
       "      <td>Mekz Global Ltd</td>\n",
       "      <td>5</td>\n",
       "      <td>Twitter App is cool with almost everything in ...</td>\n",
       "      <td>28</td>\n",
       "      <td>151</td>\n",
       "      <td>0</td>\n",
       "      <td>0</td>\n",
       "      <td>2019</td>\n",
       "      <td>12</td>\n",
       "      <td>Tuesday</td>\n",
       "    </tr>\n",
       "  </tbody>\n",
       "</table>\n",
       "</div>"
      ],
      "text/plain": [
       "                                            Username  Rating  \\\n",
       "Timestamp                                                      \n",
       "2019-12-31 23:51:49.190000+00:00         Moscow John       5   \n",
       "2019-12-31 23:48:58.683000+00:00       Hoyte Bangerz       5   \n",
       "2019-12-31 23:48:02.484000+00:00  Shelby Sharp Oubre       3   \n",
       "2019-12-31 23:46:46.473000+00:00         Nihal Arafa       5   \n",
       "2019-12-31 23:20:32.681000+00:00     Mekz Global Ltd       5   \n",
       "\n",
       "                                                                             Review  \\\n",
       "Timestamp                                                                             \n",
       "2019-12-31 23:51:49.190000+00:00  It was awesome for me using Twitter I need to ...   \n",
       "2019-12-31 23:48:58.683000+00:00                              Easy to use lovely UI   \n",
       "2019-12-31 23:48:02.484000+00:00  Can you guys fix the problem on the app with v...   \n",
       "2019-12-31 23:46:46.473000+00:00               Learned a lot since I joined twitter   \n",
       "2019-12-31 23:20:32.681000+00:00  Twitter App is cool with almost everything in ...   \n",
       "\n",
       "                                  Words  Chars  Likes  ReplyDate  Year  Month  \\\n",
       "Timestamp                                                                       \n",
       "2019-12-31 23:51:49.190000+00:00     22    101      0          0  2019     12   \n",
       "2019-12-31 23:48:58.683000+00:00      5     21      0          0  2019     12   \n",
       "2019-12-31 23:48:02.484000+00:00     23    110      1          0  2019     12   \n",
       "2019-12-31 23:46:46.473000+00:00      7     36      0          0  2019     12   \n",
       "2019-12-31 23:20:32.681000+00:00     28    151      0          0  2019     12   \n",
       "\n",
       "                                 Weekday Name  \n",
       "Timestamp                                      \n",
       "2019-12-31 23:51:49.190000+00:00      Tuesday  \n",
       "2019-12-31 23:48:58.683000+00:00      Tuesday  \n",
       "2019-12-31 23:48:02.484000+00:00      Tuesday  \n",
       "2019-12-31 23:46:46.473000+00:00      Tuesday  \n",
       "2019-12-31 23:20:32.681000+00:00      Tuesday  "
      ]
     },
     "execution_count": 7,
     "metadata": {},
     "output_type": "execute_result"
    }
   ],
   "source": [
    "rcc[APP_NAME].head()"
   ]
  },
  {
   "cell_type": "code",
   "execution_count": 8,
   "metadata": {},
   "outputs": [
    {
     "data": {
      "text/html": [
       "<div>\n",
       "<style scoped>\n",
       "    .dataframe tbody tr th:only-of-type {\n",
       "        vertical-align: middle;\n",
       "    }\n",
       "\n",
       "    .dataframe tbody tr th {\n",
       "        vertical-align: top;\n",
       "    }\n",
       "\n",
       "    .dataframe thead th {\n",
       "        text-align: right;\n",
       "    }\n",
       "</style>\n",
       "<table border=\"1\" class=\"dataframe\">\n",
       "  <thead>\n",
       "    <tr style=\"text-align: right;\">\n",
       "      <th></th>\n",
       "      <th>ReviewCount</th>\n",
       "      <th>Interactions</th>\n",
       "      <th>Words</th>\n",
       "      <th>Chars</th>\n",
       "      <th>Likes</th>\n",
       "      <th>Rating</th>\n",
       "      <th>Avg_Words</th>\n",
       "      <th>Avg_Chars</th>\n",
       "      <th>Avg_Likes</th>\n",
       "      <th>Avg_Rating</th>\n",
       "      <th>Neg_Interactions</th>\n",
       "      <th>Pos_Interactions</th>\n",
       "    </tr>\n",
       "    <tr>\n",
       "      <th>Time</th>\n",
       "      <th></th>\n",
       "      <th></th>\n",
       "      <th></th>\n",
       "      <th></th>\n",
       "      <th></th>\n",
       "      <th></th>\n",
       "      <th></th>\n",
       "      <th></th>\n",
       "      <th></th>\n",
       "      <th></th>\n",
       "      <th></th>\n",
       "      <th></th>\n",
       "    </tr>\n",
       "  </thead>\n",
       "  <tbody>\n",
       "    <tr>\n",
       "      <th>2019-01-01</th>\n",
       "      <td>162</td>\n",
       "      <td>8748</td>\n",
       "      <td>2640</td>\n",
       "      <td>13866</td>\n",
       "      <td>54</td>\n",
       "      <td>643</td>\n",
       "      <td>16.30</td>\n",
       "      <td>85.59</td>\n",
       "      <td>0.33</td>\n",
       "      <td>3.97</td>\n",
       "      <td>989</td>\n",
       "      <td>3689</td>\n",
       "    </tr>\n",
       "    <tr>\n",
       "      <th>2019-02-01</th>\n",
       "      <td>186</td>\n",
       "      <td>8184</td>\n",
       "      <td>3414</td>\n",
       "      <td>17963</td>\n",
       "      <td>44</td>\n",
       "      <td>711</td>\n",
       "      <td>18.35</td>\n",
       "      <td>96.58</td>\n",
       "      <td>0.24</td>\n",
       "      <td>3.82</td>\n",
       "      <td>832</td>\n",
       "      <td>3752</td>\n",
       "    </tr>\n",
       "    <tr>\n",
       "      <th>2019-03-01</th>\n",
       "      <td>172</td>\n",
       "      <td>12212</td>\n",
       "      <td>3120</td>\n",
       "      <td>16622</td>\n",
       "      <td>71</td>\n",
       "      <td>633</td>\n",
       "      <td>18.14</td>\n",
       "      <td>96.64</td>\n",
       "      <td>0.41</td>\n",
       "      <td>3.68</td>\n",
       "      <td>1140</td>\n",
       "      <td>5824</td>\n",
       "    </tr>\n",
       "    <tr>\n",
       "      <th>2019-04-01</th>\n",
       "      <td>149</td>\n",
       "      <td>10579</td>\n",
       "      <td>2196</td>\n",
       "      <td>12001</td>\n",
       "      <td>71</td>\n",
       "      <td>609</td>\n",
       "      <td>14.74</td>\n",
       "      <td>80.54</td>\n",
       "      <td>0.48</td>\n",
       "      <td>4.09</td>\n",
       "      <td>990</td>\n",
       "      <td>4756</td>\n",
       "    </tr>\n",
       "    <tr>\n",
       "      <th>2019-05-01</th>\n",
       "      <td>234</td>\n",
       "      <td>163566</td>\n",
       "      <td>3542</td>\n",
       "      <td>18893</td>\n",
       "      <td>699</td>\n",
       "      <td>914</td>\n",
       "      <td>15.14</td>\n",
       "      <td>80.74</td>\n",
       "      <td>2.99</td>\n",
       "      <td>3.91</td>\n",
       "      <td>29835</td>\n",
       "      <td>40560</td>\n",
       "    </tr>\n",
       "  </tbody>\n",
       "</table>\n",
       "</div>"
      ],
      "text/plain": [
       "            ReviewCount  Interactions  Words  Chars  Likes  Rating  Avg_Words  \\\n",
       "Time                                                                            \n",
       "2019-01-01          162          8748   2640  13866     54     643      16.30   \n",
       "2019-02-01          186          8184   3414  17963     44     711      18.35   \n",
       "2019-03-01          172         12212   3120  16622     71     633      18.14   \n",
       "2019-04-01          149         10579   2196  12001     71     609      14.74   \n",
       "2019-05-01          234        163566   3542  18893    699     914      15.14   \n",
       "\n",
       "            Avg_Chars  Avg_Likes  Avg_Rating  Neg_Interactions  \\\n",
       "Time                                                             \n",
       "2019-01-01      85.59       0.33        3.97               989   \n",
       "2019-02-01      96.58       0.24        3.82               832   \n",
       "2019-03-01      96.64       0.41        3.68              1140   \n",
       "2019-04-01      80.54       0.48        4.09               990   \n",
       "2019-05-01      80.74       2.99        3.91             29835   \n",
       "\n",
       "            Pos_Interactions  \n",
       "Time                          \n",
       "2019-01-01              3689  \n",
       "2019-02-01              3752  \n",
       "2019-03-01              5824  \n",
       "2019-04-01              4756  \n",
       "2019-05-01             40560  "
      ]
     },
     "execution_count": 8,
     "metadata": {},
     "output_type": "execute_result"
    }
   ],
   "source": [
    "edf[APP_NAME].head()"
   ]
  },
  {
   "cell_type": "markdown",
   "metadata": {},
   "source": [
    "# Nota bene\n",
    "\n",
    "The __main goal__ of this notebook is to select __40 datapoints__ from various buckets (valleys, peaks, etc) - which it does by looking at the _edf_ dataframe (Exportable Daily Sum totals Dataframe). This dataframe is formatted to suit the __TADF__ (time-series anomaly detection framework). Part of that format description is that the _DateTimeIndex_ must have H:M:S, i.e. 00:00:00 as suffix.\n",
    "\n",
    "After 40 datapoints have been selected, we consult the __rcc2__ (clone of rcc dataframe). We retrieve all the reviews for each datapoint/date we selected from each bucket, by calling _rcc2.iloc[date]_."
   ]
  },
  {
   "cell_type": "code",
   "execution_count": 9,
   "metadata": {},
   "outputs": [
    {
     "data": {
      "text/plain": [
       "<Figure size 1440x1296 with 0 Axes>"
      ]
     },
     "execution_count": 9,
     "metadata": {},
     "output_type": "execute_result"
    },
    {
     "data": {
      "image/png": "[encoded data removed]",
      "text/plain": [
       "<Figure size 432x288 with 1 Axes>"
      ]
     },
     "metadata": {
      "needs_background": "light"
     },
     "output_type": "display_data"
    },
    {
     "data": {
      "text/plain": [
       "<Figure size 1440x1296 with 0 Axes>"
      ]
     },
     "metadata": {},
     "output_type": "display_data"
    }
   ],
   "source": [
    "sizes = []\n",
    "titles = []\n",
    "y_pos = np.arange(len(sizes))\n",
    "\n",
    "for app in rcc.keys():\n",
    "    titles.append(app)\n",
    "    sizes.append(len(rcc[app]))\n",
    "\n",
    "plt.bar(np.arange(len(sizes)), sizes)\n",
    "plt.xticks(np.arange(len(sizes)), titles)\n",
    "plt.figure(figsize=(20, 18))"
   ]
  },
  {
   "cell_type": "code",
   "execution_count": 10,
   "metadata": {},
   "outputs": [
    {
     "data": {
      "text/plain": [
       "<Figure size 1440x1296 with 0 Axes>"
      ]
     },
     "execution_count": 10,
     "metadata": {},
     "output_type": "execute_result"
    },
    {
     "data": {
      "image/png": "[encoded data removed]",
      "text/plain": [
       "<Figure size 432x288 with 1 Axes>"
      ]
     },
     "metadata": {
      "needs_background": "light"
     },
     "output_type": "display_data"
    },
    {
     "data": {
      "text/plain": [
       "<Figure size 1440x1296 with 0 Axes>"
      ]
     },
     "metadata": {},
     "output_type": "display_data"
    }
   ],
   "source": [
    "sizes = []\n",
    "titles = []\n",
    "y_pos = np.arange(len(sizes))\n",
    "\n",
    "for app in edf.keys():\n",
    "    titles.append(app)\n",
    "    sizes.append(len(edf[app]))\n",
    "\n",
    "plt.bar(np.arange(len(sizes)), sizes)\n",
    "plt.xticks(np.arange(len(sizes)), titles)\n",
    "plt.figure(figsize=(20, 18))"
   ]
  },
  {
   "cell_type": "code",
   "execution_count": 11,
   "metadata": {},
   "outputs": [
    {
     "name": "stdout",
     "output_type": "stream",
     "text": [
      "80872 80872\n"
     ]
    }
   ],
   "source": [
    "# demonstrate that the daily sum totals are based on the raw\n",
    "print(sum(edf[APP_NAME]['ReviewCount']),\n",
    "len(rcc[APP_NAME]))"
   ]
  },
  {
   "cell_type": "code",
   "execution_count": 12,
   "metadata": {},
   "outputs": [
    {
     "data": {
      "image/png": "[encoded data removed]",
      "text/plain": [
       "<Figure size 432x288 with 1 Axes>"
      ]
     },
     "metadata": {},
     "output_type": "display_data"
    },
    {
     "data": {
      "text/plain": [
       "<Figure size 1440x720 with 0 Axes>"
      ]
     },
     "metadata": {},
     "output_type": "display_data"
    }
   ],
   "source": [
    "# distribution of reviews from raw/cleaned/classes\n",
    "piec([len(rcc[APP_NAME])],\n",
    "    rcc.keys())"
   ]
  },
  {
   "cell_type": "code",
   "execution_count": 13,
   "metadata": {},
   "outputs": [
    {
     "data": {
      "image/png": "[encoded data removed]",
      "text/plain": [
       "<Figure size 432x288 with 1 Axes>"
      ]
     },
     "metadata": {},
     "output_type": "display_data"
    },
    {
     "data": {
      "text/plain": [
       "<Figure size 1440x720 with 0 Axes>"
      ]
     },
     "metadata": {},
     "output_type": "display_data"
    }
   ],
   "source": [
    "# distribution of reviews in exportable dataframes\n",
    "piec([len(edf[APP_NAME])],\n",
    "    edf.keys())"
   ]
  },
  {
   "cell_type": "markdown",
   "metadata": {},
   "source": [
    "# select 40 (days) datapoints"
   ]
  },
  {
   "cell_type": "code",
   "execution_count": 14,
   "metadata": {},
   "outputs": [],
   "source": [
    "def append_index2(selected, app, indices_to_select):\n",
    "    \"\"\"This method takes an arbitrary amount of indices\n",
    "    and appends the first 10 unique values to an array.\n",
    "    \"\"\"\n",
    "    \n",
    "    if len(selected) >= 40:\n",
    "        print(\"Not adding more indices! Already at 40!\")\n",
    "        return\n",
    "    \n",
    "    print('Start appending 10 unique values to the following array:')\n",
    "    print(selected)\n",
    "    \n",
    "    selected_counter = 0\n",
    "    duplicates = []\n",
    "    \n",
    "    # iterate over the provided indices\n",
    "    for idx in indices_to_select:\n",
    "        if selected_counter >= 10: # 10 values have been appended\n",
    "            print(\"Reached 10 values, breaking..\")\n",
    "            break\n",
    "        elif idx in selected: # duplicate value\n",
    "            duplicates.append(idx)\n",
    "            continue\n",
    "        else: # unique value found\n",
    "            selected.append(idx)\n",
    "            selected_counter += 1\n",
    "    \n",
    "    if selected_counter < 10:\n",
    "        print(\"Was not able to append 10 values due to duplicate values. These values are already selected:\")\n",
    "        print(duplicates)\n",
    "    else:\n",
    "        print(f\"Successfully added 10 unique values for {app}\")\n",
    "        print(selected)"
   ]
  },
  {
   "cell_type": "markdown",
   "metadata": {},
   "source": [
    "# #1\n",
    "### 10 datapoints from time-series anomaly detection framework\n",
    "\n",
    "In order to get the ten datapoints from the anomaly detection framework for each app, we simply load the exportable (anomaly detection framework compliant) datasets into the system, and have it output the indices of datapoints it thinks is anomalous.\n",
    "\n",
    "This process is done manually, and the results are logged in the table below:\n",
    "\n",
    "<table style=\"float: left;\">\n",
    "    <thead>\n",
    "        <tr>\n",
    "            <th>App</th>\n",
    "            <th style=\"text-align: left;\">Anomaly Indices</th>\n",
    "        </tr>\n",
    "    </thead>\n",
    "    <tbody>\n",
    "        <tr>\n",
    "            <td>Reddit</td>\n",
    "            <td id=\"reddit_indices\">[58, 59, 88, 89, 103, 104, 114, 115, 127, 128, 144, 158, 171, 213, 204, 252]</td>\n",
    "        </tr>\n",
    "    </tbody>\n",
    "</table>"
   ]
  },
  {
   "cell_type": "code",
   "execution_count": 15,
   "metadata": {},
   "outputs": [
    {
     "name": "stdout",
     "output_type": "stream",
     "text": [
      "Start appending 10 unique values to the following array:\n",
      "[]\n",
      "Reached 10 values, breaking..\n",
      "Successfully added 10 unique values for twitter\n",
      "['12-02-2019', '17-03-2019', '20-03-2019', '22-03-2019', '23-03-2019', '24-03-2019', '25-03-2019', '26-03-2019', '27-03-2019', '28-03-2019']\n"
     ]
    }
   ],
   "source": [
    "append_index2(selected_indices[APP_NAME], APP_NAME, TSADF_INDICES)"
   ]
  },
  {
   "cell_type": "code",
   "execution_count": 16,
   "metadata": {},
   "outputs": [
    {
     "data": {
      "text/plain": [
       "221.56712328767122"
      ]
     },
     "execution_count": 16,
     "metadata": {},
     "output_type": "execute_result"
    }
   ],
   "source": [
    "s.mean(edf[APP_NAME]['ReviewCount'])"
   ]
  },
  {
   "cell_type": "code",
   "execution_count": 17,
   "metadata": {},
   "outputs": [
    {
     "data": {
      "text/plain": [
       "80872"
      ]
     },
     "execution_count": 17,
     "metadata": {},
     "output_type": "execute_result"
    }
   ],
   "source": [
    "len(rcc[APP_NAME])"
   ]
  },
  {
   "cell_type": "markdown",
   "metadata": {},
   "source": [
    "# #2"
   ]
  },
  {
   "cell_type": "markdown",
   "metadata": {},
   "source": [
    "### 10 datapoints from visual _peaks_ (nope we're actually extracting automatically the largest vals)\n",
    "\n",
    "To get these ten datapoints, we plot the data for the whole year, and simply choose ten visible peaks."
   ]
  },
  {
   "cell_type": "code",
   "execution_count": 18,
   "metadata": {},
   "outputs": [
    {
     "data": {
      "image/png": "[encoded data removed]",
      "text/plain": [
       "<Figure size 1152x288 with 1 Axes>"
      ]
     },
     "metadata": {
      "needs_background": "light"
     },
     "output_type": "display_data"
    }
   ],
   "source": [
    "fig, ax = plt.subplots(figsize=(16, 4))\n",
    "ax.plot(edf[APP_NAME][RELEVANT_COL])\n",
    "ax.set(xlabel='Day', ylabel=RELEVANT_COL, title=RELEVANT_COL + ' - '+APP_NAME+' - 2019')\n",
    "# plt.hlines(y=s.mean(edf[APP_NAME][RELEVANT_COL]), xmin=0, xmax=len(edf[APP_NAME]), colors='r', linestyles='--', lw=2)\n",
    "plt.show()"
   ]
  },
  {
   "cell_type": "code",
   "execution_count": 19,
   "metadata": {},
   "outputs": [
    {
     "name": "stdout",
     "output_type": "stream",
     "text": [
      "Variance: 177203086118.6185 Standard deviation: 420954.96922903584\n"
     ]
    }
   ],
   "source": [
    "print(f\"Variance: {s.variance(edf[APP_NAME][RELEVANT_COL])}\",\n",
    "f\"Standard deviation: {s.stdev(edf[APP_NAME][RELEVANT_COL])}\")"
   ]
  },
  {
   "cell_type": "code",
   "execution_count": 20,
   "metadata": {},
   "outputs": [
    {
     "name": "stdout",
     "output_type": "stream",
     "text": [
      "Start appending 10 unique values to the following array:\n",
      "['12-02-2019', '17-03-2019', '20-03-2019', '22-03-2019', '23-03-2019', '24-03-2019', '25-03-2019', '26-03-2019', '27-03-2019', '28-03-2019']\n",
      "Reached 10 values, breaking..\n",
      "Successfully added 10 unique values for twitter\n",
      "['12-02-2019', '17-03-2019', '20-03-2019', '22-03-2019', '23-03-2019', '24-03-2019', '25-03-2019', '26-03-2019', '27-03-2019', '28-03-2019', '2019-12-21', '2019-05-14', '2019-12-20', '2019-05-15', '2019-02-04', '2019-06-26', '2019-06-13', '2019-03-20', '2019-04-23', '2019-12-22']\n"
     ]
    }
   ],
   "source": [
    "review_counts = edf[APP_NAME][RELEVANT_COL]\n",
    "reviewcounts_nparray = np.array(review_counts)\n",
    "largest_values = reviewcounts_nparray[np.argsort(reviewcounts_nparray)[-50:]]\n",
    "peaks = sorted(largest_values, reverse=True) # sort descending\n",
    "\n",
    "# find the indices via the largest values\n",
    "highest_indices = []\n",
    "for peak_value in peaks:\n",
    "    index = edf[APP_NAME][edf[APP_NAME][RELEVANT_COL] == peak_value].index[0]\n",
    "    index = str(index).split(\" \")[0]\n",
    "    highest_indices.append(index)\n",
    "    \n",
    "append_index2(selected_indices[APP_NAME], APP_NAME, highest_indices)"
   ]
  },
  {
   "cell_type": "markdown",
   "metadata": {},
   "source": [
    "# #3"
   ]
  },
  {
   "cell_type": "markdown",
   "metadata": {},
   "source": [
    "### 10 datapoints from visual _valleys_"
   ]
  },
  {
   "cell_type": "code",
   "execution_count": 21,
   "metadata": {},
   "outputs": [
    {
     "name": "stdout",
     "output_type": "stream",
     "text": [
      "Start appending 10 unique values to the following array:\n",
      "['12-02-2019', '17-03-2019', '20-03-2019', '22-03-2019', '23-03-2019', '24-03-2019', '25-03-2019', '26-03-2019', '27-03-2019', '28-03-2019', '2019-12-21', '2019-05-14', '2019-12-20', '2019-05-15', '2019-02-04', '2019-06-26', '2019-06-13', '2019-03-20', '2019-04-23', '2019-12-22']\n",
      "Successfully added 10 unique values for twitter\n",
      "['12-02-2019', '17-03-2019', '20-03-2019', '22-03-2019', '23-03-2019', '24-03-2019', '25-03-2019', '26-03-2019', '27-03-2019', '28-03-2019', '2019-12-21', '2019-05-14', '2019-12-20', '2019-05-15', '2019-02-04', '2019-06-26', '2019-06-13', '2019-03-20', '2019-04-23', '2019-12-22', '2019-08-01', '2019-02-01', '2019-01-01', '2019-04-01', '2019-03-01', '2019-03-02', '2019-01-19', '2019-09-14', '2019-04-08', '2019-02-02']\n"
     ]
    }
   ],
   "source": [
    "counts = edf[APP_NAME][RELEVANT_COL]\n",
    "counts_nparray = np.array(counts)\n",
    "cnpa = sorted(counts_nparray, reverse=False)\n",
    "lowest_values = cnpa[:10]\n",
    "higest_values = cnpa[len(cnpa)-10:]\n",
    "\n",
    "lowest_indices = []\n",
    "for low_value in lowest_values:\n",
    "    index = edf[APP_NAME][edf[APP_NAME][RELEVANT_COL] == low_value].index[0]\n",
    "    index = str(index).split(\" \")[0]\n",
    "    lowest_indices.append(index)\n",
    "    \n",
    "append_index2(selected_indices[APP_NAME], APP_NAME, lowest_indices)"
   ]
  },
  {
   "cell_type": "code",
   "execution_count": 22,
   "metadata": {},
   "outputs": [
    {
     "data": {
      "text/plain": [
       "[6846, 8184, 8748, 10579, 12212, 12738, 14212, 15200, 16686, 16815]"
      ]
     },
     "execution_count": 22,
     "metadata": {},
     "output_type": "execute_result"
    }
   ],
   "source": [
    "lowest_values"
   ]
  },
  {
   "cell_type": "code",
   "execution_count": 23,
   "metadata": {},
   "outputs": [
    {
     "data": {
      "text/plain": [
       "[6151574,\n",
       " 2035692,\n",
       " 1997406,\n",
       " 1523275,\n",
       " 1499987,\n",
       " 1421115,\n",
       " 1405811,\n",
       " 1402218,\n",
       " 1235877,\n",
       " 1194536]"
      ]
     },
     "execution_count": 23,
     "metadata": {},
     "output_type": "execute_result"
    }
   ],
   "source": [
    "sorted(higest_values, reverse=True)"
   ]
  },
  {
   "cell_type": "code",
   "execution_count": 24,
   "metadata": {},
   "outputs": [
    {
     "data": {
      "text/plain": [
       "True"
      ]
     },
     "execution_count": 24,
     "metadata": {},
     "output_type": "execute_result"
    }
   ],
   "source": [
    "peaks[:10] == sorted(higest_values, reverse=True)"
   ]
  },
  {
   "cell_type": "markdown",
   "metadata": {},
   "source": [
    "# #4"
   ]
  },
  {
   "cell_type": "markdown",
   "metadata": {},
   "source": [
    "### 10 random datapoints\n",
    "\n",
    "Here we do a random sample (with varying seed), and make sure to only select indices that have not been selected by previous steps.\n",
    "\n",
    "np.random.random_sample(10)"
   ]
  },
  {
   "cell_type": "code",
   "execution_count": 25,
   "metadata": {},
   "outputs": [
    {
     "name": "stdout",
     "output_type": "stream",
     "text": [
      "Start appending 10 unique values to the following array:\n",
      "['12-02-2019', '17-03-2019', '20-03-2019', '22-03-2019', '23-03-2019', '24-03-2019', '25-03-2019', '26-03-2019', '27-03-2019', '28-03-2019', '2019-12-21', '2019-05-14', '2019-12-20', '2019-05-15', '2019-02-04', '2019-06-26', '2019-06-13', '2019-03-20', '2019-04-23', '2019-12-22', '2019-08-01', '2019-02-01', '2019-01-01', '2019-04-01', '2019-03-01', '2019-03-02', '2019-01-19', '2019-09-14', '2019-04-08', '2019-02-02']\n",
      "Reached 10 values, breaking..\n",
      "Successfully added 10 unique values for twitter\n",
      "['12-02-2019', '17-03-2019', '20-03-2019', '22-03-2019', '23-03-2019', '24-03-2019', '25-03-2019', '26-03-2019', '27-03-2019', '28-03-2019', '2019-12-21', '2019-05-14', '2019-12-20', '2019-05-15', '2019-02-04', '2019-06-26', '2019-06-13', '2019-03-20', '2019-04-23', '2019-12-22', '2019-08-01', '2019-02-01', '2019-01-01', '2019-04-01', '2019-03-01', '2019-03-02', '2019-01-19', '2019-09-14', '2019-04-08', '2019-02-02', '2019-06-07', '2019-11-15', '2019-04-20', '2019-07-26', '2019-07-13', '2019-07-23', '2019-06-14', '2019-09-13', '2019-08-13', '2019-11-06']\n"
     ]
    }
   ],
   "source": [
    "random_sel = random.sample(list(edf[APP_NAME].index), 30)\n",
    "random_sel = [str(rs).split(\" \")[0] for rs in random_sel]\n",
    "append_index2(selected_indices[APP_NAME], APP_NAME, random_sel)"
   ]
  },
  {
   "cell_type": "code",
   "execution_count": 26,
   "metadata": {},
   "outputs": [
    {
     "data": {
      "text/plain": [
       "40"
      ]
     },
     "execution_count": 26,
     "metadata": {},
     "output_type": "execute_result"
    }
   ],
   "source": [
    "len(selected_indices[APP_NAME])"
   ]
  },
  {
   "cell_type": "markdown",
   "metadata": {},
   "source": [
    "# from INDICES to DATES"
   ]
  },
  {
   "cell_type": "code",
   "execution_count": 27,
   "metadata": {},
   "outputs": [],
   "source": [
    "# import re\n",
    "# dates = []\n",
    "\n",
    "# for i in selected_indices[APP_NAME]:\n",
    "#     date = edf[APP_NAME][edf[APP_NAME].index == i]\n",
    "    \n",
    "#     cl = re.sub(\" 00:00\", \"\", date.item()) # remove trailing 00:00\n",
    "#     sp = cl.split(\".\")\n",
    "#     cl = sp[1] + \"-\" + sp[0] + \"-\" + sp[2] # change order to MONTH / DAY / YEAR\n",
    "#     dates.append(cl)\n",
    "\n",
    "dates = selected_indices[APP_NAME]"
   ]
  },
  {
   "cell_type": "markdown",
   "metadata": {},
   "source": [
    "# selecting 100 reviews per datapoint from the (above) four buckets\n",
    "\n",
    "At this point, we have selected 10 unique datapoints (days, dates) from the following four buckets:\n",
    "- tsadf\n",
    "- peaks\n",
    "- valleys\n",
    "- random\n",
    "\n",
    "We've made sure the selected data points are unique.\n",
    "\n",
    "The next step is to iterate through all (in total) 40 datapoints, and from each date, select (at least) 100 reviews. In the end, we should be left with a maximum of 4000 reviews from each app.\n",
    "\n",
    "(Remark 1) Each app has several tens of thousands of reviews, however we cannot always be sure that each selected datapoint (date) has 100 reviews. For datasets with less than 100K reviews, this may often be the case.\n",
    "\n",
    "We iterate through each date, and then perform a stratified sample of 100 reviews based on the rating (1-5), so that the selected 100 reviews are representative of all the reviews that were written on that date.\n",
    "\n",
    "(Remark 2) To perform the stratified sample, we make use of ScikitLearn 'SplitTrainTest' method, which accepts a percentage that indicates how large the _test_ set should be. As we want _exactly_ 100 reviews, we have to calculate how much 100 reviews is in percent, with respect to the reviews in the given datapoint.\n",
    "\n",
    "Finding the percentage 100 is of AMOUNT_OF_REVIEWS = (100 / REVIEW_COUNT) * 100 \n",
    "\n",
    "Considering Remark 1, we do this wherever possible. If it is not possible, we simply take the reviews that are there."
   ]
  },
  {
   "cell_type": "code",
   "execution_count": 28,
   "metadata": {},
   "outputs": [
    {
     "data": {
      "text/plain": [
       "<AxesSubplot:>"
      ]
     },
     "execution_count": 28,
     "metadata": {},
     "output_type": "execute_result"
    },
    {
     "data": {
      "image/png": "[encoded data removed]",
      "text/plain": [
       "<Figure size 432x288 with 1 Axes>"
      ]
     },
     "metadata": {
      "needs_background": "light"
     },
     "output_type": "display_data"
    }
   ],
   "source": [
    "# distribution of rating across ENTIRE dataset\n",
    "rcc[APP_NAME]['Rating'].hist()"
   ]
  },
  {
   "cell_type": "code",
   "execution_count": 29,
   "metadata": {},
   "outputs": [
    {
     "data": {
      "text/plain": [
       "5    0.518152\n",
       "1    0.195840\n",
       "4    0.172631\n",
       "3    0.065659\n",
       "2    0.047717\n",
       "Name: Rating, dtype: float64"
      ]
     },
     "execution_count": 29,
     "metadata": {},
     "output_type": "execute_result"
    }
   ],
   "source": [
    "rcc[APP_NAME]['Rating'].value_counts() / len(rcc[APP_NAME])"
   ]
  },
  {
   "cell_type": "code",
   "execution_count": 30,
   "metadata": {},
   "outputs": [
    {
     "data": {
      "text/plain": [
       "<AxesSubplot:>"
      ]
     },
     "execution_count": 30,
     "metadata": {},
     "output_type": "execute_result"
    },
    {
     "data": {
      "image/png": "[encoded data removed]",
      "text/plain": [
       "<Figure size 432x288 with 1 Axes>"
      ]
     },
     "metadata": {
      "needs_background": "light"
     },
     "output_type": "display_data"
    }
   ],
   "source": [
    "# distribution of rating on a given date\n",
    "rcc[APP_NAME]['Rating'].loc[dates[-1]].hist()"
   ]
  },
  {
   "cell_type": "code",
   "execution_count": 31,
   "metadata": {},
   "outputs": [
    {
     "data": {
      "text/plain": [
       "5    0.412121\n",
       "1    0.281818\n",
       "4    0.127273\n",
       "3    0.090909\n",
       "2    0.087879\n",
       "Name: Rating, dtype: float64"
      ]
     },
     "execution_count": 31,
     "metadata": {},
     "output_type": "execute_result"
    }
   ],
   "source": [
    "# rating ratio on a given date\n",
    "rcc[APP_NAME]['Rating'].loc[dates[1]].value_counts() / len(rcc[APP_NAME].loc[dates[1]])"
   ]
  },
  {
   "cell_type": "markdown",
   "metadata": {},
   "source": [
    "# final touches\n",
    "\n",
    "The dataframe 'rcc' (cleaned reviews) is the one we pipe into an Excel sheet.\n",
    "\n",
    "However, we only need a few columns, also, ReplyDate is a boolean field."
   ]
  },
  {
   "cell_type": "code",
   "execution_count": 32,
   "metadata": {},
   "outputs": [
    {
     "data": {
      "text/html": [
       "<div>\n",
       "<style scoped>\n",
       "    .dataframe tbody tr th:only-of-type {\n",
       "        vertical-align: middle;\n",
       "    }\n",
       "\n",
       "    .dataframe tbody tr th {\n",
       "        vertical-align: top;\n",
       "    }\n",
       "\n",
       "    .dataframe thead th {\n",
       "        text-align: right;\n",
       "    }\n",
       "</style>\n",
       "<table border=\"1\" class=\"dataframe\">\n",
       "  <thead>\n",
       "    <tr style=\"text-align: right;\">\n",
       "      <th></th>\n",
       "      <th>Username</th>\n",
       "      <th>Rating</th>\n",
       "      <th>Review</th>\n",
       "      <th>Words</th>\n",
       "      <th>Chars</th>\n",
       "      <th>Likes</th>\n",
       "      <th>ReplyDate</th>\n",
       "      <th>Year</th>\n",
       "      <th>Month</th>\n",
       "      <th>Weekday Name</th>\n",
       "    </tr>\n",
       "    <tr>\n",
       "      <th>Timestamp</th>\n",
       "      <th></th>\n",
       "      <th></th>\n",
       "      <th></th>\n",
       "      <th></th>\n",
       "      <th></th>\n",
       "      <th></th>\n",
       "      <th></th>\n",
       "      <th></th>\n",
       "      <th></th>\n",
       "      <th></th>\n",
       "    </tr>\n",
       "  </thead>\n",
       "  <tbody>\n",
       "    <tr>\n",
       "      <th>2019-12-31 23:51:49.190000+00:00</th>\n",
       "      <td>Moscow John</td>\n",
       "      <td>5</td>\n",
       "      <td>It was awesome for me using Twitter I need to ...</td>\n",
       "      <td>22</td>\n",
       "      <td>101</td>\n",
       "      <td>0</td>\n",
       "      <td>0</td>\n",
       "      <td>2019</td>\n",
       "      <td>12</td>\n",
       "      <td>Tuesday</td>\n",
       "    </tr>\n",
       "  </tbody>\n",
       "</table>\n",
       "</div>"
      ],
      "text/plain": [
       "                                     Username  Rating  \\\n",
       "Timestamp                                               \n",
       "2019-12-31 23:51:49.190000+00:00  Moscow John       5   \n",
       "\n",
       "                                                                             Review  \\\n",
       "Timestamp                                                                             \n",
       "2019-12-31 23:51:49.190000+00:00  It was awesome for me using Twitter I need to ...   \n",
       "\n",
       "                                  Words  Chars  Likes  ReplyDate  Year  Month  \\\n",
       "Timestamp                                                                       \n",
       "2019-12-31 23:51:49.190000+00:00     22    101      0          0  2019     12   \n",
       "\n",
       "                                 Weekday Name  \n",
       "Timestamp                                      \n",
       "2019-12-31 23:51:49.190000+00:00      Tuesday  "
      ]
     },
     "execution_count": 32,
     "metadata": {},
     "output_type": "execute_result"
    }
   ],
   "source": [
    "rcc[APP_NAME].head(1)"
   ]
  },
  {
   "cell_type": "code",
   "execution_count": 33,
   "metadata": {},
   "outputs": [
    {
     "data": {
      "text/html": [
       "<div>\n",
       "<style scoped>\n",
       "    .dataframe tbody tr th:only-of-type {\n",
       "        vertical-align: middle;\n",
       "    }\n",
       "\n",
       "    .dataframe tbody tr th {\n",
       "        vertical-align: top;\n",
       "    }\n",
       "\n",
       "    .dataframe thead th {\n",
       "        text-align: right;\n",
       "    }\n",
       "</style>\n",
       "<table border=\"1\" class=\"dataframe\">\n",
       "  <thead>\n",
       "    <tr style=\"text-align: right;\">\n",
       "      <th></th>\n",
       "      <th>Rating</th>\n",
       "      <th>Review</th>\n",
       "      <th>Likes</th>\n",
       "      <th>ReplyDate</th>\n",
       "    </tr>\n",
       "    <tr>\n",
       "      <th>Timestamp</th>\n",
       "      <th></th>\n",
       "      <th></th>\n",
       "      <th></th>\n",
       "      <th></th>\n",
       "    </tr>\n",
       "  </thead>\n",
       "  <tbody>\n",
       "    <tr>\n",
       "      <th>2019-12-31 23:51:49.190000+00:00</th>\n",
       "      <td>5</td>\n",
       "      <td>It was awesome for me using Twitter I need to ...</td>\n",
       "      <td>0</td>\n",
       "      <td>0</td>\n",
       "    </tr>\n",
       "  </tbody>\n",
       "</table>\n",
       "</div>"
      ],
      "text/plain": [
       "                                  Rating  \\\n",
       "Timestamp                                  \n",
       "2019-12-31 23:51:49.190000+00:00       5   \n",
       "\n",
       "                                                                             Review  \\\n",
       "Timestamp                                                                             \n",
       "2019-12-31 23:51:49.190000+00:00  It was awesome for me using Twitter I need to ...   \n",
       "\n",
       "                                  Likes  ReplyDate  \n",
       "Timestamp                                           \n",
       "2019-12-31 23:51:49.190000+00:00      0          0  "
      ]
     },
     "execution_count": 33,
     "metadata": {},
     "output_type": "execute_result"
    }
   ],
   "source": [
    "rcc2 = rcc.copy()\n",
    "\n",
    "rcc2[APP_NAME] = rcc2[APP_NAME].drop(['Username', 'Words', 'Chars', 'Year', 'Month', 'Weekday Name'], axis=1)\n",
    "rcc2[APP_NAME].head(1)"
   ]
  },
  {
   "cell_type": "code",
   "execution_count": 34,
   "metadata": {},
   "outputs": [
    {
     "data": {
      "text/html": [
       "<div>\n",
       "<style scoped>\n",
       "    .dataframe tbody tr th:only-of-type {\n",
       "        vertical-align: middle;\n",
       "    }\n",
       "\n",
       "    .dataframe tbody tr th {\n",
       "        vertical-align: top;\n",
       "    }\n",
       "\n",
       "    .dataframe thead th {\n",
       "        text-align: right;\n",
       "    }\n",
       "</style>\n",
       "<table border=\"1\" class=\"dataframe\">\n",
       "  <thead>\n",
       "    <tr style=\"text-align: right;\">\n",
       "      <th></th>\n",
       "      <th>Rating</th>\n",
       "      <th>Review</th>\n",
       "      <th>Likes</th>\n",
       "      <th>Reply?</th>\n",
       "    </tr>\n",
       "    <tr>\n",
       "      <th>Timestamp</th>\n",
       "      <th></th>\n",
       "      <th></th>\n",
       "      <th></th>\n",
       "      <th></th>\n",
       "    </tr>\n",
       "  </thead>\n",
       "  <tbody>\n",
       "    <tr>\n",
       "      <th>2019-12-31 23:51:49.190000+00:00</th>\n",
       "      <td>5</td>\n",
       "      <td>It was awesome for me using Twitter I need to ...</td>\n",
       "      <td>0</td>\n",
       "      <td>0</td>\n",
       "    </tr>\n",
       "  </tbody>\n",
       "</table>\n",
       "</div>"
      ],
      "text/plain": [
       "                                  Rating  \\\n",
       "Timestamp                                  \n",
       "2019-12-31 23:51:49.190000+00:00       5   \n",
       "\n",
       "                                                                             Review  \\\n",
       "Timestamp                                                                             \n",
       "2019-12-31 23:51:49.190000+00:00  It was awesome for me using Twitter I need to ...   \n",
       "\n",
       "                                  Likes  Reply?  \n",
       "Timestamp                                        \n",
       "2019-12-31 23:51:49.190000+00:00      0       0  "
      ]
     },
     "execution_count": 34,
     "metadata": {},
     "output_type": "execute_result"
    }
   ],
   "source": [
    "rcc2[APP_NAME] = rcc2[APP_NAME].rename(columns = {\n",
    "    \"ReplyDate\": \"Reply?\"\n",
    "}, errors=\"raise\")\n",
    "rcc2[APP_NAME].head(1)"
   ]
  },
  {
   "cell_type": "code",
   "execution_count": 35,
   "metadata": {},
   "outputs": [
    {
     "data": {
      "text/html": [
       "<div>\n",
       "<style scoped>\n",
       "    .dataframe tbody tr th:only-of-type {\n",
       "        vertical-align: middle;\n",
       "    }\n",
       "\n",
       "    .dataframe tbody tr th {\n",
       "        vertical-align: top;\n",
       "    }\n",
       "\n",
       "    .dataframe thead th {\n",
       "        text-align: right;\n",
       "    }\n",
       "</style>\n",
       "<table border=\"1\" class=\"dataframe\">\n",
       "  <thead>\n",
       "    <tr style=\"text-align: right;\">\n",
       "      <th></th>\n",
       "      <th>Rating</th>\n",
       "      <th>Review</th>\n",
       "      <th>Likes</th>\n",
       "      <th>Reply?</th>\n",
       "    </tr>\n",
       "  </thead>\n",
       "  <tbody>\n",
       "  </tbody>\n",
       "</table>\n",
       "</div>"
      ],
      "text/plain": [
       "Empty DataFrame\n",
       "Columns: [Rating, Review, Likes, Reply?]\n",
       "Index: []"
      ]
     },
     "execution_count": 35,
     "metadata": {},
     "output_type": "execute_result"
    }
   ],
   "source": [
    "# make new dataframe to hold our samples from each date\n",
    "selected_reviews = pd.DataFrame(columns=rcc2[APP_NAME].columns)\n",
    "selected_reviews.head()"
   ]
  },
  {
   "cell_type": "code",
   "execution_count": 36,
   "metadata": {},
   "outputs": [
    {
     "name": "stdout",
     "output_type": "stream",
     "text": [
      "On date 2019-03-01, a 100 reviews out of 265 in % is 0.38\n"
     ]
    }
   ],
   "source": [
    "from sklearn.model_selection import StratifiedShuffleSplit\n",
    "\n",
    "def get_strat_sample(app, date, column='Rating'):\n",
    "    \"\"\"Returns a Stratified sample.\n",
    "    \n",
    "    Keyword arguments:\n",
    "    app - name in the 'rcc' dataframe that holds a dataframe\n",
    "    date - a date, present in the dataframe\n",
    "    column - name of column, present in dataframe, to stratify on\n",
    "    \"\"\"\n",
    "    reviews = rcc2[app].loc[date]\n",
    "    ratings = reviews[column]\n",
    "    \n",
    "    one_pct = len(reviews) / 100\n",
    "    pct_100 = round((100 / one_pct)/100, 2)\n",
    "    \n",
    "    print(f'On date {date}, a 100 reviews out of {len(reviews)} in % is {pct_100}')\n",
    "    \n",
    "    try:\n",
    "        sss = StratifiedShuffleSplit(n_splits=1, test_size=pct_100, random_state=0)\n",
    "        for train_index, test_index in sss.split(reviews, ratings):\n",
    "            X_train, X_test = reviews.iloc[train_index], reviews.iloc[test_index]\n",
    "            y_train, y_test = ratings.iloc[train_index], ratings.iloc[test_index]\n",
    "        return X_test\n",
    "    except ValueError:\n",
    "        print(\"Insufficient class labels in one of your classes to keep the data split ratio equal to test_size.\")\n",
    "        return reviews.sample(100)\n",
    "    \n",
    "test = get_strat_sample(APP_NAME, '2019-03-01')"
   ]
  },
  {
   "cell_type": "code",
   "execution_count": 37,
   "metadata": {},
   "outputs": [
    {
     "data": {
      "text/plain": [
       "5    0.603960\n",
       "4    0.188119\n",
       "1    0.128713\n",
       "3    0.039604\n",
       "2    0.039604\n",
       "Name: Rating, dtype: float64"
      ]
     },
     "execution_count": 37,
     "metadata": {},
     "output_type": "execute_result"
    }
   ],
   "source": [
    "test['Rating'].value_counts() / len(test)"
   ]
  },
  {
   "cell_type": "code",
   "execution_count": 38,
   "metadata": {},
   "outputs": [
    {
     "data": {
      "text/plain": [
       "5    0.603774\n",
       "4    0.188679\n",
       "1    0.124528\n",
       "3    0.045283\n",
       "2    0.037736\n",
       "Name: Rating, dtype: float64"
      ]
     },
     "execution_count": 38,
     "metadata": {},
     "output_type": "execute_result"
    }
   ],
   "source": [
    "rcc[APP_NAME]['Rating'].loc['2019-03-01'].value_counts() / len(rcc[APP_NAME].loc['2019-03-01'])"
   ]
  },
  {
   "cell_type": "code",
   "execution_count": 39,
   "metadata": {},
   "outputs": [
    {
     "data": {
      "text/plain": [
       "101"
      ]
     },
     "execution_count": 39,
     "metadata": {},
     "output_type": "execute_result"
    }
   ],
   "source": [
    "len(test)"
   ]
  },
  {
   "cell_type": "markdown",
   "metadata": {},
   "source": [
    "It is demonstrated in the two above cells that the ratio of the rating in the (stratified, \"test set\") sample is close to identical with that found in the whole collection of reviews on the date from which reviews were sampled."
   ]
  },
  {
   "cell_type": "code",
   "execution_count": 40,
   "metadata": {
    "scrolled": false
   },
   "outputs": [
    {
     "name": "stdout",
     "output_type": "stream",
     "text": [
      "For date: 12-02-2019 found GT 100 reviews (168). Performing strat sample\n",
      "On date 12-02-2019, a 100 reviews out of 168 in % is 0.6\n",
      "For date: 17-03-2019 found GT 100 reviews (330). Performing strat sample\n",
      "On date 17-03-2019, a 100 reviews out of 330 in % is 0.3\n",
      "For date: 20-03-2019 found GT 100 reviews (414). Performing strat sample\n",
      "On date 20-03-2019, a 100 reviews out of 414 in % is 0.24\n",
      "For date: 22-03-2019 found GT 100 reviews (450). Performing strat sample\n",
      "On date 22-03-2019, a 100 reviews out of 450 in % is 0.22\n",
      "For date: 23-03-2019 found GT 100 reviews (466). Performing strat sample\n",
      "On date 23-03-2019, a 100 reviews out of 466 in % is 0.21\n",
      "For date: 24-03-2019 found GT 100 reviews (431). Performing strat sample\n",
      "On date 24-03-2019, a 100 reviews out of 431 in % is 0.23\n",
      "For date: 25-03-2019 found GT 100 reviews (402). Performing strat sample\n",
      "On date 25-03-2019, a 100 reviews out of 402 in % is 0.25\n",
      "For date: 26-03-2019 found GT 100 reviews (331). Performing strat sample\n",
      "On date 26-03-2019, a 100 reviews out of 331 in % is 0.3\n",
      "For date: 27-03-2019 found GT 100 reviews (360). Performing strat sample\n",
      "On date 27-03-2019, a 100 reviews out of 360 in % is 0.28\n",
      "For date: 28-03-2019 found GT 100 reviews (378). Performing strat sample\n",
      "On date 28-03-2019, a 100 reviews out of 378 in % is 0.26\n",
      "For date: 2019-12-21 found GT 100 reviews (1507). Performing strat sample\n",
      "On date 2019-12-21, a 100 reviews out of 1507 in % is 0.07\n",
      "For date: 2019-05-14 found GT 100 reviews (244). Performing strat sample\n",
      "On date 2019-05-14, a 100 reviews out of 244 in % is 0.41\n",
      "For date: 2019-12-20 found GT 100 reviews (1269). Performing strat sample\n",
      "On date 2019-12-20, a 100 reviews out of 1269 in % is 0.08\n",
      "For date: 2019-05-15 found GT 100 reviews (215). Performing strat sample\n",
      "On date 2019-05-15, a 100 reviews out of 215 in % is 0.47\n",
      "For date: 2019-02-04 found GT 100 reviews (181). Performing strat sample\n",
      "On date 2019-02-04, a 100 reviews out of 181 in % is 0.55\n",
      "For date: 2019-06-26 found GT 100 reviews (255). Performing strat sample\n",
      "On date 2019-06-26, a 100 reviews out of 255 in % is 0.39\n",
      "For date: 2019-06-13 found GT 100 reviews (227). Performing strat sample\n",
      "On date 2019-06-13, a 100 reviews out of 227 in % is 0.44\n",
      "For date: 2019-03-20 found GT 100 reviews (414). Performing strat sample\n",
      "On date 2019-03-20, a 100 reviews out of 414 in % is 0.24\n",
      "For date: 2019-04-23 found GT 100 reviews (411). Performing strat sample\n",
      "On date 2019-04-23, a 100 reviews out of 411 in % is 0.24\n",
      "For date: 2019-12-22 found GT 100 reviews (664). Performing strat sample\n",
      "On date 2019-12-22, a 100 reviews out of 664 in % is 0.15\n",
      "For date: 2019-08-01 found GT 100 reviews (173). Performing strat sample\n",
      "On date 2019-08-01, a 100 reviews out of 173 in % is 0.58\n",
      "For date: 2019-02-01 found GT 100 reviews (167). Performing strat sample\n",
      "On date 2019-02-01, a 100 reviews out of 167 in % is 0.6\n",
      "For date: 2019-01-01 found GT 100 reviews (162). Performing strat sample\n",
      "On date 2019-01-01, a 100 reviews out of 162 in % is 0.62\n",
      "Insufficient class labels in one of your classes to keep the data split ratio equal to test_size.\n",
      "For date: 2019-04-01 found GT 100 reviews (331). Performing strat sample\n",
      "On date 2019-04-01, a 100 reviews out of 331 in % is 0.3\n",
      "For date: 2019-03-01 found GT 100 reviews (265). Performing strat sample\n",
      "On date 2019-03-01, a 100 reviews out of 265 in % is 0.38\n",
      "For date: 2019-03-02 found GT 100 reviews (244). Performing strat sample\n",
      "On date 2019-03-02, a 100 reviews out of 244 in % is 0.41\n",
      "For date: 2019-01-19 found GT 100 reviews (187). Performing strat sample\n",
      "On date 2019-01-19, a 100 reviews out of 187 in % is 0.53\n",
      "For date: 2019-09-14 found GT 100 reviews (152). Performing strat sample\n",
      "On date 2019-09-14, a 100 reviews out of 152 in % is 0.66\n",
      "For date: 2019-04-08 found GT 100 reviews (264). Performing strat sample\n",
      "On date 2019-04-08, a 100 reviews out of 264 in % is 0.38\n",
      "For date: 2019-02-02 found GT 100 reviews (177). Performing strat sample\n",
      "On date 2019-02-02, a 100 reviews out of 177 in % is 0.56\n",
      "For date: 2019-06-07 found GT 100 reviews (224). Performing strat sample\n",
      "On date 2019-06-07, a 100 reviews out of 224 in % is 0.45\n",
      "For date: 2019-11-15 found GT 100 reviews (165). Performing strat sample\n",
      "On date 2019-11-15, a 100 reviews out of 165 in % is 0.61\n",
      "For date: 2019-04-20 found GT 100 reviews (247). Performing strat sample\n",
      "On date 2019-04-20, a 100 reviews out of 247 in % is 0.4\n",
      "For date: 2019-07-26 found GT 100 reviews (177). Performing strat sample\n",
      "On date 2019-07-26, a 100 reviews out of 177 in % is 0.56\n",
      "For date: 2019-07-13 found GT 100 reviews (165). Performing strat sample\n",
      "On date 2019-07-13, a 100 reviews out of 165 in % is 0.61\n",
      "For date: 2019-07-23 found GT 100 reviews (215). Performing strat sample\n",
      "On date 2019-07-23, a 100 reviews out of 215 in % is 0.47\n",
      "For date: 2019-06-14 found GT 100 reviews (186). Performing strat sample\n",
      "On date 2019-06-14, a 100 reviews out of 186 in % is 0.54\n",
      "For date: 2019-09-13 found GT 100 reviews (174). Performing strat sample\n",
      "On date 2019-09-13, a 100 reviews out of 174 in % is 0.57\n",
      "For date: 2019-08-13 found GT 100 reviews (221). Performing strat sample\n",
      "On date 2019-08-13, a 100 reviews out of 221 in % is 0.45\n",
      "For date: 2019-11-06 found GT 100 reviews (165). Performing strat sample\n",
      "On date 2019-11-06, a 100 reviews out of 165 in % is 0.61\n",
      "All days had at least 100 reviews\n",
      "3920 reviews selected from 40 unique dates\n"
     ]
    }
   ],
   "source": [
    "lt_100_counter = 0\n",
    "for date in dates:\n",
    "    data = rcc2[APP_NAME].loc[date]\n",
    "    if len(data) < 110: # technically there only has to be 100 reviews present, but it turns out\n",
    "                        # the SplitStratified (scikit.learn) needs a little wiggleroom (~10 reviews)\n",
    "        print(f'For date: {date} found LT 100 reviews ({len(data)}). Selecting all')\n",
    "        lt_100_counter += 1\n",
    "        sample = data\n",
    "    else:\n",
    "        print(f'For date: {date} found GT 100 reviews ({len(data)}). Performing strat sample')\n",
    "        sample = get_strat_sample(APP_NAME, date, 'Rating')\n",
    "        \n",
    "    for idx, row in sample.iterrows():\n",
    "        selected_reviews.loc[idx] = row\n",
    "        \n",
    "if lt_100_counter != 0:\n",
    "    print(f\"{lt_100_counter}/40 days did not have 100 reviews\")\n",
    "else:\n",
    "    print(\"All days had at least 100 reviews\")\n",
    "print(f\"{len(selected_reviews)} reviews selected from {len(dates)} unique dates\")"
   ]
  },
  {
   "cell_type": "code",
   "execution_count": 41,
   "metadata": {
    "scrolled": false
   },
   "outputs": [
    {
     "name": "stdout",
     "output_type": "stream",
     "text": [
      "<class 'pandas.core.frame.DataFrame'>\n",
      "DatetimeIndex: 3920 entries, 2019-12-02 16:41:05.114000+00:00 to 2019-11-06 13:04:01.654000+00:00\n",
      "Data columns (total 4 columns):\n",
      " #   Column  Non-Null Count  Dtype \n",
      "---  ------  --------------  ----- \n",
      " 0   Rating  3920 non-null   object\n",
      " 1   Review  3920 non-null   object\n",
      " 2   Likes   3920 non-null   object\n",
      " 3   Reply?  3920 non-null   object\n",
      "dtypes: object(4)\n",
      "memory usage: 153.1+ KB\n"
     ]
    }
   ],
   "source": [
    "selected_reviews.info()"
   ]
  },
  {
   "cell_type": "code",
   "execution_count": 42,
   "metadata": {
    "scrolled": true
   },
   "outputs": [
    {
     "data": {
      "text/plain": [
       "2019-05-14 18:32:18.460000+00:00    (may 13 update also failed to fix this) gyys p...\n",
       "2019-05-15 16:36:10.314000+00:00    give my account back, your system is blowing m...\n",
       "2019-05-15 02:46:45.250000+00:00    Edit: i did update, and so far so good ! happy...\n",
       "Name: Review, dtype: object"
      ]
     },
     "execution_count": 42,
     "metadata": {},
     "output_type": "execute_result"
    }
   ],
   "source": [
    "selected_reviews['Review'][selected_reviews['Reply?'] == 1]"
   ]
  },
  {
   "cell_type": "markdown",
   "metadata": {},
   "source": [
    "# dump everything into a .csv"
   ]
  },
  {
   "cell_type": "code",
   "execution_count": 43,
   "metadata": {},
   "outputs": [
    {
     "data": {
      "text/html": [
       "<div>\n",
       "<style scoped>\n",
       "    .dataframe tbody tr th:only-of-type {\n",
       "        vertical-align: middle;\n",
       "    }\n",
       "\n",
       "    .dataframe tbody tr th {\n",
       "        vertical-align: top;\n",
       "    }\n",
       "\n",
       "    .dataframe thead th {\n",
       "        text-align: right;\n",
       "    }\n",
       "</style>\n",
       "<table border=\"1\" class=\"dataframe\">\n",
       "  <thead>\n",
       "    <tr style=\"text-align: right;\">\n",
       "      <th></th>\n",
       "      <th>Rating</th>\n",
       "      <th>Review</th>\n",
       "      <th>Likes</th>\n",
       "      <th>Reply?</th>\n",
       "    </tr>\n",
       "  </thead>\n",
       "  <tbody>\n",
       "    <tr>\n",
       "      <th>2019-12-02 16:41:05.114000+00:00</th>\n",
       "      <td>5</td>\n",
       "      <td>Great for news and random banter</td>\n",
       "      <td>0</td>\n",
       "      <td>0</td>\n",
       "    </tr>\n",
       "  </tbody>\n",
       "</table>\n",
       "</div>"
      ],
      "text/plain": [
       "                                 Rating                            Review  \\\n",
       "2019-12-02 16:41:05.114000+00:00      5  Great for news and random banter   \n",
       "\n",
       "                                 Likes Reply?  \n",
       "2019-12-02 16:41:05.114000+00:00     0      0  "
      ]
     },
     "execution_count": 43,
     "metadata": {},
     "output_type": "execute_result"
    }
   ],
   "source": [
    "selected_reviews.head(1)"
   ]
  },
  {
   "cell_type": "code",
   "execution_count": 44,
   "metadata": {},
   "outputs": [],
   "source": [
    "csv_filename = APP_NAME + \"_samples.csv\"\n",
    "selected_reviews.to_csv(csv_filename, index=True)"
   ]
  },
  {
   "cell_type": "markdown",
   "metadata": {},
   "source": [
    "# build xlsx"
   ]
  },
  {
   "cell_type": "code",
   "execution_count": 45,
   "metadata": {},
   "outputs": [
    {
     "name": "stdout",
     "output_type": "stream",
     "text": [
      "MM-DD-YYYY: 12-02-2019, YYYY-DD-MM: 2019-12-02\n",
      "MM-DD-YYYY: 17-03-2019, YYYY-DD-MM: 2019-17-03\n",
      "MM-DD-YYYY: 20-03-2019, YYYY-DD-MM: 2019-20-03\n",
      "MM-DD-YYYY: 22-03-2019, YYYY-DD-MM: 2019-22-03\n",
      "MM-DD-YYYY: 23-03-2019, YYYY-DD-MM: 2019-23-03\n",
      "MM-DD-YYYY: 24-03-2019, YYYY-DD-MM: 2019-24-03\n",
      "MM-DD-YYYY: 25-03-2019, YYYY-DD-MM: 2019-25-03\n",
      "MM-DD-YYYY: 26-03-2019, YYYY-DD-MM: 2019-26-03\n",
      "MM-DD-YYYY: 27-03-2019, YYYY-DD-MM: 2019-27-03\n",
      "MM-DD-YYYY: 28-03-2019, YYYY-DD-MM: 2019-28-03\n",
      "MM-DD-YYYY: 2019-12-21, YYYY-DD-MM: 21-2019-12\n",
      "MM-DD-YYYY: 2019-05-14, YYYY-DD-MM: 14-2019-05\n",
      "MM-DD-YYYY: 2019-12-20, YYYY-DD-MM: 20-2019-12\n",
      "MM-DD-YYYY: 2019-05-15, YYYY-DD-MM: 15-2019-05\n",
      "MM-DD-YYYY: 2019-02-04, YYYY-DD-MM: 04-2019-02\n",
      "MM-DD-YYYY: 2019-06-26, YYYY-DD-MM: 26-2019-06\n",
      "MM-DD-YYYY: 2019-06-13, YYYY-DD-MM: 13-2019-06\n",
      "MM-DD-YYYY: 2019-03-20, YYYY-DD-MM: 20-2019-03\n",
      "MM-DD-YYYY: 2019-04-23, YYYY-DD-MM: 23-2019-04\n",
      "MM-DD-YYYY: 2019-12-22, YYYY-DD-MM: 22-2019-12\n",
      "MM-DD-YYYY: 2019-08-01, YYYY-DD-MM: 01-2019-08\n",
      "MM-DD-YYYY: 2019-02-01, YYYY-DD-MM: 01-2019-02\n",
      "MM-DD-YYYY: 2019-01-01, YYYY-DD-MM: 01-2019-01\n",
      "MM-DD-YYYY: 2019-04-01, YYYY-DD-MM: 01-2019-04\n",
      "MM-DD-YYYY: 2019-03-01, YYYY-DD-MM: 01-2019-03\n",
      "MM-DD-YYYY: 2019-03-02, YYYY-DD-MM: 02-2019-03\n",
      "MM-DD-YYYY: 2019-01-19, YYYY-DD-MM: 19-2019-01\n",
      "MM-DD-YYYY: 2019-09-14, YYYY-DD-MM: 14-2019-09\n",
      "MM-DD-YYYY: 2019-04-08, YYYY-DD-MM: 08-2019-04\n",
      "MM-DD-YYYY: 2019-02-02, YYYY-DD-MM: 02-2019-02\n",
      "MM-DD-YYYY: 2019-06-07, YYYY-DD-MM: 07-2019-06\n",
      "MM-DD-YYYY: 2019-11-15, YYYY-DD-MM: 15-2019-11\n",
      "MM-DD-YYYY: 2019-04-20, YYYY-DD-MM: 20-2019-04\n",
      "MM-DD-YYYY: 2019-07-26, YYYY-DD-MM: 26-2019-07\n",
      "MM-DD-YYYY: 2019-07-13, YYYY-DD-MM: 13-2019-07\n",
      "MM-DD-YYYY: 2019-07-23, YYYY-DD-MM: 23-2019-07\n",
      "MM-DD-YYYY: 2019-06-14, YYYY-DD-MM: 14-2019-06\n",
      "MM-DD-YYYY: 2019-09-13, YYYY-DD-MM: 13-2019-09\n",
      "MM-DD-YYYY: 2019-08-13, YYYY-DD-MM: 13-2019-08\n",
      "MM-DD-YYYY: 2019-11-06, YYYY-DD-MM: 06-2019-11\n"
     ]
    }
   ],
   "source": [
    "m_d_y_dates = dates\n",
    "y_m_d_dates = []\n",
    "for date in m_d_y_dates:\n",
    "    arr = date.split(\"-\")\n",
    "    m = arr[0]\n",
    "    d = arr[1]\n",
    "    y = arr[2]\n",
    "    ymd = y + '-' + m + '-' + d\n",
    "    y_m_d_dates.append(ymd)\n",
    "    print(f\"MM-DD-YYYY: {date}, YYYY-DD-MM: {ymd}\")\n",
    "    \n",
    "def get_ymd_date(date):\n",
    "    arr = date.split(\"-\")\n",
    "    m = arr[0]\n",
    "    d = arr[1]\n",
    "    y = arr[2]\n",
    "    ymd = y + '-' + m + '-' + d\n",
    "    return ymd"
   ]
  },
  {
   "cell_type": "code",
   "execution_count": 46,
   "metadata": {},
   "outputs": [
    {
     "name": "stdout",
     "output_type": "stream",
     "text": [
      "2019-12-02\n",
      "2019-17-03\n",
      "2019-20-03\n",
      "2019-22-03\n",
      "2019-23-03\n",
      "2019-24-03\n",
      "2019-25-03\n",
      "2019-26-03\n",
      "2019-27-03\n",
      "2019-28-03\n",
      "21-2019-12\n",
      "14-2019-05\n",
      "20-2019-12\n",
      "15-2019-05\n",
      "04-2019-02\n",
      "26-2019-06\n",
      "13-2019-06\n",
      "20-2019-03\n",
      "23-2019-04\n",
      "22-2019-12\n",
      "01-2019-08\n",
      "01-2019-02\n",
      "01-2019-01\n",
      "01-2019-04\n",
      "01-2019-03\n",
      "02-2019-03\n",
      "19-2019-01\n",
      "14-2019-09\n",
      "08-2019-04\n",
      "02-2019-02\n",
      "07-2019-06\n",
      "15-2019-11\n",
      "20-2019-04\n",
      "26-2019-07\n",
      "13-2019-07\n",
      "23-2019-07\n",
      "14-2019-06\n",
      "13-2019-09\n",
      "13-2019-08\n",
      "06-2019-11\n"
     ]
    }
   ],
   "source": [
    "for d in y_m_d_dates:\n",
    "    print(d)"
   ]
  },
  {
   "cell_type": "code",
   "execution_count": 47,
   "metadata": {},
   "outputs": [
    {
     "data": {
      "text/plain": [
       "{'twitter': ['12-02-2019',\n",
       "  '17-03-2019',\n",
       "  '20-03-2019',\n",
       "  '22-03-2019',\n",
       "  '23-03-2019',\n",
       "  '24-03-2019',\n",
       "  '25-03-2019',\n",
       "  '26-03-2019',\n",
       "  '27-03-2019',\n",
       "  '28-03-2019',\n",
       "  '2019-12-21',\n",
       "  '2019-05-14',\n",
       "  '2019-12-20',\n",
       "  '2019-05-15',\n",
       "  '2019-02-04',\n",
       "  '2019-06-26',\n",
       "  '2019-06-13',\n",
       "  '2019-03-20',\n",
       "  '2019-04-23',\n",
       "  '2019-12-22',\n",
       "  '2019-08-01',\n",
       "  '2019-02-01',\n",
       "  '2019-01-01',\n",
       "  '2019-04-01',\n",
       "  '2019-03-01',\n",
       "  '2019-03-02',\n",
       "  '2019-01-19',\n",
       "  '2019-09-14',\n",
       "  '2019-04-08',\n",
       "  '2019-02-02',\n",
       "  '2019-06-07',\n",
       "  '2019-11-15',\n",
       "  '2019-04-20',\n",
       "  '2019-07-26',\n",
       "  '2019-07-13',\n",
       "  '2019-07-23',\n",
       "  '2019-06-14',\n",
       "  '2019-09-13',\n",
       "  '2019-08-13',\n",
       "  '2019-11-06']}"
      ]
     },
     "execution_count": 47,
     "metadata": {},
     "output_type": "execute_result"
    }
   ],
   "source": [
    "selected_indices"
   ]
  },
  {
   "cell_type": "markdown",
   "metadata": {},
   "source": [
    "# Add 10 most upvoted for the day to top of the sheet\n",
    "\n",
    "What we've done so far is we've selected 40 dates, and then sample 100 reviews from each of those dates in a stratified fashion (based on the rating column).\n",
    "\n",
    "In addition to that, we want the 10 most upvoted reviews for each of those dates, at the top of the each sheet we create in the final Excel book."
   ]
  },
  {
   "cell_type": "code",
   "execution_count": 48,
   "metadata": {},
   "outputs": [],
   "source": [
    "def get_indices_via_likes(date, dataframe, likes_list):\n",
    "    \"\"\"\n",
    "        Takes a list of upvotes/likes (int), and searches through the entire dataframe\n",
    "        to a review with this exact number of upvotes.\n",
    "        \n",
    "        When it finds it, it takes its index, and adds it to a list. In the end, all the\n",
    "        indices of the reviews which had the same number of upvotes that were provided to\n",
    "        this method are returned.\n",
    "    \"\"\"\n",
    "    indices = []\n",
    "    for likes_no in likes_list:\n",
    "        for idx, row in rcc[APP_NAME].loc[date].iterrows():\n",
    "            if row.Likes == likes_no:\n",
    "                indices.append(idx)\n",
    "\n",
    "    return indices\n",
    "\n",
    "def get_most_upvoted(date, dataframe, amount):\n",
    "    \"\"\"\n",
    "        Given a date, dataframe, and amount, this method finds the n highest values\n",
    "        in the column 'Likes' of the dataframe.\n",
    "    \"\"\"\n",
    "    all_upvotes = np.array(dataframe.loc[date].Likes)\n",
    "    largest = all_upvotes[np.argsort(all_upvotes)[-amount:]]\n",
    "    return largest\n",
    "\n",
    "def index_is_duplicate(idx, already_selected_idx):\n",
    "    return idx in already_selected_idx"
   ]
  },
  {
   "cell_type": "code",
   "execution_count": 49,
   "metadata": {},
   "outputs": [
    {
     "data": {
      "text/html": [
       "<div>\n",
       "<style scoped>\n",
       "    .dataframe tbody tr th:only-of-type {\n",
       "        vertical-align: middle;\n",
       "    }\n",
       "\n",
       "    .dataframe tbody tr th {\n",
       "        vertical-align: top;\n",
       "    }\n",
       "\n",
       "    .dataframe thead th {\n",
       "        text-align: right;\n",
       "    }\n",
       "</style>\n",
       "<table border=\"1\" class=\"dataframe\">\n",
       "  <thead>\n",
       "    <tr style=\"text-align: right;\">\n",
       "      <th></th>\n",
       "      <th>Rating</th>\n",
       "      <th>Review</th>\n",
       "      <th>Likes</th>\n",
       "      <th>Reply?</th>\n",
       "    </tr>\n",
       "    <tr>\n",
       "      <th>Timestamp</th>\n",
       "      <th></th>\n",
       "      <th></th>\n",
       "      <th></th>\n",
       "      <th></th>\n",
       "    </tr>\n",
       "  </thead>\n",
       "  <tbody>\n",
       "    <tr>\n",
       "      <th>2019-12-31 23:51:49.190000+00:00</th>\n",
       "      <td>5</td>\n",
       "      <td>It was awesome for me using Twitter I need to ...</td>\n",
       "      <td>0</td>\n",
       "      <td>0</td>\n",
       "    </tr>\n",
       "  </tbody>\n",
       "</table>\n",
       "</div>"
      ],
      "text/plain": [
       "                                  Rating  \\\n",
       "Timestamp                                  \n",
       "2019-12-31 23:51:49.190000+00:00       5   \n",
       "\n",
       "                                                                             Review  \\\n",
       "Timestamp                                                                             \n",
       "2019-12-31 23:51:49.190000+00:00  It was awesome for me using Twitter I need to ...   \n",
       "\n",
       "                                  Likes  Reply?  \n",
       "Timestamp                                        \n",
       "2019-12-31 23:51:49.190000+00:00      0       0  "
      ]
     },
     "execution_count": 49,
     "metadata": {},
     "output_type": "execute_result"
    }
   ],
   "source": [
    "rcc2[APP_NAME].head(1)"
   ]
  },
  {
   "cell_type": "markdown",
   "metadata": {},
   "source": [
    "# Make overview sheet"
   ]
  },
  {
   "cell_type": "code",
   "execution_count": 68,
   "metadata": {},
   "outputs": [
    {
     "data": {
      "text/html": [
       "<div>\n",
       "<style scoped>\n",
       "    .dataframe tbody tr th:only-of-type {\n",
       "        vertical-align: middle;\n",
       "    }\n",
       "\n",
       "    .dataframe tbody tr th {\n",
       "        vertical-align: top;\n",
       "    }\n",
       "\n",
       "    .dataframe thead th {\n",
       "        text-align: right;\n",
       "    }\n",
       "</style>\n",
       "<table border=\"1\" class=\"dataframe\">\n",
       "  <thead>\n",
       "    <tr style=\"text-align: right;\">\n",
       "      <th></th>\n",
       "      <th>Source</th>\n",
       "      <th>Date</th>\n",
       "      <th>Interactions</th>\n",
       "      <th>I% &lt;= 3</th>\n",
       "      <th>I &lt;= 3</th>\n",
       "      <th>I &gt; 3</th>\n",
       "      <th>Reviews</th>\n",
       "      <th>Rev% &lt;= 3</th>\n",
       "      <th>&lt;= 3</th>\n",
       "      <th>&gt; 3</th>\n",
       "      <th>Upvotes</th>\n",
       "      <th>Up% &lt;= 3</th>\n",
       "      <th>Avg &lt;= 3</th>\n",
       "      <th>Avg &gt; 3</th>\n",
       "      <th>Med &lt;= 3</th>\n",
       "      <th>Med &gt; 3</th>\n",
       "    </tr>\n",
       "  </thead>\n",
       "  <tbody>\n",
       "    <tr>\n",
       "      <th>0</th>\n",
       "      <td>TSADF</td>\n",
       "      <td>12-02-2019</td>\n",
       "      <td>560790</td>\n",
       "      <td>0.32</td>\n",
       "      <td>3564</td>\n",
       "      <td>20060</td>\n",
       "      <td>168</td>\n",
       "      <td>0.24</td>\n",
       "      <td>297</td>\n",
       "      <td>159</td>\n",
       "      <td>456</td>\n",
       "      <td>0.65</td>\n",
       "      <td>7.2</td>\n",
       "      <td>1.3</td>\n",
       "      <td>0.0</td>\n",
       "      <td>0.0</td>\n",
       "    </tr>\n",
       "  </tbody>\n",
       "</table>\n",
       "</div>"
      ],
      "text/plain": [
       "  Source        Date  Interactions  I% <= 3  I <= 3  I > 3  Reviews  \\\n",
       "0  TSADF  12-02-2019        560790     0.32    3564  20060      168   \n",
       "\n",
       "   Rev% <= 3  <= 3  > 3  Upvotes  Up% <= 3  Avg <= 3  Avg > 3  Med <= 3  \\\n",
       "0       0.24   297  159      456      0.65       7.2      1.3       0.0   \n",
       "\n",
       "   Med > 3  \n",
       "0      0.0  "
      ]
     },
     "execution_count": 68,
     "metadata": {},
     "output_type": "execute_result"
    }
   ],
   "source": [
    "\"\"\"\n",
    "    At the overview page we display some additional data in columns.\n",
    "    For each date (out of 40): source, date, total reviews, count negative, % negative..\n",
    "\"\"\"\n",
    "\n",
    "# print(\"SOURCE\", \"DATE\", \"TOT\", \"NEG\", \"NEG PRCNT\")\n",
    "\n",
    "sources = 10*['TSADF'] + 10*['PEAKS'] + 10*['VALLEYS'] + 10*['RANDOM']\n",
    "dates = dates\n",
    "totals = []\n",
    "\n",
    "# Reviews\n",
    "count_negative = []\n",
    "count_positive = []\n",
    "percent_negative = []\n",
    "\n",
    "# Upvotes\n",
    "count_upvotes = []\n",
    "positive_upvotes = []\n",
    "negative_upvotes = []\n",
    "percent_upvote_negative = []\n",
    "average_upvote_negative = []\n",
    "median_upvote_negative = []\n",
    "\n",
    "average_upvote_positive = []\n",
    "median_upvote_positive = []\n",
    "\n",
    "interactions = []\n",
    "nega_interactions = []\n",
    "posa_interactions = []\n",
    "percent_neg_interactions = []\n",
    "\n",
    "co = 0\n",
    "for d in dates:\n",
    "    # For each date, calculate sum totals, percentages, median, etc..\n",
    "    reviews = rcc2[APP_NAME].loc[d]\n",
    "\n",
    "    # 1. Total review count on date\n",
    "    total = len(reviews)\n",
    "    totals.append(total)\n",
    "\n",
    "    # 2. Count Negative (<= 3)\n",
    "    negative_reviews = reviews[reviews.Rating <= 3]\n",
    "    positive_reviews = reviews[reviews.Rating > 3]\n",
    "    neg_count = len(negative_reviews)\n",
    "    pos_count = len(positive_reviews)\n",
    "    count_negative.append(neg_count)\n",
    "    count_positive.append(pos_count)\n",
    "\n",
    "    # 3. Percentage of negative reviews\n",
    "    neg_r = neg_count / (total/100)\n",
    "    percent_negative.append(round((neg_r/100), 2))\n",
    "    \n",
    "    # 4. Total amount of upvotes on this date\n",
    "    negative_up = sum(reviews[reviews.Rating <= 3].Likes)\n",
    "    positive_up = sum(reviews[reviews.Rating > 3].Likes)\n",
    "    all_upvotes = sum(reviews.Likes)\n",
    "    count_upvotes.append(all_upvotes)\n",
    "    negative_upvotes.append(negative_up)\n",
    "    positive_upvotes.append(positive_up)\n",
    "    \n",
    "    # 5. Percentage of upvotes for negative reviews\n",
    "    upv_neg_pcnt = negative_up / (all_upvotes/100)\n",
    "    percent_upvote_negative.append(round((upv_neg_pcnt/100),2))\n",
    "    \n",
    "    # 6. Average upvotes for negative reviews\n",
    "    avg_num = s.mean(negative_reviews.Likes)\n",
    "    average_upvote_negative.append(round(avg_num, 1))\n",
    "    \n",
    "    # 7. Median upvotes for negative reviews\n",
    "    med_num = s.median(negative_reviews.Likes)\n",
    "    median_upvote_negative.append(med_num)\n",
    "\n",
    "    # 8. Average upvotes for positive reviews\n",
    "    avg_pos_num = s.mean(positive_reviews.Likes)\n",
    "    average_upvote_positive.append(round(avg_pos_num, 1))\n",
    "\n",
    "    # 9. Median upvotes for positive reviews\n",
    "    med_pos_num = s.median(positive_reviews.Likes)\n",
    "    median_upvote_positive.append(round(med_pos_num, 1))\n",
    "\n",
    "    # 10. Interactions\n",
    "    all_interactions = int(edf[APP_NAME].loc[d].Interactions)\n",
    "    interactions.append(all_interactions)\n",
    "    neg_interactions = int(edf[APP_NAME].loc[d].Neg_Interactions)\n",
    "    nega_interactions.append(neg_interactions)\n",
    "    pos_interactions = int(edf[APP_NAME].loc[d].Pos_Interactions)\n",
    "    posa_interactions.append(pos_interactions)\n",
    "    percent_negative_interactions = neg_interactions / (all_interactions / 100)\n",
    "    percent_neg_interactions.append(round(percent_negative_interactions/100, 2))\n",
    "    \n",
    "    co += 1\n",
    "    \n",
    "my_dict = {\n",
    "    'Source' : sources,\n",
    "    'Date' : dates,\n",
    "    'Interactions' : interactions,\n",
    "    'I% <= 3' : percent_neg_interactions,\n",
    "    'I <= 3' : neg_interactions,\n",
    "    'I > 3' : pos_interactions,\n",
    "    'Reviews' : totals,\n",
    "    'Rev% <= 3' : percent_negative,\n",
    "    '<= 3' : count_negative,\n",
    "    '> 3' : count_positive,\n",
    "    'Upvotes' : count_upvotes,\n",
    "    '<= 3' : negative_upvotes,\n",
    "    '> 3' : positive_upvotes,\n",
    "    'Up% <= 3' : percent_upvote_negative,\n",
    "    'Avg <= 3' : average_upvote_negative,\n",
    "    'Avg > 3' : average_upvote_positive,\n",
    "    'Med <= 3' : median_upvote_negative,\n",
    "    'Med > 3' : median_upvote_positive\n",
    "}\n",
    "\n",
    "MY_OVERVIEW = pd.DataFrame(my_dict)\n",
    "\n",
    "MY_OVERVIEW.head(1)\n",
    "# len(percent_upvote_negative)"
   ]
  },
  {
   "cell_type": "code",
   "execution_count": 65,
   "metadata": {},
   "outputs": [
    {
     "data": {
      "text/plain": [
       "65391"
      ]
     },
     "execution_count": 65,
     "metadata": {},
     "output_type": "execute_result"
    }
   ],
   "source": [
    "int(edf[APP_NAME].loc['2019-08-08'].Interactions)"
   ]
  },
  {
   "cell_type": "code",
   "execution_count": 51,
   "metadata": {},
   "outputs": [
    {
     "data": {
      "text/html": [
       "<div>\n",
       "<style scoped>\n",
       "    .dataframe tbody tr th:only-of-type {\n",
       "        vertical-align: middle;\n",
       "    }\n",
       "\n",
       "    .dataframe tbody tr th {\n",
       "        vertical-align: top;\n",
       "    }\n",
       "\n",
       "    .dataframe thead th {\n",
       "        text-align: right;\n",
       "    }\n",
       "</style>\n",
       "<table border=\"1\" class=\"dataframe\">\n",
       "  <thead>\n",
       "    <tr style=\"text-align: right;\">\n",
       "      <th></th>\n",
       "      <th>Rating</th>\n",
       "      <th>Review</th>\n",
       "      <th>Likes</th>\n",
       "      <th>Reply?</th>\n",
       "    </tr>\n",
       "  </thead>\n",
       "  <tbody>\n",
       "    <tr>\n",
       "      <th>2019-11-06 15:10:28.978000+00:00</th>\n",
       "      <td>5</td>\n",
       "      <td>I am not a regular user of this app as of now,...</td>\n",
       "      <td>4</td>\n",
       "      <td>0</td>\n",
       "    </tr>\n",
       "    <tr>\n",
       "      <th>2019-11-06 13:04:01.654000+00:00</th>\n",
       "      <td>3</td>\n",
       "      <td>Best among other social apps</td>\n",
       "      <td>0</td>\n",
       "      <td>0</td>\n",
       "    </tr>\n",
       "  </tbody>\n",
       "</table>\n",
       "</div>"
      ],
      "text/plain": [
       "                                 Rating  \\\n",
       "2019-11-06 15:10:28.978000+00:00      5   \n",
       "2019-11-06 13:04:01.654000+00:00      3   \n",
       "\n",
       "                                                                             Review  \\\n",
       "2019-11-06 15:10:28.978000+00:00  I am not a regular user of this app as of now,...   \n",
       "2019-11-06 13:04:01.654000+00:00                       Best among other social apps   \n",
       "\n",
       "                                 Likes Reply?  \n",
       "2019-11-06 15:10:28.978000+00:00     4      0  \n",
       "2019-11-06 13:04:01.654000+00:00     0      0  "
      ]
     },
     "execution_count": 51,
     "metadata": {},
     "output_type": "execute_result"
    }
   ],
   "source": [
    "selected_reviews.tail(2)"
   ]
  },
  {
   "cell_type": "markdown",
   "metadata": {},
   "source": [
    "# Export to Excel Book\n",
    "\n",
    "- Get 10 most upvoted reviews at the top (descending)\n",
    "- Sort the rest by rating (ascending)\n",
    "- Remove duplicates"
   ]
  },
  {
   "cell_type": "code",
   "execution_count": 71,
   "metadata": {},
   "outputs": [],
   "source": [
    "WRITE = True\n",
    "\n",
    "if WRITE:\n",
    "    sel = selected_reviews.copy()\n",
    "    sel.index = sel.index.tz_localize(None) # apply fix\n",
    "\n",
    "    import xlsxwriter\n",
    "    FILENAME = APP_NAME + \"_spreadsheet.xlsx\" # Set the name of the .xlsx file..\n",
    "    writer = pd.ExcelWriter(FILENAME, engine='xlsxwriter') # Create the file...\n",
    "\n",
    "    # 0. Make overview sheet in the book\n",
    "    MY_OVERVIEW.to_excel(writer, sheet_name='OVERVIEW')\n",
    "\n",
    "    counter = 1\n",
    "    for date in dates:\n",
    "        # 1. Collect 10 most upvoted reviews on that date\n",
    "        top_upvoted = get_most_upvoted(date, rcc2[APP_NAME], 10)\n",
    "\n",
    "        # 2. Collect indices of those reviews\n",
    "        top_upvoted_idx = get_indices_via_likes(date, rcc2[APP_NAME], top_upvoted)\n",
    "\n",
    "        # 3. Collect the actual reviews\n",
    "        ten_most_upvoted_reviews = rcc2[APP_NAME].loc[top_upvoted_idx]\n",
    "        ten_most_upvoted_reviews.index = ten_most_upvoted_reviews.index.tz_localize(None)\n",
    "\n",
    "        # 4. Concatenate these with the selected reviews of the same date\n",
    "        sheet_of_reviews = pd.concat([ten_most_upvoted_reviews, sel.loc[date]])\n",
    "        \n",
    "        # O. Remove duplicates\n",
    "        sheet_of_reviews = sheet_of_reviews.drop_duplicates(subset=None, keep='first', inplace=False)\n",
    "        \n",
    "        # 5. Sort reviews by rating\n",
    "        sheet_of_reviews = sheet_of_reviews.sort_values('Rating', ascending=True)\n",
    "        # 6. Sort each rating category by likes\n",
    "        rat_1 = sheet_of_reviews[sheet_of_reviews.Rating == 1].sort_values('Likes', ascending=False)\n",
    "        rat_2 = sheet_of_reviews[sheet_of_reviews.Rating == 2].sort_values('Likes', ascending=False)\n",
    "        rat_3 = sheet_of_reviews[sheet_of_reviews.Rating == 3].sort_values('Likes', ascending=False)\n",
    "        rat_4 = sheet_of_reviews[sheet_of_reviews.Rating == 4].sort_values('Likes', ascending=False)\n",
    "        rat_5 = sheet_of_reviews[sheet_of_reviews.Rating == 5].sort_values('Likes', ascending=False)\n",
    "        sheet_of_reviews = pd.concat([rat_1, rat_2, rat_3, rat_4, rat_5])\n",
    "        \n",
    "        # X. Get daily overview sheet row\n",
    "        overview_row = MY_OVERVIEW[MY_OVERVIEW.Date == date]\n",
    "        sheet_of_reviews = pd.concat([overview_row, sheet_of_reviews], axis=1, sort=False)\n",
    "\n",
    "        # 5a. Sort the sheet with highest upvotes first\n",
    "#         sheet_of_reviews = sheet_of_reviews.sort_values('Likes', ascending=False)\n",
    "        # 5b. Then sort the other reviews by rating, lowest first.\n",
    "#         sheet_of_reviews = pd.concat([sheet_of_reviews[0:10], sheet_of_reviews[10:].sort_values('Rating', ascending=True)])\n",
    "\n",
    "        # 5. Create a sheet in the book for this date\n",
    "        sheet_of_reviews.to_excel(writer, sheet_name=('Day ' + str(counter) + ' (' + get_ymd_date(date) + ')')) \n",
    "\n",
    "        counter += 1\n",
    "\n",
    "    writer.save()\n",
    "else:\n",
    "    print(\"Not writing...\")"
   ]
  },
  {
   "cell_type": "code",
   "execution_count": null,
   "metadata": {},
   "outputs": [],
   "source": []
  }
 ],
 "metadata": {
  "kernelspec": {
   "display_name": "Python 3",
   "language": "python",
   "name": "python3"
  },
  "language_info": {
   "codemirror_mode": {
    "name": "ipython",
    "version": 3
   },
   "file_extension": ".py",
   "mimetype": "text/x-python",
   "name": "python",
   "nbconvert_exporter": "python",
   "pygments_lexer": "ipython3",
   "version": "3.8.4"
  }
 },
 "nbformat": 4,
 "nbformat_minor": 2
}
